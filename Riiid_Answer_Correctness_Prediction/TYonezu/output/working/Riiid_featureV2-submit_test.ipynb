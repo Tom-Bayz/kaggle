{
 "cells": [
  {
   "cell_type": "code",
   "execution_count": 34,
   "metadata": {},
   "outputs": [
    {
     "name": "stdout",
     "output_type": "stream",
     "text": [
      "The autoreload extension is already loaded. To reload it, use:\n",
      "  %reload_ext autoreload\n"
     ]
    }
   ],
   "source": [
    "%load_ext autoreload\n",
    "%autoreload 2\n",
    "\n",
    "import pandas as pd\n",
    "import numpy as np\n",
    "import os\n",
    "import glob\n",
    "\n",
    "import gc\n",
    "import xgboost as xgb\n",
    "from tqdm import tqdm\n",
    "import shutil\n",
    "import copy\n",
    "from riiid_feature_maker import *\n",
    "import lightgbm as lgb\n",
    "\n",
    "import warnings \n",
    "warnings.filterwarnings('ignore')"
   ]
  },
  {
   "cell_type": "code",
   "execution_count": 31,
   "metadata": {},
   "outputs": [],
   "source": [
    "target = \"answered_correctly\"\n",
    "features = [\n",
    " #'timestamp',\n",
    " 'user_id',\n",
    " 'content_id',\n",
    " 'content_type_id',\n",
    " 'task_container_id',\n",
    " #'user_answer',\n",
    " #'answered_correctly',\n",
    " 'prior_question_elapsed_time',\n",
    " 'prior_question_had_explanation',\n",
    " #'answered_correctly',\n",
    " 'answered_correctly_users_mean',\n",
    " 'answered_correctly_users_sum',\n",
    " 'answered_correctly_users_count',\n",
    " 'answered_correctly_contents_mean',\n",
    " 'answered_correctly_contents_sum',\n",
    " 'answered_correctly_contents_count',\n",
    " 'part'\n",
    "]"
   ]
  },
  {
   "cell_type": "code",
   "execution_count": 32,
   "metadata": {},
   "outputs": [],
   "source": [
    "model_path = os.path.join(\"..\",\"..\",\"input\",\"riiid-test-answer-prediction\",\"riiid-model-lightgbm\",\"featureV2-LightGBM_trained_50000000samples.mdl\")\n",
    "model = lgb.Booster(model_file=model_path)"
   ]
  },
  {
   "cell_type": "code",
   "execution_count": 26,
   "metadata": {},
   "outputs": [],
   "source": [
    "SAMPLE_NUM = 10000000"
   ]
  },
  {
   "cell_type": "code",
   "execution_count": 27,
   "metadata": {},
   "outputs": [
    {
     "data": {
      "text/plain": [
       "48"
      ]
     },
     "execution_count": 27,
     "metadata": {},
     "output_type": "execute_result"
    }
   ],
   "source": [
    "base_dir = os.path.join(\"..\",\"..\")\n",
    "train_df = pd.read_csv(os.path.join(base_dir,\"input\",\"riiid-test-answer-prediction\",\"train.csv\"),\n",
    "                       usecols=[\"row_id\",\"user_id\",\"content_id\",\"answered_correctly\"],\n",
    "                       nrows=SAMPLE_NUM)\n",
    "\n",
    "train_df = train_df[train_df[target].notna()]\n",
    "train_df = train_df[train_df[target] != -1]\n",
    "\n",
    "content_dict = init_content_dict(train_df)\n",
    "user_dict = init_user_dict(train_df)\n",
    "\n",
    "del train_df\n",
    "gc.collect()"
   ]
  },
  {
   "cell_type": "code",
   "execution_count": 28,
   "metadata": {},
   "outputs": [],
   "source": [
    "questions = pd.read_csv(os.path.join(base_dir,\"input\",\"riiid-test-answer-prediction\",\"questions.csv\"))"
   ]
  },
  {
   "cell_type": "code",
   "execution_count": 36,
   "metadata": {},
   "outputs": [
    {
     "name": "stdout",
     "output_type": "stream",
     "text": [
      "finished: 0.0\n",
      "finished: 0.007978439331054688\n",
      "finished: 0.1556546688079834\n",
      "finished: 0.03191566467285156\n",
      "finished: 0.005985736846923828 \n",
      "\n",
      "Index(['row_id', 'timestamp', 'user_id', 'content_id', 'content_type_id',\n",
      "       'task_container_id', 'user_answer', 'prior_question_elapsed_time',\n",
      "       'prior_question_had_explanation', 'answered_correctly',\n",
      "       'answered_correctly_users_sum', 'answered_correctly_users_count',\n",
      "       'answered_correctly_users_mean', 'answered_correctly_contents_sum',\n",
      "       'answered_correctly_contents_count', 'answered_correctly_contents_mean',\n",
      "       'part'],\n",
      "      dtype='object')\n",
      "finished: 0.0109710693359375\n",
      "finished: 0.010971307754516602\n",
      "finished: 0.1765275001525879\n",
      "finished: 0.029919862747192383\n",
      "finished: 0.005983829498291016 \n",
      "\n",
      "Index(['row_id', 'timestamp', 'user_id', 'content_id', 'content_type_id',\n",
      "       'task_container_id', 'user_answer', 'prior_question_elapsed_time',\n",
      "       'prior_question_had_explanation', 'answered_correctly',\n",
      "       'answered_correctly_users_sum', 'answered_correctly_users_count',\n",
      "       'answered_correctly_users_mean', 'answered_correctly_contents_sum',\n",
      "       'answered_correctly_contents_count', 'answered_correctly_contents_mean',\n",
      "       'part'],\n",
      "      dtype='object')\n",
      "finished: 0.011966466903686523\n",
      "finished: 0.008975744247436523\n",
      "finished: 0.16744613647460938\n",
      "finished: 0.031415700912475586\n",
      "finished: 0.006949424743652344 \n",
      "\n",
      "Index(['row_id', 'timestamp', 'user_id', 'content_id', 'content_type_id',\n",
      "       'task_container_id', 'user_answer', 'prior_question_elapsed_time',\n",
      "       'prior_question_had_explanation', 'answered_correctly',\n",
      "       'answered_correctly_users_sum', 'answered_correctly_users_count',\n",
      "       'answered_correctly_users_mean', 'answered_correctly_contents_sum',\n",
      "       'answered_correctly_contents_count', 'answered_correctly_contents_mean',\n",
      "       'part'],\n",
      "      dtype='object')\n",
      "finished: 0.012964725494384766\n",
      "finished: 0.009971380233764648\n",
      "finished: 0.13616299629211426\n",
      "finished: 0.07080984115600586\n",
      "finished: 0.006979942321777344 \n",
      "\n",
      "Index(['row_id', 'timestamp', 'user_id', 'content_id', 'content_type_id',\n",
      "       'task_container_id', 'user_answer', 'prior_question_elapsed_time',\n",
      "       'prior_question_had_explanation', 'answered_correctly',\n",
      "       'answered_correctly_users_sum', 'answered_correctly_users_count',\n",
      "       'answered_correctly_users_mean', 'answered_correctly_contents_sum',\n",
      "       'answered_correctly_contents_count', 'answered_correctly_contents_mean',\n",
      "       'part'],\n",
      "      dtype='object')\n",
      "completed: 0.9555602073669434 [sec]\n",
      "time per test-size: 0.00918807891698984\n",
      "estimated for 2.5million test: 6.380610359020722 hours\n"
     ]
    }
   ],
   "source": [
    "import pickle\n",
    "test_path = os.path.join(\"..\",\"..\",\"input\",\"riiid-test-answer-prediction\",\"iter_test.pickle\")\n",
    "with open(test_path,\"rb\") as f:\n",
    "    iter_test = pickle.load(f)\n",
    "    \n",
    "    \n",
    "import time\n",
    "\n",
    "start = time.time()\n",
    "\n",
    "test_size = 0\n",
    "\n",
    "i = 0\n",
    "for test_df in (iter_test):\n",
    "    \n",
    "    test_df['user_answer'] = np.nan\n",
    "    test_df['answered_correctly'] = np.nan\n",
    "    \n",
    "    time_list = []\n",
    "    \n",
    "    a = time.time()\n",
    "    if i != 0:\n",
    "        str = test_df[\"prior_group_answers_correct\"].values[0]\n",
    "        str = str.replace(\"[\",\"\")\n",
    "        str = str.replace(\"]\",\"\")\n",
    "        str = str.split(\",\")\n",
    "        str = np.array(str).astype(\"int\")\n",
    "        prior_test_df[\"answered_correctly\"] = str\n",
    "        #print(prior_test_df)\n",
    "        train_df = prior_test_df[[\"user_id\",\"content_id\",\"answered_correctly\"]]\n",
    "        user_dict = update_user_dict(train_df, user_dict[0], user_dict[1])\n",
    "        content_dict = update_content_dict(train_df, content_dict[0], content_dict[1])\n",
    "    print(\"finished:\",time.time()-a)\n",
    "    \n",
    "    a = time.time()\n",
    "    _, test_df = make_base_features(test_df)\n",
    "    print(\"finished:\",time.time()-a)\n",
    "    \n",
    "    a = time.time()\n",
    "    _ ,test_df = add_UserFeatures(test_df,user_dict)\n",
    "    print(\"finished:\",time.time()-a)\n",
    "    \n",
    "    a = time.time()\n",
    "    _ ,test_df = add_ContentFeatures(test_df,content_dict)\n",
    "    print(\"finished:\",time.time()-a)\n",
    "    \n",
    "    a = time.time()\n",
    "    _ ,test_df = add_QuestionFeatures(test_df,questions)\n",
    "    print(\"finished:\",time.time()-a,\"\\n\")\n",
    "    \n",
    "    print(test_df.columns)\n",
    "    test_df = test_df.fillna(test_df.mean())\n",
    "    pred = model.predict(test_df[features])\n",
    "    \n",
    "    prior_test_df = copy.copy(test_df)\n",
    "    i += 1\n",
    "    test_size += len(test_df)\n",
    "\n",
    "end = time.time()\n",
    "\n",
    "elapsed_time = end - start\n",
    "    \n",
    "print(\"completed:\",elapsed_time,\"[sec]\")\n",
    "print(\"time per test-size:\",elapsed_time/test_size)\n",
    "print(\"estimated for 2.5million test:\",(elapsed_time/test_size)*2500000/3600,\"hours\")"
   ]
  },
  {
   "cell_type": "code",
   "execution_count": null,
   "metadata": {},
   "outputs": [],
   "source": []
  },
  {
   "cell_type": "code",
   "execution_count": null,
   "metadata": {},
   "outputs": [],
   "source": []
  }
 ],
 "metadata": {
  "kernelspec": {
   "display_name": "Python 3",
   "language": "python",
   "name": "python3"
  },
  "language_info": {
   "codemirror_mode": {
    "name": "ipython",
    "version": 3
   },
   "file_extension": ".py",
   "mimetype": "text/x-python",
   "name": "python",
   "nbconvert_exporter": "python",
   "pygments_lexer": "ipython3",
   "version": "3.7.4"
  }
 },
 "nbformat": 4,
 "nbformat_minor": 4
}
