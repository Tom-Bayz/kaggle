{
 "cells": [
  {
   "cell_type": "code",
   "execution_count": 1,
   "metadata": {
    "execution": {
     "iopub.execute_input": "2020-12-27T12:20:17.979262Z",
     "iopub.status.busy": "2020-12-27T12:20:17.978590Z",
     "iopub.status.idle": "2020-12-27T12:20:18.170807Z",
     "shell.execute_reply": "2020-12-27T12:20:18.170188Z"
    },
    "papermill": {
     "duration": 0.262957,
     "end_time": "2020-12-27T12:20:18.170924",
     "exception": false,
     "start_time": "2020-12-27T12:20:17.907967",
     "status": "completed"
    },
    "tags": []
   },
   "outputs": [],
   "source": [
    "import numpy as np\n",
    "import random\n",
    "import pandas as pd\n",
    "import joblib"
   ]
  },
  {
   "cell_type": "code",
   "execution_count": 2,
   "metadata": {
    "_cell_guid": "79c7e3d0-c299-4dcb-8224-4455121ee9b0",
    "_uuid": "d629ff2d2480ee46fbb7e2d37f6b5fab8052498a",
    "execution": {
     "iopub.execute_input": "2020-12-27T12:20:18.307613Z",
     "iopub.status.busy": "2020-12-27T12:20:18.306584Z",
     "iopub.status.idle": "2020-12-27T12:20:19.339208Z",
     "shell.execute_reply": "2020-12-27T12:20:19.339736Z"
    },
    "papermill": {
     "duration": 1.103579,
     "end_time": "2020-12-27T12:20:19.339899",
     "exception": false,
     "start_time": "2020-12-27T12:20:18.236320",
     "status": "completed"
    },
    "tags": []
   },
   "outputs": [
    {
     "data": {
      "text/html": [
       "<style type='text/css'>\n",
       ".datatable table.frame { margin-bottom: 0; }\n",
       ".datatable table.frame thead { border-bottom: none; }\n",
       ".datatable table.frame tr.coltypes td {  color: #FFFFFF;  line-height: 6px;  padding: 0 0.5em;}\n",
       ".datatable .bool    { background: #DDDD99; }\n",
       ".datatable .object  { background: #565656; }\n",
       ".datatable .int     { background: #5D9E5D; }\n",
       ".datatable .float   { background: #4040CC; }\n",
       ".datatable .str     { background: #CC4040; }\n",
       ".datatable .row_index {  background: var(--jp-border-color3);  border-right: 1px solid var(--jp-border-color0);  color: var(--jp-ui-font-color3);  font-size: 9px;}\n",
       ".datatable .frame tr.coltypes .row_index {  background: var(--jp-border-color0);}\n",
       ".datatable th:nth-child(2) { padding-left: 12px; }\n",
       ".datatable .hellipsis {  color: var(--jp-cell-editor-border-color);}\n",
       ".datatable .vellipsis {  background: var(--jp-layout-color0);  color: var(--jp-cell-editor-border-color);}\n",
       ".datatable .na {  color: var(--jp-cell-editor-border-color);  font-size: 80%;}\n",
       ".datatable .footer { font-size: 9px; }\n",
       ".datatable .frame_dimensions {  background: var(--jp-border-color3);  border-top: 1px solid var(--jp-border-color0);  color: var(--jp-ui-font-color3);  display: inline-block;  opacity: 0.6;  padding: 1px 10px 1px 5px;}\n",
       ".datatable .frame thead tr.colnames {  background-image: url('data:image/png;base64,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');  background-repeat: repeat-x;  background-size: 14px;  height: 28px;}\n",
       "</style>\n"
      ],
      "text/plain": [
       "<IPython.core.display.HTML object>"
      ]
     },
     "metadata": {},
     "output_type": "display_data"
    }
   ],
   "source": [
    "from collections import defaultdict\n",
    "import datatable as dt\n",
    "import lightgbm as lgb\n",
    "from matplotlib import pyplot as plt\n",
    "#import riiideducation\n",
    "from sklearn.metrics import roc_auc_score\n",
    "import gc\n",
    "\n",
    "_ = np.seterr(divide='ignore', invalid='ignore')"
   ]
  },
  {
   "cell_type": "markdown",
   "metadata": {
    "papermill": {
     "duration": 0.065373,
     "end_time": "2020-12-27T12:20:19.471697",
     "exception": false,
     "start_time": "2020-12-27T12:20:19.406324",
     "status": "completed"
    },
    "tags": []
   },
   "source": [
    "# Preprocess"
   ]
  },
  {
   "cell_type": "code",
   "execution_count": 3,
   "metadata": {
    "execution": {
     "iopub.execute_input": "2020-12-27T12:20:19.604390Z",
     "iopub.status.busy": "2020-12-27T12:20:19.603712Z",
     "iopub.status.idle": "2020-12-27T12:20:19.608909Z",
     "shell.execute_reply": "2020-12-27T12:20:19.609454Z"
    },
    "papermill": {
     "duration": 0.072934,
     "end_time": "2020-12-27T12:20:19.609598",
     "exception": false,
     "start_time": "2020-12-27T12:20:19.536664",
     "status": "completed"
    },
    "tags": []
   },
   "outputs": [],
   "source": [
    "data_types_dict = {\n",
    "    'timestamp': 'int64',\n",
    "    'user_id': 'int32', \n",
    "    'content_id': 'int16', \n",
    "    'content_type_id':'int8', \n",
    "    'task_container_id': 'int16',\n",
    "    #'user_answer': 'int8',\n",
    "    'answered_correctly': 'int8', \n",
    "    'prior_question_elapsed_time': 'float32', \n",
    "    'prior_question_had_explanation': 'bool'\n",
    "}\n",
    "target = 'answered_correctly'"
   ]
  },
  {
   "cell_type": "code",
   "execution_count": 4,
   "metadata": {
    "execution": {
     "iopub.execute_input": "2020-12-27T12:20:19.742391Z",
     "iopub.status.busy": "2020-12-27T12:20:19.741752Z",
     "iopub.status.idle": "2020-12-27T12:21:57.650377Z",
     "shell.execute_reply": "2020-12-27T12:21:57.650871Z"
    },
    "papermill": {
     "duration": 97.976587,
     "end_time": "2020-12-27T12:21:57.651051",
     "exception": false,
     "start_time": "2020-12-27T12:20:19.674464",
     "status": "completed"
    },
    "tags": []
   },
   "outputs": [
    {
     "name": "stdout",
     "output_type": "stream",
     "text": [
      "start read train data...\n"
     ]
    }
   ],
   "source": [
    "print('start read train data...')\n",
    "train_df = dt.fread('../../input/riiid-test-answer-prediction/train.csv', columns=set(data_types_dict.keys())).to_pandas()"
   ]
  },
  {
   "cell_type": "code",
   "execution_count": 5,
   "metadata": {
    "execution": {
     "iopub.execute_input": "2020-12-27T12:21:57.785874Z",
     "iopub.status.busy": "2020-12-27T12:21:57.784907Z",
     "iopub.status.idle": "2020-12-27T12:21:57.790138Z",
     "shell.execute_reply": "2020-12-27T12:21:57.789629Z"
    },
    "papermill": {
     "duration": 0.073336,
     "end_time": "2020-12-27T12:21:57.790267",
     "exception": false,
     "start_time": "2020-12-27T12:21:57.716931",
     "status": "completed"
    },
    "tags": []
   },
   "outputs": [],
   "source": [
    "# train_df=train_df.sample(frac=0.1).reset_index(drop=True)"
   ]
  },
  {
   "cell_type": "code",
   "execution_count": 6,
   "metadata": {
    "execution": {
     "iopub.execute_input": "2020-12-27T12:21:57.927569Z",
     "iopub.status.busy": "2020-12-27T12:21:57.926553Z",
     "iopub.status.idle": "2020-12-27T12:21:57.931150Z",
     "shell.execute_reply": "2020-12-27T12:21:57.931673Z"
    },
    "papermill": {
     "duration": 0.076139,
     "end_time": "2020-12-27T12:21:57.931810",
     "exception": false,
     "start_time": "2020-12-27T12:21:57.855671",
     "status": "completed"
    },
    "tags": []
   },
   "outputs": [
    {
     "name": "stdout",
     "output_type": "stream",
     "text": [
      "start handle lecture data...\n"
     ]
    }
   ],
   "source": [
    "print('start handle lecture data...')"
   ]
  },
  {
   "cell_type": "code",
   "execution_count": 7,
   "metadata": {
    "execution": {
     "iopub.execute_input": "2020-12-27T12:21:58.078086Z",
     "iopub.status.busy": "2020-12-27T12:21:58.077426Z",
     "iopub.status.idle": "2020-12-27T12:21:58.092543Z",
     "shell.execute_reply": "2020-12-27T12:21:58.091823Z"
    },
    "papermill": {
     "duration": 0.093136,
     "end_time": "2020-12-27T12:21:58.092671",
     "exception": false,
     "start_time": "2020-12-27T12:21:57.999535",
     "status": "completed"
    },
    "tags": []
   },
   "outputs": [],
   "source": [
    "#reading in lecture df\n",
    "lectures_df = pd.read_csv('../../input/riiid-test-answer-prediction/lectures.csv')"
   ]
  },
  {
   "cell_type": "code",
   "execution_count": 8,
   "metadata": {
    "execution": {
     "iopub.execute_input": "2020-12-27T12:21:58.253280Z",
     "iopub.status.busy": "2020-12-27T12:21:58.234688Z",
     "iopub.status.idle": "2020-12-27T12:21:58.263721Z",
     "shell.execute_reply": "2020-12-27T12:21:58.264704Z"
    },
    "papermill": {
     "duration": 0.105757,
     "end_time": "2020-12-27T12:21:58.264858",
     "exception": false,
     "start_time": "2020-12-27T12:21:58.159101",
     "status": "completed"
    },
    "tags": []
   },
   "outputs": [],
   "source": [
    "lectures_df['type_of'] = lectures_df['type_of'].replace('solving question', 'solving_question')\n",
    "\n",
    "lectures_df = pd.get_dummies(lectures_df, columns=['part', 'type_of'])\n",
    "\n",
    "part_lectures_columns = [column for column in lectures_df.columns if column.startswith('part')]\n",
    "\n",
    "types_of_lectures_columns = [column for column in lectures_df.columns if column.startswith('type_of_')]"
   ]
  },
  {
   "cell_type": "code",
   "execution_count": 9,
   "metadata": {
    "execution": {
     "iopub.execute_input": "2020-12-27T12:21:58.404267Z",
     "iopub.status.busy": "2020-12-27T12:21:58.403315Z",
     "iopub.status.idle": "2020-12-27T12:21:59.509070Z",
     "shell.execute_reply": "2020-12-27T12:21:59.508264Z"
    },
    "papermill": {
     "duration": 1.177728,
     "end_time": "2020-12-27T12:21:59.509193",
     "exception": false,
     "start_time": "2020-12-27T12:21:58.331465",
     "status": "completed"
    },
    "tags": []
   },
   "outputs": [],
   "source": [
    "train_lectures = train_df[train_df.content_type_id == True].merge(lectures_df, left_on='content_id', right_on='lecture_id', how='left')"
   ]
  },
  {
   "cell_type": "code",
   "execution_count": 10,
   "metadata": {
    "execution": {
     "iopub.execute_input": "2020-12-27T12:21:59.653325Z",
     "iopub.status.busy": "2020-12-27T12:21:59.652677Z",
     "iopub.status.idle": "2020-12-27T12:22:00.104657Z",
     "shell.execute_reply": "2020-12-27T12:22:00.104058Z"
    },
    "papermill": {
     "duration": 0.527841,
     "end_time": "2020-12-27T12:22:00.104786",
     "exception": false,
     "start_time": "2020-12-27T12:21:59.576945",
     "status": "completed"
    },
    "tags": []
   },
   "outputs": [],
   "source": [
    "user_lecture_stats_part = train_lectures.groupby('user_id',as_index = False)[part_lectures_columns + types_of_lectures_columns].sum()"
   ]
  },
  {
   "cell_type": "code",
   "execution_count": 11,
   "metadata": {
    "execution": {
     "iopub.execute_input": "2020-12-27T12:22:00.245191Z",
     "iopub.status.busy": "2020-12-27T12:22:00.244294Z",
     "iopub.status.idle": "2020-12-27T12:22:00.251858Z",
     "shell.execute_reply": "2020-12-27T12:22:00.252410Z"
    },
    "papermill": {
     "duration": 0.081413,
     "end_time": "2020-12-27T12:22:00.252564",
     "exception": false,
     "start_time": "2020-12-27T12:22:00.171151",
     "status": "completed"
    },
    "tags": []
   },
   "outputs": [],
   "source": [
    "lecturedata_types_dict = {   \n",
    "    'user_id': 'int32', \n",
    "    'part_1': 'int8',\n",
    "    'part_2': 'int8',\n",
    "    'part_3': 'int8',\n",
    "    'part_4': 'int8',\n",
    "    'part_5': 'int8',\n",
    "    'part_6': 'int8',\n",
    "    'part_7': 'int8',\n",
    "    'type_of_concept': 'int8',\n",
    "    'type_of_intention': 'int8',\n",
    "    'type_of_solving_question': 'int8',\n",
    "    'type_of_starter': 'int8'\n",
    "}\n",
    "user_lecture_stats_part = user_lecture_stats_part.astype(lecturedata_types_dict)"
   ]
  },
  {
   "cell_type": "code",
   "execution_count": 12,
   "metadata": {
    "execution": {
     "iopub.execute_input": "2020-12-27T12:22:00.387870Z",
     "iopub.status.busy": "2020-12-27T12:22:00.387243Z",
     "iopub.status.idle": "2020-12-27T12:22:00.399795Z",
     "shell.execute_reply": "2020-12-27T12:22:00.399187Z"
    },
    "papermill": {
     "duration": 0.081281,
     "end_time": "2020-12-27T12:22:00.399952",
     "exception": false,
     "start_time": "2020-12-27T12:22:00.318671",
     "status": "completed"
    },
    "tags": []
   },
   "outputs": [],
   "source": [
    "for column in user_lecture_stats_part.columns:\n",
    "    #bool_column = column + '_boolean'\n",
    "    if(column !='user_id'):\n",
    "        user_lecture_stats_part[column] = (user_lecture_stats_part[column] > 0).astype('int8')"
   ]
  },
  {
   "cell_type": "code",
   "execution_count": 13,
   "metadata": {
    "execution": {
     "iopub.execute_input": "2020-12-27T12:22:00.540557Z",
     "iopub.status.busy": "2020-12-27T12:22:00.539887Z",
     "iopub.status.idle": "2020-12-27T12:22:00.543969Z",
     "shell.execute_reply": "2020-12-27T12:22:00.544447Z"
    },
    "papermill": {
     "duration": 0.077798,
     "end_time": "2020-12-27T12:22:00.544598",
     "exception": false,
     "start_time": "2020-12-27T12:22:00.466800",
     "status": "completed"
    },
    "tags": []
   },
   "outputs": [
    {
     "data": {
      "text/plain": [
       "user_id                     int32\n",
       "part_1                       int8\n",
       "part_2                       int8\n",
       "part_3                       int8\n",
       "part_4                       int8\n",
       "part_5                       int8\n",
       "part_6                       int8\n",
       "part_7                       int8\n",
       "type_of_concept              int8\n",
       "type_of_intention            int8\n",
       "type_of_solving_question     int8\n",
       "type_of_starter              int8\n",
       "dtype: object"
      ]
     },
     "execution_count": 13,
     "metadata": {},
     "output_type": "execute_result"
    }
   ],
   "source": [
    "user_lecture_stats_part.dtypes"
   ]
  },
  {
   "cell_type": "code",
   "execution_count": 14,
   "metadata": {
    "execution": {
     "iopub.execute_input": "2020-12-27T12:22:00.765398Z",
     "iopub.status.busy": "2020-12-27T12:22:00.764724Z",
     "iopub.status.idle": "2020-12-27T12:22:00.769810Z",
     "shell.execute_reply": "2020-12-27T12:22:00.769148Z"
    },
    "papermill": {
     "duration": 0.156912,
     "end_time": "2020-12-27T12:22:00.769927",
     "exception": false,
     "start_time": "2020-12-27T12:22:00.613015",
     "status": "completed"
    },
    "tags": []
   },
   "outputs": [
    {
     "data": {
      "text/plain": [
       "76"
      ]
     },
     "execution_count": 14,
     "metadata": {},
     "output_type": "execute_result"
    }
   ],
   "source": [
    "#clearing memory\n",
    "del(train_lectures)\n",
    "gc.collect()"
   ]
  },
  {
   "cell_type": "code",
   "execution_count": 15,
   "metadata": {
    "execution": {
     "iopub.execute_input": "2020-12-27T12:22:00.915932Z",
     "iopub.status.busy": "2020-12-27T12:22:00.915254Z",
     "iopub.status.idle": "2020-12-27T12:22:05.072749Z",
     "shell.execute_reply": "2020-12-27T12:22:05.071922Z"
    },
    "papermill": {
     "duration": 4.230738,
     "end_time": "2020-12-27T12:22:05.072868",
     "exception": false,
     "start_time": "2020-12-27T12:22:00.842130",
     "status": "completed"
    },
    "tags": []
   },
   "outputs": [],
   "source": [
    "user_lecture_agg = train_df.groupby('user_id')['content_type_id'].agg(['sum', 'count'])\n",
    "user_lecture_agg=user_lecture_agg.astype('int16')"
   ]
  },
  {
   "cell_type": "code",
   "execution_count": 16,
   "metadata": {
    "execution": {
     "iopub.execute_input": "2020-12-27T12:22:05.219832Z",
     "iopub.status.busy": "2020-12-27T12:22:05.218256Z",
     "iopub.status.idle": "2020-12-27T12:22:18.775097Z",
     "shell.execute_reply": "2020-12-27T12:22:18.774337Z"
    },
    "papermill": {
     "duration": 13.63501,
     "end_time": "2020-12-27T12:22:18.775241",
     "exception": false,
     "start_time": "2020-12-27T12:22:05.140231",
     "status": "completed"
    },
    "tags": []
   },
   "outputs": [],
   "source": [
    "\n",
    "#1= if the event was the user watching a lecture.\n",
    "cum = train_df.groupby('user_id')['content_type_id'].agg(['cumsum', 'cumcount'])\n",
    "cum['cumcount']=cum['cumcount']+1\n",
    "train_df['user_interaction_count'] = cum['cumcount'] \n",
    "train_df['user_interaction_timestamp_mean'] = train_df['timestamp']/cum['cumcount'] \n",
    "train_df['user_lecture_sum'] = cum['cumsum'] \n",
    "train_df['user_lecture_lv'] = cum['cumsum'] / cum['cumcount']\n",
    "\n",
    "\n",
    "train_df.user_lecture_lv=train_df.user_lecture_lv.astype('float16')\n",
    "train_df.user_lecture_sum=train_df.user_lecture_sum.astype('int16')\n",
    "train_df.user_interaction_count=train_df.user_interaction_count.astype('int16')\n",
    "train_df['user_interaction_timestamp_mean']=train_df['user_interaction_timestamp_mean']/(1000*3600)\n",
    "train_df.user_interaction_timestamp_mean=train_df.user_interaction_timestamp_mean.astype('float32')\n"
   ]
  },
  {
   "cell_type": "code",
   "execution_count": 17,
   "metadata": {
    "execution": {
     "iopub.execute_input": "2020-12-27T12:22:18.916613Z",
     "iopub.status.busy": "2020-12-27T12:22:18.915600Z",
     "iopub.status.idle": "2020-12-27T12:22:18.918709Z",
     "shell.execute_reply": "2020-12-27T12:22:18.918058Z"
    },
    "papermill": {
     "duration": 0.075319,
     "end_time": "2020-12-27T12:22:18.918821",
     "exception": false,
     "start_time": "2020-12-27T12:22:18.843502",
     "status": "completed"
    },
    "tags": []
   },
   "outputs": [],
   "source": [
    "#pd.options.display.max_rows = 200"
   ]
  },
  {
   "cell_type": "code",
   "execution_count": 18,
   "metadata": {
    "execution": {
     "iopub.execute_input": "2020-12-27T12:22:19.138761Z",
     "iopub.status.busy": "2020-12-27T12:22:19.137769Z",
     "iopub.status.idle": "2020-12-27T12:22:19.142948Z",
     "shell.execute_reply": "2020-12-27T12:22:19.143505Z"
    },
    "papermill": {
     "duration": 0.156202,
     "end_time": "2020-12-27T12:22:19.143647",
     "exception": false,
     "start_time": "2020-12-27T12:22:18.987445",
     "status": "completed"
    },
    "tags": []
   },
   "outputs": [
    {
     "data": {
      "text/plain": [
       "103"
      ]
     },
     "execution_count": 18,
     "metadata": {},
     "output_type": "execute_result"
    }
   ],
   "source": [
    "del cum\n",
    "gc.collect()"
   ]
  },
  {
   "cell_type": "code",
   "execution_count": 19,
   "metadata": {
    "execution": {
     "iopub.execute_input": "2020-12-27T12:22:19.287157Z",
     "iopub.status.busy": "2020-12-27T12:22:19.286432Z",
     "iopub.status.idle": "2020-12-27T12:22:19.291735Z",
     "shell.execute_reply": "2020-12-27T12:22:19.290894Z"
    },
    "papermill": {
     "duration": 0.080388,
     "end_time": "2020-12-27T12:22:19.291867",
     "exception": false,
     "start_time": "2020-12-27T12:22:19.211479",
     "status": "completed"
    },
    "tags": []
   },
   "outputs": [
    {
     "name": "stdout",
     "output_type": "stream",
     "text": [
      "start handle train_df...\n"
     ]
    }
   ],
   "source": [
    "print('start handle train_df...')"
   ]
  },
  {
   "cell_type": "code",
   "execution_count": 20,
   "metadata": {
    "execution": {
     "iopub.execute_input": "2020-12-27T12:22:30.557481Z",
     "iopub.status.busy": "2020-12-27T12:22:30.555278Z",
     "iopub.status.idle": "2020-12-27T12:22:47.997975Z",
     "shell.execute_reply": "2020-12-27T12:22:47.996816Z"
    },
    "papermill": {
     "duration": 28.625413,
     "end_time": "2020-12-27T12:22:47.998112",
     "exception": false,
     "start_time": "2020-12-27T12:22:19.372699",
     "status": "completed"
    },
    "tags": []
   },
   "outputs": [],
   "source": [
    "train_df['prior_question_had_explanation'].fillna(False, inplace=True)\n",
    "train_df = train_df.astype(data_types_dict)\n",
    "train_df = train_df[train_df[target] != -1].reset_index(drop=True)"
   ]
  },
  {
   "cell_type": "code",
   "execution_count": 21,
   "metadata": {
    "execution": {
     "iopub.execute_input": "2020-12-27T12:22:48.651991Z",
     "iopub.status.busy": "2020-12-27T12:22:48.650905Z",
     "iopub.status.idle": "2020-12-27T12:22:54.601900Z",
     "shell.execute_reply": "2020-12-27T12:22:54.601273Z"
    },
    "papermill": {
     "duration": 6.534749,
     "end_time": "2020-12-27T12:22:54.602029",
     "exception": false,
     "start_time": "2020-12-27T12:22:48.067280",
     "status": "completed"
    },
    "tags": []
   },
   "outputs": [],
   "source": [
    "content_explation_agg=train_df[[\"content_id\",\"prior_question_had_explanation\",target]].groupby([\"content_id\",\"prior_question_had_explanation\"])[target].agg(['mean'])"
   ]
  },
  {
   "cell_type": "code",
   "execution_count": 22,
   "metadata": {
    "execution": {
     "iopub.execute_input": "2020-12-27T12:22:54.749629Z",
     "iopub.status.busy": "2020-12-27T12:22:54.748964Z",
     "iopub.status.idle": "2020-12-27T12:22:54.753941Z",
     "shell.execute_reply": "2020-12-27T12:22:54.753254Z"
    },
    "papermill": {
     "duration": 0.082382,
     "end_time": "2020-12-27T12:22:54.754066",
     "exception": false,
     "start_time": "2020-12-27T12:22:54.671684",
     "status": "completed"
    },
    "tags": []
   },
   "outputs": [
    {
     "data": {
      "text/plain": [
       "mean    float64\n",
       "dtype: object"
      ]
     },
     "execution_count": 22,
     "metadata": {},
     "output_type": "execute_result"
    }
   ],
   "source": [
    "content_explation_agg.dtypes"
   ]
  },
  {
   "cell_type": "code",
   "execution_count": 23,
   "metadata": {
    "execution": {
     "iopub.execute_input": "2020-12-27T12:22:54.900174Z",
     "iopub.status.busy": "2020-12-27T12:22:54.899285Z",
     "iopub.status.idle": "2020-12-27T12:22:54.919265Z",
     "shell.execute_reply": "2020-12-27T12:22:54.918705Z"
    },
    "papermill": {
     "duration": 0.096072,
     "end_time": "2020-12-27T12:22:54.919403",
     "exception": false,
     "start_time": "2020-12-27T12:22:54.823331",
     "status": "completed"
    },
    "tags": []
   },
   "outputs": [],
   "source": [
    "content_explation_agg=content_explation_agg.unstack()\n",
    "\n",
    "content_explation_agg=content_explation_agg.reset_index()\n",
    "content_explation_agg.columns = ['content_id', 'content_explation_false_mean','content_explation_true_mean']"
   ]
  },
  {
   "cell_type": "code",
   "execution_count": 24,
   "metadata": {
    "execution": {
     "iopub.execute_input": "2020-12-27T12:22:55.076050Z",
     "iopub.status.busy": "2020-12-27T12:22:55.075106Z",
     "iopub.status.idle": "2020-12-27T12:22:55.080455Z",
     "shell.execute_reply": "2020-12-27T12:22:55.079778Z"
    },
    "papermill": {
     "duration": 0.082216,
     "end_time": "2020-12-27T12:22:55.080563",
     "exception": false,
     "start_time": "2020-12-27T12:22:54.998347",
     "status": "completed"
    },
    "tags": []
   },
   "outputs": [],
   "source": [
    "content_explation_agg.content_id=content_explation_agg.content_id.astype('int16')\n",
    "content_explation_agg.content_explation_false_mean=content_explation_agg.content_explation_false_mean.astype('float16')\n",
    "content_explation_agg.content_explation_true_mean=content_explation_agg.content_explation_true_mean.astype('float16')"
   ]
  },
  {
   "cell_type": "code",
   "execution_count": 25,
   "metadata": {
    "execution": {
     "iopub.execute_input": "2020-12-27T12:22:55.225899Z",
     "iopub.status.busy": "2020-12-27T12:22:55.225033Z",
     "iopub.status.idle": "2020-12-27T12:22:55.229272Z",
     "shell.execute_reply": "2020-12-27T12:22:55.230732Z"
    },
    "papermill": {
     "duration": 0.080818,
     "end_time": "2020-12-27T12:22:55.230994",
     "exception": false,
     "start_time": "2020-12-27T12:22:55.150176",
     "status": "completed"
    },
    "tags": []
   },
   "outputs": [
    {
     "name": "stdout",
     "output_type": "stream",
     "text": [
      "start handle attempt_no...\n"
     ]
    }
   ],
   "source": [
    "print('start handle attempt_no...')"
   ]
  },
  {
   "cell_type": "code",
   "execution_count": 26,
   "metadata": {
    "execution": {
     "iopub.execute_input": "2020-12-27T12:22:55.380144Z",
     "iopub.status.busy": "2020-12-27T12:22:55.379433Z",
     "iopub.status.idle": "2020-12-27T12:24:50.300039Z",
     "shell.execute_reply": "2020-12-27T12:24:50.299199Z"
    },
    "papermill": {
     "duration": 114.998051,
     "end_time": "2020-12-27T12:24:50.300173",
     "exception": false,
     "start_time": "2020-12-27T12:22:55.302122",
     "status": "completed"
    },
    "tags": []
   },
   "outputs": [],
   "source": [
    "\n",
    "train_df[\"attempt_no\"] = 1\n",
    "train_df.attempt_no=train_df.attempt_no.astype('int8')\n",
    "#\n",
    "attempt_no_agg=train_df.groupby([\"user_id\",\"content_id\"])[\"attempt_no\"].agg(['sum']).astype('int8')\n",
    "#attempt_no_agg=attempt_no_agg.astype('int8')\n",
    "train_df[\"attempt_no\"] = train_df[[\"user_id\",\"content_id\",'attempt_no']].groupby([\"user_id\",\"content_id\"])[\"attempt_no\"].cumsum()"
   ]
  },
  {
   "cell_type": "code",
   "execution_count": 27,
   "metadata": {
    "execution": {
     "iopub.execute_input": "2020-12-27T12:24:50.448931Z",
     "iopub.status.busy": "2020-12-27T12:24:50.448241Z",
     "iopub.status.idle": "2020-12-27T12:24:50.848910Z",
     "shell.execute_reply": "2020-12-27T12:24:50.848120Z"
    },
    "papermill": {
     "duration": 0.476832,
     "end_time": "2020-12-27T12:24:50.849042",
     "exception": false,
     "start_time": "2020-12-27T12:24:50.372210",
     "status": "completed"
    },
    "tags": []
   },
   "outputs": [],
   "source": [
    "#attempt_no_agg=attempt_no_agg.reset_index()\n",
    "attempt_no_agg=attempt_no_agg[attempt_no_agg['sum'] >1]"
   ]
  },
  {
   "cell_type": "code",
   "execution_count": 28,
   "metadata": {
    "execution": {
     "iopub.execute_input": "2020-12-27T12:24:51.000396Z",
     "iopub.status.busy": "2020-12-27T12:24:50.999402Z",
     "iopub.status.idle": "2020-12-27T12:24:51.299132Z",
     "shell.execute_reply": "2020-12-27T12:24:51.298542Z"
    },
    "papermill": {
     "duration": 0.379041,
     "end_time": "2020-12-27T12:24:51.299243",
     "exception": false,
     "start_time": "2020-12-27T12:24:50.920202",
     "status": "completed"
    },
    "tags": []
   },
   "outputs": [
    {
     "name": "stdout",
     "output_type": "stream",
     "text": [
      "start handle timestamp...\n"
     ]
    }
   ],
   "source": [
    "print('start handle timestamp...')\n",
    "prior_question_elapsed_time_mean=train_df['prior_question_elapsed_time'].mean()\n",
    "train_df['prior_question_elapsed_time'].fillna(prior_question_elapsed_time_mean, inplace=True)"
   ]
  },
  {
   "cell_type": "code",
   "execution_count": 29,
   "metadata": {
    "execution": {
     "iopub.execute_input": "2020-12-27T12:24:52.675156Z",
     "iopub.status.busy": "2020-12-27T12:24:52.674500Z",
     "iopub.status.idle": "2020-12-27T12:24:54.730945Z",
     "shell.execute_reply": "2020-12-27T12:24:54.730229Z"
    },
    "papermill": {
     "duration": 3.360776,
     "end_time": "2020-12-27T12:24:54.731060",
     "exception": false,
     "start_time": "2020-12-27T12:24:51.370284",
     "status": "completed"
    },
    "tags": []
   },
   "outputs": [],
   "source": [
    "max_timestamp_u = train_df[['user_id','timestamp']].groupby(['user_id']).agg(['max']).reset_index()\n",
    "max_timestamp_u.columns = ['user_id', 'max_time_stamp']\n",
    "max_timestamp_u.user_id=max_timestamp_u.user_id.astype('int32')"
   ]
  },
  {
   "cell_type": "code",
   "execution_count": 30,
   "metadata": {
    "execution": {
     "iopub.execute_input": "2020-12-27T12:24:54.934505Z",
     "iopub.status.busy": "2020-12-27T12:24:54.933021Z",
     "iopub.status.idle": "2020-12-27T12:25:02.245168Z",
     "shell.execute_reply": "2020-12-27T12:25:02.244616Z"
    },
    "papermill": {
     "duration": 7.442232,
     "end_time": "2020-12-27T12:25:02.245277",
     "exception": false,
     "start_time": "2020-12-27T12:24:54.803045",
     "status": "completed"
    },
    "tags": []
   },
   "outputs": [],
   "source": [
    "\n",
    "train_df['lagtime'] = train_df.groupby('user_id')['timestamp'].shift()\n",
    "\n",
    "max_timestamp_u2 = train_df[['user_id','lagtime']].groupby(['user_id']).agg(['max']).reset_index()\n",
    "max_timestamp_u2.columns = ['user_id', 'max_time_stamp2']\n",
    "max_timestamp_u2.user_id=max_timestamp_u2.user_id.astype('int32')"
   ]
  },
  {
   "cell_type": "code",
   "execution_count": 31,
   "metadata": {
    "execution": {
     "iopub.execute_input": "2020-12-27T12:25:02.399740Z",
     "iopub.status.busy": "2020-12-27T12:25:02.398475Z",
     "iopub.status.idle": "2020-12-27T12:25:03.398970Z",
     "shell.execute_reply": "2020-12-27T12:25:03.398376Z"
    },
    "papermill": {
     "duration": 1.082757,
     "end_time": "2020-12-27T12:25:03.399081",
     "exception": false,
     "start_time": "2020-12-27T12:25:02.316324",
     "status": "completed"
    },
    "tags": []
   },
   "outputs": [],
   "source": [
    "train_df['lagtime']=train_df['timestamp']-train_df['lagtime']\n",
    "lagtime_mean=train_df['lagtime'].mean()\n",
    "train_df['lagtime'].fillna(lagtime_mean, inplace=True)"
   ]
  },
  {
   "cell_type": "code",
   "execution_count": 32,
   "metadata": {
    "execution": {
     "iopub.execute_input": "2020-12-27T12:25:03.560093Z",
     "iopub.status.busy": "2020-12-27T12:25:03.558882Z",
     "iopub.status.idle": "2020-12-27T12:25:04.477051Z",
     "shell.execute_reply": "2020-12-27T12:25:04.477696Z"
    },
    "papermill": {
     "duration": 1.006823,
     "end_time": "2020-12-27T12:25:04.477861",
     "exception": false,
     "start_time": "2020-12-27T12:25:03.471038",
     "status": "completed"
    },
    "tags": []
   },
   "outputs": [],
   "source": [
    "train_df['lagtime']=train_df['lagtime']/(1000*3600)\n",
    "train_df.lagtime=train_df.lagtime.astype('float32')"
   ]
  },
  {
   "cell_type": "code",
   "execution_count": 33,
   "metadata": {
    "execution": {
     "iopub.execute_input": "2020-12-27T12:25:04.626539Z",
     "iopub.status.busy": "2020-12-27T12:25:04.625798Z",
     "iopub.status.idle": "2020-12-27T12:25:04.628399Z",
     "shell.execute_reply": "2020-12-27T12:25:04.628986Z"
    },
    "papermill": {
     "duration": 0.079436,
     "end_time": "2020-12-27T12:25:04.629139",
     "exception": false,
     "start_time": "2020-12-27T12:25:04.549703",
     "status": "completed"
    },
    "tags": []
   },
   "outputs": [],
   "source": [
    "# lagtime_agg = train_df.groupby('user_id')['lagtime'].agg(['mean'])\n",
    "# train_df['lagtime_mean'] = train_df['user_id'].map(lagtime_agg['mean'])\n",
    "# train_df.lagtime_mean=train_df.lagtime_mean.astype('int32')\n",
    "# lagtime_agg=lagtime_agg.astype('int32')"
   ]
  },
  {
   "cell_type": "code",
   "execution_count": 34,
   "metadata": {
    "execution": {
     "iopub.execute_input": "2020-12-27T12:25:04.786207Z",
     "iopub.status.busy": "2020-12-27T12:25:04.784811Z",
     "iopub.status.idle": "2020-12-27T12:25:14.054293Z",
     "shell.execute_reply": "2020-12-27T12:25:14.053532Z"
    },
    "papermill": {
     "duration": 9.350348,
     "end_time": "2020-12-27T12:25:14.054434",
     "exception": false,
     "start_time": "2020-12-27T12:25:04.704086",
     "status": "completed"
    },
    "tags": []
   },
   "outputs": [],
   "source": [
    "\n",
    "train_df['lagtime2'] = train_df.groupby('user_id')['timestamp'].shift(2)\n",
    "\n",
    "max_timestamp_u3 = train_df[['user_id','lagtime2']].groupby(['user_id']).agg(['max']).reset_index()\n",
    "max_timestamp_u3.columns = ['user_id', 'max_time_stamp3']\n",
    "max_timestamp_u3.user_id=max_timestamp_u3.user_id.astype('int32')\n",
    "\n",
    "train_df['lagtime2']=train_df['timestamp']-train_df['lagtime2']\n",
    "lagtime_mean2=train_df['lagtime2'].mean()\n",
    "train_df['lagtime2'].fillna(lagtime_mean2, inplace=True)\n"
   ]
  },
  {
   "cell_type": "code",
   "execution_count": 35,
   "metadata": {
    "execution": {
     "iopub.execute_input": "2020-12-27T12:25:14.217102Z",
     "iopub.status.busy": "2020-12-27T12:25:14.215818Z",
     "iopub.status.idle": "2020-12-27T12:25:15.150858Z",
     "shell.execute_reply": "2020-12-27T12:25:15.151390Z"
    },
    "papermill": {
     "duration": 1.024808,
     "end_time": "2020-12-27T12:25:15.151551",
     "exception": false,
     "start_time": "2020-12-27T12:25:14.126743",
     "status": "completed"
    },
    "tags": []
   },
   "outputs": [],
   "source": [
    "train_df['lagtime2']=train_df['lagtime2']/(1000*3600)\n",
    "train_df.lagtime2=train_df.lagtime2.astype('float32')"
   ]
  },
  {
   "cell_type": "code",
   "execution_count": 36,
   "metadata": {
    "execution": {
     "iopub.execute_input": "2020-12-27T12:25:15.307442Z",
     "iopub.status.busy": "2020-12-27T12:25:15.305932Z",
     "iopub.status.idle": "2020-12-27T12:25:21.390671Z",
     "shell.execute_reply": "2020-12-27T12:25:21.389044Z"
    },
    "papermill": {
     "duration": 6.165931,
     "end_time": "2020-12-27T12:25:21.390894",
     "exception": false,
     "start_time": "2020-12-27T12:25:15.224963",
     "status": "completed"
    },
    "tags": []
   },
   "outputs": [],
   "source": [
    "\n",
    "train_df['lagtime3'] = train_df.groupby('user_id')['timestamp'].shift(3)\n",
    "\n",
    "train_df['lagtime3']=train_df['timestamp']-train_df['lagtime3']\n",
    "lagtime_mean3=train_df['lagtime3'].mean()\n",
    "train_df['lagtime3'].fillna(lagtime_mean3, inplace=True)\n",
    "train_df['lagtime3']=train_df['lagtime3']/(1000*3600)\n",
    "train_df.lagtime3=train_df.lagtime3.astype('float32')"
   ]
  },
  {
   "cell_type": "code",
   "execution_count": 37,
   "metadata": {
    "execution": {
     "iopub.execute_input": "2020-12-27T12:25:21.577732Z",
     "iopub.status.busy": "2020-12-27T12:25:21.576603Z",
     "iopub.status.idle": "2020-12-27T12:25:21.580130Z",
     "shell.execute_reply": "2020-12-27T12:25:21.580649Z"
    },
    "papermill": {
     "duration": 0.086001,
     "end_time": "2020-12-27T12:25:21.580846",
     "exception": false,
     "start_time": "2020-12-27T12:25:21.494845",
     "status": "completed"
    },
    "tags": []
   },
   "outputs": [],
   "source": [
    "# lagtime_agg2 = train_df.groupby('user_id')['lagtime2'].agg(['mean'])\n",
    "# train_df['lagtime_mean2'] = train_df['user_id'].map(lagtime_agg2['mean'])\n",
    "# train_df.lagtime_mean2=train_df.lagtime_mean2.astype('int32')\n",
    "# lagtime_agg2=lagtime_agg2.astype('int32')"
   ]
  },
  {
   "cell_type": "code",
   "execution_count": 38,
   "metadata": {
    "execution": {
     "iopub.execute_input": "2020-12-27T12:25:21.768143Z",
     "iopub.status.busy": "2020-12-27T12:25:21.762243Z",
     "iopub.status.idle": "2020-12-27T12:25:22.933895Z",
     "shell.execute_reply": "2020-12-27T12:25:22.933143Z"
    },
    "papermill": {
     "duration": 1.266078,
     "end_time": "2020-12-27T12:25:22.934020",
     "exception": false,
     "start_time": "2020-12-27T12:25:21.667942",
     "status": "completed"
    },
    "tags": []
   },
   "outputs": [],
   "source": [
    "train_df['timestamp']=train_df['timestamp']/(1000*3600)\n",
    "#\n",
    "train_df.timestamp=train_df.timestamp.astype('float16')"
   ]
  },
  {
   "cell_type": "code",
   "execution_count": 39,
   "metadata": {
    "execution": {
     "iopub.execute_input": "2020-12-27T12:25:23.093284Z",
     "iopub.status.busy": "2020-12-27T12:25:23.092476Z",
     "iopub.status.idle": "2020-12-27T12:25:31.148292Z",
     "shell.execute_reply": "2020-12-27T12:25:31.148848Z"
    },
    "papermill": {
     "duration": 8.137411,
     "end_time": "2020-12-27T12:25:31.149028",
     "exception": false,
     "start_time": "2020-12-27T12:25:23.011617",
     "status": "completed"
    },
    "tags": []
   },
   "outputs": [],
   "source": [
    "user_prior_question_elapsed_time = train_df[['user_id','prior_question_elapsed_time']].groupby(['user_id']).tail(1)\n",
    "user_prior_question_elapsed_time.columns = ['user_id', 'prior_question_elapsed_time']"
   ]
  },
  {
   "cell_type": "code",
   "execution_count": 40,
   "metadata": {
    "execution": {
     "iopub.execute_input": "2020-12-27T12:25:31.297985Z",
     "iopub.status.busy": "2020-12-27T12:25:31.297312Z",
     "iopub.status.idle": "2020-12-27T12:25:35.235500Z",
     "shell.execute_reply": "2020-12-27T12:25:35.234752Z"
    },
    "papermill": {
     "duration": 4.013834,
     "end_time": "2020-12-27T12:25:35.235668",
     "exception": false,
     "start_time": "2020-12-27T12:25:31.221834",
     "status": "completed"
    },
    "tags": []
   },
   "outputs": [],
   "source": [
    "\n",
    "train_df['delta_prior_question_elapsed_time'] = train_df.groupby('user_id')['prior_question_elapsed_time'].shift()\n",
    "train_df['delta_prior_question_elapsed_time']=train_df['prior_question_elapsed_time']-train_df['delta_prior_question_elapsed_time']"
   ]
  },
  {
   "cell_type": "code",
   "execution_count": 41,
   "metadata": {
    "execution": {
     "iopub.execute_input": "2020-12-27T12:25:35.391810Z",
     "iopub.status.busy": "2020-12-27T12:25:35.391126Z",
     "iopub.status.idle": "2020-12-27T12:25:36.035555Z",
     "shell.execute_reply": "2020-12-27T12:25:36.034993Z"
    },
    "papermill": {
     "duration": 0.722672,
     "end_time": "2020-12-27T12:25:36.035680",
     "exception": false,
     "start_time": "2020-12-27T12:25:35.313008",
     "status": "completed"
    },
    "tags": []
   },
   "outputs": [],
   "source": [
    "delta_prior_question_elapsed_time_mean=train_df['delta_prior_question_elapsed_time'].mean()\n",
    "train_df['delta_prior_question_elapsed_time'].fillna(delta_prior_question_elapsed_time_mean, inplace=True)\n",
    "train_df.delta_prior_question_elapsed_time=train_df.delta_prior_question_elapsed_time.astype('int32')"
   ]
  },
  {
   "cell_type": "code",
   "execution_count": 42,
   "metadata": {
    "execution": {
     "iopub.execute_input": "2020-12-27T12:25:36.194572Z",
     "iopub.status.busy": "2020-12-27T12:25:36.193834Z",
     "iopub.status.idle": "2020-12-27T12:26:03.185006Z",
     "shell.execute_reply": "2020-12-27T12:26:03.184292Z"
    },
    "papermill": {
     "duration": 27.074999,
     "end_time": "2020-12-27T12:26:03.185149",
     "exception": false,
     "start_time": "2020-12-27T12:25:36.110150",
     "status": "completed"
    },
    "tags": []
   },
   "outputs": [],
   "source": [
    "\n",
    "train_df['lag'] = train_df.groupby('user_id')[target].shift()\n",
    "\n",
    "cum = train_df.groupby('user_id')['lag'].agg(['cumsum', 'cumcount'])\n",
    "##cum['cumcount']=cum['cumcount']+1\n",
    "user_agg = train_df.groupby('user_id')['lag'].agg(['sum', 'count']).astype('int16')\n",
    "cum['cumsum'].fillna(0, inplace=True)\n",
    "\n",
    "train_df['user_correctness'] = cum['cumsum'] / cum['cumcount']\n",
    "train_df['user_correct_count'] = cum['cumsum']\n",
    "train_df['user_uncorrect_count'] = cum['cumcount']-cum['cumsum']\n",
    "#train_df['user_answer_count'] = cum['cumcount']\n",
    "train_df.drop(columns=['lag'], inplace=True)\n",
    "train_df['user_correctness'].fillna(0.67, inplace=True)\n",
    "train_df.user_correctness=train_df.user_correctness.astype('float16')\n",
    "train_df.user_correct_count=train_df.user_correct_count.astype('int16')\n",
    "train_df.user_uncorrect_count=train_df.user_uncorrect_count.astype('int16')\n",
    "#train_df.user_answer_count=train_df.user_answer_count.astype('int16')\n"
   ]
  },
  {
   "cell_type": "code",
   "execution_count": 43,
   "metadata": {
    "execution": {
     "iopub.execute_input": "2020-12-27T12:26:03.429017Z",
     "iopub.status.busy": "2020-12-27T12:26:03.428045Z",
     "iopub.status.idle": "2020-12-27T12:26:03.433303Z",
     "shell.execute_reply": "2020-12-27T12:26:03.432696Z"
    },
    "papermill": {
     "duration": 0.174828,
     "end_time": "2020-12-27T12:26:03.433428",
     "exception": false,
     "start_time": "2020-12-27T12:26:03.258600",
     "status": "completed"
    },
    "tags": []
   },
   "outputs": [
    {
     "data": {
      "text/plain": [
       "82"
      ]
     },
     "execution_count": 43,
     "metadata": {},
     "output_type": "execute_result"
    }
   ],
   "source": [
    "del cum\n",
    "gc.collect()"
   ]
  },
  {
   "cell_type": "code",
   "execution_count": 44,
   "metadata": {
    "execution": {
     "iopub.execute_input": "2020-12-27T12:26:03.585807Z",
     "iopub.status.busy": "2020-12-27T12:26:03.584740Z",
     "iopub.status.idle": "2020-12-27T12:26:03.588607Z",
     "shell.execute_reply": "2020-12-27T12:26:03.587957Z"
    },
    "papermill": {
     "duration": 0.081915,
     "end_time": "2020-12-27T12:26:03.588718",
     "exception": false,
     "start_time": "2020-12-27T12:26:03.506803",
     "status": "completed"
    },
    "tags": []
   },
   "outputs": [],
   "source": [
    "# train_df['lag'] = train_df.groupby('user_id')[target].shift(2)\n",
    "# cum = train_df.groupby('user_id')['lag'].agg(['cumsum', 'cumcount'])\n",
    "# ##cum['cumcount']=cum['cumcount']+1\n",
    "# user_agg2 = train_df.groupby('user_id')['lag'].agg(['sum', 'count']).astype('int16')\n",
    "# cum['cumsum'].fillna(0, inplace=True)\n",
    "\n",
    "# train_df['user_correctness2'] = cum['cumsum'] / cum['cumcount']\n",
    "# train_df['user_correct_count2'] = cum['cumsum']\n",
    "# train_df['user_uncorrect_count2'] = cum['cumcount']-cum['cumsum']\n",
    "# #train_df['user_answer_count2'] = cum['cumcount']\n",
    "# train_df.drop(columns=['lag'], inplace=True)\n",
    "# train_df['user_correctness2'].fillna(0.67, inplace=True)\n",
    "# train_df.user_correctness2=train_df.user_correctness2.astype('float16')\n",
    "# train_df.user_correct_count2=train_df.user_correct_count2.astype('int16')\n",
    "# train_df.user_uncorrect_count2=train_df.user_uncorrect_count2.astype('int16')\n",
    "# #train_df.user_answer_count2=train_df.user_answer_count2.astype('int16')\n",
    "# del cum\n",
    "# gc.collect()"
   ]
  },
  {
   "cell_type": "code",
   "execution_count": 45,
   "metadata": {
    "execution": {
     "iopub.execute_input": "2020-12-27T12:26:03.743726Z",
     "iopub.status.busy": "2020-12-27T12:26:03.742304Z",
     "iopub.status.idle": "2020-12-27T12:26:06.998947Z",
     "shell.execute_reply": "2020-12-27T12:26:06.999496Z"
    },
    "papermill": {
     "duration": 3.337118,
     "end_time": "2020-12-27T12:26:06.999651",
     "exception": false,
     "start_time": "2020-12-27T12:26:03.662533",
     "status": "completed"
    },
    "tags": []
   },
   "outputs": [],
   "source": [
    "train_df.prior_question_had_explanation=train_df.prior_question_had_explanation.astype('int8')\n",
    "explanation_agg = train_df.groupby('user_id')['prior_question_had_explanation'].agg(['sum', 'count'])\n",
    "explanation_agg=explanation_agg.astype('int16')\n",
    "# explanation_agg.sum=explanation_agg.sum.astype('int16')\n",
    "# explanation_agg.count=explanation_agg.count.astype('int16')\n",
    "#explanation_agg.var=explanation_agg.var.astype('float16')"
   ]
  },
  {
   "cell_type": "code",
   "execution_count": 46,
   "metadata": {
    "execution": {
     "iopub.execute_input": "2020-12-27T12:26:07.157813Z",
     "iopub.status.busy": "2020-12-27T12:26:07.156567Z",
     "iopub.status.idle": "2020-12-27T12:26:18.953693Z",
     "shell.execute_reply": "2020-12-27T12:26:18.954259Z"
    },
    "papermill": {
     "duration": 11.881445,
     "end_time": "2020-12-27T12:26:18.954432",
     "exception": false,
     "start_time": "2020-12-27T12:26:07.072987",
     "status": "completed"
    },
    "tags": []
   },
   "outputs": [],
   "source": [
    "\n",
    "\n",
    "#train_df['lag'] = train_df.groupby('user_id')['prior_question_had_explanation'].shift()\n",
    "\n",
    "cum = train_df.groupby('user_id')['prior_question_had_explanation'].agg(['cumsum', 'cumcount'])\n",
    "cum['cumcount']=cum['cumcount']+1\n",
    "train_df['explanation_mean'] = cum['cumsum'] / cum['cumcount']\n",
    "train_df['explanation_true_count'] = cum['cumsum'] \n",
    "train_df['explanation_false_count'] =  cum['cumcount']-cum['cumsum']\n",
    "#train_df.drop(columns=['lag'], inplace=True)\n",
    "\n",
    "train_df.explanation_mean=train_df.explanation_mean.astype('float16')\n",
    "train_df.explanation_true_count=train_df.explanation_true_count.astype('int16')\n",
    "train_df.explanation_false_count=train_df.explanation_false_count.astype('int16')"
   ]
  },
  {
   "cell_type": "code",
   "execution_count": 47,
   "metadata": {
    "execution": {
     "iopub.execute_input": "2020-12-27T12:26:19.107908Z",
     "iopub.status.busy": "2020-12-27T12:26:19.106893Z",
     "iopub.status.idle": "2020-12-27T12:26:19.194806Z",
     "shell.execute_reply": "2020-12-27T12:26:19.194054Z"
    },
    "papermill": {
     "duration": 0.165839,
     "end_time": "2020-12-27T12:26:19.194934",
     "exception": false,
     "start_time": "2020-12-27T12:26:19.029095",
     "status": "completed"
    },
    "tags": []
   },
   "outputs": [
    {
     "data": {
      "text/plain": [
       "36"
      ]
     },
     "execution_count": 47,
     "metadata": {},
     "output_type": "execute_result"
    }
   ],
   "source": [
    "del cum\n",
    "gc.collect()"
   ]
  },
  {
   "cell_type": "code",
   "execution_count": 48,
   "metadata": {
    "execution": {
     "iopub.execute_input": "2020-12-27T12:26:19.356959Z",
     "iopub.status.busy": "2020-12-27T12:26:19.356101Z",
     "iopub.status.idle": "2020-12-27T12:26:28.723825Z",
     "shell.execute_reply": "2020-12-27T12:26:28.723245Z"
    },
    "papermill": {
     "duration": 9.453034,
     "end_time": "2020-12-27T12:26:28.724006",
     "exception": false,
     "start_time": "2020-12-27T12:26:19.270972",
     "status": "completed"
    },
    "tags": []
   },
   "outputs": [],
   "source": [
    "content_agg = train_df.groupby('content_id')[target].agg(['sum', 'count','var'])\n",
    "task_container_agg = train_df.groupby('task_container_id')[target].agg(['sum', 'count','var'])\n",
    "content_agg=content_agg.astype('float32')\n",
    "task_container_agg=task_container_agg.astype('float32')"
   ]
  },
  {
   "cell_type": "code",
   "execution_count": 49,
   "metadata": {
    "execution": {
     "iopub.execute_input": "2020-12-27T12:26:28.889671Z",
     "iopub.status.busy": "2020-12-27T12:26:28.888837Z",
     "iopub.status.idle": "2020-12-27T12:26:34.756288Z",
     "shell.execute_reply": "2020-12-27T12:26:34.755672Z"
    },
    "papermill": {
     "duration": 5.954523,
     "end_time": "2020-12-27T12:26:34.756433",
     "exception": false,
     "start_time": "2020-12-27T12:26:28.801910",
     "status": "completed"
    },
    "tags": []
   },
   "outputs": [],
   "source": [
    "#\n",
    "train_df['task_container_uncor_count'] = train_df['task_container_id'].map(task_container_agg['count']-task_container_agg['sum']).astype('int32')\n",
    "train_df['task_container_cor_count'] = train_df['task_container_id'].map(task_container_agg['sum']).astype('int32')\n",
    "train_df['task_container_std'] = train_df['task_container_id'].map(task_container_agg['var']).astype('float16')\n",
    "train_df['task_container_correctness'] = train_df['task_container_id'].map(task_container_agg['sum'] / task_container_agg['count'])\n",
    "train_df.task_container_correctness=train_df.task_container_correctness.astype('float16')"
   ]
  },
  {
   "cell_type": "code",
   "execution_count": 50,
   "metadata": {
    "execution": {
     "iopub.execute_input": "2020-12-27T12:26:34.912639Z",
     "iopub.status.busy": "2020-12-27T12:26:34.911918Z",
     "iopub.status.idle": "2020-12-27T12:26:39.167080Z",
     "shell.execute_reply": "2020-12-27T12:26:39.166498Z"
    },
    "papermill": {
     "duration": 4.335323,
     "end_time": "2020-12-27T12:26:39.167219",
     "exception": false,
     "start_time": "2020-12-27T12:26:34.831896",
     "status": "completed"
    },
    "tags": []
   },
   "outputs": [],
   "source": [
    "content_elapsed_time_agg=train_df.groupby('content_id')['prior_question_elapsed_time'].agg(['mean'])\n",
    "content_had_explanation_agg=train_df.groupby('content_id')['prior_question_had_explanation'].agg(['mean'])"
   ]
  },
  {
   "cell_type": "code",
   "execution_count": 51,
   "metadata": {
    "execution": {
     "iopub.execute_input": "2020-12-27T12:26:39.326110Z",
     "iopub.status.busy": "2020-12-27T12:26:39.325129Z",
     "iopub.status.idle": "2020-12-27T12:26:39.328956Z",
     "shell.execute_reply": "2020-12-27T12:26:39.329689Z"
    },
    "papermill": {
     "duration": 0.0876,
     "end_time": "2020-12-27T12:26:39.329830",
     "exception": false,
     "start_time": "2020-12-27T12:26:39.242230",
     "status": "completed"
    },
    "tags": []
   },
   "outputs": [
    {
     "data": {
      "text/plain": [
       "timestamp                            float16\n",
       "user_id                                int32\n",
       "content_id                             int16\n",
       "content_type_id                         int8\n",
       "task_container_id                      int16\n",
       "answered_correctly                      int8\n",
       "prior_question_elapsed_time          float32\n",
       "prior_question_had_explanation          int8\n",
       "user_interaction_count                 int16\n",
       "user_interaction_timestamp_mean      float32\n",
       "user_lecture_sum                       int16\n",
       "user_lecture_lv                      float16\n",
       "attempt_no                              int8\n",
       "lagtime                              float32\n",
       "lagtime2                             float32\n",
       "lagtime3                             float32\n",
       "delta_prior_question_elapsed_time      int32\n",
       "user_correctness                     float16\n",
       "user_correct_count                     int16\n",
       "user_uncorrect_count                   int16\n",
       "explanation_mean                     float16\n",
       "explanation_true_count                 int16\n",
       "explanation_false_count                int16\n",
       "task_container_uncor_count             int32\n",
       "task_container_cor_count               int32\n",
       "task_container_std                   float16\n",
       "task_container_correctness           float16\n",
       "dtype: object"
      ]
     },
     "execution_count": 51,
     "metadata": {},
     "output_type": "execute_result"
    }
   ],
   "source": [
    "train_df.dtypes"
   ]
  },
  {
   "cell_type": "code",
   "execution_count": 52,
   "metadata": {
    "execution": {
     "iopub.execute_input": "2020-12-27T12:26:39.490401Z",
     "iopub.status.busy": "2020-12-27T12:26:39.489620Z",
     "iopub.status.idle": "2020-12-27T12:26:39.526558Z",
     "shell.execute_reply": "2020-12-27T12:26:39.525949Z"
    },
    "papermill": {
     "duration": 0.115017,
     "end_time": "2020-12-27T12:26:39.526675",
     "exception": false,
     "start_time": "2020-12-27T12:26:39.411658",
     "status": "completed"
    },
    "tags": []
   },
   "outputs": [
    {
     "data": {
      "text/html": [
       "<div>\n",
       "<style scoped>\n",
       "    .dataframe tbody tr th:only-of-type {\n",
       "        vertical-align: middle;\n",
       "    }\n",
       "\n",
       "    .dataframe tbody tr th {\n",
       "        vertical-align: top;\n",
       "    }\n",
       "\n",
       "    .dataframe thead th {\n",
       "        text-align: right;\n",
       "    }\n",
       "</style>\n",
       "<table border=\"1\" class=\"dataframe\">\n",
       "  <thead>\n",
       "    <tr style=\"text-align: right;\">\n",
       "      <th></th>\n",
       "      <th>timestamp</th>\n",
       "      <th>user_id</th>\n",
       "      <th>content_id</th>\n",
       "      <th>content_type_id</th>\n",
       "      <th>task_container_id</th>\n",
       "      <th>answered_correctly</th>\n",
       "      <th>prior_question_elapsed_time</th>\n",
       "      <th>prior_question_had_explanation</th>\n",
       "      <th>user_interaction_count</th>\n",
       "      <th>user_interaction_timestamp_mean</th>\n",
       "      <th>...</th>\n",
       "      <th>user_correctness</th>\n",
       "      <th>user_correct_count</th>\n",
       "      <th>user_uncorrect_count</th>\n",
       "      <th>explanation_mean</th>\n",
       "      <th>explanation_true_count</th>\n",
       "      <th>explanation_false_count</th>\n",
       "      <th>task_container_uncor_count</th>\n",
       "      <th>task_container_cor_count</th>\n",
       "      <th>task_container_std</th>\n",
       "      <th>task_container_correctness</th>\n",
       "    </tr>\n",
       "  </thead>\n",
       "  <tbody>\n",
       "    <tr>\n",
       "      <td>0</td>\n",
       "      <td>0.000000</td>\n",
       "      <td>115</td>\n",
       "      <td>5692</td>\n",
       "      <td>0</td>\n",
       "      <td>1</td>\n",
       "      <td>1</td>\n",
       "      <td>13005.081055</td>\n",
       "      <td>0</td>\n",
       "      <td>1</td>\n",
       "      <td>0.000000</td>\n",
       "      <td>...</td>\n",
       "      <td>0.669922</td>\n",
       "      <td>0</td>\n",
       "      <td>0</td>\n",
       "      <td>0.0</td>\n",
       "      <td>0</td>\n",
       "      <td>1</td>\n",
       "      <td>187175</td>\n",
       "      <td>208704</td>\n",
       "      <td>0.249268</td>\n",
       "      <td>0.527344</td>\n",
       "    </tr>\n",
       "    <tr>\n",
       "      <td>1</td>\n",
       "      <td>0.015823</td>\n",
       "      <td>115</td>\n",
       "      <td>5716</td>\n",
       "      <td>0</td>\n",
       "      <td>2</td>\n",
       "      <td>1</td>\n",
       "      <td>37000.000000</td>\n",
       "      <td>0</td>\n",
       "      <td>2</td>\n",
       "      <td>0.007909</td>\n",
       "      <td>...</td>\n",
       "      <td>1.000000</td>\n",
       "      <td>1</td>\n",
       "      <td>0</td>\n",
       "      <td>0.0</td>\n",
       "      <td>0</td>\n",
       "      <td>2</td>\n",
       "      <td>223198</td>\n",
       "      <td>172342</td>\n",
       "      <td>0.245850</td>\n",
       "      <td>0.435791</td>\n",
       "    </tr>\n",
       "    <tr>\n",
       "      <td>2</td>\n",
       "      <td>0.032867</td>\n",
       "      <td>115</td>\n",
       "      <td>128</td>\n",
       "      <td>0</td>\n",
       "      <td>0</td>\n",
       "      <td>1</td>\n",
       "      <td>55000.000000</td>\n",
       "      <td>0</td>\n",
       "      <td>3</td>\n",
       "      <td>0.010960</td>\n",
       "      <td>...</td>\n",
       "      <td>1.000000</td>\n",
       "      <td>2</td>\n",
       "      <td>0</td>\n",
       "      <td>0.0</td>\n",
       "      <td>0</td>\n",
       "      <td>3</td>\n",
       "      <td>126682</td>\n",
       "      <td>269233</td>\n",
       "      <td>0.217651</td>\n",
       "      <td>0.680176</td>\n",
       "    </tr>\n",
       "    <tr>\n",
       "      <td>3</td>\n",
       "      <td>0.036438</td>\n",
       "      <td>115</td>\n",
       "      <td>7860</td>\n",
       "      <td>0</td>\n",
       "      <td>3</td>\n",
       "      <td>1</td>\n",
       "      <td>19000.000000</td>\n",
       "      <td>0</td>\n",
       "      <td>4</td>\n",
       "      <td>0.009109</td>\n",
       "      <td>...</td>\n",
       "      <td>1.000000</td>\n",
       "      <td>3</td>\n",
       "      <td>0</td>\n",
       "      <td>0.0</td>\n",
       "      <td>0</td>\n",
       "      <td>4</td>\n",
       "      <td>180574</td>\n",
       "      <td>214721</td>\n",
       "      <td>0.248169</td>\n",
       "      <td>0.542969</td>\n",
       "    </tr>\n",
       "    <tr>\n",
       "      <td>4</td>\n",
       "      <td>0.038330</td>\n",
       "      <td>115</td>\n",
       "      <td>7922</td>\n",
       "      <td>0</td>\n",
       "      <td>4</td>\n",
       "      <td>1</td>\n",
       "      <td>11000.000000</td>\n",
       "      <td>0</td>\n",
       "      <td>5</td>\n",
       "      <td>0.007665</td>\n",
       "      <td>...</td>\n",
       "      <td>1.000000</td>\n",
       "      <td>4</td>\n",
       "      <td>0</td>\n",
       "      <td>0.0</td>\n",
       "      <td>0</td>\n",
       "      <td>5</td>\n",
       "      <td>361957</td>\n",
       "      <td>330079</td>\n",
       "      <td>0.249512</td>\n",
       "      <td>0.477051</td>\n",
       "    </tr>\n",
       "  </tbody>\n",
       "</table>\n",
       "<p>5 rows × 27 columns</p>\n",
       "</div>"
      ],
      "text/plain": [
       "   timestamp  user_id  content_id  content_type_id  task_container_id  \\\n",
       "0   0.000000      115        5692                0                  1   \n",
       "1   0.015823      115        5716                0                  2   \n",
       "2   0.032867      115         128                0                  0   \n",
       "3   0.036438      115        7860                0                  3   \n",
       "4   0.038330      115        7922                0                  4   \n",
       "\n",
       "   answered_correctly  prior_question_elapsed_time  \\\n",
       "0                   1                 13005.081055   \n",
       "1                   1                 37000.000000   \n",
       "2                   1                 55000.000000   \n",
       "3                   1                 19000.000000   \n",
       "4                   1                 11000.000000   \n",
       "\n",
       "   prior_question_had_explanation  user_interaction_count  \\\n",
       "0                               0                       1   \n",
       "1                               0                       2   \n",
       "2                               0                       3   \n",
       "3                               0                       4   \n",
       "4                               0                       5   \n",
       "\n",
       "   user_interaction_timestamp_mean  ...  user_correctness  user_correct_count  \\\n",
       "0                         0.000000  ...          0.669922                   0   \n",
       "1                         0.007909  ...          1.000000                   1   \n",
       "2                         0.010960  ...          1.000000                   2   \n",
       "3                         0.009109  ...          1.000000                   3   \n",
       "4                         0.007665  ...          1.000000                   4   \n",
       "\n",
       "   user_uncorrect_count  explanation_mean  explanation_true_count  \\\n",
       "0                     0               0.0                       0   \n",
       "1                     0               0.0                       0   \n",
       "2                     0               0.0                       0   \n",
       "3                     0               0.0                       0   \n",
       "4                     0               0.0                       0   \n",
       "\n",
       "   explanation_false_count  task_container_uncor_count  \\\n",
       "0                        1                      187175   \n",
       "1                        2                      223198   \n",
       "2                        3                      126682   \n",
       "3                        4                      180574   \n",
       "4                        5                      361957   \n",
       "\n",
       "   task_container_cor_count  task_container_std  task_container_correctness  \n",
       "0                    208704            0.249268                    0.527344  \n",
       "1                    172342            0.245850                    0.435791  \n",
       "2                    269233            0.217651                    0.680176  \n",
       "3                    214721            0.248169                    0.542969  \n",
       "4                    330079            0.249512                    0.477051  \n",
       "\n",
       "[5 rows x 27 columns]"
      ]
     },
     "execution_count": 52,
     "metadata": {},
     "output_type": "execute_result"
    }
   ],
   "source": [
    "train_df.head()"
   ]
  },
  {
   "cell_type": "code",
   "execution_count": 53,
   "metadata": {
    "execution": {
     "iopub.execute_input": "2020-12-27T12:26:39.685071Z",
     "iopub.status.busy": "2020-12-27T12:26:39.684344Z",
     "iopub.status.idle": "2020-12-27T12:26:39.687876Z",
     "shell.execute_reply": "2020-12-27T12:26:39.687114Z"
    },
    "papermill": {
     "duration": 0.085506,
     "end_time": "2020-12-27T12:26:39.687992",
     "exception": false,
     "start_time": "2020-12-27T12:26:39.602486",
     "status": "completed"
    },
    "tags": []
   },
   "outputs": [
    {
     "name": "stdout",
     "output_type": "stream",
     "text": [
      "start questions data...\n"
     ]
    }
   ],
   "source": [
    "print('start questions data...')"
   ]
  },
  {
   "cell_type": "code",
   "execution_count": 54,
   "metadata": {
    "execution": {
     "iopub.execute_input": "2020-12-27T12:26:39.854233Z",
     "iopub.status.busy": "2020-12-27T12:26:39.853382Z",
     "iopub.status.idle": "2020-12-27T12:26:39.876699Z",
     "shell.execute_reply": "2020-12-27T12:26:39.875852Z"
    },
    "papermill": {
     "duration": 0.111549,
     "end_time": "2020-12-27T12:26:39.876835",
     "exception": false,
     "start_time": "2020-12-27T12:26:39.765286",
     "status": "completed"
    },
    "tags": []
   },
   "outputs": [],
   "source": [
    "questions_df = pd.read_csv(\n",
    "    '../../input/riiid-test-answer-prediction/questions.csv', \n",
    "    usecols=[0, 1,3,4],\n",
    "    dtype={'question_id': 'int16','bundle_id': 'int16', 'part': 'int8','tags': 'str'}\n",
    ")"
   ]
  },
  {
   "cell_type": "code",
   "execution_count": 55,
   "metadata": {
    "execution": {
     "iopub.execute_input": "2020-12-27T12:26:40.038849Z",
     "iopub.status.busy": "2020-12-27T12:26:40.038111Z",
     "iopub.status.idle": "2020-12-27T12:26:40.048782Z",
     "shell.execute_reply": "2020-12-27T12:26:40.047943Z"
    },
    "papermill": {
     "duration": 0.094135,
     "end_time": "2020-12-27T12:26:40.048903",
     "exception": false,
     "start_time": "2020-12-27T12:26:39.954768",
     "status": "completed"
    },
    "tags": []
   },
   "outputs": [],
   "source": [
    "bundle_agg = questions_df.groupby('bundle_id')['question_id'].agg(['count'])"
   ]
  },
  {
   "cell_type": "code",
   "execution_count": 56,
   "metadata": {
    "execution": {
     "iopub.execute_input": "2020-12-27T12:26:40.212658Z",
     "iopub.status.busy": "2020-12-27T12:26:40.209869Z",
     "iopub.status.idle": "2020-12-27T12:26:40.215853Z",
     "shell.execute_reply": "2020-12-27T12:26:40.215191Z"
    },
    "papermill": {
     "duration": 0.088002,
     "end_time": "2020-12-27T12:26:40.215963",
     "exception": false,
     "start_time": "2020-12-27T12:26:40.127961",
     "status": "completed"
    },
    "tags": []
   },
   "outputs": [],
   "source": [
    "questions_df['content_sub_bundle'] = questions_df['bundle_id'].map(bundle_agg['count']).astype('int8')"
   ]
  },
  {
   "cell_type": "code",
   "execution_count": 57,
   "metadata": {
    "execution": {
     "iopub.execute_input": "2020-12-27T12:26:40.377609Z",
     "iopub.status.busy": "2020-12-27T12:26:40.376898Z",
     "iopub.status.idle": "2020-12-27T12:26:40.379898Z",
     "shell.execute_reply": "2020-12-27T12:26:40.380454Z"
    },
    "papermill": {
     "duration": 0.087777,
     "end_time": "2020-12-27T12:26:40.380607",
     "exception": false,
     "start_time": "2020-12-27T12:26:40.292830",
     "status": "completed"
    },
    "tags": []
   },
   "outputs": [],
   "source": [
    "\n",
    "questions_df['tags'].fillna('188', inplace=True)"
   ]
  },
  {
   "cell_type": "code",
   "execution_count": 58,
   "metadata": {
    "execution": {
     "iopub.execute_input": "2020-12-27T12:26:40.544572Z",
     "iopub.status.busy": "2020-12-27T12:26:40.543827Z",
     "iopub.status.idle": "2020-12-27T12:26:40.546323Z",
     "shell.execute_reply": "2020-12-27T12:26:40.545715Z"
    },
    "papermill": {
     "duration": 0.088508,
     "end_time": "2020-12-27T12:26:40.546453",
     "exception": false,
     "start_time": "2020-12-27T12:26:40.457945",
     "status": "completed"
    },
    "tags": []
   },
   "outputs": [],
   "source": [
    "def gettags(tags,num):\n",
    "    tags_splits=tags.split(\" \")\n",
    "    result='' \n",
    "    for t in tags_splits:\n",
    "        x=int(t)\n",
    "        if(x<32*(num+1) and x>=32*num):#num \n",
    "            result=result+' '+t\n",
    "    return result"
   ]
  },
  {
   "cell_type": "code",
   "execution_count": 59,
   "metadata": {
    "execution": {
     "iopub.execute_input": "2020-12-27T12:26:40.718828Z",
     "iopub.status.busy": "2020-12-27T12:26:40.718102Z",
     "iopub.status.idle": "2020-12-27T12:26:40.994047Z",
     "shell.execute_reply": "2020-12-27T12:26:40.994607Z"
    },
    "papermill": {
     "duration": 0.369648,
     "end_time": "2020-12-27T12:26:40.994762",
     "exception": false,
     "start_time": "2020-12-27T12:26:40.625114",
     "status": "completed"
    },
    "tags": []
   },
   "outputs": [],
   "source": [
    "from sklearn.preprocessing import LabelEncoder\n",
    "for num in range(0,6):\n",
    "    questions_df[\"tags\"+str(num)] = questions_df[\"tags\"].apply(lambda row: gettags(row,num))\n",
    "    le = LabelEncoder()\n",
    "    le.fit(np.unique(questions_df['tags'+str(num)].values))\n",
    "    #questions_df[['tags'+str(num)]=\n",
    "    questions_df['tags'+str(num)]=questions_df[['tags'+str(num)]].apply(le.transform)"
   ]
  },
  {
   "cell_type": "code",
   "execution_count": 60,
   "metadata": {
    "execution": {
     "iopub.execute_input": "2020-12-27T12:26:41.153389Z",
     "iopub.status.busy": "2020-12-27T12:26:41.152716Z",
     "iopub.status.idle": "2020-12-27T12:26:41.162040Z",
     "shell.execute_reply": "2020-12-27T12:26:41.162720Z"
    },
    "papermill": {
     "duration": 0.090847,
     "end_time": "2020-12-27T12:26:41.162892",
     "exception": false,
     "start_time": "2020-12-27T12:26:41.072045",
     "status": "completed"
    },
    "tags": []
   },
   "outputs": [],
   "source": [
    "questions_df_dict = {   \n",
    "    'tags0': 'int8',\n",
    "    'tags1': 'int8',\n",
    "    'tags2': 'int8',\n",
    "    'tags3': 'int8',\n",
    "    'tags4': 'int8',\n",
    "    'tags5': 'int8',\n",
    "    #'tags6': 'int8',\n",
    "    #'tags7': 'int8'\n",
    "}\n",
    "questions_df = questions_df.astype(questions_df_dict)"
   ]
  },
  {
   "cell_type": "code",
   "execution_count": 61,
   "metadata": {
    "execution": {
     "iopub.execute_input": "2020-12-27T12:26:41.321858Z",
     "iopub.status.busy": "2020-12-27T12:26:41.321194Z",
     "iopub.status.idle": "2020-12-27T12:26:41.326549Z",
     "shell.execute_reply": "2020-12-27T12:26:41.327214Z"
    },
    "papermill": {
     "duration": 0.08711,
     "end_time": "2020-12-27T12:26:41.327405",
     "exception": false,
     "start_time": "2020-12-27T12:26:41.240295",
     "status": "completed"
    },
    "tags": []
   },
   "outputs": [],
   "source": [
    "questions_df.drop(columns=['tags'], inplace=True)"
   ]
  },
  {
   "cell_type": "code",
   "execution_count": 62,
   "metadata": {
    "execution": {
     "iopub.execute_input": "2020-12-27T12:26:41.487181Z",
     "iopub.status.busy": "2020-12-27T12:26:41.486448Z",
     "iopub.status.idle": "2020-12-27T12:26:41.494900Z",
     "shell.execute_reply": "2020-12-27T12:26:41.495583Z"
    },
    "papermill": {
     "duration": 0.090043,
     "end_time": "2020-12-27T12:26:41.495732",
     "exception": false,
     "start_time": "2020-12-27T12:26:41.405689",
     "status": "completed"
    },
    "tags": []
   },
   "outputs": [],
   "source": [
    "\n",
    "questions_df['part_bundle_id']=questions_df['part']*100000+questions_df['bundle_id']\n",
    "questions_df.part_bundle_id=questions_df.part_bundle_id.astype('int32')\n",
    "# tag = questions_df[\"tags\"].str.split(\" \", n = 10, expand = True)\n",
    "# tag.columns = ['tags1','tags2','tags3','tags4','tags5','tags6']\n",
    "# #\n",
    "\n",
    "# tag.fillna(0, inplace=True)\n",
    "# tag = tag.astype('int16')\n",
    "# questions_df =  pd.concat([questions_df,tag],axis=1).drop(['tags'],axis=1)"
   ]
  },
  {
   "cell_type": "code",
   "execution_count": 63,
   "metadata": {
    "execution": {
     "iopub.execute_input": "2020-12-27T12:26:41.656397Z",
     "iopub.status.busy": "2020-12-27T12:26:41.655705Z",
     "iopub.status.idle": "2020-12-27T12:26:41.659408Z",
     "shell.execute_reply": "2020-12-27T12:26:41.659985Z"
    },
    "papermill": {
     "duration": 0.086033,
     "end_time": "2020-12-27T12:26:41.660137",
     "exception": false,
     "start_time": "2020-12-27T12:26:41.574104",
     "status": "completed"
    },
    "tags": []
   },
   "outputs": [],
   "source": [
    "# questions_cmnts = pd.read_csv(\n",
    "#     '../input/2020-r3id-clustering-question-tags/question_cmnts.csv', \n",
    "#     usecols=[1,2],\n",
    "#     dtype={'question_id': 'int16','community': 'int8'}\n",
    "# )"
   ]
  },
  {
   "cell_type": "code",
   "execution_count": 64,
   "metadata": {
    "execution": {
     "iopub.execute_input": "2020-12-27T12:26:41.819888Z",
     "iopub.status.busy": "2020-12-27T12:26:41.819187Z",
     "iopub.status.idle": "2020-12-27T12:26:41.822804Z",
     "shell.execute_reply": "2020-12-27T12:26:41.823557Z"
    },
    "papermill": {
     "duration": 0.08572,
     "end_time": "2020-12-27T12:26:41.823712",
     "exception": false,
     "start_time": "2020-12-27T12:26:41.737992",
     "status": "completed"
    },
    "tags": []
   },
   "outputs": [],
   "source": [
    "# questions_df = pd.merge(questions_df, questions_cmnts, on='question_id', how='left',right_index=True)#"
   ]
  },
  {
   "cell_type": "code",
   "execution_count": 65,
   "metadata": {
    "execution": {
     "iopub.execute_input": "2020-12-27T12:26:41.989788Z",
     "iopub.status.busy": "2020-12-27T12:26:41.988962Z",
     "iopub.status.idle": "2020-12-27T12:26:41.992098Z",
     "shell.execute_reply": "2020-12-27T12:26:41.991544Z"
    },
    "papermill": {
     "duration": 0.089651,
     "end_time": "2020-12-27T12:26:41.992207",
     "exception": false,
     "start_time": "2020-12-27T12:26:41.902556",
     "status": "completed"
    },
    "tags": []
   },
   "outputs": [],
   "source": [
    "questions_df.rename(columns={'question_id':'content_id'}, inplace=True)"
   ]
  },
  {
   "cell_type": "code",
   "execution_count": 66,
   "metadata": {
    "execution": {
     "iopub.execute_input": "2020-12-27T12:26:42.157881Z",
     "iopub.status.busy": "2020-12-27T12:26:42.157128Z",
     "iopub.status.idle": "2020-12-27T12:26:42.169824Z",
     "shell.execute_reply": "2020-12-27T12:26:42.170789Z"
    },
    "papermill": {
     "duration": 0.099438,
     "end_time": "2020-12-27T12:26:42.170974",
     "exception": false,
     "start_time": "2020-12-27T12:26:42.071536",
     "status": "completed"
    },
    "tags": []
   },
   "outputs": [],
   "source": [
    "questions_df = pd.merge(questions_df, content_explation_agg, on='content_id', how='left',right_index=True)#\n",
    "# questions_df.content_explation_false_mean=questions_df.content_explation_false_mean.astype('float16')\n",
    "# questions_df.content_explation_true_mean=questions_df.content_explation_true_mean.astype('float16')"
   ]
  },
  {
   "cell_type": "code",
   "execution_count": 67,
   "metadata": {
    "execution": {
     "iopub.execute_input": "2020-12-27T12:26:42.331328Z",
     "iopub.status.busy": "2020-12-27T12:26:42.330627Z",
     "iopub.status.idle": "2020-12-27T12:26:42.334256Z",
     "shell.execute_reply": "2020-12-27T12:26:42.334761Z"
    },
    "papermill": {
     "duration": 0.085503,
     "end_time": "2020-12-27T12:26:42.334910",
     "exception": false,
     "start_time": "2020-12-27T12:26:42.249407",
     "status": "completed"
    },
    "tags": []
   },
   "outputs": [],
   "source": [
    "del content_explation_agg"
   ]
  },
  {
   "cell_type": "code",
   "execution_count": 68,
   "metadata": {
    "execution": {
     "iopub.execute_input": "2020-12-27T12:26:42.496847Z",
     "iopub.status.busy": "2020-12-27T12:26:42.496213Z",
     "iopub.status.idle": "2020-12-27T12:26:42.513254Z",
     "shell.execute_reply": "2020-12-27T12:26:42.512639Z"
    },
    "papermill": {
     "duration": 0.099247,
     "end_time": "2020-12-27T12:26:42.513385",
     "exception": false,
     "start_time": "2020-12-27T12:26:42.414138",
     "status": "completed"
    },
    "tags": []
   },
   "outputs": [],
   "source": [
    "questions_df['content_correctness'] = questions_df['content_id'].map(content_agg['sum'] / content_agg['count'])\n",
    "questions_df.content_correctness=questions_df.content_correctness.astype('float16')\n",
    "questions_df['content_correctness_std'] = questions_df['content_id'].map(content_agg['var'])\n",
    "questions_df.content_correctness_std=questions_df.content_correctness_std.astype('float16')\n",
    "questions_df['content_uncorrect_count'] = questions_df['content_id'].map(content_agg['count']-content_agg['sum']).astype('int32')\n",
    "questions_df['content_correct_count'] = questions_df['content_id'].map(content_agg['sum']).astype('int32')"
   ]
  },
  {
   "cell_type": "code",
   "execution_count": 69,
   "metadata": {
    "execution": {
     "iopub.execute_input": "2020-12-27T12:26:42.681739Z",
     "iopub.status.busy": "2020-12-27T12:26:42.678774Z",
     "iopub.status.idle": "2020-12-27T12:26:42.686988Z",
     "shell.execute_reply": "2020-12-27T12:26:42.686448Z"
    },
    "papermill": {
     "duration": 0.09411,
     "end_time": "2020-12-27T12:26:42.687115",
     "exception": false,
     "start_time": "2020-12-27T12:26:42.593005",
     "status": "completed"
    },
    "tags": []
   },
   "outputs": [],
   "source": [
    "questions_df['content_elapsed_time_mean'] = questions_df['content_id'].map(content_elapsed_time_agg['mean'])\n",
    "questions_df.content_elapsed_time_mean=questions_df.content_elapsed_time_mean.astype('float16')\n",
    "questions_df['content_had_explanation_mean'] = questions_df['content_id'].map(content_had_explanation_agg['mean'])\n",
    "questions_df.content_had_explanation_mean=questions_df.content_had_explanation_mean.astype('float16')"
   ]
  },
  {
   "cell_type": "code",
   "execution_count": 70,
   "metadata": {
    "execution": {
     "iopub.execute_input": "2020-12-27T12:26:42.926207Z",
     "iopub.status.busy": "2020-12-27T12:26:42.924666Z",
     "iopub.status.idle": "2020-12-27T12:26:42.929121Z",
     "shell.execute_reply": "2020-12-27T12:26:42.929637Z"
    },
    "papermill": {
     "duration": 0.163794,
     "end_time": "2020-12-27T12:26:42.929786",
     "exception": false,
     "start_time": "2020-12-27T12:26:42.765992",
     "status": "completed"
    },
    "tags": []
   },
   "outputs": [
    {
     "data": {
      "text/plain": [
       "105"
      ]
     },
     "execution_count": 70,
     "metadata": {},
     "output_type": "execute_result"
    }
   ],
   "source": [
    "del content_elapsed_time_agg\n",
    "del content_had_explanation_agg\n",
    "gc.collect()"
   ]
  },
  {
   "cell_type": "code",
   "execution_count": 71,
   "metadata": {
    "execution": {
     "iopub.execute_input": "2020-12-27T12:26:43.097892Z",
     "iopub.status.busy": "2020-12-27T12:26:43.097166Z",
     "iopub.status.idle": "2020-12-27T12:26:43.106088Z",
     "shell.execute_reply": "2020-12-27T12:26:43.105511Z"
    },
    "papermill": {
     "duration": 0.096042,
     "end_time": "2020-12-27T12:26:43.106200",
     "exception": false,
     "start_time": "2020-12-27T12:26:43.010158",
     "status": "completed"
    },
    "tags": []
   },
   "outputs": [],
   "source": [
    "part_agg = questions_df.groupby('part')['content_correctness'].agg(['mean', 'var'])\n",
    "questions_df['part_correctness_mean'] = questions_df['part'].map(part_agg['mean'])\n",
    "questions_df['part_correctness_std'] = questions_df['part'].map(part_agg['var'])\n",
    "questions_df.part_correctness_mean=questions_df.part_correctness_mean.astype('float16')\n",
    "questions_df.part_correctness_std=questions_df.part_correctness_std.astype('float16')"
   ]
  },
  {
   "cell_type": "code",
   "execution_count": 72,
   "metadata": {
    "execution": {
     "iopub.execute_input": "2020-12-27T12:26:43.269753Z",
     "iopub.status.busy": "2020-12-27T12:26:43.269018Z",
     "iopub.status.idle": "2020-12-27T12:26:43.287506Z",
     "shell.execute_reply": "2020-12-27T12:26:43.286819Z"
    },
    "papermill": {
     "duration": 0.101087,
     "end_time": "2020-12-27T12:26:43.287623",
     "exception": false,
     "start_time": "2020-12-27T12:26:43.186536",
     "status": "completed"
    },
    "tags": []
   },
   "outputs": [],
   "source": [
    "part_agg = questions_df.groupby('part')['content_uncorrect_count'].agg(['sum'])\n",
    "questions_df['part_uncor_count'] = questions_df['part'].map(part_agg['sum']).astype('int32')\n",
    "#\n",
    "part_agg = questions_df.groupby('part')['content_correct_count'].agg(['sum'])\n",
    "questions_df['part_cor_count'] = questions_df['part'].map(part_agg['sum']).astype('int32')"
   ]
  },
  {
   "cell_type": "code",
   "execution_count": 73,
   "metadata": {
    "execution": {
     "iopub.execute_input": "2020-12-27T12:26:43.454557Z",
     "iopub.status.busy": "2020-12-27T12:26:43.453489Z",
     "iopub.status.idle": "2020-12-27T12:26:43.464737Z",
     "shell.execute_reply": "2020-12-27T12:26:43.465207Z"
    },
    "papermill": {
     "duration": 0.098374,
     "end_time": "2020-12-27T12:26:43.465376",
     "exception": false,
     "start_time": "2020-12-27T12:26:43.367002",
     "status": "completed"
    },
    "tags": []
   },
   "outputs": [],
   "source": [
    "bundle_agg = questions_df.groupby('bundle_id')['content_correctness'].agg(['mean'])\n",
    "questions_df['bundle_correctness_mean'] = questions_df['bundle_id'].map(bundle_agg['mean'])\n",
    "questions_df.bundle_correctness_mean=questions_df.bundle_correctness_mean.astype('float16')\n",
    "\n",
    "# bundle_agg = questions_df.groupby('bundle_id')['content_uncorrect_count'].agg(['sum'])\n",
    "# questions_df['bundle_uncor_count'] = questions_df['bundle_id'].map(bundle_agg['sum']).astype('int32')\n",
    "# #\n",
    "# bundle_agg = questions_df.groupby('bundle_id')['content_correct_count'].agg(['sum'])\n",
    "# questions_df['bundle_cor_count'] = questions_df['bundle_id'].map(bundle_agg['sum']).astype('int32')"
   ]
  },
  {
   "cell_type": "code",
   "execution_count": 74,
   "metadata": {
    "execution": {
     "iopub.execute_input": "2020-12-27T12:26:43.629689Z",
     "iopub.status.busy": "2020-12-27T12:26:43.628567Z",
     "iopub.status.idle": "2020-12-27T12:26:43.631910Z",
     "shell.execute_reply": "2020-12-27T12:26:43.632390Z"
    },
    "papermill": {
     "duration": 0.087675,
     "end_time": "2020-12-27T12:26:43.632549",
     "exception": false,
     "start_time": "2020-12-27T12:26:43.544874",
     "status": "completed"
    },
    "tags": []
   },
   "outputs": [],
   "source": [
    "#questions_df.loc[questions_df['content_sub_bundle'] !=0, 'content_sub_bundle']=1 #修改列\"content_sub_bundle\"的值，推荐使用.loc"
   ]
  },
  {
   "cell_type": "code",
   "execution_count": 75,
   "metadata": {
    "execution": {
     "iopub.execute_input": "2020-12-27T12:26:43.798707Z",
     "iopub.status.busy": "2020-12-27T12:26:43.797720Z",
     "iopub.status.idle": "2020-12-27T12:26:43.800844Z",
     "shell.execute_reply": "2020-12-27T12:26:43.800195Z"
    },
    "papermill": {
     "duration": 0.088364,
     "end_time": "2020-12-27T12:26:43.800953",
     "exception": false,
     "start_time": "2020-12-27T12:26:43.712589",
     "status": "completed"
    },
    "tags": []
   },
   "outputs": [],
   "source": [
    "# tags1_agg = questions_df.groupby('tags0')['content_correctness'].agg(['mean', 'var'])\n",
    "# questions_df['tags0_correctness_mean'] = questions_df['tags0'].map(tags1_agg['mean'])\n",
    "# questions_df.tags0_correctness_mean=questions_df.tags0_correctness_mean.astype('float16')\n",
    "\n",
    "# tags1_agg = questions_df.groupby('tags1')['content_correctness'].agg(['mean', 'var'])\n",
    "# questions_df['tags1_correctness_mean'] = questions_df['tags1'].map(tags1_agg['mean'])\n",
    "# questions_df.tags1_correctness_mean=questions_df.tags1_correctness_mean.astype('float16')\n",
    "\n",
    "# tags1_agg = questions_df.groupby('tags2')['content_correctness'].agg(['mean', 'var'])\n",
    "# questions_df['tags2_correctness_mean'] = questions_df['tags2'].map(tags1_agg['mean'])\n",
    "# questions_df.tags2_correctness_mean=questions_df.tags2_correctness_mean.astype('float16')\n",
    "\n",
    "# tags1_agg = questions_df.groupby('tags4')['content_correctness'].agg(['mean', 'var'])\n",
    "# questions_df['tags4_correctness_mean'] = questions_df['tags4'].map(tags1_agg['mean'])\n",
    "# questions_df.tags4_correctness_mean=questions_df.tags4_correctness_mean.astype('float16')\n",
    "\n",
    "# questions_df['tags1_correctness_std'] = questions_df['tags1'].map(tags1_agg['var'])\n",
    "\n",
    "# questions_df.tags1_correctness_std=questions_df.tags1_correctness_std.astype('float16')\n",
    "# tags1_agg = questions_df.groupby('tags1')['content_uncorrect_count'].agg(['sum'])\n",
    "# questions_df['tags1_uncor_count'] = questions_df['tags1'].map(tags1_agg['sum']).astype('int32')\n",
    "# #\n",
    "# tags1_agg = questions_df.groupby('tags1')['content_correct_count'].agg(['sum'])\n",
    "# questions_df['tags1_cor_count'] = questions_df['tags1'].map(tags1_agg['sum']).astype('int32')"
   ]
  },
  {
   "cell_type": "code",
   "execution_count": 76,
   "metadata": {
    "execution": {
     "iopub.execute_input": "2020-12-27T12:26:43.970060Z",
     "iopub.status.busy": "2020-12-27T12:26:43.969374Z",
     "iopub.status.idle": "2020-12-27T12:26:43.971968Z",
     "shell.execute_reply": "2020-12-27T12:26:43.972473Z"
    },
    "papermill": {
     "duration": 0.091118,
     "end_time": "2020-12-27T12:26:43.972613",
     "exception": false,
     "start_time": "2020-12-27T12:26:43.881495",
     "status": "completed"
    },
    "tags": []
   },
   "outputs": [
    {
     "data": {
      "text/plain": [
       "content_id                        int16\n",
       "bundle_id                         int16\n",
       "part                               int8\n",
       "content_sub_bundle                 int8\n",
       "tags0                              int8\n",
       "tags1                              int8\n",
       "tags2                              int8\n",
       "tags3                              int8\n",
       "tags4                              int8\n",
       "tags5                              int8\n",
       "part_bundle_id                    int32\n",
       "content_explation_false_mean    float16\n",
       "content_explation_true_mean     float16\n",
       "content_correctness             float16\n",
       "content_correctness_std         float16\n",
       "content_uncorrect_count           int32\n",
       "content_correct_count             int32\n",
       "content_elapsed_time_mean       float16\n",
       "content_had_explanation_mean    float16\n",
       "part_correctness_mean           float16\n",
       "part_correctness_std            float16\n",
       "part_uncor_count                  int32\n",
       "part_cor_count                    int32\n",
       "bundle_correctness_mean         float16\n",
       "dtype: object"
      ]
     },
     "execution_count": 76,
     "metadata": {},
     "output_type": "execute_result"
    }
   ],
   "source": [
    "questions_df.dtypes"
   ]
  },
  {
   "cell_type": "code",
   "execution_count": 77,
   "metadata": {
    "execution": {
     "iopub.execute_input": "2020-12-27T12:26:44.141917Z",
     "iopub.status.busy": "2020-12-27T12:26:44.141115Z",
     "iopub.status.idle": "2020-12-27T12:26:44.222022Z",
     "shell.execute_reply": "2020-12-27T12:26:44.222726Z"
    },
    "papermill": {
     "duration": 0.167094,
     "end_time": "2020-12-27T12:26:44.222928",
     "exception": false,
     "start_time": "2020-12-27T12:26:44.055834",
     "status": "completed"
    },
    "tags": []
   },
   "outputs": [
    {
     "data": {
      "text/plain": [
       "46"
      ]
     },
     "execution_count": 77,
     "metadata": {},
     "output_type": "execute_result"
    }
   ],
   "source": [
    "del content_agg\n",
    "del bundle_agg\n",
    "del part_agg\n",
    "#del tags1_agg\n",
    "gc.collect()"
   ]
  },
  {
   "cell_type": "code",
   "execution_count": 78,
   "metadata": {
    "execution": {
     "iopub.execute_input": "2020-12-27T12:26:44.391907Z",
     "iopub.status.busy": "2020-12-27T12:26:44.391062Z",
     "iopub.status.idle": "2020-12-27T12:26:44.395146Z",
     "shell.execute_reply": "2020-12-27T12:26:44.395652Z"
    },
    "papermill": {
     "duration": 0.090383,
     "end_time": "2020-12-27T12:26:44.395802",
     "exception": false,
     "start_time": "2020-12-27T12:26:44.305419",
     "status": "completed"
    },
    "tags": []
   },
   "outputs": [],
   "source": [
    "#pd.set_option(\"display.max_columns\",500)"
   ]
  },
  {
   "cell_type": "code",
   "execution_count": 79,
   "metadata": {
    "execution": {
     "iopub.execute_input": "2020-12-27T12:26:44.564909Z",
     "iopub.status.busy": "2020-12-27T12:26:44.564179Z",
     "iopub.status.idle": "2020-12-27T12:26:44.567006Z",
     "shell.execute_reply": "2020-12-27T12:26:44.567529Z"
    },
    "papermill": {
     "duration": 0.09035,
     "end_time": "2020-12-27T12:26:44.567684",
     "exception": false,
     "start_time": "2020-12-27T12:26:44.477334",
     "status": "completed"
    },
    "tags": []
   },
   "outputs": [],
   "source": [
    "#questions_df.drop(columns=['tags4','tags5','tags6'], inplace=True)"
   ]
  },
  {
   "cell_type": "code",
   "execution_count": 80,
   "metadata": {
    "execution": {
     "iopub.execute_input": "2020-12-27T12:26:44.735530Z",
     "iopub.status.busy": "2020-12-27T12:26:44.734862Z",
     "iopub.status.idle": "2020-12-27T12:26:44.740709Z",
     "shell.execute_reply": "2020-12-27T12:26:44.741300Z"
    },
    "papermill": {
     "duration": 0.091216,
     "end_time": "2020-12-27T12:26:44.741507",
     "exception": false,
     "start_time": "2020-12-27T12:26:44.650291",
     "status": "completed"
    },
    "tags": []
   },
   "outputs": [
    {
     "data": {
      "text/plain": [
       "99271300"
      ]
     },
     "execution_count": 80,
     "metadata": {},
     "output_type": "execute_result"
    }
   ],
   "source": [
    "len(train_df)"
   ]
  },
  {
   "cell_type": "code",
   "execution_count": 81,
   "metadata": {
    "execution": {
     "iopub.execute_input": "2020-12-27T12:26:44.910515Z",
     "iopub.status.busy": "2020-12-27T12:26:44.909491Z",
     "iopub.status.idle": "2020-12-27T12:26:44.913463Z",
     "shell.execute_reply": "2020-12-27T12:26:44.913932Z"
    },
    "papermill": {
     "duration": 0.090529,
     "end_time": "2020-12-27T12:26:44.914110",
     "exception": false,
     "start_time": "2020-12-27T12:26:44.823581",
     "status": "completed"
    },
    "tags": []
   },
   "outputs": [],
   "source": [
    "#train_df.drop(columns=['content_type_id'], inplace=True)"
   ]
  },
  {
   "cell_type": "markdown",
   "metadata": {
    "papermill": {
     "duration": 0.083063,
     "end_time": "2020-12-27T12:26:45.083751",
     "exception": false,
     "start_time": "2020-12-27T12:26:45.000688",
     "status": "completed"
    },
    "tags": []
   },
   "source": [
    "# Train"
   ]
  },
  {
   "cell_type": "code",
   "execution_count": 82,
   "metadata": {
    "execution": {
     "iopub.execute_input": "2020-12-27T12:26:45.253507Z",
     "iopub.status.busy": "2020-12-27T12:26:45.252470Z",
     "iopub.status.idle": "2020-12-27T12:26:45.267512Z",
     "shell.execute_reply": "2020-12-27T12:26:45.268020Z"
    },
    "papermill": {
     "duration": 0.101253,
     "end_time": "2020-12-27T12:26:45.268183",
     "exception": false,
     "start_time": "2020-12-27T12:26:45.166930",
     "status": "completed"
    },
    "tags": []
   },
   "outputs": [],
   "source": [
    "features_dict = {\n",
    "    #'user_id',\n",
    "    'timestamp':'float16',#\n",
    "    'user_interaction_count':'int16',\n",
    "    'user_interaction_timestamp_mean':'float32',\n",
    "    'lagtime':'float32',#\n",
    "    'lagtime2':'float32',\n",
    "    'lagtime3':'float32',\n",
    "    #'lagtime_mean':'int32',\n",
    "    'content_id':'int16',\n",
    "    'task_container_id':'int16',\n",
    "    'user_lecture_sum':'int16',#\n",
    "    'user_lecture_lv':'float16',##\n",
    "    'prior_question_elapsed_time':'float32',#\n",
    "    'delta_prior_question_elapsed_time':'int32',#\n",
    "    'user_correctness':'float16',#\n",
    "    'user_uncorrect_count':'int16',#\n",
    "    'user_correct_count':'int16',#\n",
    "    #'content_correctness':'float16',\n",
    "    'content_correctness_std':'float16',\n",
    "    'content_correct_count':'int32',\n",
    "    'content_uncorrect_count':'int32',#\n",
    "    'content_elapsed_time_mean':'float16',\n",
    "    'content_had_explanation_mean':'float16',\n",
    "    'content_explation_false_mean':'float16',\n",
    "    'content_explation_true_mean':'float16',\n",
    "    'task_container_correctness':'float16',\n",
    "    'task_container_std':'float16',\n",
    "    'task_container_cor_count':'int32',#\n",
    "    'task_container_uncor_count':'int32',#\n",
    "    'attempt_no':'int8',#\n",
    "    'part':'int8',\n",
    "    'part_correctness_mean':'float16',\n",
    "    'part_correctness_std':'float16',\n",
    "    'part_uncor_count':'int32',\n",
    "    'part_cor_count':'int32',\n",
    "    'tags0': 'int8',\n",
    "    'tags1': 'int8',\n",
    "    'tags2': 'int8',\n",
    "    'tags3': 'int8',\n",
    "    'tags4': 'int8',\n",
    "    'tags5': 'int8',\n",
    "   # 'tags6': 'int8',\n",
    "   # 'tags7': 'int8',\n",
    "#     'tags0_correctness_mean':'float16',\n",
    "#     'tags1_correctness_mean':'float16',\n",
    "#     'tags2_correctness_mean':'float16',\n",
    "#     'tags4_correctness_mean':'float16',\n",
    "#     'bundle_id':'int16',\n",
    "#     'bundle_correctness_mean':'float16',\n",
    "#     'bundle_uncor_count':'int32',\n",
    "#     'bundle_cor_count':'int32',\n",
    "    'part_bundle_id':'int32',\n",
    "    'content_sub_bundle':'int8',\n",
    "    'prior_question_had_explanation':'int8',\n",
    "    'explanation_mean':'float16', #\n",
    "    #'explanation_var',#\n",
    "    'explanation_false_count':'int16',#\n",
    "    'explanation_true_count':'int16',#\n",
    "   # 'community':'int8',\n",
    "#     'part_1',\n",
    "#     'part_2',\n",
    "#     'part_3',\n",
    "#     'part_4',\n",
    "#     'part_5',\n",
    "#     'part_6',\n",
    "#     'part_7',\n",
    "#     'type_of_concept',\n",
    "#     'type_of_intention',\n",
    "#     'type_of_solving_question',\n",
    "#     'type_of_starter'\n",
    "}\n",
    "categorical_columns= [\n",
    "    #'user_id',\n",
    "    'content_id',\n",
    "    'task_container_id',\n",
    "    'part',\n",
    "   # 'community',\n",
    "    'tags0',\n",
    "    'tags1',\n",
    "    'tags2',\n",
    "    'tags3',\n",
    "    'tags4',\n",
    "    'tags5',\n",
    "    #'tags6',\n",
    "    #'tags7',\n",
    "    #'bundle_id',\n",
    "    'part_bundle_id',\n",
    "    'content_sub_bundle',\n",
    "    'prior_question_had_explanation', \n",
    "#     'part_1',\n",
    "#     'part_2',\n",
    "#     'part_3',\n",
    "#     'part_4',\n",
    "#     'part_5',\n",
    "#     'part_6',\n",
    "#     'part_7',\n",
    "#     'type_of_concept',\n",
    "#     'type_of_intention',\n",
    "#     'type_of_solving_question',\n",
    "#     'type_of_starter'\n",
    "]\n",
    "\n",
    "features=list(features_dict.keys())\n"
   ]
  },
  {
   "cell_type": "code",
   "execution_count": 83,
   "metadata": {
    "execution": {
     "iopub.execute_input": "2020-12-27T12:26:45.454039Z",
     "iopub.status.busy": "2020-12-27T12:26:45.453262Z",
     "iopub.status.idle": "2020-12-27T12:26:57.598562Z",
     "shell.execute_reply": "2020-12-27T12:26:57.599052Z"
    },
    "papermill": {
     "duration": 12.248636,
     "end_time": "2020-12-27T12:26:57.599214",
     "exception": false,
     "start_time": "2020-12-27T12:26:45.350578",
     "status": "completed"
    },
    "tags": []
   },
   "outputs": [
    {
     "name": "stdout",
     "output_type": "stream",
     "text": [
      "sample end\n",
      "pd.merge(train_df_clf, questions_df)\n",
      "valid_df\n",
      "train_df_clf length： 41386085\n",
      "valid_df length： 8613915\n"
     ]
    }
   ],
   "source": [
    "flag_lgbm=True\n",
    "clfs = list()\n",
    "params = {\n",
    "'num_leaves': 200,\n",
    "'max_bin':450,\n",
    "# 'min_child_weight': 0.03454472573214212,\n",
    "'feature_fraction': 0.52,\n",
    "'bagging_fraction': 0.52,\n",
    "#'min_data_in_leaf': 106,\n",
    "# 'max_depth': -1,\n",
    "'objective': 'binary',\n",
    "'learning_rate': 0.05,\n",
    "\"boosting_type\": \"gbdt\",\n",
    "\"metric\": 'auc',\n",
    "# \"bagging_seed\": 11,\n",
    "# \"verbosity\": -1,\n",
    "# 'reg_alpha': 0.3899927210061127,\n",
    "# 'reg_lambda': 0.6485237330340494,\n",
    "# 'random_state': 47\n",
    "}\n",
    "trains=list()\n",
    "valids=list()\n",
    "num=1\n",
    "for i in range(0,num):\n",
    "    \n",
    "    #train_df=train_df.reset_index(drop=True)\n",
    "    #train_df_clf=train_df.sample(n=1200*10000)\n",
    "    train_df_clf=train_df.sample(n=50000000)\n",
    "    #train_df_clf=train_df[1200*10000:2*1200*10000]\n",
    "    print('sample end')\n",
    "    #train_df.drop(train_df_clf.index, inplace=True)\n",
    "    #print('train_df drop end')\n",
    "    \n",
    "   \n",
    "    del train_df\n",
    "    \n",
    "    \n",
    "    users=train_df_clf['user_id'].drop_duplicates()#\n",
    "    #\n",
    "    users=users.sample(frac=0.08)\n",
    "    users_df=pd.DataFrame()\n",
    "    users_df['user_id']=users.values\n",
    "   \n",
    "   \n",
    "    valid_df_newuser = pd.merge(train_df_clf, users_df, on=['user_id'], how='inner',right_index=True)\n",
    "    del users_df\n",
    "    del users\n",
    "    gc.collect()\n",
    "    #\n",
    "    train_df_clf.drop(valid_df_newuser.index, inplace=True)\n",
    "    print('pd.merge(train_df_clf, questions_df)')\n",
    "    #-----------\n",
    "    #train_df_clf=train_df_clf.sample(frac=0.2)\n",
    "    #train_df_clf.drop(valid_df_newuser.index, inplace=True)\n",
    "    train_df_clf = pd.merge(train_df_clf, questions_df, on='content_id', how='left',right_index=True)#\n",
    "    valid_df_newuser = pd.merge(valid_df_newuser, questions_df, on='content_id', how='left',right_index=True)#\n",
    "    \n",
    "#     train_df_clf = pd.merge(train_df_clf, user_lecture_stats_part, on='user_id', how=\"left\",right_index=True)\n",
    "#     valid_df_newuser = pd.merge(valid_df_newuser, user_lecture_stats_part, on='user_id', how=\"left\",right_index=True)\n",
    "    print('valid_df')\n",
    "    valid_df=train_df_clf.sample(frac=0.1)\n",
    "    train_df_clf.drop(valid_df.index, inplace=True)\n",
    "    \n",
    "#     test_df=train_df_clf.sample(n=100*10000)\n",
    "#     train_df_clf.drop(test_df.index, inplace=True)\n",
    "   \n",
    "    valid_df = valid_df.append(valid_df_newuser)\n",
    "    del valid_df_newuser\n",
    "    gc.collect()\n",
    "    #\n",
    "\n",
    "    trains.append(train_df_clf)\n",
    "    valids.append(valid_df)\n",
    "    print('train_df_clf length：',len(train_df_clf))\n",
    "    print('valid_df length：',len(valid_df))\n",
    "    #train_df=train_df.reset_index(drop=True)"
   ]
  },
  {
   "cell_type": "code",
   "execution_count": 84,
   "metadata": {
    "execution": {
     "iopub.execute_input": "2020-12-27T12:26:57.853933Z",
     "iopub.status.busy": "2020-12-27T12:26:57.853145Z",
     "iopub.status.idle": "2020-12-27T12:26:57.857601Z",
     "shell.execute_reply": "2020-12-27T12:26:57.857077Z"
    },
    "papermill": {
     "duration": 0.170288,
     "end_time": "2020-12-27T12:26:57.857727",
     "exception": false,
     "start_time": "2020-12-27T12:26:57.687439",
     "status": "completed"
    },
    "tags": []
   },
   "outputs": [
    {
     "data": {
      "text/plain": [
       "23"
      ]
     },
     "execution_count": 84,
     "metadata": {},
     "output_type": "execute_result"
    }
   ],
   "source": [
    "#del train_df\n",
    "del train_df_clf\n",
    "del valid_df\n",
    "gc.collect()"
   ]
  },
  {
   "cell_type": "code",
   "execution_count": 85,
   "metadata": {
    "execution": {
     "iopub.execute_input": "2020-12-27T12:26:58.042849Z",
     "iopub.status.busy": "2020-12-27T12:26:58.042181Z",
     "iopub.status.idle": "2020-12-27T12:50:23.008297Z",
     "shell.execute_reply": "2020-12-27T12:50:23.009370Z"
    },
    "papermill": {
     "duration": 1405.068616,
     "end_time": "2020-12-27T12:50:23.010714",
     "exception": false,
     "start_time": "2020-12-27T12:26:57.942098",
     "status": "completed"
    },
    "tags": []
   },
   "outputs": [
    {
     "data": {
      "text/plain": [
       "'\\nfor i in range(0,num):\\n      \\n#     tr_data = lgb.Dataset(trains[i][features], label=trains[i][target])\\n#     va_data = lgb.Dataset(valids[i][features], label=valids[i][target])\\n\\n    #Don\\'t use DF to create lightgbm dataset, rather use np array:\\n    X_train_np = trains[i][features].values.astype(np.float32)\\n    X_valid_np = valids[i][features].values.astype(np.float32)\\n    #features = train.columns\\n    tr_data = lgb.Dataset(X_train_np, label=trains[i][target], feature_name=list(features))\\n    va_data = lgb.Dataset(X_valid_np, label=valids[i][target], feature_name=list(features))\\n    \\n\\n#     del train_df_clf\\n#     del valid_df\\n#     gc.collect()\\n    del trains\\n    del valids\\n    del X_train_np\\n    del X_valid_np\\n    gc.collect()\\n\\n    model = lgb.train(\\n        params, \\n        tr_data,\\n#         train_df[features],\\n#         train_df[target],\\n        num_boost_round=5000,\\n        #valid_sets=[(train_df[features],train_df[target]), (valid_df[features],valid_df[target])], \\n        valid_sets=[tr_data, va_data],\\n        early_stopping_rounds=50,\\n        feature_name=features,\\n        categorical_feature=categorical_columns,\\n        verbose_eval=50\\n    )\\n    clfs.append(model)\\n    #print(\\'test-auc:\\', roc_auc_score(test_df[target], model.predict(test_df[features])))\\n    #model.save_model(f\\'model.txt\\')\\n\\n\\n    fig,ax = plt.subplots(figsize=(15,15))\\n    lgb.plot_importance(model, ax=ax,importance_type=\\'gain\\',max_num_features=50)\\n    plt.show()\\n\\n    del tr_data\\n    del va_data\\n    gc.collect()\\n#    \\n# del trains\\n# del valids\\n# gc.collect()\\n# del test_df\\n# gc.collect()\\n\\nimport os\\ndir = os.path.join(\"..\",\"..\",\"input\",\"riiid-lgbm-sakt-fe-model\")\\nfor i in range(0,len(clfs)):\\n\\n    clfs[i].save_model(os.path.join(dir,\"lgbm-%02d.mdl\"%i))\\nr'"
      ]
     },
     "execution_count": 85,
     "metadata": {},
     "output_type": "execute_result"
    }
   ],
   "source": [
    "r\"\"\"\n",
    "for i in range(0,num):\n",
    "      \n",
    "#     tr_data = lgb.Dataset(trains[i][features], label=trains[i][target])\n",
    "#     va_data = lgb.Dataset(valids[i][features], label=valids[i][target])\n",
    "\n",
    "    #Don't use DF to create lightgbm dataset, rather use np array:\n",
    "    X_train_np = trains[i][features].values.astype(np.float32)\n",
    "    X_valid_np = valids[i][features].values.astype(np.float32)\n",
    "    #features = train.columns\n",
    "    tr_data = lgb.Dataset(X_train_np, label=trains[i][target], feature_name=list(features))\n",
    "    va_data = lgb.Dataset(X_valid_np, label=valids[i][target], feature_name=list(features))\n",
    "    \n",
    "\n",
    "#     del train_df_clf\n",
    "#     del valid_df\n",
    "#     gc.collect()\n",
    "    del trains\n",
    "    del valids\n",
    "    del X_train_np\n",
    "    del X_valid_np\n",
    "    gc.collect()\n",
    "\n",
    "    model = lgb.train(\n",
    "        params, \n",
    "        tr_data,\n",
    "#         train_df[features],\n",
    "#         train_df[target],\n",
    "        num_boost_round=5000,\n",
    "        #valid_sets=[(train_df[features],train_df[target]), (valid_df[features],valid_df[target])], \n",
    "        valid_sets=[tr_data, va_data],\n",
    "        early_stopping_rounds=50,\n",
    "        feature_name=features,\n",
    "        categorical_feature=categorical_columns,\n",
    "        verbose_eval=50\n",
    "    )\n",
    "    clfs.append(model)\n",
    "    #print('test-auc:', roc_auc_score(test_df[target], model.predict(test_df[features])))\n",
    "    #model.save_model(f'model.txt')\n",
    "\n",
    "\n",
    "    fig,ax = plt.subplots(figsize=(15,15))\n",
    "    lgb.plot_importance(model, ax=ax,importance_type='gain',max_num_features=50)\n",
    "    plt.show()\n",
    "\n",
    "    del tr_data\n",
    "    del va_data\n",
    "    gc.collect()\n",
    "#    \n",
    "# del trains\n",
    "# del valids\n",
    "# gc.collect()\n",
    "# del test_df\n",
    "# gc.collect()\n",
    "\n",
    "import os\n",
    "dir = os.path.join(\"..\",\"..\",\"input\",\"riiid-lgbm-sakt-fe-model\")\n",
    "for i in range(0,len(clfs)):\n",
    "\n",
    "    clfs[i].save_model(os.path.join(dir,\"lgbm-%02d.mdl\"%i))\n",
    "r\"\"\""
   ]
  },
  {
   "cell_type": "code",
   "execution_count": 86,
   "metadata": {},
   "outputs": [],
   "source": [
    "import os\n",
    "import glob\n",
    "\n",
    "dir = os.path.join(\"..\",\"..\",\"input\",\"riiid-lgbm-sakt-fe-model\")\n",
    "models = glob.glob(os.path.join(dir,\"lgbm-*.mdl\"))\n",
    "num = len(models)\n",
    "\n",
    "clfs = list()\n",
    "for i in range(0,num):\n",
    "    model = lgb.Booster(model_file=models[i])\n",
    "    clfs.append(model)"
   ]
  },
  {
   "cell_type": "code",
   "execution_count": 87,
   "metadata": {
    "execution": {
     "iopub.execute_input": "2020-12-27T12:50:23.212521Z",
     "iopub.status.busy": "2020-12-27T12:50:23.206888Z",
     "iopub.status.idle": "2020-12-27T12:50:40.519617Z",
     "shell.execute_reply": "2020-12-27T12:50:40.520191Z"
    },
    "papermill": {
     "duration": 17.415609,
     "end_time": "2020-12-27T12:50:40.520384",
     "exception": false,
     "start_time": "2020-12-27T12:50:23.104775",
     "status": "completed"
    },
    "tags": []
   },
   "outputs": [
    {
     "ename": "FileNotFoundError",
     "evalue": "[Errno 2] No such file or directory: '/kaggle/input/riiid-sakt-model-dataset-public/skills.pkl.zip'",
     "output_type": "error",
     "traceback": [
      "\u001b[1;31m---------------------------------------------------------------------------\u001b[0m",
      "\u001b[1;31mFileNotFoundError\u001b[0m                         Traceback (most recent call last)",
      "\u001b[1;32m<ipython-input-87-d038c2eccab0>\u001b[0m in \u001b[0;36m<module>\u001b[1;34m\u001b[0m\n\u001b[0;32m     69\u001b[0m \u001b[1;33m\u001b[0m\u001b[0m\n\u001b[0;32m     70\u001b[0m \u001b[1;33m\u001b[0m\u001b[0m\n\u001b[1;32m---> 71\u001b[1;33m \u001b[0mskills\u001b[0m \u001b[1;33m=\u001b[0m \u001b[0mjoblib\u001b[0m\u001b[1;33m.\u001b[0m\u001b[0mload\u001b[0m\u001b[1;33m(\u001b[0m\u001b[1;34m\"/kaggle/input/riiid-sakt-model-dataset-public/skills.pkl.zip\"\u001b[0m\u001b[1;33m)\u001b[0m\u001b[1;33m\u001b[0m\u001b[1;33m\u001b[0m\u001b[0m\n\u001b[0m\u001b[0;32m     72\u001b[0m \u001b[0mn_skill\u001b[0m \u001b[1;33m=\u001b[0m \u001b[0mlen\u001b[0m\u001b[1;33m(\u001b[0m\u001b[0mskills\u001b[0m\u001b[1;33m)\u001b[0m\u001b[1;33m\u001b[0m\u001b[1;33m\u001b[0m\u001b[0m\n\u001b[0;32m     73\u001b[0m \u001b[0mgroup\u001b[0m \u001b[1;33m=\u001b[0m \u001b[0mjoblib\u001b[0m\u001b[1;33m.\u001b[0m\u001b[0mload\u001b[0m\u001b[1;33m(\u001b[0m\u001b[1;34m\"/kaggle/input/riiid-sakt-model-dataset-public/group.pkl.zip\"\u001b[0m\u001b[1;33m)\u001b[0m\u001b[1;33m\u001b[0m\u001b[1;33m\u001b[0m\u001b[0m\n",
      "\u001b[1;32m~\\Anaconda3\\lib\\site-packages\\joblib\\numpy_pickle.py\u001b[0m in \u001b[0;36mload\u001b[1;34m(filename, mmap_mode)\u001b[0m\n\u001b[0;32m    588\u001b[0m             \u001b[0mobj\u001b[0m \u001b[1;33m=\u001b[0m \u001b[0m_unpickle\u001b[0m\u001b[1;33m(\u001b[0m\u001b[0mfobj\u001b[0m\u001b[1;33m)\u001b[0m\u001b[1;33m\u001b[0m\u001b[1;33m\u001b[0m\u001b[0m\n\u001b[0;32m    589\u001b[0m     \u001b[1;32melse\u001b[0m\u001b[1;33m:\u001b[0m\u001b[1;33m\u001b[0m\u001b[1;33m\u001b[0m\u001b[0m\n\u001b[1;32m--> 590\u001b[1;33m         \u001b[1;32mwith\u001b[0m \u001b[0mopen\u001b[0m\u001b[1;33m(\u001b[0m\u001b[0mfilename\u001b[0m\u001b[1;33m,\u001b[0m \u001b[1;34m'rb'\u001b[0m\u001b[1;33m)\u001b[0m \u001b[1;32mas\u001b[0m \u001b[0mf\u001b[0m\u001b[1;33m:\u001b[0m\u001b[1;33m\u001b[0m\u001b[1;33m\u001b[0m\u001b[0m\n\u001b[0m\u001b[0;32m    591\u001b[0m             \u001b[1;32mwith\u001b[0m \u001b[0m_read_fileobject\u001b[0m\u001b[1;33m(\u001b[0m\u001b[0mf\u001b[0m\u001b[1;33m,\u001b[0m \u001b[0mfilename\u001b[0m\u001b[1;33m,\u001b[0m \u001b[0mmmap_mode\u001b[0m\u001b[1;33m)\u001b[0m \u001b[1;32mas\u001b[0m \u001b[0mfobj\u001b[0m\u001b[1;33m:\u001b[0m\u001b[1;33m\u001b[0m\u001b[1;33m\u001b[0m\u001b[0m\n\u001b[0;32m    592\u001b[0m                 \u001b[1;32mif\u001b[0m \u001b[0misinstance\u001b[0m\u001b[1;33m(\u001b[0m\u001b[0mfobj\u001b[0m\u001b[1;33m,\u001b[0m \u001b[0m_basestring\u001b[0m\u001b[1;33m)\u001b[0m\u001b[1;33m:\u001b[0m\u001b[1;33m\u001b[0m\u001b[1;33m\u001b[0m\u001b[0m\n",
      "\u001b[1;31mFileNotFoundError\u001b[0m: [Errno 2] No such file or directory: '/kaggle/input/riiid-sakt-model-dataset-public/skills.pkl.zip'"
     ]
    }
   ],
   "source": [
    "import torch\n",
    "import torch.nn as nn\n",
    "from torch.utils.data import Dataset, DataLoader\n",
    "\n",
    "\n",
    "MAX_SEQ = 100\n",
    "\n",
    "class FFN(nn.Module):\n",
    "    def __init__(self, state_size=200):\n",
    "        super(FFN, self).__init__()\n",
    "        self.state_size = state_size\n",
    "\n",
    "        self.lr1 = nn.Linear(state_size, state_size)\n",
    "        self.relu = nn.ReLU()\n",
    "        self.lr2 = nn.Linear(state_size, state_size)\n",
    "        self.dropout = nn.Dropout(0.2)\n",
    "    \n",
    "    def forward(self, x):\n",
    "        x = self.lr1(x)\n",
    "        x = self.relu(x)\n",
    "        x = self.lr2(x)\n",
    "        return self.dropout(x)\n",
    "\n",
    "def future_mask(seq_length):\n",
    "    future_mask = np.triu(np.ones((seq_length, seq_length)), k=1).astype('bool')\n",
    "    return torch.from_numpy(future_mask)\n",
    "\n",
    "\n",
    "class SAKTModel(nn.Module):\n",
    "    def __init__(self, n_skill, max_seq=MAX_SEQ, embed_dim=128):\n",
    "        super(SAKTModel, self).__init__()\n",
    "        self.n_skill = n_skill\n",
    "        self.embed_dim = embed_dim\n",
    "\n",
    "        self.embedding = nn.Embedding(2*n_skill+1, embed_dim)\n",
    "        self.pos_embedding = nn.Embedding(max_seq-1, embed_dim)\n",
    "        self.e_embedding = nn.Embedding(n_skill+1, embed_dim)\n",
    "\n",
    "        self.multi_att = nn.MultiheadAttention(embed_dim=embed_dim, num_heads=8, dropout=0.2)\n",
    "\n",
    "        self.dropout = nn.Dropout(0.2)\n",
    "        self.layer_normal = nn.LayerNorm(embed_dim) \n",
    "\n",
    "        self.ffn = FFN(embed_dim)\n",
    "        self.pred = nn.Linear(embed_dim, 1)\n",
    "    \n",
    "    def forward(self, x, question_ids):\n",
    "        device = x.device        \n",
    "        x = self.embedding(x)\n",
    "        pos_id = torch.arange(x.size(1)).unsqueeze(0).to(device)\n",
    "\n",
    "        pos_x = self.pos_embedding(pos_id)\n",
    "        x = x + pos_x\n",
    "\n",
    "        e = self.e_embedding(question_ids)\n",
    "\n",
    "        x = x.permute(1, 0, 2) # x: [bs, s_len, embed] => [s_len, bs, embed]\n",
    "        e = e.permute(1, 0, 2)\n",
    "        att_mask = future_mask(x.size(0)).to(device)\n",
    "        att_output, att_weight = self.multi_att(e, x, x, attn_mask=att_mask)\n",
    "        att_output = self.layer_normal(att_output + e)\n",
    "        att_output = att_output.permute(1, 0, 2) # att_output: [s_len, bs, embed] => [bs, s_len, embed]\n",
    "\n",
    "        x = self.ffn(att_output)\n",
    "        x = self.layer_normal(x + att_output)\n",
    "        x = self.pred(x)\n",
    "\n",
    "        return x.squeeze(-1), att_weight\n",
    "    \n",
    "    \n",
    "skills = joblib.load(\"/kaggle/input/riiid-sakt-model-dataset-public/skills.pkl.zip\")\n",
    "n_skill = len(skills)\n",
    "group = joblib.load(\"/kaggle/input/riiid-sakt-model-dataset-public/group.pkl.zip\")\n",
    "\n",
    "\n",
    "device = torch.device(\"cuda\" if torch.cuda.is_available() else \"cpu\")\n",
    "\n",
    "nn_model = SAKTModel(n_skill, embed_dim=128)\n",
    "try:\n",
    "    nn_model.load_state_dict(torch.load(\"/kaggle/input/riiid-sakt-model-dataset-public/sakt_model.pt\"))\n",
    "except:\n",
    "    nn_model.load_state_dict(torch.load(\"/kaggle/input/riiid-sakt-model-dataset-public/sakt_model.pt\", map_location='cpu'))\n",
    "nn_model.to(device)\n",
    "nn_model.eval()\n",
    "\n"
   ]
  },
  {
   "cell_type": "markdown",
   "metadata": {
    "papermill": {
     "duration": 0.095126,
     "end_time": "2020-12-27T12:50:40.711105",
     "exception": false,
     "start_time": "2020-12-27T12:50:40.615979",
     "status": "completed"
    },
    "tags": []
   },
   "source": [
    "# Inference"
   ]
  },
  {
   "cell_type": "code",
   "execution_count": null,
   "metadata": {
    "execution": {
     "iopub.execute_input": "2020-12-27T12:50:40.922863Z",
     "iopub.status.busy": "2020-12-27T12:50:40.921875Z",
     "iopub.status.idle": "2020-12-27T12:50:40.925566Z",
     "shell.execute_reply": "2020-12-27T12:50:40.924943Z"
    },
    "papermill": {
     "duration": 0.114799,
     "end_time": "2020-12-27T12:50:40.925683",
     "exception": false,
     "start_time": "2020-12-27T12:50:40.810884",
     "status": "completed"
    },
    "tags": []
   },
   "outputs": [],
   "source": [
    "class TestDataset(Dataset):\n",
    "    def __init__(self, samples, test_df, skills, max_seq=MAX_SEQ): \n",
    "        super(TestDataset, self).__init__()\n",
    "        self.samples = samples\n",
    "        self.user_ids = [x for x in test_df[\"user_id\"].unique()]\n",
    "        self.test_df = test_df\n",
    "        self.skills = skills\n",
    "        self.n_skill = len(skills)\n",
    "        self.max_seq = max_seq\n",
    "\n",
    "    def __len__(self):\n",
    "        return self.test_df.shape[0]\n",
    "\n",
    "    def __getitem__(self, index):\n",
    "        test_info = self.test_df.iloc[index]\n",
    "\n",
    "        user_id = test_info[\"user_id\"]\n",
    "        target_id = test_info[\"content_id\"]\n",
    "\n",
    "        q = np.zeros(self.max_seq, dtype=int)\n",
    "        qa = np.zeros(self.max_seq, dtype=int)\n",
    "\n",
    "        if user_id in self.samples.index:\n",
    "            q_, qa_ = self.samples[user_id]\n",
    "            \n",
    "            seq_len = len(q_)\n",
    "\n",
    "            if seq_len >= self.max_seq:\n",
    "                q = q_[-self.max_seq:]\n",
    "                qa = qa_[-self.max_seq:]\n",
    "            else:\n",
    "                q[-seq_len:] = q_\n",
    "                qa[-seq_len:] = qa_          \n",
    "        \n",
    "        x = np.zeros(self.max_seq-1, dtype=int)\n",
    "        x = q[1:].copy()\n",
    "        x += (qa[1:] == 1) * self.n_skill\n",
    "        \n",
    "        questions = np.append(q[2:], [target_id])\n",
    "        \n",
    "        return x, questions"
   ]
  },
  {
   "cell_type": "code",
   "execution_count": null,
   "metadata": {
    "execution": {
     "iopub.execute_input": "2020-12-27T12:50:41.332975Z",
     "iopub.status.busy": "2020-12-27T12:50:41.119682Z",
     "iopub.status.idle": "2020-12-27T12:50:41.555180Z",
     "shell.execute_reply": "2020-12-27T12:50:41.554520Z"
    },
    "papermill": {
     "duration": 0.536169,
     "end_time": "2020-12-27T12:50:41.555310",
     "exception": false,
     "start_time": "2020-12-27T12:50:41.019141",
     "status": "completed"
    },
    "tags": []
   },
   "outputs": [],
   "source": [
    "user_sum_dict = user_agg['sum'].astype('int16').to_dict(defaultdict(int))\n",
    "user_count_dict = user_agg['count'].astype('int16').to_dict(defaultdict(int))\n",
    "# user_sum_dict2 = user_agg2['sum'].astype('int16').to_dict(defaultdict(int))\n",
    "# user_count_dict2 = user_agg2['count'].astype('int16').to_dict(defaultdict(int))"
   ]
  },
  {
   "cell_type": "code",
   "execution_count": null,
   "metadata": {
    "execution": {
     "iopub.execute_input": "2020-12-27T12:50:41.745768Z",
     "iopub.status.busy": "2020-12-27T12:50:41.744713Z",
     "iopub.status.idle": "2020-12-27T12:50:42.425781Z",
     "shell.execute_reply": "2020-12-27T12:50:42.426729Z"
    },
    "papermill": {
     "duration": 0.779257,
     "end_time": "2020-12-27T12:50:42.426913",
     "exception": false,
     "start_time": "2020-12-27T12:50:41.647656",
     "status": "completed"
    },
    "tags": []
   },
   "outputs": [],
   "source": [
    "#user_var_dict = user_agg['var'].astype('float16').to_dict(defaultdict(int))\n",
    "\n",
    "# content_sum_dict = content_agg['sum'].astype('int32').to_dict(defaultdict(int))\n",
    "# content_count_dict = content_agg['count'].astype('int32').to_dict(defaultdict(int))\n",
    "\n",
    "del user_agg\n",
    "#del user_agg2\n",
    "#del content_agg\n",
    "gc.collect()\n",
    "\n",
    "task_container_sum_dict = task_container_agg['sum'].astype('int32').to_dict(defaultdict(int))\n",
    "task_container_count_dict = task_container_agg['count'].astype('int32').to_dict(defaultdict(int))\n",
    "task_container_std_dict = task_container_agg['var'].astype('float16').to_dict(defaultdict(int))\n",
    "\n",
    "explanation_sum_dict = explanation_agg['sum'].astype('int16').to_dict(defaultdict(int))\n",
    "explanation_count_dict = explanation_agg['count'].astype('int16').to_dict(defaultdict(int))\n",
    "#explanation_var_dict = explanation_agg['var'].astype('float16').to_dict(defaultdict(int))\n",
    "del task_container_agg\n",
    "del explanation_agg\n",
    "gc.collect()"
   ]
  },
  {
   "cell_type": "code",
   "execution_count": null,
   "metadata": {
    "execution": {
     "iopub.execute_input": "2020-12-27T12:50:42.619527Z",
     "iopub.status.busy": "2020-12-27T12:50:42.618460Z",
     "iopub.status.idle": "2020-12-27T12:50:42.623635Z",
     "shell.execute_reply": "2020-12-27T12:50:42.623026Z"
    },
    "papermill": {
     "duration": 0.102184,
     "end_time": "2020-12-27T12:50:42.623759",
     "exception": false,
     "start_time": "2020-12-27T12:50:42.521575",
     "status": "completed"
    },
    "tags": []
   },
   "outputs": [],
   "source": [
    "#task_container_std_dict"
   ]
  },
  {
   "cell_type": "code",
   "execution_count": null,
   "metadata": {
    "execution": {
     "iopub.execute_input": "2020-12-27T12:50:42.815693Z",
     "iopub.status.busy": "2020-12-27T12:50:42.814670Z",
     "iopub.status.idle": "2020-12-27T12:50:43.384017Z",
     "shell.execute_reply": "2020-12-27T12:50:43.383338Z"
    },
    "papermill": {
     "duration": 0.666503,
     "end_time": "2020-12-27T12:50:43.384219",
     "exception": false,
     "start_time": "2020-12-27T12:50:42.717716",
     "status": "completed"
    },
    "tags": []
   },
   "outputs": [],
   "source": [
    "user_lecture_sum_dict = user_lecture_agg['sum'].astype('int16').to_dict(defaultdict(int))\n",
    "user_lecture_count_dict = user_lecture_agg['count'].astype('int16').to_dict(defaultdict(int))\n",
    "\n",
    "#lagtime_mean_dict = lagtime_agg['mean'].astype('int32').to_dict(defaultdict(int))\n",
    "#del prior_question_elapsed_time_agg\n",
    "del user_lecture_agg\n",
    "#del lagtime_agg\n",
    "gc.collect()"
   ]
  },
  {
   "cell_type": "code",
   "execution_count": null,
   "metadata": {
    "execution": {
     "iopub.execute_input": "2020-12-27T12:50:43.580517Z",
     "iopub.status.busy": "2020-12-27T12:50:43.579210Z",
     "iopub.status.idle": "2020-12-27T12:50:44.613247Z",
     "shell.execute_reply": "2020-12-27T12:50:44.612573Z"
    },
    "papermill": {
     "duration": 1.13552,
     "end_time": "2020-12-27T12:50:44.613385",
     "exception": false,
     "start_time": "2020-12-27T12:50:43.477865",
     "status": "completed"
    },
    "tags": []
   },
   "outputs": [],
   "source": [
    "max_timestamp_u_dict=max_timestamp_u.set_index('user_id').to_dict()\n",
    "max_timestamp_u_dict2=max_timestamp_u2.set_index('user_id').to_dict()\n",
    "max_timestamp_u_dict3=max_timestamp_u3.set_index('user_id').to_dict()\n",
    "user_prior_question_elapsed_time_dict=user_prior_question_elapsed_time.set_index('user_id').to_dict()\n",
    "#del question_elapsed_time_agg\n",
    "del max_timestamp_u\n",
    "del max_timestamp_u2\n",
    "del max_timestamp_u3\n",
    "del user_prior_question_elapsed_time\n",
    "gc.collect()"
   ]
  },
  {
   "cell_type": "code",
   "execution_count": null,
   "metadata": {
    "execution": {
     "iopub.execute_input": "2020-12-27T12:50:44.811915Z",
     "iopub.status.busy": "2020-12-27T12:50:44.810842Z",
     "iopub.status.idle": "2020-12-27T12:51:03.120273Z",
     "shell.execute_reply": "2020-12-27T12:51:03.119707Z"
    },
    "papermill": {
     "duration": 18.4114,
     "end_time": "2020-12-27T12:51:03.120430",
     "exception": false,
     "start_time": "2020-12-27T12:50:44.709030",
     "status": "completed"
    },
    "tags": []
   },
   "outputs": [],
   "source": [
    "attempt_no_sum_dict = attempt_no_agg['sum'].to_dict(defaultdict(int))\n",
    "\n",
    "del attempt_no_agg\n",
    "gc.collect()"
   ]
  },
  {
   "cell_type": "code",
   "execution_count": null,
   "metadata": {
    "execution": {
     "iopub.execute_input": "2020-12-27T12:51:03.326375Z",
     "iopub.status.busy": "2020-12-27T12:51:03.325345Z",
     "iopub.status.idle": "2020-12-27T12:51:03.328433Z",
     "shell.execute_reply": "2020-12-27T12:51:03.328958Z"
    },
    "papermill": {
     "duration": 0.109581,
     "end_time": "2020-12-27T12:51:03.329111",
     "exception": false,
     "start_time": "2020-12-27T12:51:03.219530",
     "status": "completed"
    },
    "tags": []
   },
   "outputs": [],
   "source": [
    "def get_max_attempt(user_id,content_id):\n",
    "    k = (user_id,content_id)\n",
    "\n",
    "    if k in attempt_no_sum_dict.keys():\n",
    "        attempt_no_sum_dict[k]+=1\n",
    "        return attempt_no_sum_dict[k]\n",
    "\n",
    "    attempt_no_sum_dict[k] = 1\n",
    "    return attempt_no_sum_dict[k]"
   ]
  },
  {
   "cell_type": "code",
   "execution_count": null,
   "metadata": {
    "execution": {
     "iopub.execute_input": "2020-12-27T12:51:03.529166Z",
     "iopub.status.busy": "2020-12-27T12:51:03.528035Z",
     "iopub.status.idle": "2020-12-27T12:51:03.531228Z",
     "shell.execute_reply": "2020-12-27T12:51:03.531904Z"
    },
    "papermill": {
     "duration": 0.10715,
     "end_time": "2020-12-27T12:51:03.532071",
     "exception": false,
     "start_time": "2020-12-27T12:51:03.424921",
     "status": "completed"
    },
    "tags": []
   },
   "outputs": [],
   "source": [
    "# def get_max_attempt(user_id,content_id):\n",
    "#     global  attempt_no_agg\n",
    "#     #k = (user_id,content_id)\n",
    "#     if(len(attempt_no_agg[(attempt_no_agg['user_id']==user_id) & (attempt_no_agg['content_id'] ==content_id)])==1):\n",
    "#     #if k in attempt_no_sum_dict.keys():\n",
    "#         x= attempt_no_agg.loc[(attempt_no_agg['user_id']==user_id) & (attempt_no_agg['content_id'] ==content_id),'sum'].values \n",
    "#         attempt_no_agg.loc[(attempt_no_agg['user_id']==user_id) & (attempt_no_agg['content_id'] ==content_id),'sum']=x+1\n",
    "#         return x+1\n",
    "    \n",
    "#     attempt_no_agg = attempt_no_agg.append([{'user_id':user_id,'content_id':content_id,'sum':1}], ignore_index=True)\n",
    "#     return 1"
   ]
  },
  {
   "cell_type": "code",
   "execution_count": null,
   "metadata": {
    "execution": {
     "iopub.execute_input": "2020-12-27T12:51:03.744330Z",
     "iopub.status.busy": "2020-12-27T12:51:03.743402Z",
     "iopub.status.idle": "2020-12-27T12:51:03.745922Z",
     "shell.execute_reply": "2020-12-27T12:51:03.746456Z"
    },
    "papermill": {
     "duration": 0.114836,
     "end_time": "2020-12-27T12:51:03.746603",
     "exception": false,
     "start_time": "2020-12-27T12:51:03.631767",
     "status": "completed"
    },
    "tags": []
   },
   "outputs": [],
   "source": [
    "# model = lgb.Booster(model_file='../input/riiid-lgbm-starter/model.txt')\n",
    "env = riiideducation.make_env()"
   ]
  },
  {
   "cell_type": "code",
   "execution_count": null,
   "metadata": {
    "execution": {
     "iopub.execute_input": "2020-12-27T12:51:03.941767Z",
     "iopub.status.busy": "2020-12-27T12:51:03.941042Z",
     "iopub.status.idle": "2020-12-27T12:51:03.945615Z",
     "shell.execute_reply": "2020-12-27T12:51:03.946183Z"
    },
    "papermill": {
     "duration": 0.104632,
     "end_time": "2020-12-27T12:51:03.946337",
     "exception": false,
     "start_time": "2020-12-27T12:51:03.841705",
     "status": "completed"
    },
    "tags": []
   },
   "outputs": [],
   "source": [
    "iter_test = env.iter_test()\n",
    "prior_test_df = None\n",
    "prev_test_df1 = None"
   ]
  },
  {
   "cell_type": "code",
   "execution_count": null,
   "metadata": {
    "execution": {
     "iopub.execute_input": "2020-12-27T12:51:04.147416Z",
     "iopub.status.busy": "2020-12-27T12:51:04.146406Z",
     "iopub.status.idle": "2020-12-27T12:51:04.149910Z",
     "shell.execute_reply": "2020-12-27T12:51:04.149250Z"
    },
    "papermill": {
     "duration": 0.105152,
     "end_time": "2020-12-27T12:51:04.150034",
     "exception": false,
     "start_time": "2020-12-27T12:51:04.044882",
     "status": "completed"
    },
    "tags": []
   },
   "outputs": [],
   "source": [
    "N=[0.4,0.6]"
   ]
  },
  {
   "cell_type": "code",
   "execution_count": null,
   "metadata": {
    "execution": {
     "iopub.execute_input": "2020-12-27T12:51:04.369902Z",
     "iopub.status.busy": "2020-12-27T12:51:04.364644Z",
     "iopub.status.idle": "2020-12-27T12:51:05.525065Z",
     "shell.execute_reply": "2020-12-27T12:51:05.526246Z"
    },
    "papermill": {
     "duration": 1.279139,
     "end_time": "2020-12-27T12:51:05.526472",
     "exception": false,
     "start_time": "2020-12-27T12:51:04.247333",
     "status": "completed"
    },
    "tags": []
   },
   "outputs": [],
   "source": [
    "%%time\n",
    "\n",
    "for (test_df, sample_prediction_df) in iter_test:\n",
    "    test_df1=test_df.copy()\n",
    "    if (prev_test_df1 is not None):\n",
    "        prev_test_df1['answered_correctly'] = eval(test_df1['prior_group_answers_correct'].iloc[0])\n",
    "        prev_test_df1 = prev_test_df1[prev_test_df1.content_type_id == False]\n",
    "        \n",
    "        prev_group = prev_test_df1[['user_id', 'content_id', 'answered_correctly']].groupby('user_id').apply(lambda r: (\n",
    "            r['content_id'].values,\n",
    "            r['answered_correctly'].values))\n",
    "        for prev_user_id in prev_group.index:\n",
    "            if prev_user_id in group.index:\n",
    "                group[prev_user_id] = (\n",
    "                    np.append(group[prev_user_id][0], prev_group[prev_user_id][0])[-MAX_SEQ:], \n",
    "                    np.append(group[prev_user_id][1], prev_group[prev_user_id][1])[-MAX_SEQ:]\n",
    "                )\n",
    " \n",
    "            else:\n",
    "                group[prev_user_id] = (\n",
    "                    prev_group[prev_user_id][0], \n",
    "                    prev_group[prev_user_id][1]\n",
    "                )\n",
    "\n",
    "    prev_test_df1 = test_df1.copy()\n",
    "    \n",
    "    test_df1 = test_df1[test_df1.content_type_id == False]\n",
    "    test_dataset = TestDataset(group, test_df1, skills)\n",
    "    test_dataloader = DataLoader(test_dataset, batch_size=51200, shuffle=False)\n",
    "    \n",
    "    outs = []\n",
    "\n",
    "    for item in test_dataloader:\n",
    "        x = item[0].to(device).long()\n",
    "        target_id = item[1].to(device).long()\n",
    "        with torch.no_grad():\n",
    "            output, att_weight = nn_model(x, target_id)\n",
    "        outs.extend(torch.sigmoid(output)[:, -1].view(-1).data.cpu().numpy())\n",
    "        \n",
    "    #test_df1['answered_correctly'] = outs\n",
    "    \n",
    "    \n",
    "    \n",
    "    \n",
    "    ###for lgb\n",
    "    if prior_test_df is not None:\n",
    "        prior_test_df[target] = eval(test_df['prior_group_answers_correct'].iloc[0])\n",
    "        prior_test_df = prior_test_df[prior_test_df[target] != -1].reset_index(drop=True)\n",
    "        #prior_test_df = prior_test_df[prior_test_df[target] != -1]\n",
    "        prior_test_df['prior_question_had_explanation'].fillna(False, inplace=True)       \n",
    "        prior_test_df.prior_question_had_explanation=prior_test_df.prior_question_had_explanation.astype('int8')\n",
    "    \n",
    "        user_ids = prior_test_df['user_id'].values\n",
    "        #content_ids = prior_test_df['content_id'].values\n",
    "        #task_container_ids = prior_test_df['task_container_id'].values\n",
    "        #prior_question_had_explanations = prior_test_df['prior_question_had_explanation'].values\n",
    "        targets = prior_test_df[target].values        \n",
    "        \n",
    "        for user_id, answered_correctly in zip(user_ids,targets):\n",
    "            user_sum_dict[user_id] += answered_correctly\n",
    "            user_count_dict[user_id] += 1\n",
    "#             user_sum_dict2[user_id] += answered_correctly\n",
    "#             user_count_dict2[user_id] += 1   \n",
    "            \n",
    "\n",
    "    prior_test_df = test_df.copy() \n",
    "        \n",
    "    \n",
    "    question_len=len( test_df[test_df['content_type_id'] == 0])\n",
    "    test_df['prior_question_had_explanation'].fillna(False, inplace=True)\n",
    "    test_df.prior_question_had_explanation=test_df.prior_question_had_explanation.astype('int8')\n",
    "    test_df['prior_question_elapsed_time'].fillna(prior_question_elapsed_time_mean, inplace=True)\n",
    "    \n",
    "\n",
    "    user_lecture_sum = np.zeros(question_len, dtype=np.int16)\n",
    "    user_lecture_count = np.zeros(question_len, dtype=np.int16) \n",
    "    \n",
    "    user_sum = np.zeros(question_len, dtype=np.int16)\n",
    "    user_count = np.zeros(question_len, dtype=np.int16)\n",
    "#     user_sum2 = np.zeros(question_len, dtype=np.int16)\n",
    "#     user_count2 = np.zeros(question_len, dtype=np.int16)\n",
    "\n",
    "#     user_sum_dict_test=defaultdict(int)\n",
    "#     user_count_dict_test=defaultdict(int)\n",
    "\n",
    "    task_container_sum = np.zeros(question_len, dtype=np.int32)\n",
    "    task_container_count = np.zeros(question_len, dtype=np.int32)\n",
    "    task_container_std = np.zeros(question_len, dtype=np.float16)\n",
    "\n",
    "    explanation_sum = np.zeros(question_len, dtype=np.int32)\n",
    "    explanation_count = np.zeros(question_len, dtype=np.int32)\n",
    "    delta_prior_question_elapsed_time = np.zeros(question_len, dtype=np.int32)\n",
    "\n",
    "    attempt_no_count = np.zeros(question_len, dtype=np.int16)\n",
    "    lagtime = np.zeros(question_len, dtype=np.float32)\n",
    "    lagtime2 = np.zeros(question_len, dtype=np.float32)\n",
    "    lagtime3 = np.zeros(question_len, dtype=np.float32)\n",
    "    #lagtime_means = np.zeros(question_len, dtype=np.int32)\n",
    "    #\n",
    "   \n",
    "    i=0\n",
    "    for j, (user_id,prior_question_had_explanation,content_type_id,prior_question_elapsed_time,timestamp, content_id,task_container_id) in enumerate(zip(test_df['user_id'].values,test_df['prior_question_had_explanation'].values,test_df['content_type_id'].values,test_df['prior_question_elapsed_time'].values,test_df['timestamp'].values, test_df['content_id'].values, test_df['task_container_id'].values)):\n",
    "        \n",
    "         #\n",
    "        user_lecture_sum_dict[user_id] += content_type_id\n",
    "        user_lecture_count_dict[user_id] += 1\n",
    "        if(content_type_id==1):#\n",
    "            x=1\n",
    "#             if(len(user_lecture_stats_part[user_lecture_stats_part.user_id==user_id])==0):\n",
    "#                 user_lecture_stats_part = user_lecture_stats_part.append([{'user_id':user_id}], ignore_index=True)\n",
    "#                 user_lecture_stats_part.fillna(0, inplace=True)\n",
    "#                 user_lecture_stats_part.loc[user_lecture_stats_part.user_id==user_id,part_lectures_columns + types_of_lectures_columns]+=lectures_df[lectures_df.lecture_id==content_id][part_lectures_columns + types_of_lectures_columns].values\n",
    "#             else:\n",
    "#                 user_lecture_stats_part.loc[user_lecture_stats_part.user_id==user_id,part_lectures_columns + types_of_lectures_columns]+=lectures_df[lectures_df.lecture_id==content_id][part_lectures_columns + types_of_lectures_columns].values\n",
    "        if(content_type_id==0):#   \n",
    "            user_lecture_sum[i] = user_lecture_sum_dict[user_id]\n",
    "            user_lecture_count[i] = user_lecture_count_dict[user_id]\n",
    "                \n",
    "            user_sum[i] = user_sum_dict[user_id]\n",
    "            user_count[i] = user_count_dict[user_id]\n",
    "#             user_sum2[i] = user_sum_dict2[user_id]\n",
    "#             user_count2[i] = user_count_dict2[user_id]\n",
    "    #         content_sum[i] = content_sum_dict[content_id]\n",
    "    #         content_count[i] = content_count_dict[content_id]\n",
    "            task_container_sum[i] = task_container_sum_dict[task_container_id]\n",
    "            task_container_count[i] = task_container_count_dict[task_container_id]\n",
    "            task_container_std[i]=task_container_std_dict[task_container_id]\n",
    "\n",
    "            explanation_sum_dict[user_id] += prior_question_had_explanation\n",
    "            explanation_count_dict[user_id] += 1\n",
    "            explanation_sum[i] = explanation_sum_dict[user_id]\n",
    "            explanation_count[i] = explanation_count_dict[user_id]\n",
    "\n",
    "            if user_id in max_timestamp_u_dict['max_time_stamp'].keys():\n",
    "                lagtime[i]=timestamp-max_timestamp_u_dict['max_time_stamp'][user_id]\n",
    "                if(max_timestamp_u_dict2['max_time_stamp2'][user_id]==lagtime_mean2):#\n",
    "                    lagtime2[i]=lagtime_mean2\n",
    "                    lagtime3[i]=lagtime_mean3\n",
    "                    #max_timestamp_u_dict3['max_time_stamp3'].update({user_id:lagtime_mean3})\n",
    "                else:\n",
    "                    lagtime2[i]=timestamp-max_timestamp_u_dict2['max_time_stamp2'][user_id]\n",
    "                    if(max_timestamp_u_dict3['max_time_stamp3'][user_id]==lagtime_mean3):\n",
    "                        lagtime3[i]=lagtime_mean3 #\n",
    "                    else:\n",
    "                        lagtime3[i]=timestamp-max_timestamp_u_dict3['max_time_stamp3'][user_id]\n",
    "                    \n",
    "                    max_timestamp_u_dict3['max_time_stamp3'][user_id]=max_timestamp_u_dict2['max_time_stamp2'][user_id]\n",
    "                        \n",
    "                max_timestamp_u_dict2['max_time_stamp2'][user_id]=max_timestamp_u_dict['max_time_stamp'][user_id]\n",
    "                max_timestamp_u_dict['max_time_stamp'][user_id]=timestamp\n",
    "#                 lagtime_means[i]=(lagtime_mean_dict[user_id]+lagtime[i])/2\n",
    "#                 lagtime_mean_dict[user_id]=lagtime_means[i]\n",
    "            else:\n",
    "                lagtime[i]=lagtime_mean\n",
    "                max_timestamp_u_dict['max_time_stamp'].update({user_id:timestamp})\n",
    "                lagtime2[i]=lagtime_mean2#\n",
    "                max_timestamp_u_dict2['max_time_stamp2'].update({user_id:lagtime_mean2})\n",
    "                lagtime3[i]=lagtime_mean3#\n",
    "                max_timestamp_u_dict3['max_time_stamp3'].update({user_id:lagtime_mean3})\n",
    "#                 lagtime_mean_dict.update({user_id:lagtime_mean})\n",
    "#                 lagtime_means[i]=(lagtime_mean_dict[user_id]+lagtime[i])/2\n",
    "\n",
    "            if user_id in user_prior_question_elapsed_time_dict['prior_question_elapsed_time'].keys():            \n",
    "                delta_prior_question_elapsed_time[i]=prior_question_elapsed_time-user_prior_question_elapsed_time_dict['prior_question_elapsed_time'][user_id]\n",
    "                user_prior_question_elapsed_time_dict['prior_question_elapsed_time'][user_id]=prior_question_elapsed_time\n",
    "            else:           \n",
    "                delta_prior_question_elapsed_time[i]=delta_prior_question_elapsed_time_mean    \n",
    "                user_prior_question_elapsed_time_dict['prior_question_elapsed_time'].update({user_id:prior_question_elapsed_time})\n",
    "            i=i+1 \n",
    "\n",
    "\n",
    "        \n",
    "    test_df = test_df[test_df['content_type_id'] == 0].reset_index(drop=True)\n",
    "    #test_df = test_df[test_df['content_type_id'] == 0]\n",
    "    #right_index=True\n",
    "    #test_df = pd.merge(test_df, questions_df, on='content_id', how='left',right_index=True)    \n",
    "    #test_df = pd.concat([test_df.reset_index(drop=True), questions_df.reindex(test_df['content_id'].values).reset_index(drop=True)], axis=1)\n",
    "    test_df=test_df.merge(questions_df.loc[questions_df.index.isin(test_df['content_id'])],\n",
    "                  how='left', on='content_id', right_index=True)\n",
    "    \n",
    "    #test_df = pd.merge(test_df, user_lecture_stats_part, on=['user_id'], how=\"left\",right_index=True)\n",
    "    #test_df = pd.concat([test_df.reset_index(drop=True), user_lecture_stats_part.reindex(test_df['user_id'].values).reset_index(drop=True)], axis=1)\n",
    "#     test_df=test_df.merge(user_lecture_stats_part.loc[user_lecture_stats_part.index.isin(test_df['user_id'])],\n",
    "#                   how='left', on='user_id', right_index=True)\n",
    " \n",
    "    test_df['user_lecture_lv'] = user_lecture_sum / user_lecture_count\n",
    "    test_df['user_lecture_sum'] = user_lecture_sum\n",
    "    \n",
    "    test_df['user_interaction_count'] = user_lecture_count\n",
    "    test_df['user_interaction_timestamp_mean'] = test_df['timestamp']/user_lecture_count\n",
    "    \n",
    "    test_df['user_correctness'] = user_sum / user_count\n",
    "    test_df['user_uncorrect_count'] =user_count-user_sum\n",
    "    test_df['user_correct_count'] =user_sum\n",
    "    #test_df['user_answer_count'] =user_count\n",
    "    \n",
    "#     test_df['user_correctness2'] = user_sum2 / user_count2\n",
    "#     test_df['user_uncorrect_count2'] =user_count2-user_sum2\n",
    "#     test_df['user_correct_count2'] =user_sum2\n",
    "    #test_df['user_answer_count2'] =user_count2\n",
    "    \n",
    "    #    \n",
    "    test_df['task_container_correctness'] = task_container_sum / task_container_count\n",
    "    test_df['task_container_cor_count'] = task_container_sum \n",
    "    test_df['task_container_uncor_count'] =task_container_count-task_container_sum \n",
    "    test_df['task_container_std'] = task_container_std \n",
    "    #test_df['content_task_mean'] = content_task_mean \n",
    "    \n",
    "    test_df['explanation_mean'] = explanation_sum / explanation_count\n",
    "    test_df['explanation_true_count'] = explanation_sum\n",
    "    test_df['explanation_false_count'] = explanation_count-explanation_sum \n",
    "    \n",
    "    #\n",
    "    test_df['delta_prior_question_elapsed_time'] = delta_prior_question_elapsed_time \n",
    "    \n",
    "  \n",
    " \n",
    "    test_df[\"attempt_no\"] = test_df[[\"user_id\", \"content_id\"]].apply(lambda row: get_max_attempt(row[\"user_id\"], row[\"content_id\"]), axis=1)\n",
    "    test_df[\"lagtime\"]=lagtime\n",
    "    test_df[\"lagtime2\"]=lagtime2\n",
    "    test_df[\"lagtime3\"]=lagtime3\n",
    "    #test_df[\"lagtime_mean\"]=lagtime_means\n",
    "\n",
    "    \n",
    "\n",
    "    test_df['timestamp']=test_df['timestamp']/(1000*3600)\n",
    "    test_df.timestamp=test_df.timestamp.astype('float16')\n",
    "    test_df['lagtime']=test_df['lagtime']/(1000*3600)\n",
    "    test_df.lagtime=test_df.lagtime.astype('float32')\n",
    "    test_df['lagtime2']=test_df['lagtime2']/(1000*3600)\n",
    "    test_df.lagtime2=test_df.lagtime2.astype('float32')\n",
    "    test_df['lagtime3']=test_df['lagtime3']/(1000*3600)\n",
    "    test_df.lagtime3=test_df.lagtime3.astype('float32')\n",
    "    test_df['user_interaction_timestamp_mean']=test_df['user_interaction_timestamp_mean']/(1000*3600)\n",
    "    test_df.user_interaction_timestamp_mean=test_df.user_interaction_timestamp_mean.astype('float32')\n",
    "    \n",
    "    test_df['user_correctness'].fillna(0.67, inplace=True)\n",
    "    #test_df['user_correctness2'].fillna(0.67, inplace=True)\n",
    "    #\n",
    "    #test_df = test_df.astype(features_dict)\n",
    "\n",
    "    sub_preds = np.zeros(test_df.shape[0])\n",
    "    for i, model in enumerate(clfs, 1):\n",
    "        test_preds  = model.predict(test_df[features])\n",
    "        sub_preds += test_preds\n",
    "    o2=sub_preds / len(clfs)\n",
    "    test_df[target]=0.5*np.array(outs)+0.5*np.array(o2)\n",
    "#     if(flag_lgbm):\n",
    "#         test_df[target] = model.predict(test_df[features])\n",
    "#     else:\n",
    "#         test_df[target] = model.predict(test_df[features].values)\n",
    "    env.predict(test_df[['row_id', target]])"
   ]
  },
  {
   "cell_type": "code",
   "execution_count": null,
   "metadata": {
    "papermill": {
     "duration": 0.098875,
     "end_time": "2020-12-27T12:51:05.725757",
     "exception": false,
     "start_time": "2020-12-27T12:51:05.626882",
     "status": "completed"
    },
    "tags": []
   },
   "outputs": [],
   "source": []
  },
  {
   "cell_type": "code",
   "execution_count": null,
   "metadata": {
    "papermill": {
     "duration": 0.095205,
     "end_time": "2020-12-27T12:51:05.918996",
     "exception": false,
     "start_time": "2020-12-27T12:51:05.823791",
     "status": "completed"
    },
    "tags": []
   },
   "outputs": [],
   "source": []
  }
 ],
 "metadata": {
  "kernelspec": {
   "display_name": "Python 3",
   "language": "python",
   "name": "python3"
  },
  "language_info": {
   "codemirror_mode": {
    "name": "ipython",
    "version": 3
   },
   "file_extension": ".py",
   "mimetype": "text/x-python",
   "name": "python",
   "nbconvert_exporter": "python",
   "pygments_lexer": "ipython3",
   "version": "3.7.4"
  },
  "papermill": {
   "duration": 1884.499408,
   "end_time": "2020-12-27T12:51:06.331047",
   "environment_variables": {},
   "exception": null,
   "input_path": "__notebook__.ipynb",
   "output_path": "__notebook__.ipynb",
   "parameters": {},
   "start_time": "2020-12-27T12:19:41.831639",
   "version": "2.1.0"
  }
 },
 "nbformat": 4,
 "nbformat_minor": 4
}
