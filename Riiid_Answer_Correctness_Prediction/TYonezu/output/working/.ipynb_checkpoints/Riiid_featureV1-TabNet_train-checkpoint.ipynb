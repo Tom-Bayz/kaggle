{
 "cells": [
  {
   "cell_type": "markdown",
   "metadata": {},
   "source": [
    "## **TabNet Training**"
   ]
  },
  {
   "cell_type": "code",
   "execution_count": 3,
   "metadata": {},
   "outputs": [
    {
     "name": "stdout",
     "output_type": "stream",
     "text": [
      "The autoreload extension is already loaded. To reload it, use:\n",
      "  %reload_ext autoreload\n"
     ]
    }
   ],
   "source": [
    "%load_ext autoreload\n",
    "%autoreload 2\n",
    "\n",
    "import pandas as pd\n",
    "import numpy as np\n",
    "import os\n",
    "import glob\n",
    "import pickle\n",
    "\n",
    "from tqdm import tqdm\n",
    "import torch\n",
    "from pytorch_tabnet.tab_model import TabNetClassifier\n",
    "import copy\n",
    "import warnings\n",
    "warnings.simplefilter('ignore')\n",
    "\n",
    "from sklearn.preprocessing import LabelEncoder"
   ]
  },
  {
   "cell_type": "markdown",
   "metadata": {},
   "source": [
    "### **Utils**"
   ]
  },
  {
   "cell_type": "code",
   "execution_count": 4,
   "metadata": {},
   "outputs": [],
   "source": [
    "def reduce_mem_usage(df, verbose=True):\n",
    "    numerics = ['int16', 'int32', 'int64', 'float16', 'float32', 'float64']\n",
    "    start_mem = df.memory_usage().sum() / 1024**2\n",
    "    for col in df.columns: #columns毎に処理\n",
    "        col_type = df[col].dtypes\n",
    "        if col_type in numerics: #numericsのデータ型の範囲内のときに処理を実行. データの最大最小値を元にデータ型を効率的なものに変更\n",
    "            c_min = df[col].min()\n",
    "            c_max = df[col].max()\n",
    "            if str(col_type)[:3] == 'int':\n",
    "                if c_min > np.iinfo(np.int8).min and c_max < np.iinfo(np.int8).max:\n",
    "                    df[col] = df[col].astype(np.int8)\n",
    "                elif c_min > np.iinfo(np.int16).min and c_max < np.iinfo(np.int16).max:\n",
    "                    df[col] = df[col].astype(np.int16)\n",
    "                elif c_min > np.iinfo(np.int32).min and c_max < np.iinfo(np.int32).max:\n",
    "                    df[col] = df[col].astype(np.int32)\n",
    "                elif c_min > np.iinfo(np.int64).min and c_max < np.iinfo(np.int64).max:\n",
    "                    df[col] = df[col].astype(np.int64)\n",
    "            else:\n",
    "                if c_min > np.finfo(np.float16).min and c_max < np.finfo(np.float16).max:\n",
    "                    df[col] = df[col].astype(np.float16)\n",
    "                elif c_min > np.finfo(np.float32).min and c_max < np.finfo(np.float32).max:\n",
    "                    df[col] = df[col].astype(np.float32)\n",
    "                else:\n",
    "                    df[col] = df[col].astype(np.float64)\n",
    "    end_mem = df.memory_usage().sum() / 1024**2\n",
    "    if verbose: print('Mem. usage decreased to {:5.2f} Mb ({:.1f}% reduction)'.format(end_mem, 100 * (start_mem - end_mem) / start_mem))\n",
    "    return df"
   ]
  },
  {
   "cell_type": "code",
   "execution_count": 5,
   "metadata": {},
   "outputs": [],
   "source": [
    "base_dir = os.path.join(\"..\",\"..\")\n",
    "train_df = pd.read_csv(os.path.join(base_dir,\"input\",\"riiid-test-answer-prediction\",\"train.csv\"), low_memory=False,index_col=0)"
   ]
  },
  {
   "cell_type": "code",
   "execution_count": 6,
   "metadata": {},
   "outputs": [
    {
     "name": "stdout",
     "output_type": "stream",
     "text": [
      "Mem. usage decreased to 3111.84 Mb (58.8% reduction)\n"
     ]
    }
   ],
   "source": [
    "train_df[\"prior_question_had_explanation\"] = train_df[\"prior_question_had_explanation\"].astype(\"float\")\n",
    "train_df = train_df.dropna()\n",
    "train_df = reduce_mem_usage(train_df)"
   ]
  },
  {
   "cell_type": "markdown",
   "metadata": {},
   "source": [
    "### **training**"
   ]
  },
  {
   "cell_type": "code",
   "execution_count": 7,
   "metadata": {},
   "outputs": [],
   "source": [
    "target = \"answered_correctly\"\n",
    "features = ['timestamp',\n",
    "            'user_id',\n",
    "            'content_id',\n",
    "            'content_type_id',\n",
    "            'task_container_id',\n",
    "            #'user_answer',\n",
    "            #'answered_correctly',\n",
    "            'prior_question_elapsed_time',\n",
    "            'prior_question_had_explanation'\n",
    "           ]"
   ]
  },
  {
   "cell_type": "code",
   "execution_count": 8,
   "metadata": {},
   "outputs": [],
   "source": [
    "sample_num = 10000000\n",
    "train_df = train_df.sample(n=sample_num, random_state=0)"
   ]
  },
  {
   "cell_type": "code",
   "execution_count": 9,
   "metadata": {},
   "outputs": [],
   "source": [
    "import random\n",
    "\n",
    "class CFG:\n",
    "    START_IDX = 90000000\n",
    "    SEED = 42\n",
    "    TEST_SIZE = 0.2\n",
    "    N_EPOCHS = 10\n",
    "    BATCH_SZ = 256\n",
    "    PATIENCE = 3\n",
    "    VIRTUAL_BS = 128\n",
    "    LR = 0.01\n",
    "    ND = 8  # Width of the decision prediction layer. Bigger values gives more capacity to the model with the risk of overfitting. \n",
    "    NA = 8  # Width of the attention embedding for each mask. According to the paper n_d=n_a is usually a good choice. \n",
    "    N_STEPS = 3 # Number of steps in the architecture (usually between 3 and 10)\n",
    "    GAMMA = 1.3 # This is the coefficient for feature reusage in the masks. A value close to 1 will make mask selection least correlated between layers. \n",
    "    #Values range from 1.0 to 2.0.\n",
    "    N_INDEPENDENT = 1 # Number of independent Gated Linear Units layers at each step. Usual values range from 1 to 5.\n",
    "    LAMBDA = 0\n",
    "    N_SHARED = 3 # Number of shared Gated Linear Units at each step Usual values range from 1 to 5\n",
    "    MOMENTUM = 0.1\n",
    "    CLIP = 1.0\n",
    "    MASK_TYPE = 'sparsemax' #(default='sparsemax') Either \"sparsemax\" or \"entmax\" : this is the masking function to use for selecting features\n",
    "\n",
    "def seed_everything(seed_value):\n",
    "    random.seed(seed_value)\n",
    "    np.random.seed(seed_value)\n",
    "    torch.manual_seed(seed_value)\n",
    "    os.environ['PYTHONHASHSEED'] = str(seed_value)\n",
    "    \n",
    "    if torch.cuda.is_available(): \n",
    "        torch.cuda.manual_seed(seed_value)\n",
    "        torch.cuda.manual_seed_all(seed_value)\n",
    "        torch.backends.cudnn.deterministic = False\n",
    "        torch.backends.cudnn.benchmark = False\n",
    "        \n",
    "seed_everything(CFG.SEED)"
   ]
  },
  {
   "cell_type": "code",
   "execution_count": 10,
   "metadata": {},
   "outputs": [
    {
     "name": "stdout",
     "output_type": "stream",
     "text": [
      "[] []\n"
     ]
    }
   ],
   "source": [
    "cat_dims = []\n",
    "cat_idxs = []\n",
    "\n",
    "for col in []:\n",
    "    cat_idxs.append(train_df[features].columns.get_loc(col))\n",
    "    cat_dims.append( (train_df[features])[col].nunique())\n",
    "\n",
    "print(cat_idxs,cat_dims)"
   ]
  },
  {
   "cell_type": "code",
   "execution_count": 21,
   "metadata": {},
   "outputs": [
    {
     "name": "stdout",
     "output_type": "stream",
     "text": [
      "Device used : cuda\n",
      "No early stopping will be performed, last training weights will be used.\n",
      "epoch 0  | loss: 0.69793 |  0:00:22s\n",
      "epoch 1  | loss: 0.68633 |  0:00:44s\n",
      "epoch 2  | loss: 0.68576 |  0:01:06s\n",
      "epoch 3  | loss: 0.68511 |  0:01:28s\n",
      "epoch 4  | loss: 0.6839  |  0:01:50s\n",
      "epoch 5  | loss: 0.6844  |  0:02:12s\n",
      "epoch 6  | loss: 0.68346 |  0:02:34s\n",
      "epoch 7  | loss: 0.68395 |  0:02:56s\n",
      "epoch 8  | loss: 0.68294 |  0:03:18s\n",
      "epoch 9  | loss: 0.68287 |  0:03:40s\n",
      "Successfully saved model at ..\\..\\input\\riiid-test-answer-prediction\\riiid-featurev1-tabnet\\featureV1-TabNet_trained_1000000samples10epoch_gpu.zip\n"
     ]
    }
   ],
   "source": [
    "# training TabNet\n",
    "model = TabNetClassifier(\n",
    "                         n_d = CFG.ND,\n",
    "                         n_a = CFG.NA,\n",
    "                         n_steps = CFG.N_STEPS,\n",
    "                         gamma = CFG.GAMMA, \n",
    "                         n_independent = CFG.N_INDEPENDENT,\n",
    "                         n_shared = CFG.N_SHARED,\n",
    "                         cat_dims=cat_dims,\n",
    "                         cat_emb_dim=1,\n",
    "                         optimizer_params=dict(lr=CFG.LR),\n",
    "                         momentum=CFG.MOMENTUM,\n",
    "                         cat_idxs=cat_idxs,\n",
    "                         verbose=1,\n",
    "                         #scheduler_params=dict(milestones=[20, 50, 80], gamma=0.5), \n",
    "                         #scheduler_fn=torch.optim.lr_scheduler.MultiStepLR,\n",
    "                         mask_type = CFG.MASK_TYPE,\n",
    "                         lambda_sparse = CFG.LAMBDA,\n",
    "                         clip_value = CFG.CLIP,\n",
    "                         device_name = \"cuda\"\n",
    "                        )\n",
    "\n",
    "model.fit(\n",
    "          X_train = train_df[features].values, \n",
    "          y_train = train_df[target].values, \n",
    "          max_epochs = CFG.N_EPOCHS, \n",
    "          patience = CFG.PATIENCE,\n",
    "          batch_size = CFG.BATCH_SZ, \n",
    "          virtual_batch_size = CFG.VIRTUAL_BS,\n",
    "          num_workers = 0,\n",
    "          weights = 1,\n",
    "          drop_last = False\n",
    "         )\n",
    "\n",
    "\n",
    "# save model\n",
    "dir = os.path.join(base_dir,\"input\",\"riiid-test-answer-prediction\",\"riiid-featurev1-tabnet\")\n",
    "if not(os.path.exists(dir)):\n",
    "    os.makedirs(dir)\n",
    "model_path = os.path.join(dir,\"featureV1-TabNet_trained_%dsamples%depoch_gpu\"%(sample_num,CFG.N_EPOCHS))\n",
    "\n",
    "saved_path = model.save_model(model_path)\n",
    "\n",
    "os.rename(saved_path,model_path+\".mdl\")"
   ]
  },
  {
   "cell_type": "code",
   "execution_count": 20,
   "metadata": {},
   "outputs": [
    {
     "data": {
      "text/plain": [
       "array([0, 1, 1, 1, 0, 1, 1, 1, 0, 0, 1, 1, 1, 1, 1, 0, 1, 1], dtype=int8)"
      ]
     },
     "execution_count": 20,
     "metadata": {},
     "output_type": "execute_result"
    }
   ],
   "source": [
    "model.predict(test_df[features].values)"
   ]
  },
  {
   "cell_type": "code",
   "execution_count": 23,
   "metadata": {},
   "outputs": [
    {
     "data": {
      "text/plain": [
       "{0: 0, 1: 1}"
      ]
     },
     "execution_count": 23,
     "metadata": {},
     "output_type": "execute_result"
    }
   ],
   "source": [
    "model.preds_mapper"
   ]
  },
  {
   "cell_type": "code",
   "execution_count": null,
   "metadata": {},
   "outputs": [],
   "source": []
  }
 ],
 "metadata": {
  "kernelspec": {
   "display_name": "Python 3",
   "language": "python",
   "name": "python3"
  },
  "language_info": {
   "codemirror_mode": {
    "name": "ipython",
    "version": 3
   },
   "file_extension": ".py",
   "mimetype": "text/x-python",
   "name": "python",
   "nbconvert_exporter": "python",
   "pygments_lexer": "ipython3",
   "version": "3.7.4"
  }
 },
 "nbformat": 4,
 "nbformat_minor": 4
}
