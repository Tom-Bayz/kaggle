{
 "cells": [
  {
   "cell_type": "code",
   "execution_count": 1,
   "metadata": {
    "_cell_guid": "b1076dfc-b9ad-4769-8c92-a6c4dae69d19",
    "_kg_hide-input": true,
    "_kg_hide-output": true,
    "_uuid": "8f2839f25d086af736a60e9eeb907d3b93b6e0e5"
   },
   "outputs": [],
   "source": [
    "import pandas as pd\n",
    "import numpy as np\n",
    "from glob import glob\n",
    "import random\n",
    "import os\n",
    "import time\n",
    "import torch\n",
    "import torchaudio\n",
    "import librosa"
   ]
  },
  {
   "cell_type": "markdown",
   "execution_count": null,
   "metadata": {},
   "source": [
    "# Sample Submission\n",
    "\n",
    "This notebook without model. It will help for making submission without Exception (jump start)"
   ]
  },
  {
   "cell_type": "markdown",
   "execution_count": null,
   "metadata": {},
   "source": [
    "# Custom Dataset for Check Phase\n",
    "\n",
    "I am feeling secondhand embarrassment for our competition hosts... I think they [forgot about how should work with hidden test in code competition](https://www.kaggle.com/c/birdsong-recognition/discussion/158987#892424). So, I have created [custom dataset](https://www.kaggle.com/shonenkov/birdcall-check) for making check phase. It is hardcode, but it will help you avoid many bugs without button \"submission\". \n",
    "\n"
   ]
  },
  {
   "cell_type": "code",
   "execution_count": 2,
   "metadata": {},
   "outputs": [],
   "source": [
    "BASE_TEST_DIR = '../input/birdsong-recognition' if os.path.exists('../input/birdsong-recognition/test_audio') else '../input/birdcall-check'"
   ]
  },
  {
   "cell_type": "code",
   "execution_count": 3,
   "metadata": {
    "_cell_guid": "79c7e3d0-c299-4dcb-8224-4455121ee9b0",
    "_uuid": "d629ff2d2480ee46fbb7e2d37f6b5fab8052498a"
   },
   "outputs": [],
   "source": [
    "df_test = pd.read_csv(f'{BASE_TEST_DIR}/test.csv')\n",
    "df_train = pd.read_csv('../input/birdsong-recognition/train.csv')\n",
    "all_birds = df_train['ebird_code'].unique()"
   ]
  },
  {
   "cell_type": "code",
   "execution_count": 4,
   "metadata": {},
   "outputs": [],
   "source": [
    "def random_predict():\n",
    "    birds = random.choices(all_birds, k=random.randint(0,2)) or ['nocall']\n",
    "    return ' '.join(birds)"
   ]
  },
  {
   "cell_type": "code",
   "execution_count": 5,
   "metadata": {},
   "outputs": [],
   "source": [
    "sub_test_12 = df_test[df_test.site.isin(['site_1', 'site_2'])]\n",
    "sub_test_3 = df_test[df_test.site.isin(['site_3'])]"
   ]
  },
  {
   "cell_type": "code",
   "execution_count": 6,
   "metadata": {},
   "outputs": [],
   "source": [
    "TEST_FOLDER = f'{BASE_TEST_DIR}/test_audio'\n",
    "\n",
    "def custom_read_audio(audio_path, sr=44100):\n",
    "    \"\"\"\n",
    "    author: @shonenkov \n",
    "    \n",
    "    Super fast method, without exceptions. \n",
    "    return waveform <torch.tensor>, sample_rate <number>\n",
    "    \"\"\"\n",
    "    try:\n",
    "        waveform, sample_rate = torchaudio.load(audio_path, normalization=True)\n",
    "        if sample_rate != sr:\n",
    "            waveform = torchaudio.transforms.Resample(sample_rate, sr)(waveform)\n",
    "            sample_rate = sr\n",
    "    except RuntimeError:\n",
    "        waveform, sample_rate = librosa.load(audio_path, sr=sr, mono=False)\n",
    "        waveform = torch.from_numpy(waveform)\n",
    "        if waveform.shape[0] not in [1, 2]:\n",
    "            waveform = waveform.unsqueeze(0)\n",
    "    return waveform, sample_rate"
   ]
  },
  {
   "cell_type": "code",
   "execution_count": 7,
   "metadata": {},
   "outputs": [
    {
     "data": {
      "text/html": [
       "<div>\n",
       "<style scoped>\n",
       "    .dataframe tbody tr th:only-of-type {\n",
       "        vertical-align: middle;\n",
       "    }\n",
       "\n",
       "    .dataframe tbody tr th {\n",
       "        vertical-align: top;\n",
       "    }\n",
       "\n",
       "    .dataframe thead th {\n",
       "        text-align: right;\n",
       "    }\n",
       "</style>\n",
       "<table border=\"1\" class=\"dataframe\">\n",
       "  <thead>\n",
       "    <tr style=\"text-align: right;\">\n",
       "      <th></th>\n",
       "      <th>row_id</th>\n",
       "      <th>birds</th>\n",
       "    </tr>\n",
       "  </thead>\n",
       "  <tbody>\n",
       "    <tr>\n",
       "      <th>0</th>\n",
       "      <td>site_2_07ab324c602e4afab65ddbcc746c31b5_5</td>\n",
       "      <td>whfibi cangoo</td>\n",
       "    </tr>\n",
       "    <tr>\n",
       "      <th>1</th>\n",
       "      <td>site_2_07ab324c602e4afab65ddbcc746c31b5_10</td>\n",
       "      <td>nocall</td>\n",
       "    </tr>\n",
       "    <tr>\n",
       "      <th>2</th>\n",
       "      <td>site_2_07ab324c602e4afab65ddbcc746c31b5_15</td>\n",
       "      <td>brwhaw</td>\n",
       "    </tr>\n",
       "    <tr>\n",
       "      <th>3</th>\n",
       "      <td>site_2_07ab324c602e4afab65ddbcc746c31b5_20</td>\n",
       "      <td>nocall</td>\n",
       "    </tr>\n",
       "    <tr>\n",
       "      <th>4</th>\n",
       "      <td>site_2_07ab324c602e4afab65ddbcc746c31b5_25</td>\n",
       "      <td>nocall</td>\n",
       "    </tr>\n",
       "  </tbody>\n",
       "</table>\n",
       "</div>"
      ],
      "text/plain": [
       "                                       row_id          birds\n",
       "0   site_2_07ab324c602e4afab65ddbcc746c31b5_5  whfibi cangoo\n",
       "1  site_2_07ab324c602e4afab65ddbcc746c31b5_10         nocall\n",
       "2  site_2_07ab324c602e4afab65ddbcc746c31b5_15         brwhaw\n",
       "3  site_2_07ab324c602e4afab65ddbcc746c31b5_20         nocall\n",
       "4  site_2_07ab324c602e4afab65ddbcc746c31b5_25         nocall"
      ]
     },
     "execution_count": 7,
     "metadata": {},
     "output_type": "execute_result"
    }
   ],
   "source": [
    "submission = {'row_id': [], 'birds': []}\n",
    "\n",
    "for audio_id, data in sub_test_12.groupby('audio_id'):\n",
    "    waveform, sample_rate = custom_read_audio(f'{TEST_FOLDER}/{audio_id}.mp3')\n",
    "    submission['row_id'].extend(data['row_id'].values)\n",
    "    submission['birds'].extend([random_predict() for i in range(data.shape[0])])\n",
    "\n",
    "for _, row in sub_test_3.iterrows():\n",
    "    row_id, audio_id = row['row_id'], row['audio_id']\n",
    "    waveform, sample_rate = custom_read_audio(f'{TEST_FOLDER}/{audio_id}.mp3')\n",
    "    submission['row_id'].append(row_id)\n",
    "    submission['birds'].append(random_predict())\n",
    "\n",
    "submission = pd.DataFrame(submission)\n",
    "submission.head()"
   ]
  },
  {
   "cell_type": "code",
   "execution_count": 8,
   "metadata": {},
   "outputs": [],
   "source": [
    "submission.to_csv('submission.csv', index=False)"
   ]
  }
 ],
 "metadata": {
  "kernelspec": {
   "display_name": "Python 3",
   "language": "python",
   "name": "python3"
  },
  "language_info": {
   "codemirror_mode": {
    "name": "ipython",
    "version": 3
   },
   "file_extension": ".py",
   "mimetype": "text/x-python",
   "name": "python",
   "nbconvert_exporter": "python",
   "pygments_lexer": "ipython3",
   "version": "3.7.6"
  }
 },
 "nbformat": 4,
 "nbformat_minor": 4
}
