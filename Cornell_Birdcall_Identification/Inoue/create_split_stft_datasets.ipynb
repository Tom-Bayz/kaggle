{
 "cells": [
  {
   "cell_type": "code",
   "execution_count": null,
   "metadata": {},
   "outputs": [],
   "source": [
    "from plotly.subplots import make_subplots\n",
    "import plotly.graph_objects as go\n",
    "import matplotlib.pyplot as plt\n",
    "import matplotlib.pyplot as plt\n",
    "import IPython.display as ipd\n",
    "import plotly.express as px\n",
    "import librosa.display\n",
    "import pandas as pd\n",
    "import numpy as  np\n",
    "import librosa\n",
    "import warnings\n",
    "import IPython\n",
    "import os\n",
    "\n",
    "plt.style.use(\"ggplot\")"
   ]
  },
  {
   "cell_type": "code",
   "execution_count": null,
   "metadata": {},
   "outputs": [],
   "source": [
    "train = pd.read_csv(\"../input/birdsong-recognition/train.csv\")\n",
    "train.info()"
   ]
  },
  {
   "cell_type": "code",
   "execution_count": null,
   "metadata": {},
   "outputs": [],
   "source": [
    "species=train.species.value_counts()\n",
    "birds=train.ebird_code.unique()\n",
    "path=\"../input/birdsong-recognition/train_audio/\""
   ]
  },
  {
   "cell_type": "code",
   "execution_count": null,
   "metadata": {},
   "outputs": [],
   "source": [
    "path=\"../input/birdsong-recognition/train_audio/\"\n",
    "bird_num = 2\n",
    "file_num = 10\n",
    "interval = 5\n",
    "\n",
    "for bird_name in birds[:bird_num]:\n",
    "    print(bird_name)\n",
    "    files = train[train.ebird_code==bird_name]['filename'].values\n",
    "    for file in files[:file_num]:\n",
    "        audio_path=os.path.join(path,bird_name,file)\n",
    "        x , sr = librosa.load(audio_path)\n",
    "        print(\"Audio Length: {}\".format(len(x) / sr))\n",
    "        i = 0\n",
    "        while ((i+interval) * sr < len(x)):\n",
    "            print(i)\n",
    "            sub_x = x[i*sr:(i+interval)*sr]\n",
    "            sub_x = librosa.stft(sub_x)\n",
    "            Xdb = librosa.amplitude_to_db(abs(sub_x))\n",
    "            np.savetxt('{}_{}_{}to{}sec.csv'.format(bird_name, file.split('.')[0], i, i+interval), Xdb)\n",
    "            #plt.pcolor(Xdb)\n",
    "            #plt.show()\n",
    "            i = i + interval"
   ]
  },
  {
   "cell_type": "code",
   "execution_count": null,
   "metadata": {},
   "outputs": [],
   "source": []
  }
 ],
 "metadata": {
  "language_info": {
   "codemirror_mode": {
    "name": "ipython",
    "version": 3
   },
   "file_extension": ".py",
   "mimetype": "text/x-python",
   "name": "python",
   "nbconvert_exporter": "python",
   "pygments_lexer": "ipython3",
   "version": 3
  },
  "orig_nbformat": 2
 },
 "nbformat": 4,
 "nbformat_minor": 2
}