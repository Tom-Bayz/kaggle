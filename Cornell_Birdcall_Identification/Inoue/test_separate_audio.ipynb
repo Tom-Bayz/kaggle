{
 "cells": [
  {
   "cell_type": "code",
   "execution_count": null,
   "metadata": {},
   "outputs": [],
   "source": [
    "from plotly.subplots import make_subplots\n",
    "import plotly.graph_objects as go\n",
    "import matplotlib.pyplot as plt\n",
    "import matplotlib.pyplot as plt\n",
    "import IPython.display as ipd\n",
    "import plotly.express as px\n",
    "import librosa.display\n",
    "import pandas as pd\n",
    "import numpy as  np\n",
    "import librosa\n",
    "import warnings\n",
    "import IPython\n",
    "import os\n",
    "\n",
    "plt.style.use(\"ggplot\")from plotly.subplots import make_subplots\n",
    "import plotly.graph_objects as go\n",
    "import matplotlib.pyplot as plt\n",
    "import matplotlib.pyplot as plt\n",
    "import IPython.display as ipd\n",
    "import plotly.express as px\n",
    "import librosa.display\n",
    "import pandas as pd\n",
    "import numpy as  np\n",
    "import librosa\n",
    "import warnings\n",
    "import IPython\n",
    "import os\n",
    "\n",
    "plt.style.use(\"ggplot\")"
   ]
  },
  {
   "cell_type": "code",
   "execution_count": null,
   "metadata": {},
   "outputs": [],
   "source": [
    "train = pd.read_csv(\"../input/birdsong-recognition/train.csv\")\n",
    "train.info()train = pd.read_csv(\"../input/birdsong-recognition/train.csv\")\n",
    "species=train.species.value_counts()\n",
    "birds=train.ebird_code.unique()\n",
    "path=\"../input/birdsong-recognition/train_audio/\"species=train.species.value_counts()\n",
    "birds=train.ebird_code.unique()\n",
    "path=\"../input/birdsong-recognition/train_audio/\""
   ]
  },
  {
   "cell_type": "code",
   "execution_count": null,
   "metadata": {},
   "outputs": [],
   "source": [
    "bird_num = 1\n",
    "file_num = 2\n",
    "\n",
    "for bird_name in birds[:bird_num]:\n",
    "    print(bird_name)\n",
    "    info_each_bird = train[train.ebird_code==bird_name]\n",
    "    files = info_each_bird['filename'].values\n",
    "    for i,file in enumerate(files[:file_num]):\n",
    "        print(\"====INFO====\")\n",
    "        #print(info_each_bird.iloc[i])\n",
    "        print(\"============\")\n",
    "        audio_path=os.path.join(path,bird_name,file)\n",
    "        x , sr = librosa.load(audio_path)\n",
    "        IPython.display.display(ipd.Audio(x, rate=sr))\n",
    "        print(\"======SEP======\")\n",
    "        x_harmonic, x_percussive = librosa.effects.hpss(x)\n",
    "        IPython.display.display(ipd.Audio(x_harmonic, rate=sr))\n",
    "        IPython.display.display(ipd.Audio(x_percussive, rate=sr))"
   ]
  }
 ],
 "metadata": {
  "language_info": {
   "codemirror_mode": {
    "name": "ipython",
    "version": 3
   },
   "file_extension": ".py",
   "mimetype": "text/x-python",
   "name": "python",
   "nbconvert_exporter": "python",
   "pygments_lexer": "ipython3",
   "version": 3
  },
  "orig_nbformat": 2
 },
 "nbformat": 4,
 "nbformat_minor": 2
}