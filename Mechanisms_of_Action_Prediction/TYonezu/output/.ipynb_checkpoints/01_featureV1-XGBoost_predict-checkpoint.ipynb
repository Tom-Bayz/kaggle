{
 "cells": [
  {
   "cell_type": "markdown",
   "metadata": {},
   "source": [
    "## **XGBoost Prediction**\n",
    "https://rdrr.io/cran/xgboost/man/xgb.cv.html"
   ]
  },
  {
   "cell_type": "code",
   "execution_count": 5,
   "metadata": {},
   "outputs": [
    {
     "name": "stdout",
     "output_type": "stream",
     "text": [
      "The autoreload extension is already loaded. To reload it, use:\n",
      "  %reload_ext autoreload\n"
     ]
    }
   ],
   "source": [
    "%load_ext autoreload\n",
    "%autoreload 2\n",
    "\n",
    "import pandas as pd\n",
    "import numpy as np\n",
    "import os\n",
    "import glob\n",
    "import pickle\n",
    "import matplotlib.pyplot as plt\n",
    "import matplotlib as mpl\n",
    "mpl.rcParams['agg.path.chunksize'] = 100000\n",
    "\n",
    "import gc\n",
    "from myUtils import *\n",
    "from feature_generator import feature_v1\n",
    "import xgboost as xgb\n",
    "from tqdm import tqdm\n",
    "import shutil\n",
    "import copy\n",
    "\n",
    "from sklearn.preprocessing import LabelEncoder"
   ]
  },
  {
   "cell_type": "code",
   "execution_count": null,
   "metadata": {},
   "outputs": [],
   "source": [
    "def label_encode(df, cols):\n",
    "    for col in cols:\n",
    "        le = LabelEncoder()\n",
    "        tmp = df[col].fillna(\"NaN\")\n",
    "        df[col] = pd.Series(le.fit_transform(tmp), index=tmp.index)\n",
    "\n",
    "    return df\n",
    "\n",
    "\n",
    "def check_columns(necessary_cols,cols):\n",
    "    \n",
    "    cols = set(cols) # make set\n",
    "    \n",
    "    lack_cols = [c for c in necessary_cols if c not in cols]\n",
    "    \n",
    "    print(\"-- column check completed --\")\n",
    "    if len(lack_cols) == 0:\n",
    "        print(\"  columns are satisfied\")\n",
    "        return True\n",
    "    else:\n",
    "        print(\"  !!columns are lacked!!\")\n",
    "        print(\"   lacked columns:\",lack_cols)\n",
    "        return False\n",
    "\n",
    "\n",
    "class FeaturesMaker_v1(object):\n",
    "\n",
    "    def __init__(self,target_col):\n",
    "        self.name = \"featuresV1\"\n",
    "        self.feature_exp = \"simple features which \"\n",
    "\n",
    "        self.target_col = target_col\n",
    "        self.necessary_col =  [\"sig_id\",'cp_type',\"cp_time\",\"cp_dose\",\"data_part\"] + [target_col]\n",
    "\n",
    "    def make_feature(self,df):\n",
    "\n",
    "        # check existstance of necessary columns\n",
    "        if check_columns(self.necessary_col,df.columns):\n",
    "\n",
    "            # label encoding\n",
    "            cols = ['cp_type',\"cp_time\",\"cp_dose\"]\n",
    "            df = label_encode(df, cols=cols)\n",
    "\n",
    "\n",
    "            # split train and test\n",
    "            df = df.set_index([\"sig_id\"],drop=True)\n",
    "\n",
    "            features = [c for c in df.columns if \"g-\" in c]\n",
    "            features = features + [c for c in df.columns if \"c-\" in c]\n",
    "            features = features + ['cp_type',\"cp_time\",\"cp_dose\"]\n",
    "\n",
    "            print(\"-- \",self.name,\" --\")\n",
    "            print(\"dim:\",len(features))\n",
    "            print(\"N:\",len(df))\n",
    "            print(\"-----------------\")\n",
    "\n",
    "            return {sub[0]:(sub[1][features],sub[1][self.target_col]) for sub in df.groupby(by=\"data_part\")}\n",
    "\n",
    "        else:\n",
    "            return False"
   ]
  },
  {
   "cell_type": "code",
   "execution_count": 6,
   "metadata": {},
   "outputs": [
    {
     "name": "stderr",
     "output_type": "stream",
     "text": [
      "  0%|                                                                                          | 0/206 [00:00<?, ?it/s]"
     ]
    },
    {
     "name": "stdout",
     "output_type": "stream",
     "text": [
      "-- column check completed --\n",
      "  columns are satisfied\n",
      "--  featuresV1  --\n",
      "dim: 875\n",
      "N: 27796\n",
      "-----------------\n"
     ]
    },
    {
     "name": "stderr",
     "output_type": "stream",
     "text": [
      "  0%|▍                                                                                 | 1/206 [00:00<02:08,  1.59it/s]"
     ]
    },
    {
     "name": "stdout",
     "output_type": "stream",
     "text": [
      "-- column check completed --\n",
      "  columns are satisfied\n",
      "--  featuresV1  --\n",
      "dim: 875\n",
      "N: 27796\n",
      "-----------------\n"
     ]
    },
    {
     "name": "stderr",
     "output_type": "stream",
     "text": [
      "  1%|▊                                                                                 | 2/206 [00:01<02:09,  1.57it/s]"
     ]
    },
    {
     "name": "stdout",
     "output_type": "stream",
     "text": [
      "-- column check completed --\n",
      "  columns are satisfied\n",
      "--  featuresV1  --\n",
      "dim: 875\n",
      "N: 27796\n",
      "-----------------\n"
     ]
    },
    {
     "name": "stderr",
     "output_type": "stream",
     "text": [
      "  1%|█▏                                                                                | 3/206 [00:01<02:10,  1.55it/s]"
     ]
    },
    {
     "name": "stdout",
     "output_type": "stream",
     "text": [
      "-- column check completed --\n",
      "  columns are satisfied\n",
      "--  featuresV1  --\n",
      "dim: 875\n",
      "N: 27796\n",
      "-----------------\n"
     ]
    },
    {
     "name": "stderr",
     "output_type": "stream",
     "text": [
      "  2%|█▌                                                                                | 4/206 [00:02<02:11,  1.54it/s]"
     ]
    },
    {
     "name": "stdout",
     "output_type": "stream",
     "text": [
      "-- column check completed --\n",
      "  columns are satisfied\n",
      "--  featuresV1  --\n",
      "dim: 875\n",
      "N: 27796\n",
      "-----------------\n"
     ]
    },
    {
     "name": "stderr",
     "output_type": "stream",
     "text": [
      "  2%|█▉                                                                                | 5/206 [00:03<02:12,  1.52it/s]"
     ]
    },
    {
     "name": "stdout",
     "output_type": "stream",
     "text": [
      "-- column check completed --\n",
      "  columns are satisfied\n",
      "--  featuresV1  --\n",
      "dim: 875\n",
      "N: 27796\n",
      "-----------------\n"
     ]
    },
    {
     "name": "stderr",
     "output_type": "stream",
     "text": [
      "  3%|██▍                                                                               | 6/206 [00:03<02:12,  1.51it/s]"
     ]
    },
    {
     "name": "stdout",
     "output_type": "stream",
     "text": [
      "-- column check completed --\n",
      "  columns are satisfied\n",
      "--  featuresV1  --\n",
      "dim: 875\n",
      "N: 27796\n",
      "-----------------\n"
     ]
    },
    {
     "name": "stderr",
     "output_type": "stream",
     "text": [
      "  3%|██▊                                                                               | 7/206 [00:04<02:11,  1.52it/s]"
     ]
    },
    {
     "name": "stdout",
     "output_type": "stream",
     "text": [
      "-- column check completed --\n",
      "  columns are satisfied\n",
      "--  featuresV1  --\n",
      "dim: 875\n",
      "N: 27796\n",
      "-----------------\n"
     ]
    },
    {
     "name": "stderr",
     "output_type": "stream",
     "text": [
      "  4%|███▏                                                                              | 8/206 [00:05<02:11,  1.51it/s]"
     ]
    },
    {
     "name": "stdout",
     "output_type": "stream",
     "text": [
      "-- column check completed --\n",
      "  columns are satisfied\n",
      "--  featuresV1  --\n",
      "dim: 875\n",
      "N: 27796\n",
      "-----------------\n"
     ]
    },
    {
     "name": "stderr",
     "output_type": "stream",
     "text": [
      "  4%|███▌                                                                              | 9/206 [00:05<02:09,  1.52it/s]"
     ]
    },
    {
     "name": "stdout",
     "output_type": "stream",
     "text": [
      "-- column check completed --\n",
      "  columns are satisfied\n",
      "--  featuresV1  --\n",
      "dim: 875\n",
      "N: 27796\n",
      "-----------------\n"
     ]
    },
    {
     "name": "stderr",
     "output_type": "stream",
     "text": [
      "  5%|███▉                                                                             | 10/206 [00:06<02:09,  1.51it/s]"
     ]
    },
    {
     "name": "stdout",
     "output_type": "stream",
     "text": [
      "-- column check completed --\n",
      "  columns are satisfied\n",
      "--  featuresV1  --\n",
      "dim: 875\n",
      "N: 27796\n",
      "-----------------\n"
     ]
    },
    {
     "name": "stderr",
     "output_type": "stream",
     "text": [
      "  5%|████▎                                                                            | 11/206 [00:07<02:08,  1.51it/s]"
     ]
    },
    {
     "name": "stdout",
     "output_type": "stream",
     "text": [
      "-- column check completed --\n",
      "  columns are satisfied\n",
      "--  featuresV1  --\n",
      "dim: 875\n",
      "N: 27796\n",
      "-----------------\n"
     ]
    },
    {
     "name": "stderr",
     "output_type": "stream",
     "text": [
      "  6%|████▋                                                                            | 12/206 [00:07<02:07,  1.52it/s]"
     ]
    },
    {
     "name": "stdout",
     "output_type": "stream",
     "text": [
      "-- column check completed --\n",
      "  columns are satisfied\n",
      "--  featuresV1  --\n",
      "dim: 875\n",
      "N: 27796\n",
      "-----------------\n"
     ]
    },
    {
     "name": "stderr",
     "output_type": "stream",
     "text": [
      "  6%|█████                                                                            | 13/206 [00:08<02:06,  1.53it/s]"
     ]
    },
    {
     "name": "stdout",
     "output_type": "stream",
     "text": [
      "-- column check completed --\n",
      "  columns are satisfied\n",
      "--  featuresV1  --\n",
      "dim: 875\n",
      "N: 27796\n",
      "-----------------\n"
     ]
    },
    {
     "name": "stderr",
     "output_type": "stream",
     "text": [
      "  7%|█████▌                                                                           | 14/206 [00:09<02:05,  1.53it/s]"
     ]
    },
    {
     "name": "stdout",
     "output_type": "stream",
     "text": [
      "-- column check completed --\n",
      "  columns are satisfied\n",
      "--  featuresV1  --\n",
      "dim: 875\n",
      "N: 27796\n",
      "-----------------\n"
     ]
    },
    {
     "name": "stderr",
     "output_type": "stream",
     "text": [
      "  7%|█████▉                                                                           | 15/206 [00:09<02:05,  1.52it/s]"
     ]
    },
    {
     "name": "stdout",
     "output_type": "stream",
     "text": [
      "-- column check completed --\n",
      "  columns are satisfied\n",
      "--  featuresV1  --\n",
      "dim: 875\n",
      "N: 27796\n",
      "-----------------\n"
     ]
    },
    {
     "name": "stderr",
     "output_type": "stream",
     "text": [
      "  8%|██████▎                                                                          | 16/206 [00:10<02:04,  1.52it/s]"
     ]
    },
    {
     "name": "stdout",
     "output_type": "stream",
     "text": [
      "-- column check completed --\n",
      "  columns are satisfied\n",
      "--  featuresV1  --\n",
      "dim: 875\n",
      "N: 27796\n",
      "-----------------\n"
     ]
    },
    {
     "name": "stderr",
     "output_type": "stream",
     "text": [
      "  8%|██████▋                                                                          | 17/206 [00:11<02:03,  1.53it/s]"
     ]
    },
    {
     "name": "stdout",
     "output_type": "stream",
     "text": [
      "-- column check completed --\n",
      "  columns are satisfied\n",
      "--  featuresV1  --\n",
      "dim: 875\n",
      "N: 27796\n",
      "-----------------\n"
     ]
    },
    {
     "name": "stderr",
     "output_type": "stream",
     "text": [
      "  9%|███████                                                                          | 18/206 [00:11<02:02,  1.54it/s]"
     ]
    },
    {
     "name": "stdout",
     "output_type": "stream",
     "text": [
      "-- column check completed --\n",
      "  columns are satisfied\n",
      "--  featuresV1  --\n",
      "dim: 875\n",
      "N: 27796\n",
      "-----------------\n"
     ]
    },
    {
     "name": "stderr",
     "output_type": "stream",
     "text": [
      "  9%|███████▍                                                                         | 19/206 [00:12<02:02,  1.53it/s]"
     ]
    },
    {
     "name": "stdout",
     "output_type": "stream",
     "text": [
      "-- column check completed --\n",
      "  columns are satisfied\n",
      "--  featuresV1  --\n",
      "dim: 875\n",
      "N: 27796\n",
      "-----------------\n"
     ]
    },
    {
     "name": "stderr",
     "output_type": "stream",
     "text": [
      " 10%|███████▊                                                                         | 20/206 [00:13<02:00,  1.54it/s]"
     ]
    },
    {
     "name": "stdout",
     "output_type": "stream",
     "text": [
      "-- column check completed --\n",
      "  columns are satisfied\n",
      "--  featuresV1  --\n",
      "dim: 875\n",
      "N: 27796\n",
      "-----------------\n"
     ]
    },
    {
     "name": "stderr",
     "output_type": "stream",
     "text": [
      " 10%|████████▎                                                                        | 21/206 [00:13<02:00,  1.54it/s]"
     ]
    },
    {
     "name": "stdout",
     "output_type": "stream",
     "text": [
      "-- column check completed --\n",
      "  columns are satisfied\n",
      "--  featuresV1  --\n",
      "dim: 875\n",
      "N: 27796\n",
      "-----------------\n"
     ]
    },
    {
     "name": "stderr",
     "output_type": "stream",
     "text": [
      " 11%|████████▋                                                                        | 22/206 [00:14<01:59,  1.54it/s]"
     ]
    },
    {
     "name": "stdout",
     "output_type": "stream",
     "text": [
      "-- column check completed --\n",
      "  columns are satisfied\n",
      "--  featuresV1  --\n",
      "dim: 875\n",
      "N: 27796\n",
      "-----------------\n"
     ]
    },
    {
     "name": "stderr",
     "output_type": "stream",
     "text": [
      " 11%|█████████                                                                        | 23/206 [00:15<01:58,  1.54it/s]"
     ]
    },
    {
     "name": "stdout",
     "output_type": "stream",
     "text": [
      "-- column check completed --\n",
      "  columns are satisfied\n",
      "--  featuresV1  --\n",
      "dim: 875\n",
      "N: 27796\n",
      "-----------------\n"
     ]
    },
    {
     "name": "stderr",
     "output_type": "stream",
     "text": [
      " 12%|█████████▍                                                                       | 24/206 [00:15<01:58,  1.54it/s]"
     ]
    },
    {
     "name": "stdout",
     "output_type": "stream",
     "text": [
      "-- column check completed --\n",
      "  columns are satisfied\n",
      "--  featuresV1  --\n",
      "dim: 875\n",
      "N: 27796\n",
      "-----------------\n"
     ]
    },
    {
     "name": "stderr",
     "output_type": "stream",
     "text": [
      " 12%|█████████▊                                                                       | 25/206 [00:16<01:57,  1.54it/s]"
     ]
    },
    {
     "name": "stdout",
     "output_type": "stream",
     "text": [
      "-- column check completed --\n",
      "  columns are satisfied\n",
      "--  featuresV1  --\n",
      "dim: 875\n",
      "N: 27796\n",
      "-----------------\n"
     ]
    },
    {
     "name": "stderr",
     "output_type": "stream",
     "text": [
      " 13%|██████████▏                                                                      | 26/206 [00:17<01:56,  1.54it/s]"
     ]
    },
    {
     "name": "stdout",
     "output_type": "stream",
     "text": [
      "-- column check completed --\n",
      "  columns are satisfied\n",
      "--  featuresV1  --\n",
      "dim: 875\n",
      "N: 27796\n",
      "-----------------\n"
     ]
    },
    {
     "name": "stderr",
     "output_type": "stream",
     "text": [
      " 13%|██████████▌                                                                      | 27/206 [00:17<01:55,  1.55it/s]"
     ]
    },
    {
     "name": "stdout",
     "output_type": "stream",
     "text": [
      "-- column check completed --\n",
      "  columns are satisfied\n",
      "--  featuresV1  --\n",
      "dim: 875\n",
      "N: 27796\n",
      "-----------------\n"
     ]
    },
    {
     "name": "stderr",
     "output_type": "stream",
     "text": [
      " 14%|███████████                                                                      | 28/206 [00:18<01:55,  1.55it/s]"
     ]
    },
    {
     "name": "stdout",
     "output_type": "stream",
     "text": [
      "-- column check completed --\n",
      "  columns are satisfied\n",
      "--  featuresV1  --\n",
      "dim: 875\n",
      "N: 27796\n",
      "-----------------\n"
     ]
    },
    {
     "name": "stderr",
     "output_type": "stream",
     "text": [
      " 14%|███████████▍                                                                     | 29/206 [00:18<01:54,  1.54it/s]"
     ]
    },
    {
     "name": "stdout",
     "output_type": "stream",
     "text": [
      "-- column check completed --\n",
      "  columns are satisfied\n",
      "--  featuresV1  --\n",
      "dim: 875\n",
      "N: 27796\n",
      "-----------------\n"
     ]
    },
    {
     "name": "stderr",
     "output_type": "stream",
     "text": [
      " 15%|███████████▊                                                                     | 30/206 [00:19<01:54,  1.54it/s]"
     ]
    },
    {
     "name": "stdout",
     "output_type": "stream",
     "text": [
      "-- column check completed --\n",
      "  columns are satisfied\n",
      "--  featuresV1  --\n",
      "dim: 875\n",
      "N: 27796\n",
      "-----------------\n"
     ]
    },
    {
     "name": "stderr",
     "output_type": "stream",
     "text": [
      " 15%|████████████▏                                                                    | 31/206 [00:20<01:53,  1.54it/s]"
     ]
    },
    {
     "name": "stdout",
     "output_type": "stream",
     "text": [
      "-- column check completed --\n",
      "  columns are satisfied\n",
      "--  featuresV1  --\n",
      "dim: 875\n",
      "N: 27796\n",
      "-----------------\n"
     ]
    },
    {
     "name": "stderr",
     "output_type": "stream",
     "text": [
      " 16%|████████████▌                                                                    | 32/206 [00:20<01:52,  1.54it/s]"
     ]
    },
    {
     "name": "stdout",
     "output_type": "stream",
     "text": [
      "-- column check completed --\n",
      "  columns are satisfied\n",
      "--  featuresV1  --\n",
      "dim: 875\n",
      "N: 27796\n",
      "-----------------\n"
     ]
    },
    {
     "name": "stderr",
     "output_type": "stream",
     "text": [
      " 16%|████████████▉                                                                    | 33/206 [00:21<01:52,  1.53it/s]"
     ]
    },
    {
     "name": "stdout",
     "output_type": "stream",
     "text": [
      "-- column check completed --\n",
      "  columns are satisfied\n",
      "--  featuresV1  --\n",
      "dim: 875\n",
      "N: 27796\n",
      "-----------------\n"
     ]
    },
    {
     "name": "stderr",
     "output_type": "stream",
     "text": [
      " 17%|█████████████▎                                                                   | 34/206 [00:22<01:51,  1.54it/s]"
     ]
    },
    {
     "name": "stdout",
     "output_type": "stream",
     "text": [
      "-- column check completed --\n",
      "  columns are satisfied\n",
      "--  featuresV1  --\n",
      "dim: 875\n",
      "N: 27796\n",
      "-----------------\n"
     ]
    },
    {
     "name": "stderr",
     "output_type": "stream",
     "text": [
      " 17%|█████████████▊                                                                   | 35/206 [00:22<01:51,  1.54it/s]"
     ]
    },
    {
     "name": "stdout",
     "output_type": "stream",
     "text": [
      "-- column check completed --\n",
      "  columns are satisfied\n",
      "--  featuresV1  --\n",
      "dim: 875\n",
      "N: 27796\n",
      "-----------------\n"
     ]
    },
    {
     "name": "stderr",
     "output_type": "stream",
     "text": [
      " 17%|██████████████▏                                                                  | 36/206 [00:23<01:49,  1.55it/s]"
     ]
    },
    {
     "name": "stdout",
     "output_type": "stream",
     "text": [
      "-- column check completed --\n",
      "  columns are satisfied\n",
      "--  featuresV1  --\n",
      "dim: 875\n",
      "N: 27796\n",
      "-----------------\n"
     ]
    },
    {
     "name": "stderr",
     "output_type": "stream",
     "text": [
      " 18%|██████████████▌                                                                  | 37/206 [00:24<01:48,  1.55it/s]"
     ]
    },
    {
     "name": "stdout",
     "output_type": "stream",
     "text": [
      "-- column check completed --\n",
      "  columns are satisfied\n",
      "--  featuresV1  --\n",
      "dim: 875\n",
      "N: 27796\n",
      "-----------------\n"
     ]
    },
    {
     "name": "stderr",
     "output_type": "stream",
     "text": [
      " 18%|██████████████▉                                                                  | 38/206 [00:24<01:47,  1.56it/s]"
     ]
    },
    {
     "name": "stdout",
     "output_type": "stream",
     "text": [
      "-- column check completed --\n",
      "  columns are satisfied\n",
      "--  featuresV1  --\n",
      "dim: 875\n",
      "N: 27796\n",
      "-----------------\n"
     ]
    },
    {
     "name": "stderr",
     "output_type": "stream",
     "text": [
      " 19%|███████████████▎                                                                 | 39/206 [00:25<01:46,  1.56it/s]"
     ]
    },
    {
     "name": "stdout",
     "output_type": "stream",
     "text": [
      "-- column check completed --\n",
      "  columns are satisfied\n",
      "--  featuresV1  --\n",
      "dim: 875\n",
      "N: 27796\n",
      "-----------------\n"
     ]
    },
    {
     "name": "stderr",
     "output_type": "stream",
     "text": [
      " 19%|███████████████▋                                                                 | 40/206 [00:26<01:46,  1.55it/s]"
     ]
    },
    {
     "name": "stdout",
     "output_type": "stream",
     "text": [
      "-- column check completed --\n",
      "  columns are satisfied\n",
      "--  featuresV1  --\n",
      "dim: 875\n",
      "N: 27796\n",
      "-----------------\n"
     ]
    },
    {
     "name": "stderr",
     "output_type": "stream",
     "text": [
      " 20%|████████████████                                                                 | 41/206 [00:26<01:45,  1.56it/s]"
     ]
    },
    {
     "name": "stdout",
     "output_type": "stream",
     "text": [
      "-- column check completed --\n",
      "  columns are satisfied\n",
      "--  featuresV1  --\n",
      "dim: 875\n",
      "N: 27796\n",
      "-----------------\n"
     ]
    },
    {
     "name": "stderr",
     "output_type": "stream",
     "text": [
      " 20%|████████████████▌                                                                | 42/206 [00:27<01:45,  1.55it/s]"
     ]
    },
    {
     "name": "stdout",
     "output_type": "stream",
     "text": [
      "-- column check completed --\n",
      "  columns are satisfied\n",
      "--  featuresV1  --\n",
      "dim: 875\n",
      "N: 27796\n",
      "-----------------\n"
     ]
    },
    {
     "name": "stderr",
     "output_type": "stream",
     "text": [
      " 21%|████████████████▉                                                                | 43/206 [00:27<01:45,  1.55it/s]"
     ]
    },
    {
     "name": "stdout",
     "output_type": "stream",
     "text": [
      "-- column check completed --\n",
      "  columns are satisfied\n",
      "--  featuresV1  --\n",
      "dim: 875\n",
      "N: 27796\n",
      "-----------------\n"
     ]
    },
    {
     "name": "stderr",
     "output_type": "stream",
     "text": [
      " 21%|█████████████████▎                                                               | 44/206 [00:28<01:44,  1.54it/s]"
     ]
    },
    {
     "name": "stdout",
     "output_type": "stream",
     "text": [
      "-- column check completed --\n",
      "  columns are satisfied\n",
      "--  featuresV1  --\n",
      "dim: 875\n",
      "N: 27796\n",
      "-----------------\n"
     ]
    },
    {
     "name": "stderr",
     "output_type": "stream",
     "text": [
      " 22%|█████████████████▋                                                               | 45/206 [00:29<01:43,  1.55it/s]"
     ]
    },
    {
     "name": "stdout",
     "output_type": "stream",
     "text": [
      "-- column check completed --\n",
      "  columns are satisfied\n",
      "--  featuresV1  --\n",
      "dim: 875\n",
      "N: 27796\n",
      "-----------------\n"
     ]
    },
    {
     "name": "stderr",
     "output_type": "stream",
     "text": [
      " 22%|██████████████████                                                               | 46/206 [00:29<01:42,  1.56it/s]"
     ]
    },
    {
     "name": "stdout",
     "output_type": "stream",
     "text": [
      "-- column check completed --\n",
      "  columns are satisfied\n",
      "--  featuresV1  --\n",
      "dim: 875\n",
      "N: 27796\n",
      "-----------------\n"
     ]
    },
    {
     "name": "stderr",
     "output_type": "stream",
     "text": [
      " 23%|██████████████████▍                                                              | 47/206 [00:30<01:41,  1.56it/s]"
     ]
    },
    {
     "name": "stdout",
     "output_type": "stream",
     "text": [
      "-- column check completed --\n",
      "  columns are satisfied\n",
      "--  featuresV1  --\n",
      "dim: 875\n",
      "N: 27796\n",
      "-----------------\n"
     ]
    },
    {
     "name": "stderr",
     "output_type": "stream",
     "text": [
      " 23%|██████████████████▊                                                              | 48/206 [00:31<01:41,  1.56it/s]"
     ]
    },
    {
     "name": "stdout",
     "output_type": "stream",
     "text": [
      "-- column check completed --\n",
      "  columns are satisfied\n",
      "--  featuresV1  --\n",
      "dim: 875\n",
      "N: 27796\n",
      "-----------------\n"
     ]
    },
    {
     "name": "stderr",
     "output_type": "stream",
     "text": [
      " 24%|███████████████████▎                                                             | 49/206 [00:31<01:40,  1.56it/s]"
     ]
    },
    {
     "name": "stdout",
     "output_type": "stream",
     "text": [
      "-- column check completed --\n",
      "  columns are satisfied\n",
      "--  featuresV1  --\n",
      "dim: 875\n",
      "N: 27796\n",
      "-----------------\n"
     ]
    },
    {
     "name": "stderr",
     "output_type": "stream",
     "text": [
      " 24%|███████████████████▋                                                             | 50/206 [00:32<01:39,  1.56it/s]"
     ]
    },
    {
     "name": "stdout",
     "output_type": "stream",
     "text": [
      "-- column check completed --\n",
      "  columns are satisfied\n",
      "--  featuresV1  --\n",
      "dim: 875\n",
      "N: 27796\n",
      "-----------------\n"
     ]
    },
    {
     "name": "stderr",
     "output_type": "stream",
     "text": [
      " 25%|████████████████████                                                             | 51/206 [00:33<01:39,  1.56it/s]"
     ]
    },
    {
     "name": "stdout",
     "output_type": "stream",
     "text": [
      "-- column check completed --\n",
      "  columns are satisfied\n",
      "--  featuresV1  --\n",
      "dim: 875\n",
      "N: 27796\n",
      "-----------------\n"
     ]
    },
    {
     "name": "stderr",
     "output_type": "stream",
     "text": [
      " 25%|████████████████████▍                                                            | 52/206 [00:33<01:38,  1.56it/s]"
     ]
    },
    {
     "name": "stdout",
     "output_type": "stream",
     "text": [
      "-- column check completed --\n",
      "  columns are satisfied\n",
      "--  featuresV1  --\n",
      "dim: 875\n",
      "N: 27796\n",
      "-----------------\n"
     ]
    },
    {
     "name": "stderr",
     "output_type": "stream",
     "text": [
      " 26%|████████████████████▊                                                            | 53/206 [00:34<01:37,  1.57it/s]"
     ]
    },
    {
     "name": "stdout",
     "output_type": "stream",
     "text": [
      "-- column check completed --\n",
      "  columns are satisfied\n",
      "--  featuresV1  --\n",
      "dim: 875\n",
      "N: 27796\n",
      "-----------------\n"
     ]
    },
    {
     "name": "stderr",
     "output_type": "stream",
     "text": [
      " 26%|█████████████████████▏                                                           | 54/206 [00:35<01:36,  1.58it/s]"
     ]
    },
    {
     "name": "stdout",
     "output_type": "stream",
     "text": [
      "-- column check completed --\n",
      "  columns are satisfied\n",
      "--  featuresV1  --\n",
      "dim: 875\n",
      "N: 27796\n",
      "-----------------\n"
     ]
    },
    {
     "name": "stderr",
     "output_type": "stream",
     "text": [
      " 27%|█████████████████████▋                                                           | 55/206 [00:35<01:36,  1.57it/s]"
     ]
    },
    {
     "name": "stdout",
     "output_type": "stream",
     "text": [
      "-- column check completed --\n",
      "  columns are satisfied\n",
      "--  featuresV1  --\n",
      "dim: 875\n",
      "N: 27796\n",
      "-----------------\n"
     ]
    },
    {
     "name": "stderr",
     "output_type": "stream",
     "text": [
      " 27%|██████████████████████                                                           | 56/206 [00:36<01:35,  1.57it/s]"
     ]
    },
    {
     "name": "stdout",
     "output_type": "stream",
     "text": [
      "-- column check completed --\n",
      "  columns are satisfied\n",
      "--  featuresV1  --\n",
      "dim: 875\n",
      "N: 27796\n",
      "-----------------\n"
     ]
    },
    {
     "name": "stderr",
     "output_type": "stream",
     "text": [
      " 28%|██████████████████████▍                                                          | 57/206 [00:36<01:35,  1.56it/s]"
     ]
    },
    {
     "name": "stdout",
     "output_type": "stream",
     "text": [
      "-- column check completed --\n",
      "  columns are satisfied\n",
      "--  featuresV1  --\n",
      "dim: 875\n",
      "N: 27796\n",
      "-----------------\n"
     ]
    },
    {
     "name": "stderr",
     "output_type": "stream",
     "text": [
      " 28%|██████████████████████▊                                                          | 58/206 [00:37<01:33,  1.58it/s]"
     ]
    },
    {
     "name": "stdout",
     "output_type": "stream",
     "text": [
      "-- column check completed --\n",
      "  columns are satisfied\n",
      "--  featuresV1  --\n",
      "dim: 875\n",
      "N: 27796\n",
      "-----------------\n"
     ]
    },
    {
     "name": "stderr",
     "output_type": "stream",
     "text": [
      " 29%|███████████████████████▏                                                         | 59/206 [00:38<01:33,  1.57it/s]"
     ]
    },
    {
     "name": "stdout",
     "output_type": "stream",
     "text": [
      "-- column check completed --\n",
      "  columns are satisfied\n",
      "--  featuresV1  --\n",
      "dim: 875\n",
      "N: 27796\n",
      "-----------------\n"
     ]
    },
    {
     "name": "stderr",
     "output_type": "stream",
     "text": [
      " 29%|███████████████████████▌                                                         | 60/206 [00:38<01:33,  1.56it/s]"
     ]
    },
    {
     "name": "stdout",
     "output_type": "stream",
     "text": [
      "-- column check completed --\n",
      "  columns are satisfied\n",
      "--  featuresV1  --\n",
      "dim: 875\n",
      "N: 27796\n",
      "-----------------\n"
     ]
    },
    {
     "name": "stderr",
     "output_type": "stream",
     "text": [
      " 30%|███████████████████████▉                                                         | 61/206 [00:39<01:33,  1.55it/s]"
     ]
    },
    {
     "name": "stdout",
     "output_type": "stream",
     "text": [
      "-- column check completed --\n",
      "  columns are satisfied\n",
      "--  featuresV1  --\n",
      "dim: 875\n",
      "N: 27796\n",
      "-----------------\n"
     ]
    },
    {
     "name": "stderr",
     "output_type": "stream",
     "text": [
      " 30%|████████████████████████▍                                                        | 62/206 [00:40<01:32,  1.55it/s]"
     ]
    },
    {
     "name": "stdout",
     "output_type": "stream",
     "text": [
      "-- column check completed --\n",
      "  columns are satisfied\n",
      "--  featuresV1  --\n",
      "dim: 875\n",
      "N: 27796\n",
      "-----------------\n"
     ]
    },
    {
     "name": "stderr",
     "output_type": "stream",
     "text": [
      " 31%|████████████████████████▊                                                        | 63/206 [00:40<01:31,  1.56it/s]"
     ]
    },
    {
     "name": "stdout",
     "output_type": "stream",
     "text": [
      "-- column check completed --\n",
      "  columns are satisfied\n",
      "--  featuresV1  --\n",
      "dim: 875\n",
      "N: 27796\n",
      "-----------------\n"
     ]
    },
    {
     "name": "stderr",
     "output_type": "stream",
     "text": [
      " 31%|█████████████████████████▏                                                       | 64/206 [00:41<01:30,  1.56it/s]"
     ]
    },
    {
     "name": "stdout",
     "output_type": "stream",
     "text": [
      "-- column check completed --\n",
      "  columns are satisfied\n",
      "--  featuresV1  --\n",
      "dim: 875\n",
      "N: 27796\n",
      "-----------------\n"
     ]
    },
    {
     "name": "stderr",
     "output_type": "stream",
     "text": [
      " 32%|█████████████████████████▌                                                       | 65/206 [00:42<01:31,  1.55it/s]"
     ]
    },
    {
     "name": "stdout",
     "output_type": "stream",
     "text": [
      "-- column check completed --\n",
      "  columns are satisfied\n",
      "--  featuresV1  --\n",
      "dim: 875\n",
      "N: 27796\n",
      "-----------------\n"
     ]
    },
    {
     "name": "stderr",
     "output_type": "stream",
     "text": [
      " 32%|█████████████████████████▉                                                       | 66/206 [00:42<01:30,  1.55it/s]"
     ]
    },
    {
     "name": "stdout",
     "output_type": "stream",
     "text": [
      "-- column check completed --\n",
      "  columns are satisfied\n",
      "--  featuresV1  --\n",
      "dim: 875\n",
      "N: 27796\n",
      "-----------------\n"
     ]
    },
    {
     "name": "stderr",
     "output_type": "stream",
     "text": [
      " 33%|██████████████████████████▎                                                      | 67/206 [00:43<01:29,  1.55it/s]"
     ]
    },
    {
     "name": "stdout",
     "output_type": "stream",
     "text": [
      "-- column check completed --\n",
      "  columns are satisfied\n",
      "--  featuresV1  --\n",
      "dim: 875\n",
      "N: 27796\n",
      "-----------------\n"
     ]
    },
    {
     "name": "stderr",
     "output_type": "stream",
     "text": [
      " 33%|██████████████████████████▋                                                      | 68/206 [00:44<01:28,  1.56it/s]"
     ]
    },
    {
     "name": "stdout",
     "output_type": "stream",
     "text": [
      "-- column check completed --\n",
      "  columns are satisfied\n",
      "--  featuresV1  --\n",
      "dim: 875\n",
      "N: 27796\n",
      "-----------------\n"
     ]
    },
    {
     "name": "stderr",
     "output_type": "stream",
     "text": [
      " 33%|███████████████████████████▏                                                     | 69/206 [00:44<01:28,  1.56it/s]"
     ]
    },
    {
     "name": "stdout",
     "output_type": "stream",
     "text": [
      "-- column check completed --\n",
      "  columns are satisfied\n",
      "--  featuresV1  --\n",
      "dim: 875\n",
      "N: 27796\n",
      "-----------------\n"
     ]
    },
    {
     "name": "stderr",
     "output_type": "stream",
     "text": [
      " 34%|███████████████████████████▌                                                     | 70/206 [00:45<01:27,  1.55it/s]"
     ]
    },
    {
     "name": "stdout",
     "output_type": "stream",
     "text": [
      "-- column check completed --\n",
      "  columns are satisfied\n",
      "--  featuresV1  --\n",
      "dim: 875\n",
      "N: 27796\n",
      "-----------------\n"
     ]
    },
    {
     "name": "stderr",
     "output_type": "stream",
     "text": [
      " 34%|███████████████████████████▉                                                     | 71/206 [00:45<01:26,  1.56it/s]"
     ]
    },
    {
     "name": "stdout",
     "output_type": "stream",
     "text": [
      "-- column check completed --\n",
      "  columns are satisfied\n",
      "--  featuresV1  --\n",
      "dim: 875\n",
      "N: 27796\n",
      "-----------------\n"
     ]
    },
    {
     "name": "stderr",
     "output_type": "stream",
     "text": [
      " 35%|████████████████████████████▎                                                    | 72/206 [00:46<01:26,  1.55it/s]"
     ]
    },
    {
     "name": "stdout",
     "output_type": "stream",
     "text": [
      "-- column check completed --\n",
      "  columns are satisfied\n",
      "--  featuresV1  --\n",
      "dim: 875\n",
      "N: 27796\n",
      "-----------------\n"
     ]
    },
    {
     "name": "stderr",
     "output_type": "stream",
     "text": [
      " 35%|████████████████████████████▋                                                    | 73/206 [00:47<01:25,  1.55it/s]"
     ]
    },
    {
     "name": "stdout",
     "output_type": "stream",
     "text": [
      "-- column check completed --\n",
      "  columns are satisfied\n",
      "--  featuresV1  --\n",
      "dim: 875\n",
      "N: 27796\n",
      "-----------------\n"
     ]
    },
    {
     "name": "stderr",
     "output_type": "stream",
     "text": [
      " 36%|█████████████████████████████                                                    | 74/206 [00:47<01:25,  1.55it/s]"
     ]
    },
    {
     "name": "stdout",
     "output_type": "stream",
     "text": [
      "-- column check completed --\n",
      "  columns are satisfied\n",
      "--  featuresV1  --\n",
      "dim: 875\n",
      "N: 27796\n",
      "-----------------\n"
     ]
    },
    {
     "name": "stderr",
     "output_type": "stream",
     "text": [
      " 36%|█████████████████████████████▍                                                   | 75/206 [00:48<01:23,  1.56it/s]"
     ]
    },
    {
     "name": "stdout",
     "output_type": "stream",
     "text": [
      "-- column check completed --\n",
      "  columns are satisfied\n",
      "--  featuresV1  --\n",
      "dim: 875\n",
      "N: 27796\n",
      "-----------------\n"
     ]
    },
    {
     "name": "stderr",
     "output_type": "stream",
     "text": [
      " 37%|█████████████████████████████▉                                                   | 76/206 [00:49<01:23,  1.56it/s]"
     ]
    },
    {
     "name": "stdout",
     "output_type": "stream",
     "text": [
      "-- column check completed --\n",
      "  columns are satisfied\n",
      "--  featuresV1  --\n",
      "dim: 875\n",
      "N: 27796\n",
      "-----------------\n"
     ]
    },
    {
     "name": "stderr",
     "output_type": "stream",
     "text": [
      " 37%|██████████████████████████████▎                                                  | 77/206 [00:49<01:22,  1.56it/s]"
     ]
    },
    {
     "name": "stdout",
     "output_type": "stream",
     "text": [
      "-- column check completed --\n",
      "  columns are satisfied\n",
      "--  featuresV1  --\n",
      "dim: 875\n",
      "N: 27796\n",
      "-----------------\n"
     ]
    },
    {
     "name": "stderr",
     "output_type": "stream",
     "text": [
      " 38%|██████████████████████████████▋                                                  | 78/206 [00:50<01:22,  1.55it/s]"
     ]
    },
    {
     "name": "stdout",
     "output_type": "stream",
     "text": [
      "-- column check completed --\n",
      "  columns are satisfied\n",
      "--  featuresV1  --\n",
      "dim: 875\n",
      "N: 27796\n",
      "-----------------\n"
     ]
    },
    {
     "name": "stderr",
     "output_type": "stream",
     "text": [
      " 38%|███████████████████████████████                                                  | 79/206 [00:51<01:21,  1.55it/s]"
     ]
    },
    {
     "name": "stdout",
     "output_type": "stream",
     "text": [
      "-- column check completed --\n",
      "  columns are satisfied\n",
      "--  featuresV1  --\n",
      "dim: 875\n",
      "N: 27796\n",
      "-----------------\n"
     ]
    },
    {
     "name": "stderr",
     "output_type": "stream",
     "text": [
      " 39%|███████████████████████████████▍                                                 | 80/206 [00:51<01:21,  1.55it/s]"
     ]
    },
    {
     "name": "stdout",
     "output_type": "stream",
     "text": [
      "-- column check completed --\n",
      "  columns are satisfied\n",
      "--  featuresV1  --\n",
      "dim: 875\n",
      "N: 27796\n",
      "-----------------\n"
     ]
    },
    {
     "name": "stderr",
     "output_type": "stream",
     "text": [
      " 39%|███████████████████████████████▊                                                 | 81/206 [00:52<01:21,  1.54it/s]"
     ]
    },
    {
     "name": "stdout",
     "output_type": "stream",
     "text": [
      "-- column check completed --\n",
      "  columns are satisfied\n",
      "--  featuresV1  --\n",
      "dim: 875\n",
      "N: 27796\n",
      "-----------------\n"
     ]
    },
    {
     "name": "stderr",
     "output_type": "stream",
     "text": [
      " 40%|████████████████████████████████▏                                                | 82/206 [00:53<01:20,  1.54it/s]"
     ]
    },
    {
     "name": "stdout",
     "output_type": "stream",
     "text": [
      "-- column check completed --\n",
      "  columns are satisfied\n",
      "--  featuresV1  --\n",
      "dim: 875\n",
      "N: 27796\n",
      "-----------------\n"
     ]
    },
    {
     "name": "stderr",
     "output_type": "stream",
     "text": [
      " 40%|████████████████████████████████▋                                                | 83/206 [00:53<01:19,  1.54it/s]"
     ]
    },
    {
     "name": "stdout",
     "output_type": "stream",
     "text": [
      "-- column check completed --\n",
      "  columns are satisfied\n",
      "--  featuresV1  --\n",
      "dim: 875\n",
      "N: 27796\n",
      "-----------------\n"
     ]
    },
    {
     "name": "stderr",
     "output_type": "stream",
     "text": [
      " 41%|█████████████████████████████████                                                | 84/206 [00:54<01:19,  1.53it/s]"
     ]
    },
    {
     "name": "stdout",
     "output_type": "stream",
     "text": [
      "-- column check completed --\n",
      "  columns are satisfied\n",
      "--  featuresV1  --\n",
      "dim: 875\n",
      "N: 27796\n",
      "-----------------\n"
     ]
    },
    {
     "name": "stderr",
     "output_type": "stream",
     "text": [
      " 41%|█████████████████████████████████▍                                               | 85/206 [00:54<01:18,  1.54it/s]"
     ]
    },
    {
     "name": "stdout",
     "output_type": "stream",
     "text": [
      "-- column check completed --\n",
      "  columns are satisfied\n",
      "--  featuresV1  --\n",
      "dim: 875\n",
      "N: 27796\n",
      "-----------------\n"
     ]
    },
    {
     "name": "stderr",
     "output_type": "stream",
     "text": [
      " 42%|█████████████████████████████████▊                                               | 86/206 [00:55<01:17,  1.55it/s]"
     ]
    },
    {
     "name": "stdout",
     "output_type": "stream",
     "text": [
      "-- column check completed --\n",
      "  columns are satisfied\n",
      "--  featuresV1  --\n",
      "dim: 875\n",
      "N: 27796\n",
      "-----------------\n"
     ]
    },
    {
     "name": "stderr",
     "output_type": "stream",
     "text": [
      " 42%|██████████████████████████████████▏                                              | 87/206 [00:56<01:16,  1.56it/s]"
     ]
    },
    {
     "name": "stdout",
     "output_type": "stream",
     "text": [
      "-- column check completed --\n",
      "  columns are satisfied\n",
      "--  featuresV1  --\n",
      "dim: 875\n",
      "N: 27796\n",
      "-----------------\n"
     ]
    },
    {
     "name": "stderr",
     "output_type": "stream",
     "text": [
      " 43%|██████████████████████████████████▌                                              | 88/206 [00:56<01:14,  1.57it/s]"
     ]
    },
    {
     "name": "stdout",
     "output_type": "stream",
     "text": [
      "-- column check completed --\n",
      "  columns are satisfied\n",
      "--  featuresV1  --\n",
      "dim: 875\n",
      "N: 27796\n",
      "-----------------\n"
     ]
    },
    {
     "name": "stderr",
     "output_type": "stream",
     "text": [
      " 43%|██████████████████████████████████▉                                              | 89/206 [00:57<01:14,  1.57it/s]"
     ]
    },
    {
     "name": "stdout",
     "output_type": "stream",
     "text": [
      "-- column check completed --\n",
      "  columns are satisfied\n",
      "--  featuresV1  --\n",
      "dim: 875\n",
      "N: 27796\n",
      "-----------------\n"
     ]
    },
    {
     "name": "stderr",
     "output_type": "stream",
     "text": [
      " 44%|███████████████████████████████████▍                                             | 90/206 [00:58<01:14,  1.56it/s]"
     ]
    },
    {
     "name": "stdout",
     "output_type": "stream",
     "text": [
      "-- column check completed --\n",
      "  columns are satisfied\n",
      "--  featuresV1  --\n",
      "dim: 875\n",
      "N: 27796\n",
      "-----------------\n"
     ]
    },
    {
     "name": "stderr",
     "output_type": "stream",
     "text": [
      " 44%|███████████████████████████████████▊                                             | 91/206 [00:58<01:13,  1.56it/s]"
     ]
    },
    {
     "name": "stdout",
     "output_type": "stream",
     "text": [
      "-- column check completed --\n",
      "  columns are satisfied\n",
      "--  featuresV1  --\n",
      "dim: 875\n",
      "N: 27796\n",
      "-----------------\n"
     ]
    },
    {
     "name": "stderr",
     "output_type": "stream",
     "text": [
      " 45%|████████████████████████████████████▏                                            | 92/206 [00:59<01:13,  1.54it/s]"
     ]
    },
    {
     "name": "stdout",
     "output_type": "stream",
     "text": [
      "-- column check completed --\n",
      "  columns are satisfied\n",
      "--  featuresV1  --\n",
      "dim: 875\n",
      "N: 27796\n",
      "-----------------\n"
     ]
    },
    {
     "name": "stderr",
     "output_type": "stream",
     "text": [
      " 45%|████████████████████████████████████▌                                            | 93/206 [01:00<01:12,  1.55it/s]"
     ]
    },
    {
     "name": "stdout",
     "output_type": "stream",
     "text": [
      "-- column check completed --\n",
      "  columns are satisfied\n",
      "--  featuresV1  --\n",
      "dim: 875\n",
      "N: 27796\n",
      "-----------------\n"
     ]
    },
    {
     "name": "stderr",
     "output_type": "stream",
     "text": [
      " 46%|████████████████████████████████████▉                                            | 94/206 [01:00<01:12,  1.54it/s]"
     ]
    },
    {
     "name": "stdout",
     "output_type": "stream",
     "text": [
      "-- column check completed --\n",
      "  columns are satisfied\n",
      "--  featuresV1  --\n",
      "dim: 875\n",
      "N: 27796\n",
      "-----------------\n"
     ]
    },
    {
     "name": "stderr",
     "output_type": "stream",
     "text": [
      " 46%|█████████████████████████████████████▎                                           | 95/206 [01:01<01:11,  1.55it/s]"
     ]
    },
    {
     "name": "stdout",
     "output_type": "stream",
     "text": [
      "-- column check completed --\n",
      "  columns are satisfied\n",
      "--  featuresV1  --\n",
      "dim: 875\n",
      "N: 27796\n",
      "-----------------\n"
     ]
    },
    {
     "name": "stderr",
     "output_type": "stream",
     "text": [
      " 47%|█████████████████████████████████████▋                                           | 96/206 [01:02<01:11,  1.54it/s]"
     ]
    },
    {
     "name": "stdout",
     "output_type": "stream",
     "text": [
      "-- column check completed --\n",
      "  columns are satisfied\n",
      "--  featuresV1  --\n",
      "dim: 875\n",
      "N: 27796\n",
      "-----------------\n"
     ]
    },
    {
     "name": "stderr",
     "output_type": "stream",
     "text": [
      " 47%|██████████████████████████████████████▏                                          | 97/206 [01:02<01:10,  1.55it/s]"
     ]
    },
    {
     "name": "stdout",
     "output_type": "stream",
     "text": [
      "-- column check completed --\n",
      "  columns are satisfied\n",
      "--  featuresV1  --\n",
      "dim: 875\n",
      "N: 27796\n",
      "-----------------\n"
     ]
    },
    {
     "name": "stderr",
     "output_type": "stream",
     "text": [
      " 48%|██████████████████████████████████████▌                                          | 98/206 [01:03<01:09,  1.56it/s]"
     ]
    },
    {
     "name": "stdout",
     "output_type": "stream",
     "text": [
      "-- column check completed --\n",
      "  columns are satisfied\n",
      "--  featuresV1  --\n",
      "dim: 875\n",
      "N: 27796\n",
      "-----------------\n"
     ]
    },
    {
     "name": "stderr",
     "output_type": "stream",
     "text": [
      " 48%|██████████████████████████████████████▉                                          | 99/206 [01:03<01:09,  1.55it/s]"
     ]
    },
    {
     "name": "stdout",
     "output_type": "stream",
     "text": [
      "-- column check completed --\n",
      "  columns are satisfied\n",
      "--  featuresV1  --\n",
      "dim: 875\n",
      "N: 27796\n",
      "-----------------\n"
     ]
    },
    {
     "name": "stderr",
     "output_type": "stream",
     "text": [
      " 49%|██████████████████████████████████████▊                                         | 100/206 [01:04<01:09,  1.53it/s]"
     ]
    },
    {
     "name": "stdout",
     "output_type": "stream",
     "text": [
      "-- column check completed --\n",
      "  columns are satisfied\n",
      "--  featuresV1  --\n",
      "dim: 875\n",
      "N: 27796\n",
      "-----------------\n"
     ]
    },
    {
     "name": "stderr",
     "output_type": "stream",
     "text": [
      " 49%|███████████████████████████████████████▏                                        | 101/206 [01:05<01:07,  1.55it/s]"
     ]
    },
    {
     "name": "stdout",
     "output_type": "stream",
     "text": [
      "-- column check completed --\n",
      "  columns are satisfied\n",
      "--  featuresV1  --\n",
      "dim: 875\n",
      "N: 27796\n",
      "-----------------\n"
     ]
    },
    {
     "name": "stderr",
     "output_type": "stream",
     "text": [
      " 50%|███████████████████████████████████████▌                                        | 102/206 [01:05<01:07,  1.55it/s]"
     ]
    },
    {
     "name": "stdout",
     "output_type": "stream",
     "text": [
      "-- column check completed --\n",
      "  columns are satisfied\n",
      "--  featuresV1  --\n",
      "dim: 875\n",
      "N: 27796\n",
      "-----------------\n"
     ]
    },
    {
     "name": "stderr",
     "output_type": "stream",
     "text": [
      " 50%|████████████████████████████████████████                                        | 103/206 [01:06<01:05,  1.56it/s]"
     ]
    },
    {
     "name": "stdout",
     "output_type": "stream",
     "text": [
      "-- column check completed --\n",
      "  columns are satisfied\n",
      "--  featuresV1  --\n",
      "dim: 875\n",
      "N: 27796\n",
      "-----------------\n"
     ]
    },
    {
     "name": "stderr",
     "output_type": "stream",
     "text": [
      " 50%|████████████████████████████████████████▍                                       | 104/206 [01:07<01:05,  1.56it/s]"
     ]
    },
    {
     "name": "stdout",
     "output_type": "stream",
     "text": [
      "-- column check completed --\n",
      "  columns are satisfied\n",
      "--  featuresV1  --\n",
      "dim: 875\n",
      "N: 27796\n",
      "-----------------\n"
     ]
    },
    {
     "name": "stderr",
     "output_type": "stream",
     "text": [
      " 51%|████████████████████████████████████████▊                                       | 105/206 [01:07<01:04,  1.56it/s]"
     ]
    },
    {
     "name": "stdout",
     "output_type": "stream",
     "text": [
      "-- column check completed --\n",
      "  columns are satisfied\n",
      "--  featuresV1  --\n",
      "dim: 875\n",
      "N: 27796\n",
      "-----------------\n"
     ]
    },
    {
     "name": "stderr",
     "output_type": "stream",
     "text": [
      " 51%|█████████████████████████████████████████▏                                      | 106/206 [01:08<01:04,  1.56it/s]"
     ]
    },
    {
     "name": "stdout",
     "output_type": "stream",
     "text": [
      "-- column check completed --\n",
      "  columns are satisfied\n",
      "--  featuresV1  --\n",
      "dim: 875\n",
      "N: 27796\n",
      "-----------------\n"
     ]
    },
    {
     "name": "stderr",
     "output_type": "stream",
     "text": [
      " 52%|█████████████████████████████████████████▌                                      | 107/206 [01:09<01:03,  1.55it/s]"
     ]
    },
    {
     "name": "stdout",
     "output_type": "stream",
     "text": [
      "-- column check completed --\n",
      "  columns are satisfied\n",
      "--  featuresV1  --\n",
      "dim: 875\n",
      "N: 27796\n",
      "-----------------\n"
     ]
    },
    {
     "name": "stderr",
     "output_type": "stream",
     "text": [
      " 52%|█████████████████████████████████████████▉                                      | 108/206 [01:09<01:02,  1.56it/s]"
     ]
    },
    {
     "name": "stdout",
     "output_type": "stream",
     "text": [
      "-- column check completed --\n",
      "  columns are satisfied\n",
      "--  featuresV1  --\n",
      "dim: 875\n",
      "N: 27796\n",
      "-----------------\n"
     ]
    },
    {
     "name": "stderr",
     "output_type": "stream",
     "text": [
      " 53%|██████████████████████████████████████████▎                                     | 109/206 [01:10<01:01,  1.57it/s]"
     ]
    },
    {
     "name": "stdout",
     "output_type": "stream",
     "text": [
      "-- column check completed --\n",
      "  columns are satisfied\n",
      "--  featuresV1  --\n",
      "dim: 875\n",
      "N: 27796\n",
      "-----------------\n"
     ]
    },
    {
     "name": "stderr",
     "output_type": "stream",
     "text": [
      " 53%|██████████████████████████████████████████▋                                     | 110/206 [01:11<01:01,  1.55it/s]"
     ]
    },
    {
     "name": "stdout",
     "output_type": "stream",
     "text": [
      "-- column check completed --\n",
      "  columns are satisfied\n",
      "--  featuresV1  --\n",
      "dim: 875\n",
      "N: 27796\n",
      "-----------------\n"
     ]
    },
    {
     "name": "stderr",
     "output_type": "stream",
     "text": [
      " 54%|███████████████████████████████████████████                                     | 111/206 [01:11<01:00,  1.56it/s]"
     ]
    },
    {
     "name": "stdout",
     "output_type": "stream",
     "text": [
      "-- column check completed --\n",
      "  columns are satisfied\n",
      "--  featuresV1  --\n",
      "dim: 875\n",
      "N: 27796\n",
      "-----------------\n"
     ]
    },
    {
     "name": "stderr",
     "output_type": "stream",
     "text": [
      " 54%|███████████████████████████████████████████▍                                    | 112/206 [01:12<00:59,  1.57it/s]"
     ]
    },
    {
     "name": "stdout",
     "output_type": "stream",
     "text": [
      "-- column check completed --\n",
      "  columns are satisfied\n",
      "--  featuresV1  --\n",
      "dim: 875\n",
      "N: 27796\n",
      "-----------------\n"
     ]
    },
    {
     "name": "stderr",
     "output_type": "stream",
     "text": [
      " 55%|███████████████████████████████████████████▉                                    | 113/206 [01:12<00:59,  1.56it/s]"
     ]
    },
    {
     "name": "stdout",
     "output_type": "stream",
     "text": [
      "-- column check completed --\n",
      "  columns are satisfied\n",
      "--  featuresV1  --\n",
      "dim: 875\n",
      "N: 27796\n",
      "-----------------\n"
     ]
    },
    {
     "name": "stderr",
     "output_type": "stream",
     "text": [
      " 55%|████████████████████████████████████████████▎                                   | 114/206 [01:13<00:58,  1.57it/s]"
     ]
    },
    {
     "name": "stdout",
     "output_type": "stream",
     "text": [
      "-- column check completed --\n",
      "  columns are satisfied\n",
      "--  featuresV1  --\n",
      "dim: 875\n",
      "N: 27796\n",
      "-----------------\n"
     ]
    },
    {
     "name": "stderr",
     "output_type": "stream",
     "text": [
      " 56%|████████████████████████████████████████████▋                                   | 115/206 [01:14<00:58,  1.56it/s]"
     ]
    },
    {
     "name": "stdout",
     "output_type": "stream",
     "text": [
      "-- column check completed --\n",
      "  columns are satisfied\n",
      "--  featuresV1  --\n",
      "dim: 875\n",
      "N: 27796\n",
      "-----------------\n"
     ]
    },
    {
     "name": "stderr",
     "output_type": "stream",
     "text": [
      " 56%|█████████████████████████████████████████████                                   | 116/206 [01:14<00:57,  1.56it/s]"
     ]
    },
    {
     "name": "stdout",
     "output_type": "stream",
     "text": [
      "-- column check completed --\n",
      "  columns are satisfied\n",
      "--  featuresV1  --\n",
      "dim: 875\n",
      "N: 27796\n",
      "-----------------\n"
     ]
    },
    {
     "name": "stderr",
     "output_type": "stream",
     "text": [
      " 57%|█████████████████████████████████████████████▍                                  | 117/206 [01:15<00:57,  1.55it/s]"
     ]
    },
    {
     "name": "stdout",
     "output_type": "stream",
     "text": [
      "-- column check completed --\n",
      "  columns are satisfied\n",
      "--  featuresV1  --\n",
      "dim: 875\n",
      "N: 27796\n",
      "-----------------\n"
     ]
    },
    {
     "name": "stderr",
     "output_type": "stream",
     "text": [
      " 57%|█████████████████████████████████████████████▊                                  | 118/206 [01:16<00:56,  1.56it/s]"
     ]
    },
    {
     "name": "stdout",
     "output_type": "stream",
     "text": [
      "-- column check completed --\n",
      "  columns are satisfied\n",
      "--  featuresV1  --\n",
      "dim: 875\n",
      "N: 27796\n",
      "-----------------\n"
     ]
    },
    {
     "name": "stderr",
     "output_type": "stream",
     "text": [
      " 58%|██████████████████████████████████████████████▏                                 | 119/206 [01:16<00:55,  1.56it/s]"
     ]
    },
    {
     "name": "stdout",
     "output_type": "stream",
     "text": [
      "-- column check completed --\n",
      "  columns are satisfied\n",
      "--  featuresV1  --\n",
      "dim: 875\n",
      "N: 27796\n",
      "-----------------\n"
     ]
    },
    {
     "name": "stderr",
     "output_type": "stream",
     "text": [
      " 58%|██████████████████████████████████████████████▌                                 | 120/206 [01:17<00:55,  1.55it/s]"
     ]
    },
    {
     "name": "stdout",
     "output_type": "stream",
     "text": [
      "-- column check completed --\n",
      "  columns are satisfied\n",
      "--  featuresV1  --\n",
      "dim: 875\n",
      "N: 27796\n",
      "-----------------\n"
     ]
    },
    {
     "name": "stderr",
     "output_type": "stream",
     "text": [
      " 59%|██████████████████████████████████████████████▉                                 | 121/206 [01:18<00:54,  1.56it/s]"
     ]
    },
    {
     "name": "stdout",
     "output_type": "stream",
     "text": [
      "-- column check completed --\n",
      "  columns are satisfied\n",
      "--  featuresV1  --\n",
      "dim: 875\n",
      "N: 27796\n",
      "-----------------\n"
     ]
    },
    {
     "name": "stderr",
     "output_type": "stream",
     "text": [
      " 59%|███████████████████████████████████████████████▍                                | 122/206 [01:18<00:53,  1.56it/s]"
     ]
    },
    {
     "name": "stdout",
     "output_type": "stream",
     "text": [
      "-- column check completed --\n",
      "  columns are satisfied\n",
      "--  featuresV1  --\n",
      "dim: 875\n",
      "N: 27796\n",
      "-----------------\n"
     ]
    },
    {
     "name": "stderr",
     "output_type": "stream",
     "text": [
      " 60%|███████████████████████████████████████████████▊                                | 123/206 [01:19<00:53,  1.55it/s]"
     ]
    },
    {
     "name": "stdout",
     "output_type": "stream",
     "text": [
      "-- column check completed --\n",
      "  columns are satisfied\n",
      "--  featuresV1  --\n",
      "dim: 875\n",
      "N: 27796\n",
      "-----------------\n"
     ]
    },
    {
     "name": "stderr",
     "output_type": "stream",
     "text": [
      " 60%|████████████████████████████████████████████████▏                               | 124/206 [01:20<00:52,  1.55it/s]"
     ]
    },
    {
     "name": "stdout",
     "output_type": "stream",
     "text": [
      "-- column check completed --\n",
      "  columns are satisfied\n",
      "--  featuresV1  --\n",
      "dim: 875\n",
      "N: 27796\n",
      "-----------------\n"
     ]
    },
    {
     "name": "stderr",
     "output_type": "stream",
     "text": [
      " 61%|████████████████████████████████████████████████▌                               | 125/206 [01:20<00:52,  1.55it/s]"
     ]
    },
    {
     "name": "stdout",
     "output_type": "stream",
     "text": [
      "-- column check completed --\n",
      "  columns are satisfied\n",
      "--  featuresV1  --\n",
      "dim: 875\n",
      "N: 27796\n",
      "-----------------\n"
     ]
    },
    {
     "name": "stderr",
     "output_type": "stream",
     "text": [
      " 61%|████████████████████████████████████████████████▉                               | 126/206 [01:21<00:51,  1.56it/s]"
     ]
    },
    {
     "name": "stdout",
     "output_type": "stream",
     "text": [
      "-- column check completed --\n",
      "  columns are satisfied\n",
      "--  featuresV1  --\n",
      "dim: 875\n",
      "N: 27796\n",
      "-----------------\n"
     ]
    },
    {
     "name": "stderr",
     "output_type": "stream",
     "text": [
      " 62%|█████████████████████████████████████████████████▎                              | 127/206 [01:21<00:50,  1.56it/s]"
     ]
    },
    {
     "name": "stdout",
     "output_type": "stream",
     "text": [
      "-- column check completed --\n",
      "  columns are satisfied\n",
      "--  featuresV1  --\n",
      "dim: 875\n",
      "N: 27796\n",
      "-----------------\n"
     ]
    },
    {
     "name": "stderr",
     "output_type": "stream",
     "text": [
      " 62%|█████████████████████████████████████████████████▋                              | 128/206 [01:22<00:50,  1.55it/s]"
     ]
    },
    {
     "name": "stdout",
     "output_type": "stream",
     "text": [
      "-- column check completed --\n",
      "  columns are satisfied\n",
      "--  featuresV1  --\n",
      "dim: 875\n",
      "N: 27796\n",
      "-----------------\n"
     ]
    },
    {
     "name": "stderr",
     "output_type": "stream",
     "text": [
      " 63%|██████████████████████████████████████████████████                              | 129/206 [01:23<00:49,  1.55it/s]"
     ]
    },
    {
     "name": "stdout",
     "output_type": "stream",
     "text": [
      "-- column check completed --\n",
      "  columns are satisfied\n",
      "--  featuresV1  --\n",
      "dim: 875\n",
      "N: 27796\n",
      "-----------------\n"
     ]
    },
    {
     "name": "stderr",
     "output_type": "stream",
     "text": [
      " 63%|██████████████████████████████████████████████████▍                             | 130/206 [01:23<00:48,  1.57it/s]"
     ]
    },
    {
     "name": "stdout",
     "output_type": "stream",
     "text": [
      "-- column check completed --\n",
      "  columns are satisfied\n",
      "--  featuresV1  --\n",
      "dim: 875\n",
      "N: 27796\n",
      "-----------------\n"
     ]
    },
    {
     "name": "stderr",
     "output_type": "stream",
     "text": [
      " 64%|██████████████████████████████████████████████████▊                             | 131/206 [01:24<00:47,  1.57it/s]"
     ]
    },
    {
     "name": "stdout",
     "output_type": "stream",
     "text": [
      "-- column check completed --\n",
      "  columns are satisfied\n",
      "--  featuresV1  --\n",
      "dim: 875\n",
      "N: 27796\n",
      "-----------------\n"
     ]
    },
    {
     "name": "stderr",
     "output_type": "stream",
     "text": [
      " 64%|███████████████████████████████████████████████████▎                            | 132/206 [01:25<00:47,  1.54it/s]"
     ]
    },
    {
     "name": "stdout",
     "output_type": "stream",
     "text": [
      "-- column check completed --\n",
      "  columns are satisfied\n",
      "--  featuresV1  --\n",
      "dim: 875\n",
      "N: 27796\n",
      "-----------------\n"
     ]
    },
    {
     "name": "stderr",
     "output_type": "stream",
     "text": [
      " 65%|███████████████████████████████████████████████████▋                            | 133/206 [01:25<00:47,  1.55it/s]"
     ]
    },
    {
     "name": "stdout",
     "output_type": "stream",
     "text": [
      "-- column check completed --\n",
      "  columns are satisfied\n",
      "--  featuresV1  --\n",
      "dim: 875\n",
      "N: 27796\n",
      "-----------------\n"
     ]
    },
    {
     "name": "stderr",
     "output_type": "stream",
     "text": [
      " 65%|████████████████████████████████████████████████████                            | 134/206 [01:26<00:46,  1.55it/s]"
     ]
    },
    {
     "name": "stdout",
     "output_type": "stream",
     "text": [
      "-- column check completed --\n",
      "  columns are satisfied\n",
      "--  featuresV1  --\n",
      "dim: 875\n",
      "N: 27796\n",
      "-----------------\n"
     ]
    },
    {
     "name": "stderr",
     "output_type": "stream",
     "text": [
      " 66%|████████████████████████████████████████████████████▍                           | 135/206 [01:27<00:45,  1.56it/s]"
     ]
    },
    {
     "name": "stdout",
     "output_type": "stream",
     "text": [
      "-- column check completed --\n",
      "  columns are satisfied\n",
      "--  featuresV1  --\n",
      "dim: 875\n",
      "N: 27796\n",
      "-----------------\n"
     ]
    },
    {
     "name": "stderr",
     "output_type": "stream",
     "text": [
      " 66%|████████████████████████████████████████████████████▊                           | 136/206 [01:27<00:44,  1.56it/s]"
     ]
    },
    {
     "name": "stdout",
     "output_type": "stream",
     "text": [
      "-- column check completed --\n",
      "  columns are satisfied\n",
      "--  featuresV1  --\n",
      "dim: 875\n",
      "N: 27796\n",
      "-----------------\n"
     ]
    },
    {
     "name": "stderr",
     "output_type": "stream",
     "text": [
      " 67%|█████████████████████████████████████████████████████▏                          | 137/206 [01:28<00:44,  1.55it/s]"
     ]
    },
    {
     "name": "stdout",
     "output_type": "stream",
     "text": [
      "-- column check completed --\n",
      "  columns are satisfied\n",
      "--  featuresV1  --\n",
      "dim: 875\n",
      "N: 27796\n",
      "-----------------\n"
     ]
    },
    {
     "name": "stderr",
     "output_type": "stream",
     "text": [
      " 67%|█████████████████████████████████████████████████████▌                          | 138/206 [01:29<00:43,  1.56it/s]"
     ]
    },
    {
     "name": "stdout",
     "output_type": "stream",
     "text": [
      "-- column check completed --\n",
      "  columns are satisfied\n",
      "--  featuresV1  --\n",
      "dim: 875\n",
      "N: 27796\n",
      "-----------------\n"
     ]
    },
    {
     "name": "stderr",
     "output_type": "stream",
     "text": [
      " 67%|█████████████████████████████████████████████████████▉                          | 139/206 [01:29<00:42,  1.57it/s]"
     ]
    },
    {
     "name": "stdout",
     "output_type": "stream",
     "text": [
      "-- column check completed --\n",
      "  columns are satisfied\n",
      "--  featuresV1  --\n",
      "dim: 875\n",
      "N: 27796\n",
      "-----------------\n"
     ]
    },
    {
     "name": "stderr",
     "output_type": "stream",
     "text": [
      " 68%|██████████████████████████████████████████████████████▎                         | 140/206 [01:30<00:42,  1.56it/s]"
     ]
    },
    {
     "name": "stdout",
     "output_type": "stream",
     "text": [
      "-- column check completed --\n",
      "  columns are satisfied\n",
      "--  featuresV1  --\n",
      "dim: 875\n",
      "N: 27796\n",
      "-----------------\n"
     ]
    },
    {
     "name": "stderr",
     "output_type": "stream",
     "text": [
      " 68%|██████████████████████████████████████████████████████▊                         | 141/206 [01:30<00:41,  1.55it/s]"
     ]
    },
    {
     "name": "stdout",
     "output_type": "stream",
     "text": [
      "-- column check completed --\n",
      "  columns are satisfied\n",
      "--  featuresV1  --\n",
      "dim: 875\n",
      "N: 27796\n",
      "-----------------\n"
     ]
    },
    {
     "name": "stderr",
     "output_type": "stream",
     "text": [
      " 69%|███████████████████████████████████████████████████████▏                        | 142/206 [01:31<00:41,  1.56it/s]"
     ]
    },
    {
     "name": "stdout",
     "output_type": "stream",
     "text": [
      "-- column check completed --\n",
      "  columns are satisfied\n",
      "--  featuresV1  --\n",
      "dim: 875\n",
      "N: 27796\n",
      "-----------------\n"
     ]
    },
    {
     "name": "stderr",
     "output_type": "stream",
     "text": [
      " 69%|███████████████████████████████████████████████████████▌                        | 143/206 [01:32<00:40,  1.55it/s]"
     ]
    },
    {
     "name": "stdout",
     "output_type": "stream",
     "text": [
      "-- column check completed --\n",
      "  columns are satisfied\n",
      "--  featuresV1  --\n",
      "dim: 875\n",
      "N: 27796\n",
      "-----------------\n"
     ]
    },
    {
     "name": "stderr",
     "output_type": "stream",
     "text": [
      " 70%|███████████████████████████████████████████████████████▉                        | 144/206 [01:32<00:40,  1.54it/s]"
     ]
    },
    {
     "name": "stdout",
     "output_type": "stream",
     "text": [
      "-- column check completed --\n",
      "  columns are satisfied\n",
      "--  featuresV1  --\n",
      "dim: 875\n",
      "N: 27796\n",
      "-----------------\n"
     ]
    },
    {
     "name": "stderr",
     "output_type": "stream",
     "text": [
      " 70%|████████████████████████████████████████████████████████▎                       | 145/206 [01:33<00:39,  1.54it/s]"
     ]
    },
    {
     "name": "stdout",
     "output_type": "stream",
     "text": [
      "-- column check completed --\n",
      "  columns are satisfied\n",
      "--  featuresV1  --\n",
      "dim: 875\n",
      "N: 27796\n",
      "-----------------\n"
     ]
    },
    {
     "name": "stderr",
     "output_type": "stream",
     "text": [
      " 71%|████████████████████████████████████████████████████████▋                       | 146/206 [01:34<00:38,  1.54it/s]"
     ]
    },
    {
     "name": "stdout",
     "output_type": "stream",
     "text": [
      "-- column check completed --\n",
      "  columns are satisfied\n",
      "--  featuresV1  --\n",
      "dim: 875\n",
      "N: 27796\n",
      "-----------------\n"
     ]
    },
    {
     "name": "stderr",
     "output_type": "stream",
     "text": [
      " 71%|█████████████████████████████████████████████████████████                       | 147/206 [01:34<00:37,  1.56it/s]"
     ]
    },
    {
     "name": "stdout",
     "output_type": "stream",
     "text": [
      "-- column check completed --\n",
      "  columns are satisfied\n",
      "--  featuresV1  --\n",
      "dim: 875\n",
      "N: 27796\n",
      "-----------------\n"
     ]
    },
    {
     "name": "stderr",
     "output_type": "stream",
     "text": [
      " 72%|█████████████████████████████████████████████████████████▍                      | 148/206 [01:35<00:37,  1.55it/s]"
     ]
    },
    {
     "name": "stdout",
     "output_type": "stream",
     "text": [
      "-- column check completed --\n",
      "  columns are satisfied\n",
      "--  featuresV1  --\n",
      "dim: 875\n",
      "N: 27796\n",
      "-----------------\n"
     ]
    },
    {
     "name": "stderr",
     "output_type": "stream",
     "text": [
      " 72%|█████████████████████████████████████████████████████████▊                      | 149/206 [01:36<00:36,  1.57it/s]"
     ]
    },
    {
     "name": "stdout",
     "output_type": "stream",
     "text": [
      "-- column check completed --\n",
      "  columns are satisfied\n",
      "--  featuresV1  --\n",
      "dim: 875\n",
      "N: 27796\n",
      "-----------------\n"
     ]
    },
    {
     "name": "stderr",
     "output_type": "stream",
     "text": [
      " 73%|██████████████████████████████████████████████████████████▎                     | 150/206 [01:36<00:36,  1.54it/s]"
     ]
    },
    {
     "name": "stdout",
     "output_type": "stream",
     "text": [
      "-- column check completed --\n",
      "  columns are satisfied\n",
      "--  featuresV1  --\n",
      "dim: 875\n",
      "N: 27796\n",
      "-----------------\n"
     ]
    },
    {
     "name": "stderr",
     "output_type": "stream",
     "text": [
      " 73%|██████████████████████████████████████████████████████████▋                     | 151/206 [01:37<00:35,  1.54it/s]"
     ]
    },
    {
     "name": "stdout",
     "output_type": "stream",
     "text": [
      "-- column check completed --\n",
      "  columns are satisfied\n",
      "--  featuresV1  --\n",
      "dim: 875\n",
      "N: 27796\n",
      "-----------------\n"
     ]
    },
    {
     "name": "stderr",
     "output_type": "stream",
     "text": [
      " 74%|███████████████████████████████████████████████████████████                     | 152/206 [01:38<00:35,  1.53it/s]"
     ]
    },
    {
     "name": "stdout",
     "output_type": "stream",
     "text": [
      "-- column check completed --\n",
      "  columns are satisfied\n",
      "--  featuresV1  --\n",
      "dim: 875\n",
      "N: 27796\n",
      "-----------------\n"
     ]
    },
    {
     "name": "stderr",
     "output_type": "stream",
     "text": [
      " 74%|███████████████████████████████████████████████████████████▍                    | 153/206 [01:38<00:34,  1.54it/s]"
     ]
    },
    {
     "name": "stdout",
     "output_type": "stream",
     "text": [
      "-- column check completed --\n",
      "  columns are satisfied\n",
      "--  featuresV1  --\n",
      "dim: 875\n",
      "N: 27796\n",
      "-----------------\n"
     ]
    },
    {
     "name": "stderr",
     "output_type": "stream",
     "text": [
      " 75%|███████████████████████████████████████████████████████████▊                    | 154/206 [01:39<00:33,  1.54it/s]"
     ]
    },
    {
     "name": "stdout",
     "output_type": "stream",
     "text": [
      "-- column check completed --\n",
      "  columns are satisfied\n",
      "--  featuresV1  --\n",
      "dim: 875\n",
      "N: 27796\n",
      "-----------------\n"
     ]
    },
    {
     "name": "stderr",
     "output_type": "stream",
     "text": [
      " 75%|████████████████████████████████████████████████████████████▏                   | 155/206 [01:40<00:32,  1.55it/s]"
     ]
    },
    {
     "name": "stdout",
     "output_type": "stream",
     "text": [
      "-- column check completed --\n",
      "  columns are satisfied\n",
      "--  featuresV1  --\n",
      "dim: 875\n",
      "N: 27796\n",
      "-----------------\n"
     ]
    },
    {
     "name": "stderr",
     "output_type": "stream",
     "text": [
      " 76%|████████████████████████████████████████████████████████████▌                   | 156/206 [01:40<00:32,  1.54it/s]"
     ]
    },
    {
     "name": "stdout",
     "output_type": "stream",
     "text": [
      "-- column check completed --\n",
      "  columns are satisfied\n",
      "--  featuresV1  --\n",
      "dim: 875\n",
      "N: 27796\n",
      "-----------------\n"
     ]
    },
    {
     "name": "stderr",
     "output_type": "stream",
     "text": [
      " 76%|████████████████████████████████████████████████████████████▉                   | 157/206 [01:41<00:31,  1.54it/s]"
     ]
    },
    {
     "name": "stdout",
     "output_type": "stream",
     "text": [
      "-- column check completed --\n",
      "  columns are satisfied\n",
      "--  featuresV1  --\n",
      "dim: 875\n",
      "N: 27796\n",
      "-----------------\n"
     ]
    },
    {
     "name": "stderr",
     "output_type": "stream",
     "text": [
      " 77%|█████████████████████████████████████████████████████████████▎                  | 158/206 [01:41<00:31,  1.54it/s]"
     ]
    },
    {
     "name": "stdout",
     "output_type": "stream",
     "text": [
      "-- column check completed --\n",
      "  columns are satisfied\n",
      "--  featuresV1  --\n",
      "dim: 875\n",
      "N: 27796\n",
      "-----------------\n"
     ]
    },
    {
     "name": "stderr",
     "output_type": "stream",
     "text": [
      " 77%|█████████████████████████████████████████████████████████████▋                  | 159/206 [01:42<00:30,  1.55it/s]"
     ]
    },
    {
     "name": "stdout",
     "output_type": "stream",
     "text": [
      "-- column check completed --\n",
      "  columns are satisfied\n",
      "--  featuresV1  --\n",
      "dim: 875\n",
      "N: 27796\n",
      "-----------------\n"
     ]
    },
    {
     "name": "stderr",
     "output_type": "stream",
     "text": [
      " 78%|██████████████████████████████████████████████████████████████▏                 | 160/206 [01:43<00:29,  1.55it/s]"
     ]
    },
    {
     "name": "stdout",
     "output_type": "stream",
     "text": [
      "-- column check completed --\n",
      "  columns are satisfied\n",
      "--  featuresV1  --\n",
      "dim: 875\n",
      "N: 27796\n",
      "-----------------\n"
     ]
    },
    {
     "name": "stderr",
     "output_type": "stream",
     "text": [
      " 78%|██████████████████████████████████████████████████████████████▌                 | 161/206 [01:43<00:29,  1.55it/s]"
     ]
    },
    {
     "name": "stdout",
     "output_type": "stream",
     "text": [
      "-- column check completed --\n",
      "  columns are satisfied\n",
      "--  featuresV1  --\n",
      "dim: 875\n",
      "N: 27796\n",
      "-----------------\n"
     ]
    },
    {
     "name": "stderr",
     "output_type": "stream",
     "text": [
      " 79%|██████████████████████████████████████████████████████████████▉                 | 162/206 [01:44<00:28,  1.55it/s]"
     ]
    },
    {
     "name": "stdout",
     "output_type": "stream",
     "text": [
      "-- column check completed --\n",
      "  columns are satisfied\n",
      "--  featuresV1  --\n",
      "dim: 875\n",
      "N: 27796\n",
      "-----------------\n"
     ]
    },
    {
     "name": "stderr",
     "output_type": "stream",
     "text": [
      " 79%|███████████████████████████████████████████████████████████████▎                | 163/206 [01:45<00:27,  1.56it/s]"
     ]
    },
    {
     "name": "stdout",
     "output_type": "stream",
     "text": [
      "-- column check completed --\n",
      "  columns are satisfied\n",
      "--  featuresV1  --\n",
      "dim: 875\n",
      "N: 27796\n",
      "-----------------\n"
     ]
    },
    {
     "name": "stderr",
     "output_type": "stream",
     "text": [
      " 80%|███████████████████████████████████████████████████████████████▋                | 164/206 [01:45<00:27,  1.55it/s]"
     ]
    },
    {
     "name": "stdout",
     "output_type": "stream",
     "text": [
      "-- column check completed --\n",
      "  columns are satisfied\n",
      "--  featuresV1  --\n",
      "dim: 875\n",
      "N: 27796\n",
      "-----------------\n"
     ]
    },
    {
     "name": "stderr",
     "output_type": "stream",
     "text": [
      " 80%|████████████████████████████████████████████████████████████████                | 165/206 [01:46<00:26,  1.56it/s]"
     ]
    },
    {
     "name": "stdout",
     "output_type": "stream",
     "text": [
      "-- column check completed --\n",
      "  columns are satisfied\n",
      "--  featuresV1  --\n",
      "dim: 875\n",
      "N: 27796\n",
      "-----------------\n"
     ]
    },
    {
     "name": "stderr",
     "output_type": "stream",
     "text": [
      " 81%|████████████████████████████████████████████████████████████████▍               | 166/206 [01:47<00:25,  1.56it/s]"
     ]
    },
    {
     "name": "stdout",
     "output_type": "stream",
     "text": [
      "-- column check completed --\n",
      "  columns are satisfied\n",
      "--  featuresV1  --\n",
      "dim: 875\n",
      "N: 27796\n",
      "-----------------\n"
     ]
    },
    {
     "name": "stderr",
     "output_type": "stream",
     "text": [
      " 81%|████████████████████████████████████████████████████████████████▊               | 167/206 [01:47<00:25,  1.56it/s]"
     ]
    },
    {
     "name": "stdout",
     "output_type": "stream",
     "text": [
      "-- column check completed --\n",
      "  columns are satisfied\n",
      "--  featuresV1  --\n",
      "dim: 875\n",
      "N: 27796\n",
      "-----------------\n"
     ]
    },
    {
     "name": "stderr",
     "output_type": "stream",
     "text": [
      " 82%|█████████████████████████████████████████████████████████████████▏              | 168/206 [01:48<00:24,  1.55it/s]"
     ]
    },
    {
     "name": "stdout",
     "output_type": "stream",
     "text": [
      "-- column check completed --\n",
      "  columns are satisfied\n",
      "--  featuresV1  --\n",
      "dim: 875\n",
      "N: 27796\n",
      "-----------------\n"
     ]
    },
    {
     "name": "stderr",
     "output_type": "stream",
     "text": [
      " 82%|█████████████████████████████████████████████████████████████████▋              | 169/206 [01:49<00:23,  1.54it/s]"
     ]
    },
    {
     "name": "stdout",
     "output_type": "stream",
     "text": [
      "-- column check completed --\n",
      "  columns are satisfied\n",
      "--  featuresV1  --\n",
      "dim: 875\n",
      "N: 27796\n",
      "-----------------\n"
     ]
    },
    {
     "name": "stderr",
     "output_type": "stream",
     "text": [
      " 83%|██████████████████████████████████████████████████████████████████              | 170/206 [01:49<00:23,  1.55it/s]"
     ]
    },
    {
     "name": "stdout",
     "output_type": "stream",
     "text": [
      "-- column check completed --\n",
      "  columns are satisfied\n",
      "--  featuresV1  --\n",
      "dim: 875\n",
      "N: 27796\n",
      "-----------------\n"
     ]
    },
    {
     "name": "stderr",
     "output_type": "stream",
     "text": [
      " 83%|██████████████████████████████████████████████████████████████████▍             | 171/206 [01:50<00:22,  1.56it/s]"
     ]
    },
    {
     "name": "stdout",
     "output_type": "stream",
     "text": [
      "-- column check completed --\n",
      "  columns are satisfied\n",
      "--  featuresV1  --\n",
      "dim: 875\n",
      "N: 27796\n",
      "-----------------\n"
     ]
    },
    {
     "name": "stderr",
     "output_type": "stream",
     "text": [
      " 83%|██████████████████████████████████████████████████████████████████▊             | 172/206 [01:50<00:22,  1.54it/s]"
     ]
    },
    {
     "name": "stdout",
     "output_type": "stream",
     "text": [
      "-- column check completed --\n",
      "  columns are satisfied\n",
      "--  featuresV1  --\n",
      "dim: 875\n",
      "N: 27796\n",
      "-----------------\n"
     ]
    },
    {
     "name": "stderr",
     "output_type": "stream",
     "text": [
      " 84%|███████████████████████████████████████████████████████████████████▏            | 173/206 [01:51<00:21,  1.55it/s]"
     ]
    },
    {
     "name": "stdout",
     "output_type": "stream",
     "text": [
      "-- column check completed --\n",
      "  columns are satisfied\n",
      "--  featuresV1  --\n",
      "dim: 875\n",
      "N: 27796\n",
      "-----------------\n"
     ]
    },
    {
     "name": "stderr",
     "output_type": "stream",
     "text": [
      " 84%|███████████████████████████████████████████████████████████████████▌            | 174/206 [01:52<00:20,  1.54it/s]"
     ]
    },
    {
     "name": "stdout",
     "output_type": "stream",
     "text": [
      "-- column check completed --\n",
      "  columns are satisfied\n",
      "--  featuresV1  --\n",
      "dim: 875\n",
      "N: 27796\n",
      "-----------------\n"
     ]
    },
    {
     "name": "stderr",
     "output_type": "stream",
     "text": [
      " 85%|███████████████████████████████████████████████████████████████████▉            | 175/206 [01:52<00:19,  1.55it/s]"
     ]
    },
    {
     "name": "stdout",
     "output_type": "stream",
     "text": [
      "-- column check completed --\n",
      "  columns are satisfied\n",
      "--  featuresV1  --\n",
      "dim: 875\n",
      "N: 27796\n",
      "-----------------\n"
     ]
    },
    {
     "name": "stderr",
     "output_type": "stream",
     "text": [
      " 85%|████████████████████████████████████████████████████████████████████▎           | 176/206 [01:53<00:19,  1.56it/s]"
     ]
    },
    {
     "name": "stdout",
     "output_type": "stream",
     "text": [
      "-- column check completed --\n",
      "  columns are satisfied\n",
      "--  featuresV1  --\n",
      "dim: 875\n",
      "N: 27796\n",
      "-----------------\n"
     ]
    },
    {
     "name": "stderr",
     "output_type": "stream",
     "text": [
      " 86%|████████████████████████████████████████████████████████████████████▋           | 177/206 [01:54<00:18,  1.54it/s]"
     ]
    },
    {
     "name": "stdout",
     "output_type": "stream",
     "text": [
      "-- column check completed --\n",
      "  columns are satisfied\n",
      "--  featuresV1  --\n",
      "dim: 875\n",
      "N: 27796\n",
      "-----------------\n"
     ]
    },
    {
     "name": "stderr",
     "output_type": "stream",
     "text": [
      " 86%|█████████████████████████████████████████████████████████████████████▏          | 178/206 [01:54<00:18,  1.52it/s]"
     ]
    },
    {
     "name": "stdout",
     "output_type": "stream",
     "text": [
      "-- column check completed --\n",
      "  columns are satisfied\n",
      "--  featuresV1  --\n",
      "dim: 875\n",
      "N: 27796\n",
      "-----------------\n"
     ]
    },
    {
     "name": "stderr",
     "output_type": "stream",
     "text": [
      " 87%|█████████████████████████████████████████████████████████████████████▌          | 179/206 [01:55<00:17,  1.53it/s]"
     ]
    },
    {
     "name": "stdout",
     "output_type": "stream",
     "text": [
      "-- column check completed --\n",
      "  columns are satisfied\n",
      "--  featuresV1  --\n",
      "dim: 875\n",
      "N: 27796\n",
      "-----------------\n"
     ]
    },
    {
     "name": "stderr",
     "output_type": "stream",
     "text": [
      " 87%|█████████████████████████████████████████████████████████████████████▉          | 180/206 [01:56<00:16,  1.53it/s]"
     ]
    },
    {
     "name": "stdout",
     "output_type": "stream",
     "text": [
      "-- column check completed --\n",
      "  columns are satisfied\n",
      "--  featuresV1  --\n",
      "dim: 875\n",
      "N: 27796\n",
      "-----------------\n"
     ]
    },
    {
     "name": "stderr",
     "output_type": "stream",
     "text": [
      " 88%|██████████████████████████████████████████████████████████████████████▎         | 181/206 [01:56<00:16,  1.55it/s]"
     ]
    },
    {
     "name": "stdout",
     "output_type": "stream",
     "text": [
      "-- column check completed --\n",
      "  columns are satisfied\n",
      "--  featuresV1  --\n",
      "dim: 875\n",
      "N: 27796\n",
      "-----------------\n"
     ]
    },
    {
     "name": "stderr",
     "output_type": "stream",
     "text": [
      " 88%|██████████████████████████████████████████████████████████████████████▋         | 182/206 [01:57<00:15,  1.56it/s]"
     ]
    },
    {
     "name": "stdout",
     "output_type": "stream",
     "text": [
      "-- column check completed --\n",
      "  columns are satisfied\n",
      "--  featuresV1  --\n",
      "dim: 875\n",
      "N: 27796\n",
      "-----------------\n"
     ]
    },
    {
     "name": "stderr",
     "output_type": "stream",
     "text": [
      " 89%|███████████████████████████████████████████████████████████████████████         | 183/206 [01:58<00:14,  1.55it/s]"
     ]
    },
    {
     "name": "stdout",
     "output_type": "stream",
     "text": [
      "-- column check completed --\n",
      "  columns are satisfied\n",
      "--  featuresV1  --\n",
      "dim: 875\n",
      "N: 27796\n",
      "-----------------\n"
     ]
    },
    {
     "name": "stderr",
     "output_type": "stream",
     "text": [
      " 89%|███████████████████████████████████████████████████████████████████████▍        | 184/206 [01:58<00:14,  1.55it/s]"
     ]
    },
    {
     "name": "stdout",
     "output_type": "stream",
     "text": [
      "-- column check completed --\n",
      "  columns are satisfied\n",
      "--  featuresV1  --\n",
      "dim: 875\n",
      "N: 27796\n",
      "-----------------\n"
     ]
    },
    {
     "name": "stderr",
     "output_type": "stream",
     "text": [
      " 90%|███████████████████████████████████████████████████████████████████████▊        | 185/206 [01:59<00:13,  1.55it/s]"
     ]
    },
    {
     "name": "stdout",
     "output_type": "stream",
     "text": [
      "-- column check completed --\n",
      "  columns are satisfied\n",
      "--  featuresV1  --\n",
      "dim: 875\n",
      "N: 27796\n",
      "-----------------\n"
     ]
    },
    {
     "name": "stderr",
     "output_type": "stream",
     "text": [
      " 90%|████████████████████████████████████████████████████████████████████████▏       | 186/206 [02:00<00:12,  1.55it/s]"
     ]
    },
    {
     "name": "stdout",
     "output_type": "stream",
     "text": [
      "-- column check completed --\n",
      "  columns are satisfied\n",
      "--  featuresV1  --\n",
      "dim: 875\n",
      "N: 27796\n",
      "-----------------\n"
     ]
    },
    {
     "name": "stderr",
     "output_type": "stream",
     "text": [
      " 91%|████████████████████████████████████████████████████████████████████████▌       | 187/206 [02:00<00:12,  1.56it/s]"
     ]
    },
    {
     "name": "stdout",
     "output_type": "stream",
     "text": [
      "-- column check completed --\n",
      "  columns are satisfied\n",
      "--  featuresV1  --\n",
      "dim: 875\n",
      "N: 27796\n",
      "-----------------\n"
     ]
    },
    {
     "name": "stderr",
     "output_type": "stream",
     "text": [
      " 91%|█████████████████████████████████████████████████████████████████████████       | 188/206 [02:01<00:11,  1.56it/s]"
     ]
    },
    {
     "name": "stdout",
     "output_type": "stream",
     "text": [
      "-- column check completed --\n",
      "  columns are satisfied\n",
      "--  featuresV1  --\n",
      "dim: 875\n",
      "N: 27796\n",
      "-----------------\n"
     ]
    },
    {
     "name": "stderr",
     "output_type": "stream",
     "text": [
      " 92%|█████████████████████████████████████████████████████████████████████████▍      | 189/206 [02:01<00:10,  1.56it/s]"
     ]
    },
    {
     "name": "stdout",
     "output_type": "stream",
     "text": [
      "-- column check completed --\n",
      "  columns are satisfied\n",
      "--  featuresV1  --\n",
      "dim: 875\n",
      "N: 27796\n",
      "-----------------\n"
     ]
    },
    {
     "name": "stderr",
     "output_type": "stream",
     "text": [
      " 92%|█████████████████████████████████████████████████████████████████████████▊      | 190/206 [02:02<00:10,  1.57it/s]"
     ]
    },
    {
     "name": "stdout",
     "output_type": "stream",
     "text": [
      "-- column check completed --\n",
      "  columns are satisfied\n",
      "--  featuresV1  --\n",
      "dim: 875\n",
      "N: 27796\n",
      "-----------------\n"
     ]
    },
    {
     "name": "stderr",
     "output_type": "stream",
     "text": [
      " 93%|██████████████████████████████████████████████████████████████████████████▏     | 191/206 [02:03<00:09,  1.56it/s]"
     ]
    },
    {
     "name": "stdout",
     "output_type": "stream",
     "text": [
      "-- column check completed --\n",
      "  columns are satisfied\n",
      "--  featuresV1  --\n",
      "dim: 875\n",
      "N: 27796\n",
      "-----------------\n"
     ]
    },
    {
     "name": "stderr",
     "output_type": "stream",
     "text": [
      " 93%|██████████████████████████████████████████████████████████████████████████▌     | 192/206 [02:03<00:08,  1.56it/s]"
     ]
    },
    {
     "name": "stdout",
     "output_type": "stream",
     "text": [
      "-- column check completed --\n",
      "  columns are satisfied\n",
      "--  featuresV1  --\n",
      "dim: 875\n",
      "N: 27796\n",
      "-----------------\n"
     ]
    },
    {
     "name": "stderr",
     "output_type": "stream",
     "text": [
      " 94%|██████████████████████████████████████████████████████████████████████████▉     | 193/206 [02:04<00:08,  1.55it/s]"
     ]
    },
    {
     "name": "stdout",
     "output_type": "stream",
     "text": [
      "-- column check completed --\n",
      "  columns are satisfied\n",
      "--  featuresV1  --\n",
      "dim: 875\n",
      "N: 27796\n",
      "-----------------\n"
     ]
    },
    {
     "name": "stderr",
     "output_type": "stream",
     "text": [
      " 94%|███████████████████████████████████████████████████████████████████████████▎    | 194/206 [02:05<00:07,  1.55it/s]"
     ]
    },
    {
     "name": "stdout",
     "output_type": "stream",
     "text": [
      "-- column check completed --\n",
      "  columns are satisfied\n",
      "--  featuresV1  --\n",
      "dim: 875\n",
      "N: 27796\n",
      "-----------------\n"
     ]
    },
    {
     "name": "stderr",
     "output_type": "stream",
     "text": [
      " 95%|███████████████████████████████████████████████████████████████████████████▋    | 195/206 [02:05<00:07,  1.56it/s]"
     ]
    },
    {
     "name": "stdout",
     "output_type": "stream",
     "text": [
      "-- column check completed --\n",
      "  columns are satisfied\n",
      "--  featuresV1  --\n",
      "dim: 875\n",
      "N: 27796\n",
      "-----------------\n"
     ]
    },
    {
     "name": "stderr",
     "output_type": "stream",
     "text": [
      " 95%|████████████████████████████████████████████████████████████████████████████    | 196/206 [02:06<00:06,  1.56it/s]"
     ]
    },
    {
     "name": "stdout",
     "output_type": "stream",
     "text": [
      "-- column check completed --\n",
      "  columns are satisfied\n",
      "--  featuresV1  --\n",
      "dim: 875\n",
      "N: 27796\n",
      "-----------------\n"
     ]
    },
    {
     "name": "stderr",
     "output_type": "stream",
     "text": [
      " 96%|████████████████████████████████████████████████████████████████████████████▌   | 197/206 [02:07<00:05,  1.55it/s]"
     ]
    },
    {
     "name": "stdout",
     "output_type": "stream",
     "text": [
      "-- column check completed --\n",
      "  columns are satisfied\n",
      "--  featuresV1  --\n",
      "dim: 875\n",
      "N: 27796\n",
      "-----------------\n"
     ]
    },
    {
     "name": "stderr",
     "output_type": "stream",
     "text": [
      " 96%|████████████████████████████████████████████████████████████████████████████▉   | 198/206 [02:07<00:05,  1.56it/s]"
     ]
    },
    {
     "name": "stdout",
     "output_type": "stream",
     "text": [
      "-- column check completed --\n",
      "  columns are satisfied\n",
      "--  featuresV1  --\n",
      "dim: 875\n",
      "N: 27796\n",
      "-----------------\n"
     ]
    },
    {
     "name": "stderr",
     "output_type": "stream",
     "text": [
      " 97%|█████████████████████████████████████████████████████████████████████████████▎  | 199/206 [02:08<00:04,  1.55it/s]"
     ]
    },
    {
     "name": "stdout",
     "output_type": "stream",
     "text": [
      "-- column check completed --\n",
      "  columns are satisfied\n",
      "--  featuresV1  --\n",
      "dim: 875\n",
      "N: 27796\n",
      "-----------------\n"
     ]
    },
    {
     "name": "stderr",
     "output_type": "stream",
     "text": [
      " 97%|█████████████████████████████████████████████████████████████████████████████▋  | 200/206 [02:09<00:03,  1.55it/s]"
     ]
    },
    {
     "name": "stdout",
     "output_type": "stream",
     "text": [
      "-- column check completed --\n",
      "  columns are satisfied\n",
      "--  featuresV1  --\n",
      "dim: 875\n",
      "N: 27796\n",
      "-----------------\n"
     ]
    },
    {
     "name": "stderr",
     "output_type": "stream",
     "text": [
      " 98%|██████████████████████████████████████████████████████████████████████████████  | 201/206 [02:09<00:03,  1.55it/s]"
     ]
    },
    {
     "name": "stdout",
     "output_type": "stream",
     "text": [
      "-- column check completed --\n",
      "  columns are satisfied\n",
      "--  featuresV1  --\n",
      "dim: 875\n",
      "N: 27796\n",
      "-----------------\n"
     ]
    },
    {
     "name": "stderr",
     "output_type": "stream",
     "text": [
      " 98%|██████████████████████████████████████████████████████████████████████████████▍ | 202/206 [02:10<00:02,  1.55it/s]"
     ]
    },
    {
     "name": "stdout",
     "output_type": "stream",
     "text": [
      "-- column check completed --\n",
      "  columns are satisfied\n",
      "--  featuresV1  --\n",
      "dim: 875\n",
      "N: 27796\n",
      "-----------------\n"
     ]
    },
    {
     "name": "stderr",
     "output_type": "stream",
     "text": [
      " 99%|██████████████████████████████████████████████████████████████████████████████▊ | 203/206 [02:10<00:01,  1.55it/s]"
     ]
    },
    {
     "name": "stdout",
     "output_type": "stream",
     "text": [
      "-- column check completed --\n",
      "  columns are satisfied\n",
      "--  featuresV1  --\n",
      "dim: 875\n",
      "N: 27796\n",
      "-----------------\n"
     ]
    },
    {
     "name": "stderr",
     "output_type": "stream",
     "text": [
      " 99%|███████████████████████████████████████████████████████████████████████████████▏| 204/206 [02:11<00:01,  1.56it/s]"
     ]
    },
    {
     "name": "stdout",
     "output_type": "stream",
     "text": [
      "-- column check completed --\n",
      "  columns are satisfied\n",
      "--  featuresV1  --\n",
      "dim: 875\n",
      "N: 27796\n",
      "-----------------\n"
     ]
    },
    {
     "name": "stderr",
     "output_type": "stream",
     "text": [
      "100%|███████████████████████████████████████████████████████████████████████████████▌| 205/206 [02:12<00:00,  1.56it/s]"
     ]
    },
    {
     "name": "stdout",
     "output_type": "stream",
     "text": [
      "-- column check completed --\n",
      "  columns are satisfied\n",
      "--  featuresV1  --\n",
      "dim: 875\n",
      "N: 27796\n",
      "-----------------\n"
     ]
    },
    {
     "name": "stderr",
     "output_type": "stream",
     "text": [
      "100%|████████████████████████████████████████████████████████████████████████████████| 206/206 [02:12<00:00,  1.55it/s]\n"
     ]
    }
   ],
   "source": [
    "train_targets = pd.read_csv(os.path.join(\"rawdata\",\"train_targets_scored.csv\"))\n",
    "train_features = pd.read_csv(os.path.join(\"rawdata\",\"train_features.csv\"))\n",
    "test_features =  pd.read_csv(os.path.join(\"rawdata\",\"test_features.csv\"))\n",
    "\n",
    "sample_submission = pd.read_csv(os.path.join(\"rawdata\",\"sample_submission.csv\"),index_col=0)\n",
    "submission = pd.DataFrame(index=sample_submission.index)\n",
    "\n",
    "for target in tqdm(train_targets.columns[1:]):\n",
    "    feature_maker = FeaturesMaker_v1(target_col=target)\n",
    "\n",
    "    train_data = copy.copy(train_features)\n",
    "    train_data = pd.merge(train_data,train_targets[[\"sig_id\",target]],on=\"sig_id\",how=\"right\")\n",
    "    train_data[\"data_part\"] = \"train\"\n",
    "\n",
    "    test_data = copy.copy(test_features)\n",
    "    test_data[target] = np.nan\n",
    "    test_data[\"data_part\"] = \"test\"\n",
    "\n",
    "    data = pd.concat([train_data,test_data])\n",
    "    data = feature_maker.make_feature(data)\n",
    "    \n",
    "    \n",
    "    dir = os.path.join(\"mymodel\",feature_maker.name+\"_XGBoost\")\n",
    "    model_path = os.path.join(dir,target+\".mdl\")      \n",
    "    \n",
    "    # training XGBoost\n",
    "    model = xgb.XGBClassifier()\n",
    "    model.load_model(model_path)\n",
    "    \n",
    "    pred_mask = data[\"test\"][1].isna()\n",
    "    data[\"test\"][1].loc[pred_mask] = model.predict_proba(data[\"test\"][0])[:,1]\n",
    "    \n",
    "    submission = submission.join(pd.DataFrame(data[\"test\"][1]))"
   ]
  },
  {
   "cell_type": "code",
   "execution_count": 11,
   "metadata": {},
   "outputs": [],
   "source": [
    "submission = submission.loc[sample_submission.index]\n",
    "submission = submission[sample_submission.columns]\n",
    "\n",
    "sub_path = os.path.join(\"submission.csv\")\n",
    "submission.to_csv(sub_path)"
   ]
  }
 ],
 "metadata": {
  "kernelspec": {
   "display_name": "Python 3",
   "language": "python",
   "name": "python3"
  },
  "language_info": {
   "codemirror_mode": {
    "name": "ipython",
    "version": 3
   },
   "file_extension": ".py",
   "mimetype": "text/x-python",
   "name": "python",
   "nbconvert_exporter": "python",
   "pygments_lexer": "ipython3",
   "version": "3.7.4"
  }
 },
 "nbformat": 4,
 "nbformat_minor": 4
}
