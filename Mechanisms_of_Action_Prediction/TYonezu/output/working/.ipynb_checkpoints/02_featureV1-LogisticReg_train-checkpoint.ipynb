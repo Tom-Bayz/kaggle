{
 "cells": [
  {
   "cell_type": "markdown",
   "metadata": {},
   "source": [
    "## **Logisitc Regression with L1 penalty prediction**"
   ]
  },
  {
   "cell_type": "code",
   "execution_count": 11,
   "metadata": {},
   "outputs": [
    {
     "name": "stdout",
     "output_type": "stream",
     "text": [
      "The autoreload extension is already loaded. To reload it, use:\n",
      "  %reload_ext autoreload\n"
     ]
    }
   ],
   "source": [
    "%load_ext autoreload\n",
    "%autoreload 2\n",
    "\n",
    "import pandas as pd\n",
    "import numpy as np\n",
    "import os\n",
    "import glob\n",
    "import pickle\n",
    "import matplotlib.pyplot as plt\n",
    "import matplotlib as mpl\n",
    "mpl.rcParams['agg.path.chunksize'] = 100000\n",
    "\n",
    "import gc\n",
    "from myUtils import *\n",
    "from feature_generator import feature_v1\n",
    "import xgboost as xgb\n",
    "from tqdm import tqdm\n",
    "import shutil\n",
    "import copy\n",
    "\n",
    "from sklearn.preprocessing import LabelEncoder\n",
    "from sklearn.linear_model import LogisticRegression\n",
    "\n",
    "import pickle\n",
    "\n",
    "import warnings\n",
    "warnings.simplefilter('ignore')"
   ]
  },
  {
   "cell_type": "code",
   "execution_count": 12,
   "metadata": {},
   "outputs": [],
   "source": [
    "def label_encode(df, cols):\n",
    "    for col in cols:\n",
    "        le = LabelEncoder()\n",
    "        tmp = df[col].fillna(\"NaN\")\n",
    "        df[col] = pd.Series(le.fit_transform(tmp), index=tmp.index)\n",
    "\n",
    "    return df\n",
    "\n",
    "\n",
    "def check_columns(necessary_cols,cols):\n",
    "    \n",
    "    cols = set(cols) # make set\n",
    "    \n",
    "    lack_cols = [c for c in necessary_cols if c not in cols]\n",
    "    \n",
    "    print(\"-- column check completed --\")\n",
    "    if len(lack_cols) == 0:\n",
    "        print(\"  columns are satisfied\")\n",
    "        return True\n",
    "    else:\n",
    "        print(\"  !!columns are lacked!!\")\n",
    "        print(\"   lacked columns:\",lack_cols)\n",
    "        return False\n",
    "\n",
    "\n",
    "class FeaturesMaker_v1(object):\n",
    "\n",
    "    def __init__(self,target_col):\n",
    "        self.name = \"featuresV1\"\n",
    "        self.feature_exp = \"simple features which \"\n",
    "\n",
    "        self.target_col = target_col\n",
    "        self.necessary_col =  [\"sig_id\",'cp_type',\"cp_time\",\"cp_dose\",\"data_part\"] + [target_col]\n",
    "\n",
    "    def make_feature(self,df):\n",
    "\n",
    "        # check existstance of necessary columns\n",
    "        if check_columns(self.necessary_col,df.columns):\n",
    "\n",
    "            # label encoding\n",
    "            cols = ['cp_type',\"cp_time\",\"cp_dose\"]\n",
    "            df = label_encode(df, cols=cols)\n",
    "\n",
    "\n",
    "            # split train and test\n",
    "            df = df.set_index([\"sig_id\"],drop=True)\n",
    "\n",
    "            features = [c for c in df.columns if \"g-\" in c]\n",
    "            features = features + [c for c in df.columns if \"c-\" in c]\n",
    "            features = features + ['cp_type',\"cp_time\",\"cp_dose\"]\n",
    "\n",
    "            print(\"-- \",self.name,\" --\")\n",
    "            print(\"dim:\",len(features))\n",
    "            print(\"N:\",len(df))\n",
    "            print(\"-----------------\")\n",
    "\n",
    "            return {sub[0]:(sub[1][features],sub[1][self.target_col]) for sub in df.groupby(by=\"data_part\")}\n",
    "\n",
    "        else:\n",
    "            return False"
   ]
  },
  {
   "cell_type": "code",
   "execution_count": null,
   "metadata": {},
   "outputs": [
    {
     "name": "stderr",
     "output_type": "stream",
     "text": [
      "  0%|                                                                                          | 0/206 [00:00<?, ?it/s]"
     ]
    },
    {
     "name": "stdout",
     "output_type": "stream",
     "text": [
      "-- column check completed --\n",
      "  columns are satisfied\n",
      "--  featuresV1  --\n",
      "dim: 875\n",
      "N: 27796\n",
      "-----------------\n"
     ]
    },
    {
     "name": "stderr",
     "output_type": "stream",
     "text": [
      "  0%|▍                                                                                 | 1/206 [00:03<12:48,  3.75s/it]"
     ]
    },
    {
     "name": "stdout",
     "output_type": "stream",
     "text": [
      "-- column check completed --\n",
      "  columns are satisfied\n",
      "--  featuresV1  --\n",
      "dim: 875\n",
      "N: 27796\n",
      "-----------------\n"
     ]
    },
    {
     "name": "stderr",
     "output_type": "stream",
     "text": [
      "  1%|▊                                                                                 | 2/206 [00:08<13:55,  4.09s/it]"
     ]
    },
    {
     "name": "stdout",
     "output_type": "stream",
     "text": [
      "-- column check completed --\n",
      "  columns are satisfied\n",
      "--  featuresV1  --\n",
      "dim: 875\n",
      "N: 27796\n",
      "-----------------\n"
     ]
    },
    {
     "name": "stderr",
     "output_type": "stream",
     "text": [
      "  1%|█▏                                                                                | 3/206 [00:12<13:46,  4.07s/it]"
     ]
    },
    {
     "name": "stdout",
     "output_type": "stream",
     "text": [
      "-- column check completed --\n",
      "  columns are satisfied\n",
      "--  featuresV1  --\n",
      "dim: 875\n",
      "N: 27796\n",
      "-----------------\n"
     ]
    },
    {
     "name": "stderr",
     "output_type": "stream",
     "text": [
      "  2%|█▌                                                                                | 4/206 [00:55<52:37, 15.63s/it]"
     ]
    },
    {
     "name": "stdout",
     "output_type": "stream",
     "text": [
      "-- column check completed --\n",
      "  columns are satisfied\n",
      "--  featuresV1  --\n",
      "dim: 875\n",
      "N: 27796\n",
      "-----------------\n"
     ]
    },
    {
     "name": "stderr",
     "output_type": "stream",
     "text": [
      "  2%|█▉                                                                              | 5/206 [01:32<1:13:45, 22.02s/it]"
     ]
    },
    {
     "name": "stdout",
     "output_type": "stream",
     "text": [
      "-- column check completed --\n",
      "  columns are satisfied\n",
      "--  featuresV1  --\n",
      "dim: 875\n",
      "N: 27796\n",
      "-----------------\n"
     ]
    },
    {
     "name": "stderr",
     "output_type": "stream",
     "text": [
      "  3%|██▎                                                                             | 6/206 [01:48<1:07:21, 20.21s/it]"
     ]
    },
    {
     "name": "stdout",
     "output_type": "stream",
     "text": [
      "-- column check completed --\n",
      "  columns are satisfied\n",
      "--  featuresV1  --\n",
      "dim: 875\n",
      "N: 27796\n",
      "-----------------\n"
     ]
    },
    {
     "name": "stderr",
     "output_type": "stream",
     "text": [
      "  3%|██▊                                                                               | 7/206 [01:58<56:57, 17.18s/it]"
     ]
    },
    {
     "name": "stdout",
     "output_type": "stream",
     "text": [
      "-- column check completed --\n",
      "  columns are satisfied\n",
      "--  featuresV1  --\n",
      "dim: 875\n",
      "N: 27796\n",
      "-----------------\n"
     ]
    },
    {
     "name": "stderr",
     "output_type": "stream",
     "text": [
      "  4%|███▏                                                                              | 8/206 [02:14<55:46, 16.90s/it]"
     ]
    },
    {
     "name": "stdout",
     "output_type": "stream",
     "text": [
      "-- column check completed --\n",
      "  columns are satisfied\n",
      "--  featuresV1  --\n",
      "dim: 875\n",
      "N: 27796\n",
      "-----------------\n"
     ]
    },
    {
     "name": "stderr",
     "output_type": "stream",
     "text": [
      "  4%|███▌                                                                              | 9/206 [02:17<41:23, 12.60s/it]"
     ]
    },
    {
     "name": "stdout",
     "output_type": "stream",
     "text": [
      "-- column check completed --\n",
      "  columns are satisfied\n",
      "--  featuresV1  --\n",
      "dim: 875\n",
      "N: 27796\n",
      "-----------------\n"
     ]
    },
    {
     "name": "stderr",
     "output_type": "stream",
     "text": [
      "  5%|███▊                                                                           | 10/206 [02:50<1:01:28, 18.82s/it]"
     ]
    },
    {
     "name": "stdout",
     "output_type": "stream",
     "text": [
      "-- column check completed --\n",
      "  columns are satisfied\n",
      "--  featuresV1  --\n",
      "dim: 875\n",
      "N: 27796\n",
      "-----------------\n"
     ]
    },
    {
     "name": "stderr",
     "output_type": "stream",
     "text": [
      "  5%|████▏                                                                          | 11/206 [03:31<1:22:32, 25.40s/it]"
     ]
    },
    {
     "name": "stdout",
     "output_type": "stream",
     "text": [
      "-- column check completed --\n",
      "  columns are satisfied\n",
      "--  featuresV1  --\n",
      "dim: 875\n",
      "N: 27796\n",
      "-----------------\n"
     ]
    },
    {
     "name": "stderr",
     "output_type": "stream",
     "text": [
      "  6%|████▌                                                                          | 12/206 [03:37<1:03:12, 19.55s/it]"
     ]
    },
    {
     "name": "stdout",
     "output_type": "stream",
     "text": [
      "-- column check completed --\n",
      "  columns are satisfied\n",
      "--  featuresV1  --\n",
      "dim: 875\n",
      "N: 27796\n",
      "-----------------\n"
     ]
    },
    {
     "name": "stderr",
     "output_type": "stream",
     "text": [
      "  6%|█████                                                                            | 13/206 [03:39<46:23, 14.42s/it]"
     ]
    },
    {
     "name": "stdout",
     "output_type": "stream",
     "text": [
      "-- column check completed --\n",
      "  columns are satisfied\n",
      "--  featuresV1  --\n",
      "dim: 875\n",
      "N: 27796\n",
      "-----------------\n"
     ]
    },
    {
     "name": "stderr",
     "output_type": "stream",
     "text": [
      "  7%|█████▌                                                                           | 14/206 [03:44<37:17, 11.65s/it]"
     ]
    },
    {
     "name": "stdout",
     "output_type": "stream",
     "text": [
      "-- column check completed --\n",
      "  columns are satisfied\n",
      "--  featuresV1  --\n",
      "dim: 875\n",
      "N: 27796\n",
      "-----------------\n"
     ]
    },
    {
     "name": "stderr",
     "output_type": "stream",
     "text": [
      "  7%|█████▉                                                                           | 15/206 [03:48<29:09,  9.16s/it]"
     ]
    },
    {
     "name": "stdout",
     "output_type": "stream",
     "text": [
      "-- column check completed --\n",
      "  columns are satisfied\n",
      "--  featuresV1  --\n",
      "dim: 875\n",
      "N: 27796\n",
      "-----------------\n"
     ]
    },
    {
     "name": "stderr",
     "output_type": "stream",
     "text": [
      "  8%|██████▎                                                                          | 16/206 [03:51<23:06,  7.30s/it]"
     ]
    },
    {
     "name": "stdout",
     "output_type": "stream",
     "text": [
      "-- column check completed --\n",
      "  columns are satisfied\n",
      "--  featuresV1  --\n",
      "dim: 875\n",
      "N: 27796\n",
      "-----------------\n"
     ]
    },
    {
     "name": "stderr",
     "output_type": "stream",
     "text": [
      "  8%|██████▋                                                                          | 17/206 [03:59<23:57,  7.61s/it]"
     ]
    },
    {
     "name": "stdout",
     "output_type": "stream",
     "text": [
      "-- column check completed --\n",
      "  columns are satisfied\n",
      "--  featuresV1  --\n",
      "dim: 875\n",
      "N: 27796\n",
      "-----------------\n"
     ]
    },
    {
     "name": "stderr",
     "output_type": "stream",
     "text": [
      "  9%|███████                                                                          | 18/206 [04:22<38:14, 12.21s/it]"
     ]
    },
    {
     "name": "stdout",
     "output_type": "stream",
     "text": [
      "-- column check completed --\n",
      "  columns are satisfied\n",
      "--  featuresV1  --\n",
      "dim: 875\n",
      "N: 27796\n",
      "-----------------\n"
     ]
    },
    {
     "name": "stderr",
     "output_type": "stream",
     "text": [
      "  9%|███████▍                                                                         | 19/206 [04:36<40:11, 12.90s/it]"
     ]
    },
    {
     "name": "stdout",
     "output_type": "stream",
     "text": [
      "-- column check completed --\n",
      "  columns are satisfied\n",
      "--  featuresV1  --\n",
      "dim: 875\n",
      "N: 27796\n",
      "-----------------\n"
     ]
    },
    {
     "name": "stderr",
     "output_type": "stream",
     "text": [
      " 10%|███████▊                                                                         | 20/206 [04:43<34:31, 11.14s/it]"
     ]
    },
    {
     "name": "stdout",
     "output_type": "stream",
     "text": [
      "-- column check completed --\n",
      "  columns are satisfied\n",
      "--  featuresV1  --\n",
      "dim: 875\n",
      "N: 27796\n",
      "-----------------\n"
     ]
    },
    {
     "name": "stderr",
     "output_type": "stream",
     "text": [
      " 10%|████████▎                                                                        | 21/206 [04:49<29:21,  9.52s/it]"
     ]
    },
    {
     "name": "stdout",
     "output_type": "stream",
     "text": [
      "-- column check completed --\n",
      "  columns are satisfied\n",
      "--  featuresV1  --\n",
      "dim: 875\n",
      "N: 27796\n",
      "-----------------\n"
     ]
    },
    {
     "name": "stderr",
     "output_type": "stream",
     "text": [
      " 11%|████████▋                                                                        | 22/206 [04:59<29:32,  9.63s/it]"
     ]
    },
    {
     "name": "stdout",
     "output_type": "stream",
     "text": [
      "-- column check completed --\n",
      "  columns are satisfied\n",
      "--  featuresV1  --\n",
      "dim: 875\n",
      "N: 27796\n",
      "-----------------\n"
     ]
    },
    {
     "name": "stderr",
     "output_type": "stream",
     "text": [
      " 11%|█████████                                                                        | 23/206 [05:02<23:10,  7.60s/it]"
     ]
    },
    {
     "name": "stdout",
     "output_type": "stream",
     "text": [
      "-- column check completed --\n",
      "  columns are satisfied\n",
      "--  featuresV1  --\n",
      "dim: 875\n",
      "N: 27796\n",
      "-----------------\n"
     ]
    },
    {
     "name": "stderr",
     "output_type": "stream",
     "text": [
      " 12%|█████████▍                                                                       | 24/206 [05:07<20:38,  6.80s/it]"
     ]
    },
    {
     "name": "stdout",
     "output_type": "stream",
     "text": [
      "-- column check completed --\n",
      "  columns are satisfied\n",
      "--  featuresV1  --\n",
      "dim: 875\n",
      "N: 27796\n",
      "-----------------\n"
     ]
    },
    {
     "name": "stderr",
     "output_type": "stream",
     "text": [
      " 12%|█████████▊                                                                       | 25/206 [05:10<17:31,  5.81s/it]"
     ]
    },
    {
     "name": "stdout",
     "output_type": "stream",
     "text": [
      "-- column check completed --\n",
      "  columns are satisfied\n",
      "--  featuresV1  --\n",
      "dim: 875\n",
      "N: 27796\n",
      "-----------------\n"
     ]
    },
    {
     "name": "stderr",
     "output_type": "stream",
     "text": [
      " 13%|██████████▏                                                                      | 26/206 [05:14<15:22,  5.12s/it]"
     ]
    },
    {
     "name": "stdout",
     "output_type": "stream",
     "text": [
      "-- column check completed --\n",
      "  columns are satisfied\n",
      "--  featuresV1  --\n",
      "dim: 875\n",
      "N: 27796\n",
      "-----------------\n"
     ]
    },
    {
     "name": "stderr",
     "output_type": "stream",
     "text": [
      " 13%|██████████▌                                                                      | 27/206 [05:17<13:39,  4.58s/it]"
     ]
    },
    {
     "name": "stdout",
     "output_type": "stream",
     "text": [
      "-- column check completed --\n",
      "  columns are satisfied\n",
      "--  featuresV1  --\n",
      "dim: 875\n",
      "N: 27796\n",
      "-----------------\n"
     ]
    },
    {
     "name": "stderr",
     "output_type": "stream",
     "text": [
      " 14%|███████████                                                                      | 28/206 [05:21<12:59,  4.38s/it]"
     ]
    },
    {
     "name": "stdout",
     "output_type": "stream",
     "text": [
      "-- column check completed --\n",
      "  columns are satisfied\n",
      "--  featuresV1  --\n",
      "dim: 875\n",
      "N: 27796\n",
      "-----------------\n"
     ]
    },
    {
     "name": "stderr",
     "output_type": "stream",
     "text": [
      " 14%|███████████▍                                                                     | 29/206 [05:37<22:48,  7.73s/it]"
     ]
    },
    {
     "name": "stdout",
     "output_type": "stream",
     "text": [
      "-- column check completed --\n",
      "  columns are satisfied\n",
      "--  featuresV1  --\n",
      "dim: 875\n",
      "N: 27796\n",
      "-----------------\n"
     ]
    },
    {
     "name": "stderr",
     "output_type": "stream",
     "text": [
      " 15%|███████████▊                                                                     | 30/206 [05:42<20:26,  6.97s/it]"
     ]
    },
    {
     "name": "stdout",
     "output_type": "stream",
     "text": [
      "-- column check completed --\n",
      "  columns are satisfied\n",
      "--  featuresV1  --\n",
      "dim: 875\n",
      "N: 27796\n",
      "-----------------\n"
     ]
    },
    {
     "name": "stderr",
     "output_type": "stream",
     "text": [
      " 15%|████████████▏                                                                    | 31/206 [05:46<18:10,  6.23s/it]"
     ]
    },
    {
     "name": "stdout",
     "output_type": "stream",
     "text": [
      "-- column check completed --\n",
      "  columns are satisfied\n",
      "--  featuresV1  --\n",
      "dim: 875\n",
      "N: 27796\n",
      "-----------------\n"
     ]
    },
    {
     "name": "stderr",
     "output_type": "stream",
     "text": [
      " 16%|████████████▌                                                                    | 32/206 [05:54<19:10,  6.61s/it]"
     ]
    },
    {
     "name": "stdout",
     "output_type": "stream",
     "text": [
      "-- column check completed --\n",
      "  columns are satisfied\n",
      "--  featuresV1  --\n",
      "dim: 875\n",
      "N: 27796\n",
      "-----------------\n"
     ]
    },
    {
     "name": "stderr",
     "output_type": "stream",
     "text": [
      " 16%|████████████▉                                                                    | 33/206 [06:00<18:42,  6.49s/it]"
     ]
    },
    {
     "name": "stdout",
     "output_type": "stream",
     "text": [
      "-- column check completed --\n",
      "  columns are satisfied\n",
      "--  featuresV1  --\n",
      "dim: 875\n",
      "N: 27796\n",
      "-----------------\n"
     ]
    },
    {
     "name": "stderr",
     "output_type": "stream",
     "text": [
      " 17%|█████████████▎                                                                   | 34/206 [06:03<15:17,  5.34s/it]"
     ]
    },
    {
     "name": "stdout",
     "output_type": "stream",
     "text": [
      "-- column check completed --\n",
      "  columns are satisfied\n",
      "--  featuresV1  --\n",
      "dim: 875\n",
      "N: 27796\n",
      "-----------------\n"
     ]
    },
    {
     "name": "stderr",
     "output_type": "stream",
     "text": [
      " 17%|█████████████▊                                                                   | 35/206 [06:05<12:37,  4.43s/it]"
     ]
    },
    {
     "name": "stdout",
     "output_type": "stream",
     "text": [
      "-- column check completed --\n",
      "  columns are satisfied\n",
      "--  featuresV1  --\n",
      "dim: 875\n",
      "N: 27796\n",
      "-----------------\n"
     ]
    },
    {
     "name": "stderr",
     "output_type": "stream",
     "text": [
      " 17%|██████████████▏                                                                  | 36/206 [06:08<11:08,  3.93s/it]"
     ]
    },
    {
     "name": "stdout",
     "output_type": "stream",
     "text": [
      "-- column check completed --\n",
      "  columns are satisfied\n",
      "--  featuresV1  --\n",
      "dim: 875\n",
      "N: 27796\n",
      "-----------------\n"
     ]
    },
    {
     "name": "stderr",
     "output_type": "stream",
     "text": [
      " 18%|██████████████▌                                                                  | 37/206 [06:18<16:40,  5.92s/it]"
     ]
    },
    {
     "name": "stdout",
     "output_type": "stream",
     "text": [
      "-- column check completed --\n",
      "  columns are satisfied\n",
      "--  featuresV1  --\n",
      "dim: 875\n",
      "N: 27796\n",
      "-----------------\n"
     ]
    },
    {
     "name": "stderr",
     "output_type": "stream",
     "text": [
      " 18%|██████████████▉                                                                  | 38/206 [06:21<14:07,  5.05s/it]"
     ]
    },
    {
     "name": "stdout",
     "output_type": "stream",
     "text": [
      "-- column check completed --\n",
      "  columns are satisfied\n",
      "--  featuresV1  --\n",
      "dim: 875\n",
      "N: 27796\n",
      "-----------------\n"
     ]
    },
    {
     "name": "stderr",
     "output_type": "stream",
     "text": [
      " 19%|███████████████▎                                                                 | 39/206 [06:27<14:17,  5.14s/it]"
     ]
    },
    {
     "name": "stdout",
     "output_type": "stream",
     "text": [
      "-- column check completed --\n",
      "  columns are satisfied\n",
      "--  featuresV1  --\n",
      "dim: 875\n",
      "N: 27796\n",
      "-----------------\n"
     ]
    },
    {
     "name": "stderr",
     "output_type": "stream",
     "text": [
      " 19%|███████████████▋                                                                 | 40/206 [06:29<12:12,  4.41s/it]"
     ]
    },
    {
     "name": "stdout",
     "output_type": "stream",
     "text": [
      "-- column check completed --\n",
      "  columns are satisfied\n",
      "--  featuresV1  --\n",
      "dim: 875\n",
      "N: 27796\n",
      "-----------------\n"
     ]
    },
    {
     "name": "stderr",
     "output_type": "stream",
     "text": [
      " 20%|████████████████                                                                 | 41/206 [06:38<15:57,  5.80s/it]"
     ]
    },
    {
     "name": "stdout",
     "output_type": "stream",
     "text": [
      "-- column check completed --\n",
      "  columns are satisfied\n",
      "--  featuresV1  --\n",
      "dim: 875\n",
      "N: 27796\n",
      "-----------------\n"
     ]
    },
    {
     "name": "stderr",
     "output_type": "stream",
     "text": [
      " 20%|████████████████▌                                                                | 42/206 [06:48<19:04,  6.98s/it]"
     ]
    },
    {
     "name": "stdout",
     "output_type": "stream",
     "text": [
      "-- column check completed --\n",
      "  columns are satisfied\n",
      "--  featuresV1  --\n",
      "dim: 875\n",
      "N: 27796\n",
      "-----------------\n"
     ]
    },
    {
     "name": "stderr",
     "output_type": "stream",
     "text": [
      " 21%|████████████████▉                                                                | 43/206 [06:54<18:19,  6.75s/it]"
     ]
    },
    {
     "name": "stdout",
     "output_type": "stream",
     "text": [
      "-- column check completed --\n",
      "  columns are satisfied\n",
      "--  featuresV1  --\n",
      "dim: 875\n",
      "N: 27796\n",
      "-----------------\n"
     ]
    },
    {
     "name": "stderr",
     "output_type": "stream",
     "text": [
      " 21%|█████████████████▎                                                               | 44/206 [07:23<35:45, 13.24s/it]"
     ]
    },
    {
     "name": "stdout",
     "output_type": "stream",
     "text": [
      "-- column check completed --\n",
      "  columns are satisfied\n",
      "--  featuresV1  --\n",
      "dim: 875\n",
      "N: 27796\n",
      "-----------------\n"
     ]
    },
    {
     "name": "stderr",
     "output_type": "stream",
     "text": [
      " 22%|█████████████████▋                                                               | 45/206 [07:44<41:52, 15.60s/it]"
     ]
    },
    {
     "name": "stdout",
     "output_type": "stream",
     "text": [
      "-- column check completed --\n",
      "  columns are satisfied\n",
      "--  featuresV1  --\n",
      "dim: 875\n",
      "N: 27796\n",
      "-----------------\n"
     ]
    },
    {
     "name": "stderr",
     "output_type": "stream",
     "text": [
      " 22%|██████████████████                                                               | 46/206 [08:07<47:43, 17.90s/it]"
     ]
    },
    {
     "name": "stdout",
     "output_type": "stream",
     "text": [
      "-- column check completed --\n",
      "  columns are satisfied\n",
      "--  featuresV1  --\n",
      "dim: 875\n",
      "N: 27796\n",
      "-----------------\n"
     ]
    },
    {
     "name": "stderr",
     "output_type": "stream",
     "text": [
      " 23%|██████████████████▍                                                              | 47/206 [08:10<35:23, 13.35s/it]"
     ]
    },
    {
     "name": "stdout",
     "output_type": "stream",
     "text": [
      "-- column check completed --\n",
      "  columns are satisfied\n",
      "--  featuresV1  --\n",
      "dim: 875\n",
      "N: 27796\n",
      "-----------------\n"
     ]
    },
    {
     "name": "stderr",
     "output_type": "stream",
     "text": [
      " 23%|██████████████████▊                                                              | 48/206 [08:16<29:20, 11.14s/it]"
     ]
    },
    {
     "name": "stdout",
     "output_type": "stream",
     "text": [
      "-- column check completed --\n",
      "  columns are satisfied\n",
      "--  featuresV1  --\n",
      "dim: 875\n",
      "N: 27796\n",
      "-----------------\n"
     ]
    },
    {
     "name": "stderr",
     "output_type": "stream",
     "text": [
      " 24%|███████████████████▎                                                             | 49/206 [08:21<24:51,  9.50s/it]"
     ]
    },
    {
     "name": "stdout",
     "output_type": "stream",
     "text": [
      "-- column check completed --\n",
      "  columns are satisfied\n",
      "--  featuresV1  --\n",
      "dim: 875\n",
      "N: 27796\n",
      "-----------------\n"
     ]
    },
    {
     "name": "stderr",
     "output_type": "stream",
     "text": [
      " 24%|███████████████████▋                                                             | 50/206 [08:31<24:34,  9.45s/it]"
     ]
    },
    {
     "name": "stdout",
     "output_type": "stream",
     "text": [
      "-- column check completed --\n",
      "  columns are satisfied\n",
      "--  featuresV1  --\n",
      "dim: 875\n",
      "N: 27796\n",
      "-----------------\n"
     ]
    },
    {
     "name": "stderr",
     "output_type": "stream",
     "text": [
      " 25%|████████████████████                                                             | 51/206 [08:35<20:38,  7.99s/it]"
     ]
    },
    {
     "name": "stdout",
     "output_type": "stream",
     "text": [
      "-- column check completed --\n",
      "  columns are satisfied\n",
      "--  featuresV1  --\n",
      "dim: 875\n",
      "N: 27796\n",
      "-----------------\n"
     ]
    },
    {
     "name": "stderr",
     "output_type": "stream",
     "text": [
      " 25%|████████████████████▍                                                            | 52/206 [08:42<19:28,  7.59s/it]"
     ]
    },
    {
     "name": "stdout",
     "output_type": "stream",
     "text": [
      "-- column check completed --\n",
      "  columns are satisfied\n",
      "--  featuresV1  --\n",
      "dim: 875\n",
      "N: 27796\n",
      "-----------------\n"
     ]
    },
    {
     "name": "stderr",
     "output_type": "stream",
     "text": [
      " 26%|████████████████████▊                                                            | 53/206 [08:46<16:53,  6.63s/it]"
     ]
    },
    {
     "name": "stdout",
     "output_type": "stream",
     "text": [
      "-- column check completed --\n",
      "  columns are satisfied\n",
      "--  featuresV1  --\n",
      "dim: 875\n",
      "N: 27796\n",
      "-----------------\n"
     ]
    },
    {
     "name": "stderr",
     "output_type": "stream",
     "text": [
      " 26%|█████████████████████▏                                                           | 54/206 [08:49<13:45,  5.43s/it]"
     ]
    },
    {
     "name": "stdout",
     "output_type": "stream",
     "text": [
      "-- column check completed --\n",
      "  columns are satisfied\n",
      "--  featuresV1  --\n",
      "dim: 875\n",
      "N: 27796\n",
      "-----------------\n"
     ]
    }
   ],
   "source": [
    "train_targets = pd.read_csv(os.path.join(\"..\",\"input\",\"lish-moa\",\"train_targets_scored.csv\"))\n",
    "train_features = pd.read_csv(os.path.join(\"..\",\"input\",\"lish-moa\",\"train_features.csv\"))\n",
    "test_features =  pd.read_csv(os.path.join(\"..\",\"input\",\"lish-moa\",\"test_features.csv\"))\n",
    "\n",
    "for target in tqdm(train_targets.columns[1:]):\n",
    "    feature_maker = FeaturesMaker_v1(target_col=target)\n",
    "\n",
    "    train_data = copy.copy(train_features)\n",
    "    train_data = pd.merge(train_data,train_targets[[\"sig_id\",target]],on=\"sig_id\",how=\"right\")\n",
    "    train_data[\"data_part\"] = \"train\"\n",
    "\n",
    "    test_data = copy.copy(test_features)\n",
    "    test_data[target] = np.nan\n",
    "    test_data[\"data_part\"] = \"test\"\n",
    "\n",
    "    data = pd.concat([train_data,test_data])\n",
    "    data = feature_maker.make_feature(data)\n",
    "\n",
    "    # training XGBoost\n",
    "    model = LogisticRegression(penalty=\"l1\",n_jobs=8)\n",
    "\n",
    "    model.fit(X=data[\"train\"][0], y=data[\"train\"][1])\n",
    "    \n",
    "    dir = os.path.join(\"..\",\"input\",feature_maker.name+\"_LogisticRegL1\")\n",
    "    if not(os.path.exists(dir)):\n",
    "        os.makedirs(dir)\n",
    "    \n",
    "    model_path = os.path.join(dir,target+\".mdl\")         \n",
    "    \n",
    "    with open(model_path,\"wb\") as f:\n",
    "        pickle.dump(model,f)"
   ]
  }
 ],
 "metadata": {
  "kernelspec": {
   "display_name": "Python 3",
   "language": "python",
   "name": "python3"
  },
  "language_info": {
   "codemirror_mode": {
    "name": "ipython",
    "version": 3
   },
   "file_extension": ".py",
   "mimetype": "text/x-python",
   "name": "python",
   "nbconvert_exporter": "python",
   "pygments_lexer": "ipython3",
   "version": "3.7.4"
  }
 },
 "nbformat": 4,
 "nbformat_minor": 4
}
