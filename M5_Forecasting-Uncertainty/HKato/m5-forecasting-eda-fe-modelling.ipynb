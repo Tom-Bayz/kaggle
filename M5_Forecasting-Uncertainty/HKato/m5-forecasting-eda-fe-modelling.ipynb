{
 "cells": [
  {
   "cell_type": "markdown",
   "metadata": {},
   "source": [
    "<a id='top'><img src='https://media.giphy.com/media/YVfSBbePrWdGw/giphy.gif'></a>\n",
    "<div class=\"list-group\" id=\"list-tab\" role=\"tablist\">\n",
    "  <h3 class=\"list-group-item list-group-item-action active\" data-toggle=\"list\"  role=\"tab\" aria-controls=\"home\">Table of Contents</h3>\n",
    "  <a class=\"list-group-item list-group-item-action\" data-toggle=\"list\" href=\"#data\" role=\"tab\" aria-controls=\"profile\">Fetch the data<span class=\"badge badge-primary badge-pill\">1</span></a>\n",
    "  <a class=\"list-group-item list-group-item-action\" data-toggle=\"list\" href=\"#down\" role=\"tab\" aria-controls=\"messages\">Downcasting<span class=\"badge badge-primary badge-pill\">2</span></a>\n",
    "  <a class=\"list-group-item list-group-item-action\"  data-toggle=\"list\" href=\"#melt\" role=\"tab\" aria-controls=\"settings\">Melting the data<span class=\"badge badge-primary badge-pill\">3</span></a>\n",
    "  <a class=\"list-group-item list-group-item-action\" data-toggle=\"list\" href=\"#eda\" role=\"tab\" aria-controls=\"settings\">Exploratory Data Analysis<span class=\"badge badge-primary badge-pill\">4</span></a> \n",
    "  <a class=\"list-group-item list-group-item-action\" data-toggle=\"list\" href=\"#fe\" role=\"tab\" aria-controls=\"settings\">Feature Engineering<span class=\"badge badge-primary badge-pill\">5</span></a>\n",
    "  <a class=\"list-group-item list-group-item-action\" data-toggle=\"list\" href=\"#pred\" role=\"tab\" aria-controls=\"settings\">Modelling and Prediction<span class=\"badge badge-primary badge-pill\">6</span></a>"
   ]
  },
  {
   "cell_type": "code",
   "execution_count": 1,
   "metadata": {
    "_cell_guid": "b1076dfc-b9ad-4769-8c92-a6c4dae69d19",
    "_kg_hide-input": true,
    "_uuid": "8f2839f25d086af736a60e9eeb907d3b93b6e0e5"
   },
   "outputs": [],
   "source": [
    "import os\n",
    "import pandas as pd\n",
    "import numpy as np\n",
    "import plotly_express as px\n",
    "import plotly.graph_objects as go\n",
    "from plotly.subplots import make_subplots\n",
    "import matplotlib.pyplot as plt\n",
    "import seaborn as sns\n",
    "import gc\n",
    "import warnings\n",
    "warnings.filterwarnings('ignore')\n",
    "from lightgbm import LGBMRegressor\n",
    "import joblib"
   ]
  },
  {
   "cell_type": "markdown",
   "metadata": {},
   "source": [
    "# <a id='data'>1. Fetch the data</a>"
   ]
  },
  {
   "cell_type": "code",
   "execution_count": 2,
   "metadata": {
    "_cell_guid": "79c7e3d0-c299-4dcb-8224-4455121ee9b0",
    "_kg_hide-input": false,
    "_uuid": "d629ff2d2480ee46fbb7e2d37f6b5fab8052498a"
   },
   "outputs": [
    {
     "ename": "FileNotFoundError",
     "evalue": "[Errno 2] File /kaggle/input/m5-forecasting-accuracy/sales_train_evaluation.csv does not exist: '/kaggle/input/m5-forecasting-accuracy/sales_train_evaluation.csv'",
     "output_type": "error",
     "traceback": [
      "\u001b[1;31m---------------------------------------------------------------------------\u001b[0m",
      "\u001b[1;31mFileNotFoundError\u001b[0m                         Traceback (most recent call last)",
      "\u001b[1;32m<ipython-input-2-22cb6fb60237>\u001b[0m in \u001b[0;36m<module>\u001b[1;34m\u001b[0m\n\u001b[1;32m----> 1\u001b[1;33m \u001b[0msales\u001b[0m \u001b[1;33m=\u001b[0m \u001b[0mpd\u001b[0m\u001b[1;33m.\u001b[0m\u001b[0mread_csv\u001b[0m\u001b[1;33m(\u001b[0m\u001b[1;34m'/kaggle/input/m5-forecasting-accuracy/sales_train_evaluation.csv'\u001b[0m\u001b[1;33m)\u001b[0m\u001b[1;33m\u001b[0m\u001b[1;33m\u001b[0m\u001b[0m\n\u001b[0m\u001b[0;32m      2\u001b[0m \u001b[0msales\u001b[0m\u001b[1;33m.\u001b[0m\u001b[0mname\u001b[0m \u001b[1;33m=\u001b[0m \u001b[1;34m'sales'\u001b[0m\u001b[1;33m\u001b[0m\u001b[1;33m\u001b[0m\u001b[0m\n\u001b[0;32m      3\u001b[0m \u001b[0mcalendar\u001b[0m \u001b[1;33m=\u001b[0m \u001b[0mpd\u001b[0m\u001b[1;33m.\u001b[0m\u001b[0mread_csv\u001b[0m\u001b[1;33m(\u001b[0m\u001b[1;34m'/kaggle/input/m5-forecasting-accuracy/calendar.csv'\u001b[0m\u001b[1;33m)\u001b[0m\u001b[1;33m\u001b[0m\u001b[1;33m\u001b[0m\u001b[0m\n\u001b[0;32m      4\u001b[0m \u001b[0mcalendar\u001b[0m\u001b[1;33m.\u001b[0m\u001b[0mname\u001b[0m \u001b[1;33m=\u001b[0m \u001b[1;34m'calendar'\u001b[0m\u001b[1;33m\u001b[0m\u001b[1;33m\u001b[0m\u001b[0m\n\u001b[0;32m      5\u001b[0m \u001b[0mprices\u001b[0m \u001b[1;33m=\u001b[0m \u001b[0mpd\u001b[0m\u001b[1;33m.\u001b[0m\u001b[0mread_csv\u001b[0m\u001b[1;33m(\u001b[0m\u001b[1;34m'/kaggle/input/m5-forecasting-accuracy/sell_prices.csv'\u001b[0m\u001b[1;33m)\u001b[0m\u001b[1;33m\u001b[0m\u001b[1;33m\u001b[0m\u001b[0m\n",
      "\u001b[1;32mc:\\users\\owner\\appdata\\local\\programs\\python\\python38\\lib\\site-packages\\pandas\\io\\parsers.py\u001b[0m in \u001b[0;36mparser_f\u001b[1;34m(filepath_or_buffer, sep, delimiter, header, names, index_col, usecols, squeeze, prefix, mangle_dupe_cols, dtype, engine, converters, true_values, false_values, skipinitialspace, skiprows, skipfooter, nrows, na_values, keep_default_na, na_filter, verbose, skip_blank_lines, parse_dates, infer_datetime_format, keep_date_col, date_parser, dayfirst, cache_dates, iterator, chunksize, compression, thousands, decimal, lineterminator, quotechar, quoting, doublequote, escapechar, comment, encoding, dialect, error_bad_lines, warn_bad_lines, delim_whitespace, low_memory, memory_map, float_precision)\u001b[0m\n\u001b[0;32m    674\u001b[0m         )\n\u001b[0;32m    675\u001b[0m \u001b[1;33m\u001b[0m\u001b[0m\n\u001b[1;32m--> 676\u001b[1;33m         \u001b[1;32mreturn\u001b[0m \u001b[0m_read\u001b[0m\u001b[1;33m(\u001b[0m\u001b[0mfilepath_or_buffer\u001b[0m\u001b[1;33m,\u001b[0m \u001b[0mkwds\u001b[0m\u001b[1;33m)\u001b[0m\u001b[1;33m\u001b[0m\u001b[1;33m\u001b[0m\u001b[0m\n\u001b[0m\u001b[0;32m    677\u001b[0m \u001b[1;33m\u001b[0m\u001b[0m\n\u001b[0;32m    678\u001b[0m     \u001b[0mparser_f\u001b[0m\u001b[1;33m.\u001b[0m\u001b[0m__name__\u001b[0m \u001b[1;33m=\u001b[0m \u001b[0mname\u001b[0m\u001b[1;33m\u001b[0m\u001b[1;33m\u001b[0m\u001b[0m\n",
      "\u001b[1;32mc:\\users\\owner\\appdata\\local\\programs\\python\\python38\\lib\\site-packages\\pandas\\io\\parsers.py\u001b[0m in \u001b[0;36m_read\u001b[1;34m(filepath_or_buffer, kwds)\u001b[0m\n\u001b[0;32m    446\u001b[0m \u001b[1;33m\u001b[0m\u001b[0m\n\u001b[0;32m    447\u001b[0m     \u001b[1;31m# Create the parser.\u001b[0m\u001b[1;33m\u001b[0m\u001b[1;33m\u001b[0m\u001b[1;33m\u001b[0m\u001b[0m\n\u001b[1;32m--> 448\u001b[1;33m     \u001b[0mparser\u001b[0m \u001b[1;33m=\u001b[0m \u001b[0mTextFileReader\u001b[0m\u001b[1;33m(\u001b[0m\u001b[0mfp_or_buf\u001b[0m\u001b[1;33m,\u001b[0m \u001b[1;33m**\u001b[0m\u001b[0mkwds\u001b[0m\u001b[1;33m)\u001b[0m\u001b[1;33m\u001b[0m\u001b[1;33m\u001b[0m\u001b[0m\n\u001b[0m\u001b[0;32m    449\u001b[0m \u001b[1;33m\u001b[0m\u001b[0m\n\u001b[0;32m    450\u001b[0m     \u001b[1;32mif\u001b[0m \u001b[0mchunksize\u001b[0m \u001b[1;32mor\u001b[0m \u001b[0miterator\u001b[0m\u001b[1;33m:\u001b[0m\u001b[1;33m\u001b[0m\u001b[1;33m\u001b[0m\u001b[0m\n",
      "\u001b[1;32mc:\\users\\owner\\appdata\\local\\programs\\python\\python38\\lib\\site-packages\\pandas\\io\\parsers.py\u001b[0m in \u001b[0;36m__init__\u001b[1;34m(self, f, engine, **kwds)\u001b[0m\n\u001b[0;32m    878\u001b[0m             \u001b[0mself\u001b[0m\u001b[1;33m.\u001b[0m\u001b[0moptions\u001b[0m\u001b[1;33m[\u001b[0m\u001b[1;34m\"has_index_names\"\u001b[0m\u001b[1;33m]\u001b[0m \u001b[1;33m=\u001b[0m \u001b[0mkwds\u001b[0m\u001b[1;33m[\u001b[0m\u001b[1;34m\"has_index_names\"\u001b[0m\u001b[1;33m]\u001b[0m\u001b[1;33m\u001b[0m\u001b[1;33m\u001b[0m\u001b[0m\n\u001b[0;32m    879\u001b[0m \u001b[1;33m\u001b[0m\u001b[0m\n\u001b[1;32m--> 880\u001b[1;33m         \u001b[0mself\u001b[0m\u001b[1;33m.\u001b[0m\u001b[0m_make_engine\u001b[0m\u001b[1;33m(\u001b[0m\u001b[0mself\u001b[0m\u001b[1;33m.\u001b[0m\u001b[0mengine\u001b[0m\u001b[1;33m)\u001b[0m\u001b[1;33m\u001b[0m\u001b[1;33m\u001b[0m\u001b[0m\n\u001b[0m\u001b[0;32m    881\u001b[0m \u001b[1;33m\u001b[0m\u001b[0m\n\u001b[0;32m    882\u001b[0m     \u001b[1;32mdef\u001b[0m \u001b[0mclose\u001b[0m\u001b[1;33m(\u001b[0m\u001b[0mself\u001b[0m\u001b[1;33m)\u001b[0m\u001b[1;33m:\u001b[0m\u001b[1;33m\u001b[0m\u001b[1;33m\u001b[0m\u001b[0m\n",
      "\u001b[1;32mc:\\users\\owner\\appdata\\local\\programs\\python\\python38\\lib\\site-packages\\pandas\\io\\parsers.py\u001b[0m in \u001b[0;36m_make_engine\u001b[1;34m(self, engine)\u001b[0m\n\u001b[0;32m   1112\u001b[0m     \u001b[1;32mdef\u001b[0m \u001b[0m_make_engine\u001b[0m\u001b[1;33m(\u001b[0m\u001b[0mself\u001b[0m\u001b[1;33m,\u001b[0m \u001b[0mengine\u001b[0m\u001b[1;33m=\u001b[0m\u001b[1;34m\"c\"\u001b[0m\u001b[1;33m)\u001b[0m\u001b[1;33m:\u001b[0m\u001b[1;33m\u001b[0m\u001b[1;33m\u001b[0m\u001b[0m\n\u001b[0;32m   1113\u001b[0m         \u001b[1;32mif\u001b[0m \u001b[0mengine\u001b[0m \u001b[1;33m==\u001b[0m \u001b[1;34m\"c\"\u001b[0m\u001b[1;33m:\u001b[0m\u001b[1;33m\u001b[0m\u001b[1;33m\u001b[0m\u001b[0m\n\u001b[1;32m-> 1114\u001b[1;33m             \u001b[0mself\u001b[0m\u001b[1;33m.\u001b[0m\u001b[0m_engine\u001b[0m \u001b[1;33m=\u001b[0m \u001b[0mCParserWrapper\u001b[0m\u001b[1;33m(\u001b[0m\u001b[0mself\u001b[0m\u001b[1;33m.\u001b[0m\u001b[0mf\u001b[0m\u001b[1;33m,\u001b[0m \u001b[1;33m**\u001b[0m\u001b[0mself\u001b[0m\u001b[1;33m.\u001b[0m\u001b[0moptions\u001b[0m\u001b[1;33m)\u001b[0m\u001b[1;33m\u001b[0m\u001b[1;33m\u001b[0m\u001b[0m\n\u001b[0m\u001b[0;32m   1115\u001b[0m         \u001b[1;32melse\u001b[0m\u001b[1;33m:\u001b[0m\u001b[1;33m\u001b[0m\u001b[1;33m\u001b[0m\u001b[0m\n\u001b[0;32m   1116\u001b[0m             \u001b[1;32mif\u001b[0m \u001b[0mengine\u001b[0m \u001b[1;33m==\u001b[0m \u001b[1;34m\"python\"\u001b[0m\u001b[1;33m:\u001b[0m\u001b[1;33m\u001b[0m\u001b[1;33m\u001b[0m\u001b[0m\n",
      "\u001b[1;32mc:\\users\\owner\\appdata\\local\\programs\\python\\python38\\lib\\site-packages\\pandas\\io\\parsers.py\u001b[0m in \u001b[0;36m__init__\u001b[1;34m(self, src, **kwds)\u001b[0m\n\u001b[0;32m   1889\u001b[0m         \u001b[0mkwds\u001b[0m\u001b[1;33m[\u001b[0m\u001b[1;34m\"usecols\"\u001b[0m\u001b[1;33m]\u001b[0m \u001b[1;33m=\u001b[0m \u001b[0mself\u001b[0m\u001b[1;33m.\u001b[0m\u001b[0musecols\u001b[0m\u001b[1;33m\u001b[0m\u001b[1;33m\u001b[0m\u001b[0m\n\u001b[0;32m   1890\u001b[0m \u001b[1;33m\u001b[0m\u001b[0m\n\u001b[1;32m-> 1891\u001b[1;33m         \u001b[0mself\u001b[0m\u001b[1;33m.\u001b[0m\u001b[0m_reader\u001b[0m \u001b[1;33m=\u001b[0m \u001b[0mparsers\u001b[0m\u001b[1;33m.\u001b[0m\u001b[0mTextReader\u001b[0m\u001b[1;33m(\u001b[0m\u001b[0msrc\u001b[0m\u001b[1;33m,\u001b[0m \u001b[1;33m**\u001b[0m\u001b[0mkwds\u001b[0m\u001b[1;33m)\u001b[0m\u001b[1;33m\u001b[0m\u001b[1;33m\u001b[0m\u001b[0m\n\u001b[0m\u001b[0;32m   1892\u001b[0m         \u001b[0mself\u001b[0m\u001b[1;33m.\u001b[0m\u001b[0munnamed_cols\u001b[0m \u001b[1;33m=\u001b[0m \u001b[0mself\u001b[0m\u001b[1;33m.\u001b[0m\u001b[0m_reader\u001b[0m\u001b[1;33m.\u001b[0m\u001b[0munnamed_cols\u001b[0m\u001b[1;33m\u001b[0m\u001b[1;33m\u001b[0m\u001b[0m\n\u001b[0;32m   1893\u001b[0m \u001b[1;33m\u001b[0m\u001b[0m\n",
      "\u001b[1;32mpandas\\_libs\\parsers.pyx\u001b[0m in \u001b[0;36mpandas._libs.parsers.TextReader.__cinit__\u001b[1;34m()\u001b[0m\n",
      "\u001b[1;32mpandas\\_libs\\parsers.pyx\u001b[0m in \u001b[0;36mpandas._libs.parsers.TextReader._setup_parser_source\u001b[1;34m()\u001b[0m\n",
      "\u001b[1;31mFileNotFoundError\u001b[0m: [Errno 2] File /kaggle/input/m5-forecasting-accuracy/sales_train_evaluation.csv does not exist: '/kaggle/input/m5-forecasting-accuracy/sales_train_evaluation.csv'"
     ]
    }
   ],
   "source": [
    "sales = pd.read_csv('/kaggle/input/m5-forecasting-accuracy/sales_train_evaluation.csv')\n",
    "sales.name = 'sales'\n",
    "calendar = pd.read_csv('/kaggle/input/m5-forecasting-accuracy/calendar.csv')\n",
    "calendar.name = 'calendar'\n",
    "prices = pd.read_csv('/kaggle/input/m5-forecasting-accuracy/sell_prices.csv')\n",
    "prices.name = 'prices'"
   ]
  },
  {
   "cell_type": "markdown",
   "metadata": {},
   "source": [
    "Since, the validation data is now available for the days 1914-1941, Adding zero sales for days: d_1942 - d_1969(Test)"
   ]
  },
  {
   "cell_type": "code",
   "execution_count": null,
   "metadata": {},
   "outputs": [],
   "source": [
    "#Add zero sales for the remaining days 1942-1969\n",
    "for d in range(1942,1970):\n",
    "    col = 'd_' + str(d)\n",
    "    sales[col] = 0\n",
    "    sales[col] = sales[col].astype(np.int16)"
   ]
  },
  {
   "cell_type": "markdown",
   "metadata": {},
   "source": [
    "# <a id='down'>2. Downcasting</a>\n",
    "In this section I'll be downcasting the dataframes to reduce the amount of storage used by them and also to expidite the operations performed on them.\n",
    "\n",
    "<img src='https://media.giphy.com/media/VGP4koIBvIWDP2umDU/giphy.gif' style=\"width:500px;height:300px;\">\n",
    "\n",
    "- **Numerical Columns: ** Depending on your environment, pandas automatically creates int32, int64, float32 or float64 columns for numeric ones. If you know the min or max value of a column, you can use a subtype which is less memory consuming. You can also use an unsigned subtype if there is no negative value.<br>\n",
    "Here are the different subtypes you can use:<br>\n",
    "`int8 / uint8` : consumes 1 byte of memory, range between -128/127 or 0/255<br>\n",
    "`bool` : consumes 1 byte, true or false<br>\n",
    "`float16 / int16 / uint16`: consumes 2 bytes of memory, range between -32768 and 32767 or 0/65535<br>\n",
    "`float32 / int32 / uint32` : consumes 4 bytes of memory, range between -2147483648 and 2147483647<br>\n",
    "`float64 / int64 / uint64`: consumes 8 bytes of memory<br>\n",
    "If one of your column has values between 1 and 10 for example, you will reduce the size of that column from 8 bytes per row to 1 byte, which is more than 85% memory saving on that column!\n",
    "- **Categorical Columns: ** Pandas stores categorical columns as objects. One of the reason this storage is not optimal is that it creates a list of pointers to the memory address of each value of your column. For columns with low cardinality (the amount of unique values is lower than 50% of the count of these values), this can be optimized by forcing pandas to use a virtual mapping table where all unique values are mapped via an integer instead of a pointer. This is done using the category datatype."
   ]
  },
  {
   "cell_type": "code",
   "execution_count": null,
   "metadata": {
    "_kg_hide-input": true
   },
   "outputs": [],
   "source": [
    "sales_bd = np.round(sales.memory_usage().sum()/(1024*1024),1)\n",
    "calendar_bd = np.round(calendar.memory_usage().sum()/(1024*1024),1)\n",
    "prices_bd = np.round(prices.memory_usage().sum()/(1024*1024),1)"
   ]
  },
  {
   "cell_type": "code",
   "execution_count": null,
   "metadata": {},
   "outputs": [],
   "source": [
    "#Downcast in order to save memory\n",
    "def downcast(df):\n",
    "    cols = df.dtypes.index.tolist()\n",
    "    types = df.dtypes.values.tolist()\n",
    "    for i,t in enumerate(types):\n",
    "        if 'int' in str(t):\n",
    "            if df[cols[i]].min() > np.iinfo(np.int8).min and df[cols[i]].max() < np.iinfo(np.int8).max:\n",
    "                df[cols[i]] = df[cols[i]].astype(np.int8)\n",
    "            elif df[cols[i]].min() > np.iinfo(np.int16).min and df[cols[i]].max() < np.iinfo(np.int16).max:\n",
    "                df[cols[i]] = df[cols[i]].astype(np.int16)\n",
    "            elif df[cols[i]].min() > np.iinfo(np.int32).min and df[cols[i]].max() < np.iinfo(np.int32).max:\n",
    "                df[cols[i]] = df[cols[i]].astype(np.int32)\n",
    "            else:\n",
    "                df[cols[i]] = df[cols[i]].astype(np.int64)\n",
    "        elif 'float' in str(t):\n",
    "            if df[cols[i]].min() > np.finfo(np.float16).min and df[cols[i]].max() < np.finfo(np.float16).max:\n",
    "                df[cols[i]] = df[cols[i]].astype(np.float16)\n",
    "            elif df[cols[i]].min() > np.finfo(np.float32).min and df[cols[i]].max() < np.finfo(np.float32).max:\n",
    "                df[cols[i]] = df[cols[i]].astype(np.float32)\n",
    "            else:\n",
    "                df[cols[i]] = df[cols[i]].astype(np.float64)\n",
    "        elif t == np.object:\n",
    "            if cols[i] == 'date':\n",
    "                df[cols[i]] = pd.to_datetime(df[cols[i]], format='%Y-%m-%d')\n",
    "            else:\n",
    "                df[cols[i]] = df[cols[i]].astype('category')\n",
    "    return df  \n",
    "\n",
    "sales = downcast(sales)\n",
    "prices = downcast(prices)\n",
    "calendar = downcast(calendar)"
   ]
  },
  {
   "cell_type": "code",
   "execution_count": null,
   "metadata": {
    "_kg_hide-input": true
   },
   "outputs": [],
   "source": [
    "sales_ad = np.round(sales.memory_usage().sum()/(1024*1024),1)\n",
    "calendar_ad = np.round(calendar.memory_usage().sum()/(1024*1024),1)\n",
    "prices_ad = np.round(prices.memory_usage().sum()/(1024*1024),1)"
   ]
  },
  {
   "cell_type": "markdown",
   "metadata": {},
   "source": [
    "Below plot shows how much effect downcasting has had on the memory usage of DataFrames. Clearly, we have been able to reduce `sales` & `prices` to less than 1/4th of their actual memory usage. `calendar` is already a small dataframe."
   ]
  },
  {
   "cell_type": "code",
   "execution_count": null,
   "metadata": {
    "_kg_hide-input": true
   },
   "outputs": [],
   "source": [
    "dic = {'DataFrame':['sales','calendar','prices'],\n",
    "       'Before downcasting':[sales_bd,calendar_bd,prices_bd],\n",
    "       'After downcasting':[sales_ad,calendar_ad,prices_ad]}\n",
    "\n",
    "memory = pd.DataFrame(dic)\n",
    "memory = pd.melt(memory, id_vars='DataFrame', var_name='Status', value_name='Memory (MB)')\n",
    "memory.sort_values('Memory (MB)',inplace=True)\n",
    "fig = px.bar(memory, x='DataFrame', y='Memory (MB)', color='Status', barmode='group', text='Memory (MB)')\n",
    "fig.update_traces(texttemplate='%{text} MB', textposition='outside')\n",
    "fig.update_layout(template='seaborn', title='Effect of Downcasting')\n",
    "fig.show()"
   ]
  },
  {
   "cell_type": "markdown",
   "metadata": {},
   "source": [
    "# <a id='melt'>3. Melting the data</a>\n",
    "Currently, the data is in three dataframes: `sales`, `prices` & `calendar`. The `sales` dataframe contains daily sales data with days(d_1 - d_1969) as columns. The `prices` dataframe contains items' price details and `calendar` contains data about the days d.  \n",
    "<img src='https://media.giphy.com/media/Qbt9STC0qpSuc/giphy.gif' style=\"width:500px;height:300px;\">\n",
    "<h2 style=\"background-color:DodgerBlue; color:white\" >3.1 Convert from wide to long format</h2>\n",
    "Here's an example of conversion of a wide dataframe to a long dataframe.\n",
    "<img src='https://pandas.pydata.org/pandas-docs/version/0.25.0/_images/reshaping_melt.png' style=\"width:600px;height:300px;\">"
   ]
  },
  {
   "cell_type": "markdown",
   "metadata": {},
   "source": [
    "In this case what the melt function is doing is that it is converting the sales dataframe which is in wide format to a long format. I have kept the id variables as `id`, `item_id`, `dept_id`, `cat_id`, `store_id` and `state_id`. They have in total 30490 unique values when compunded together. Now the total number of days for which we have the data is 1969 days. Therefore the melted dataframe will be having 30490x1969 i.e. 60034810 rows"
   ]
  },
  {
   "cell_type": "code",
   "execution_count": null,
   "metadata": {
    "_kg_hide-input": false,
    "_kg_hide-output": false
   },
   "outputs": [],
   "source": [
    "df = pd.melt(sales, id_vars=['id', 'item_id', 'dept_id', 'cat_id', 'store_id', 'state_id'], var_name='d', value_name='sold').dropna()"
   ]
  },
  {
   "cell_type": "markdown",
   "metadata": {},
   "source": [
    "<h2 style=\"background-color:DodgerBlue; color:white\" >3.2 Combine the data</h2>\n",
    "Combine price data from prices dataframe and days data from calendar dataset."
   ]
  },
  {
   "cell_type": "code",
   "execution_count": null,
   "metadata": {
    "_kg_hide-input": false
   },
   "outputs": [],
   "source": [
    "df = pd.merge(df, calendar, on='d', how='left')\n",
    "df = pd.merge(df, prices, on=['store_id','item_id','wm_yr_wk'], how='left') "
   ]
  },
  {
   "cell_type": "markdown",
   "metadata": {},
   "source": [
    "<h3>Now I have a single and a complete dataframe with all the data required. Let's Explore!</h3>"
   ]
  },
  {
   "cell_type": "markdown",
   "metadata": {},
   "source": [
    "# <a id='eda'>4. Exploratory Data Analysis</a>\n",
    "<h2 style=\"background-color:DodgerBlue; color:white\" >4.1 The Dataset</h2>\n",
    "The M5 dataset, generously made available by Walmart, involves the unit sales of various products sold in the USA, organized in the form of grouped time series. More specifically, the dataset involves the unit sales of 3,049 products, classified in 3 product categories (Hobbies, Foods, and Household) and 7 product departments, in which the above-mentioned categories are disaggregated.  The products are sold across ten stores, located in three States (CA, TX, and WI).\n",
    "<img src='https://i.imgur.com/Ae5QBi9.png' style=\"width:500px;height:300px;\">\n",
    "I have drawn an interactive visualization showing the distribution of 3049 items across different aggregation levels."
   ]
  },
  {
   "cell_type": "code",
   "execution_count": null,
   "metadata": {
    "_kg_hide-input": true
   },
   "outputs": [],
   "source": [
    "group = sales.groupby(['state_id','store_id','cat_id','dept_id'],as_index=False)['item_id'].count().dropna()\n",
    "group['USA'] = 'United States of America'\n",
    "group.rename(columns={'state_id':'State','store_id':'Store','cat_id':'Category','dept_id':'Department','item_id':'Count'},inplace=True)\n",
    "fig = px.treemap(group, path=['USA', 'State', 'Store', 'Category', 'Department'], values='Count',\n",
    "                  color='Count',\n",
    "                  color_continuous_scale= px.colors.sequential.Sunset,\n",
    "                  title='Walmart: Distribution of items')\n",
    "fig.update_layout(template='seaborn')\n",
    "fig.show()"
   ]
  },
  {
   "cell_type": "markdown",
   "metadata": {},
   "source": [
    "<h2 style=\"background-color:DodgerBlue; color:white\" >4.2 Item Prices</h2>\n",
    "Here I'll be studying about the item prices and their distribution. Please note the prices vary weekly. So to study the distribution of prices I have taken their average."
   ]
  },
  {
   "cell_type": "code",
   "execution_count": null,
   "metadata": {
    "_kg_hide-input": true
   },
   "outputs": [],
   "source": [
    "group_price_store = df.groupby(['state_id','store_id','item_id'],as_index=False)['sell_price'].mean().dropna()\n",
    "fig = px.violin(group_price_store, x='store_id', color='state_id', y='sell_price',box=True, hover_name='item_id')\n",
    "fig.update_xaxes(title_text='Store')\n",
    "fig.update_yaxes(title_text='Selling Price($)')\n",
    "fig.update_layout(template='seaborn',title='Distribution of Items prices wrt Stores',legend_title_text='State')\n",
    "fig.show()"
   ]
  },
  {
   "cell_type": "markdown",
   "metadata": {},
   "source": [
    "Below are some of the observations from the above plot:-\n",
    "<ul style=\"list-style-type:circle;\">\n",
    "  <li>The distribution of item prices is almost uniform for all the stores across Califoria, Texas and Wisconsin.</li>\n",
    "  <li>Item <b>HOBBIES_1_361</b> priced at around 30.5 dollars is the costliest item being sold at walmarts across California.</li>\n",
    "  <li>Item <b>HOUSEHOLD_1_060</b> priced at around 29.875 dollars is the costliest item being sold at walmarts across Texas.</li>\n",
    "  <li>Item <b>HOBBIES_1_361</b> priced at around 30.48 dollars is the costliest item being sold at TX_1 and TX_3 in Texas. While item <b>HOBBIES_1_255</b> priced at around 30.5 dollars is the costliest at TX_2</li>\n",
    "</ul>"
   ]
  },
  {
   "cell_type": "code",
   "execution_count": null,
   "metadata": {
    "_kg_hide-input": true
   },
   "outputs": [],
   "source": [
    "group_price_cat = df.groupby(['store_id','cat_id','item_id'],as_index=False)['sell_price'].mean().dropna()\n",
    "fig = px.violin(group_price_cat, x='store_id', color='cat_id', y='sell_price',box=True, hover_name='item_id')\n",
    "fig.update_xaxes(title_text='Store')\n",
    "fig.update_yaxes(title_text='Selling Price($)')\n",
    "fig.update_layout(template='seaborn',title='Distribution of Items prices wrt Stores across Categories',\n",
    "                 legend_title_text='Category')\n",
    "fig.show()"
   ]
  },
  {
   "cell_type": "markdown",
   "metadata": {},
   "source": [
    "As can be seen from the plot above, food category items are quite cheap as compared with hobbies and household items. Hobbies and household items have almost the same price range."
   ]
  },
  {
   "cell_type": "markdown",
   "metadata": {},
   "source": [
    "<h2 style=\"background-color:DodgerBlue; color:white\" >4.3 Items Sold</h2>\n",
    "Let's study the sales accross all the stores."
   ]
  },
  {
   "cell_type": "code",
   "execution_count": null,
   "metadata": {
    "_kg_hide-input": true
   },
   "outputs": [],
   "source": [
    "group = df.groupby(['year','date','state_id','store_id'], as_index=False)['sold'].sum().dropna()\n",
    "fig = px.violin(group, x='store_id', color='state_id', y='sold',box=True)\n",
    "fig.update_xaxes(title_text='Store')\n",
    "fig.update_yaxes(title_text='Total items sold')\n",
    "fig.update_layout(template='seaborn',title='Distribution of Items sold wrt Stores',legend_title_text='State')\n",
    "fig.show()"
   ]
  },
  {
   "cell_type": "markdown",
   "metadata": {},
   "source": [
    "Below are some of the observations from the above plot:-\n",
    "<ul style=\"list-style-type:circle;\">\n",
    "  <li><b><u>California</u></b>: <b>CA_3</b> has sold the most number of items while, <b>CA_4</b> has sold the least number of items.</li>\n",
    "  <li><b><u>Texas</u></b>: <b>TX_2</b> and **TX_3** have sold the maximum number of items. <b>TX_1</b> has sold the least number of items.</li>\n",
    "  <li><b><u>Wisconsin</u></b>: <b>WI_2</b> has sold the maximum number of items while, <b>WI_3</b> has sold the least number of items.</li>\n",
    "  <li><b><u>USA</u></b>: <b>CA_3</b> has sold the most number of items while, <b>CA_4</b> has sold the least number of items.</li>\n",
    "</ul>\n",
    "\n",
    "**Let's study number of items sold over time across all the stores.**"
   ]
  },
  {
   "cell_type": "code",
   "execution_count": null,
   "metadata": {
    "_kg_hide-input": true
   },
   "outputs": [],
   "source": [
    "fig = go.Figure()\n",
    "title = 'Items sold over time'\n",
    "years = group.year.unique().tolist()\n",
    "buttons = []\n",
    "y=3\n",
    "for state in group.state_id.unique().tolist():\n",
    "    group_state = group[group['state_id']==state]\n",
    "    for store in group_state.store_id.unique().tolist():\n",
    "        group_state_store = group_state[group_state['store_id']==store]\n",
    "        fig.add_trace(go.Scatter(name=store, x=group_state_store['date'], y=group_state_store['sold'], showlegend=True, \n",
    "                                   yaxis='y'+str(y) if y!=1 else 'y'))\n",
    "    y-=1\n",
    "\n",
    "fig.update_layout(\n",
    "        xaxis=dict(\n",
    "        #autorange=True,\n",
    "        range = ['2011-01-29','2016-05-22'],\n",
    "        rangeselector=dict(\n",
    "            buttons=list([\n",
    "                dict(count=1,\n",
    "                     label=\"1m\",\n",
    "                     step=\"month\",\n",
    "                     stepmode=\"backward\"),\n",
    "                dict(count=6,\n",
    "                     label=\"6m\",\n",
    "                     step=\"month\",\n",
    "                     stepmode=\"backward\"),\n",
    "                dict(count=1,\n",
    "                     label=\"YTD\",\n",
    "                     step=\"year\",\n",
    "                     stepmode=\"todate\"),\n",
    "                dict(count=1,\n",
    "                     label=\"1y\",\n",
    "                     step=\"year\",\n",
    "                     stepmode=\"backward\"),\n",
    "                dict(count=2,\n",
    "                     label=\"2y\",\n",
    "                     step=\"year\",\n",
    "                     stepmode=\"backward\"),\n",
    "                dict(count=3,\n",
    "                     label=\"3y\",\n",
    "                     step=\"year\",\n",
    "                     stepmode=\"backward\"),\n",
    "                dict(count=4,\n",
    "                     label=\"4y\",\n",
    "                     step=\"year\",\n",
    "                     stepmode=\"backward\"),\n",
    "                dict(step=\"all\")\n",
    "            ])\n",
    "        ),\n",
    "        rangeslider=dict(\n",
    "            autorange=True,\n",
    "        ),\n",
    "        type=\"date\"\n",
    "    ),\n",
    "    yaxis=dict(\n",
    "        anchor=\"x\",\n",
    "        autorange=True,\n",
    "        domain=[0, 0.33],\n",
    "        mirror=True,\n",
    "        showline=True,\n",
    "        side=\"left\",\n",
    "        tickfont={\"size\":10},\n",
    "        tickmode=\"auto\",\n",
    "        ticks=\"\",\n",
    "        title='WI',\n",
    "        titlefont={\"size\":20},\n",
    "        type=\"linear\",\n",
    "        zeroline=False\n",
    "    ),\n",
    "    yaxis2=dict(\n",
    "        anchor=\"x\",\n",
    "        autorange=True,\n",
    "        domain=[0.33, 0.66],\n",
    "        mirror=True,\n",
    "        showline=True,\n",
    "        side=\"left\",\n",
    "        tickfont={\"size\":10},\n",
    "        tickmode=\"auto\",\n",
    "        ticks=\"\",\n",
    "        title = 'TX',\n",
    "        titlefont={\"size\":20},\n",
    "        type=\"linear\",\n",
    "        zeroline=False\n",
    "    ),\n",
    "    yaxis3=dict(\n",
    "        anchor=\"x\",\n",
    "        autorange=True,\n",
    "        domain=[0.66, 1],\n",
    "        mirror=True,\n",
    "        showline=True,\n",
    "        side=\"left\",\n",
    "        tickfont={\"size\":10},\n",
    "        tickmode=\"auto\",\n",
    "        ticks='',\n",
    "        title=\"CA\",\n",
    "        titlefont={\"size\":20},\n",
    "        type=\"linear\",\n",
    "        zeroline=False\n",
    "    )\n",
    "    )\n",
    "fig.update_layout(template='seaborn', title=title)\n",
    "fig.show()"
   ]
  },
  {
   "cell_type": "markdown",
   "metadata": {},
   "source": [
    "<h2 style=\"background-color:DodgerBlue; color:white\" >4.4 State wise Analysis</h2>\n",
    "  <a class=\"list-group-item list-group-item-action\" data-toggle=\"list\" href=\"#cal\" role=\"tab\" aria-controls=\"profile\">California<span class=\"badge badge-primary badge-pill\">1</span></a>\n",
    "  <a class=\"list-group-item list-group-item-action\" data-toggle=\"list\" href=\"#tex\" role=\"tab\" aria-controls=\"messages\">Texas<span class=\"badge badge-primary badge-pill\">2</span></a>\n",
    "  <a class=\"list-group-item list-group-item-action\"  data-toggle=\"list\" href=\"#wis\" role=\"tab\" aria-controls=\"settings\">Wisconsin<span class=\"badge badge-primary badge-pill\">3</span></a>\n",
    "<br>\n",
    "In this section, I will be studying the sales and revenue of all the stores individually across all the three states: California, Texas & Wisconsin. I have plotted total three plots for each store: CA_1, CA_2, CA_3, CA_4, TX_1, TX_2, TX_3, WI_1, WI_2 & WI_3. Details about the plots are as follows:-\n",
    "- First plot shows the daily sales of a store. I have plotted the values separately for SNAP days. Also, SNAP promotes food purchase, I have plotted food sales as well to check if it really affects the food sales.\n",
    "- Second plot shows the daily revenue of a store with separate plotting for <a href='#SNAP'>SNAP</a> days.\n",
    "- Third is a heatmap to show daily sales. It's plotted in such a way that it becomes easier to see day wise values.\n",
    "\n",
    "<div class=\"alert alert-info\" role=\"alert\">\n",
    "<a id='SNAP'><b>What is SNAP?</b></a><br>\n",
    "The United States federal government provides a nutrition assistance benefit called the Supplement Nutrition Assistance Program (SNAP).  SNAP provides low income families and individuals with an Electronic Benefits Transfer debit card to purchase food products.  In many states, the monetary benefits are dispersed to people across 10 days of the month and on each of these days 1/10 of the people will receive the benefit on their card.  More information about the SNAP program can be found [here.](https://www.fns.usda.gov/snap/supplemental-nutrition-assistance-program)\n",
    "</div>\n",
    "\n",
    "<div class=\"alert alert-danger\" role=\"alert\">\n",
    "For the heatmaps, the data is till 16th week of 2016 and datetime.weekofyear of function is returning 1,2 & 3 january of 2016 in 53rd week. Plotly's heatmap is connecting the data gap between the 16th and 53rd week. Still figuring out on how to remove this gap.\n",
    "</div>"
   ]
  },
  {
   "cell_type": "code",
   "execution_count": null,
   "metadata": {
    "_kg_hide-input": true
   },
   "outputs": [],
   "source": [
    "df['revenue'] = df['sold']*df['sell_price'].astype(np.float32)"
   ]
  },
  {
   "cell_type": "code",
   "execution_count": null,
   "metadata": {
    "_kg_hide-input": true
   },
   "outputs": [],
   "source": [
    "def introduce_nulls(df):\n",
    "    idx = pd.date_range(df.date.dt.date.min(), df.date.dt.date.max())\n",
    "    df = df.set_index('date')\n",
    "    df = df.reindex(idx)\n",
    "    df.reset_index(inplace=True)\n",
    "    df.rename(columns={'index':'date'},inplace=True)\n",
    "    return df\n",
    "\n",
    "def plot_metric(df,state,store,metric):\n",
    "    store_sales = df[(df['state_id']==state)&(df['store_id']==store)&(df['date']<='2016-05-22')]\n",
    "    food_sales = store_sales[store_sales['cat_id']=='FOODS']\n",
    "    store_sales = store_sales.groupby(['date','snap_'+state],as_index=False)['sold','revenue'].sum()\n",
    "    snap_sales = store_sales[store_sales['snap_'+state]==1]\n",
    "    non_snap_sales = store_sales[store_sales['snap_'+state]==0]\n",
    "    food_sales = food_sales.groupby(['date','snap_'+state],as_index=False)['sold','revenue'].sum()\n",
    "    snap_foods = food_sales[food_sales['snap_'+state]==1]\n",
    "    non_snap_foods = food_sales[food_sales['snap_'+state]==0]\n",
    "    non_snap_sales = introduce_nulls(non_snap_sales)\n",
    "    snap_sales = introduce_nulls(snap_sales)\n",
    "    non_snap_foods = introduce_nulls(non_snap_foods)\n",
    "    snap_foods = introduce_nulls(snap_foods)\n",
    "    fig = go.Figure()\n",
    "    fig.add_trace(go.Scatter(x=non_snap_sales['date'],y=non_snap_sales[metric],\n",
    "                           name='Total '+metric+'(Non-SNAP)'))\n",
    "    fig.add_trace(go.Scatter(x=snap_sales['date'],y=snap_sales[metric],\n",
    "                           name='Total '+metric+'(SNAP)'))\n",
    "    fig.add_trace(go.Scatter(x=non_snap_foods['date'],y=non_snap_foods[metric],\n",
    "                           name='Food '+metric+'(Non-SNAP)'))\n",
    "    fig.add_trace(go.Scatter(x=snap_foods['date'],y=snap_foods[metric],\n",
    "                           name='Food '+metric+'(SNAP)'))\n",
    "    fig.update_yaxes(title_text='Total items sold' if metric=='sold' else 'Total revenue($)')\n",
    "    fig.update_layout(template='seaborn',title=store)\n",
    "    fig.update_layout(\n",
    "        xaxis=dict(\n",
    "        #autorange=True,\n",
    "        range = ['2011-01-29','2016-05-22'],\n",
    "        rangeselector=dict(\n",
    "            buttons=list([\n",
    "                dict(count=1,\n",
    "                     label=\"1m\",\n",
    "                     step=\"month\",\n",
    "                     stepmode=\"backward\"),\n",
    "                dict(count=6,\n",
    "                     label=\"6m\",\n",
    "                     step=\"month\",\n",
    "                     stepmode=\"backward\"),\n",
    "                dict(count=1,\n",
    "                     label=\"YTD\",\n",
    "                     step=\"year\",\n",
    "                     stepmode=\"todate\"),\n",
    "                dict(count=1,\n",
    "                     label=\"1y\",\n",
    "                     step=\"year\",\n",
    "                     stepmode=\"backward\"),\n",
    "                dict(count=2,\n",
    "                     label=\"2y\",\n",
    "                     step=\"year\",\n",
    "                     stepmode=\"backward\"),\n",
    "                dict(count=3,\n",
    "                     label=\"3y\",\n",
    "                     step=\"year\",\n",
    "                     stepmode=\"backward\"),\n",
    "                dict(count=4,\n",
    "                     label=\"4y\",\n",
    "                     step=\"year\",\n",
    "                     stepmode=\"backward\"),\n",
    "                dict(step=\"all\")\n",
    "            ])\n",
    "        ),\n",
    "        rangeslider=dict(\n",
    "            autorange=True,\n",
    "        ),\n",
    "        type=\"date\"\n",
    "    ))\n",
    "    return fig"
   ]
  },
  {
   "cell_type": "code",
   "execution_count": null,
   "metadata": {
    "_kg_hide-input": true
   },
   "outputs": [],
   "source": [
    "cal_data = group.copy()\n",
    "cal_data = cal_data[cal_data.date <= '22-05-2016']\n",
    "cal_data['week'] = cal_data.date.dt.weekofyear\n",
    "cal_data['day_name'] = cal_data.date.dt.day_name()"
   ]
  },
  {
   "cell_type": "code",
   "execution_count": null,
   "metadata": {
    "_kg_hide-input": true
   },
   "outputs": [],
   "source": [
    "def calmap(cal_data, state, store, scale):\n",
    "    cal_data = cal_data[(cal_data['state_id']==state)&(cal_data['store_id']==store)]\n",
    "    years = cal_data.year.unique().tolist()\n",
    "    fig = make_subplots(rows=len(years),cols=1,shared_xaxes=True,vertical_spacing=0.005)\n",
    "    r=1\n",
    "    for year in years:\n",
    "        data = cal_data[cal_data['year']==year]\n",
    "        data = introduce_nulls(data)\n",
    "        fig.add_trace(go.Heatmap(\n",
    "            z=data.sold,\n",
    "            x=data.week,\n",
    "            y=data.day_name,\n",
    "            hovertext=data.date.dt.date,\n",
    "            coloraxis = \"coloraxis\",name=year,\n",
    "        ),r,1)\n",
    "        fig.update_yaxes(title_text=year,tickfont=dict(size=5),row = r,col = 1)\n",
    "        r+=1\n",
    "    fig.update_xaxes(range=[1,53],tickfont=dict(size=10), nticks=53)\n",
    "    fig.update_layout(coloraxis = {'colorscale':scale})\n",
    "    fig.update_layout(template='seaborn', title=store)\n",
    "    return fig"
   ]
  },
  {
   "cell_type": "markdown",
   "metadata": {},
   "source": [
    "<a id=\"cal\" class=\"btn btn-primary btn-lg btn-block active\" role=\"button\" aria-pressed=\"true\" style=\"color:white;\">California</a>\n",
    "<img src='https://www.pixel4k.com/wp-content/uploads/2018/09/san-francisco-california-cityscape-4k_1538070292.jpg'\n",
    "style=\"width:800px;height:300px;\">\n",
    "\n",
    "<a id='csn'><span class=\"label label-info\">Store Navigator</span></a>\n",
    "<nav aria-label=\"Store Navigator\">\n",
    "  <ul class=\"pagination\">\n",
    "    <li class=\"page-item\"><a class=\"page-link\" href='#C1'>CA_1</a></li>\n",
    "    <li class=\"page-item\"><a class=\"page-link\" href=\"#C2\">CA_2</a></li>\n",
    "    <li class=\"page-item\"><a class=\"page-link\" href=\"#C3\">CA_3</a></li>\n",
    "    <li class=\"page-item\"><a class=\"page-link\" href=\"#C4\">CA_4</a></li>\n",
    "  </ul>\n",
    "</nav>"
   ]
  },
  {
   "cell_type": "markdown",
   "metadata": {},
   "source": [
    "### <a id='C1'>CA_1</a>"
   ]
  },
  {
   "cell_type": "code",
   "execution_count": null,
   "metadata": {
    "_kg_hide-input": true
   },
   "outputs": [],
   "source": [
    "fig = plot_metric(df,'CA','CA_1','sold')\n",
    "fig.show()"
   ]
  },
  {
   "cell_type": "code",
   "execution_count": null,
   "metadata": {
    "_kg_hide-input": true
   },
   "outputs": [],
   "source": [
    "fig = plot_metric(df,'CA','CA_1','revenue')\n",
    "fig.show()"
   ]
  },
  {
   "cell_type": "code",
   "execution_count": null,
   "metadata": {
    "_kg_hide-input": true
   },
   "outputs": [],
   "source": [
    "fig = calmap(cal_data, 'CA', 'CA_1', 'magma')\n",
    "fig.show()"
   ]
  },
  {
   "cell_type": "markdown",
   "metadata": {},
   "source": [
    "### <a id='C2'>CA_2</a>\n",
    "<a href='#csn'><span class=\"label label-info\">Go to the Store Navigator</span></a>"
   ]
  },
  {
   "cell_type": "code",
   "execution_count": null,
   "metadata": {
    "_kg_hide-input": true
   },
   "outputs": [],
   "source": [
    "fig = plot_metric(df,'CA','CA_2','sold')\n",
    "fig.show()"
   ]
  },
  {
   "cell_type": "code",
   "execution_count": null,
   "metadata": {
    "_kg_hide-input": true
   },
   "outputs": [],
   "source": [
    "fig = plot_metric(df,'CA','CA_2','revenue')\n",
    "fig.show()"
   ]
  },
  {
   "cell_type": "code",
   "execution_count": null,
   "metadata": {
    "_kg_hide-input": true
   },
   "outputs": [],
   "source": [
    "fig = calmap(cal_data, 'CA', 'CA_2', 'magma')\n",
    "fig.show()"
   ]
  },
  {
   "cell_type": "markdown",
   "metadata": {},
   "source": [
    "### <a id='C3'>CA_3</a>\n",
    "<a href='#csn'><span class=\"label label-info\">Go to the Store Navigator</span></a>"
   ]
  },
  {
   "cell_type": "code",
   "execution_count": null,
   "metadata": {
    "_kg_hide-input": true
   },
   "outputs": [],
   "source": [
    "fig = plot_metric(df,'CA','CA_3','sold')\n",
    "fig.show()"
   ]
  },
  {
   "cell_type": "code",
   "execution_count": null,
   "metadata": {
    "_kg_hide-input": true
   },
   "outputs": [],
   "source": [
    "fig = plot_metric(df,'CA','CA_3','revenue')\n",
    "fig.show()"
   ]
  },
  {
   "cell_type": "code",
   "execution_count": null,
   "metadata": {
    "_kg_hide-input": true
   },
   "outputs": [],
   "source": [
    "fig = calmap(cal_data, 'CA', 'CA_3', 'magma')\n",
    "fig.show()"
   ]
  },
  {
   "cell_type": "markdown",
   "metadata": {},
   "source": [
    "### <a id='C4'>CA_4</a>\n",
    "<a href='#csn'><span class=\"label label-info\">Go to the Store Navigator</span></a>"
   ]
  },
  {
   "cell_type": "code",
   "execution_count": null,
   "metadata": {
    "_kg_hide-input": true
   },
   "outputs": [],
   "source": [
    "fig = plot_metric(df,'CA','CA_4','sold')\n",
    "fig.show()"
   ]
  },
  {
   "cell_type": "code",
   "execution_count": null,
   "metadata": {
    "_kg_hide-input": true
   },
   "outputs": [],
   "source": [
    "fig = plot_metric(df,'CA','CA_4','revenue')\n",
    "fig.show()"
   ]
  },
  {
   "cell_type": "code",
   "execution_count": null,
   "metadata": {
    "_kg_hide-input": true
   },
   "outputs": [],
   "source": [
    "fig = calmap(cal_data, 'CA', 'CA_4', 'magma')\n",
    "fig.show()"
   ]
  },
  {
   "cell_type": "markdown",
   "metadata": {},
   "source": [
    "<a id=\"tex\" class=\"btn btn-primary btn-lg btn-block active\" role=\"button\" aria-pressed=\"true\" style=\"color:white;\">Texas</a>\n",
    "<img src='https://wallpaperaccess.com/full/227248.jpg'\n",
    "style=\"width:800px;height:300px;\">\n",
    "<a id='wsn'><span class=\"label label-info\">Store Navigator</span></a>\n",
    "<a id='tsn'><nav aria-label=\"Store Navigator\"></a>\n",
    "  <ul class=\"pagination\">\n",
    "    <li class=\"page-item\"><a class=\"page-link\" href='#T1'>TX_1</a></li>\n",
    "    <li class=\"page-item\"><a class=\"page-link\" href=\"#T2\">TX_2</a></li>\n",
    "    <li class=\"page-item\"><a class=\"page-link\" href=\"#T3\">TX_3</a></li>\n",
    "  </ul>\n",
    "</nav>"
   ]
  },
  {
   "cell_type": "markdown",
   "metadata": {},
   "source": [
    "### <a id='T1'>TX_1</a>"
   ]
  },
  {
   "cell_type": "code",
   "execution_count": null,
   "metadata": {
    "_kg_hide-input": true
   },
   "outputs": [],
   "source": [
    "fig = plot_metric(df,'TX','TX_1','sold')\n",
    "fig.show()"
   ]
  },
  {
   "cell_type": "code",
   "execution_count": null,
   "metadata": {
    "_kg_hide-input": true
   },
   "outputs": [],
   "source": [
    "fig = plot_metric(df,'TX','TX_1','revenue')\n",
    "fig.show()"
   ]
  },
  {
   "cell_type": "code",
   "execution_count": null,
   "metadata": {
    "_kg_hide-input": true
   },
   "outputs": [],
   "source": [
    "fig = calmap(cal_data, 'TX', 'TX_1', 'viridis')\n",
    "fig.show()"
   ]
  },
  {
   "cell_type": "markdown",
   "metadata": {},
   "source": [
    "### <a id='T2'>TX_2</a>\n",
    "<a href='#tsn'><span class=\"label label-info\">Go to the Store Navigator</span></a>"
   ]
  },
  {
   "cell_type": "code",
   "execution_count": null,
   "metadata": {
    "_kg_hide-input": true
   },
   "outputs": [],
   "source": [
    "fig = plot_metric(df,'TX','TX_2','sold')\n",
    "fig.show()"
   ]
  },
  {
   "cell_type": "code",
   "execution_count": null,
   "metadata": {
    "_kg_hide-input": true
   },
   "outputs": [],
   "source": [
    "fig = plot_metric(df,'TX','TX_2','revenue')\n",
    "fig.show()"
   ]
  },
  {
   "cell_type": "code",
   "execution_count": null,
   "metadata": {
    "_kg_hide-input": true
   },
   "outputs": [],
   "source": [
    "fig = calmap(cal_data, 'TX', 'TX_2', 'viridis')\n",
    "fig.show()"
   ]
  },
  {
   "cell_type": "markdown",
   "metadata": {},
   "source": [
    "### <a id='T3'>TX_3</a>\n",
    "<a href='#wsn'><span class=\"label label-info\">Go to the Store Navigator</span></a>"
   ]
  },
  {
   "cell_type": "code",
   "execution_count": null,
   "metadata": {
    "_kg_hide-input": true
   },
   "outputs": [],
   "source": [
    "fig = plot_metric(df,'TX','TX_3','sold')\n",
    "fig.show()"
   ]
  },
  {
   "cell_type": "code",
   "execution_count": null,
   "metadata": {
    "_kg_hide-input": true
   },
   "outputs": [],
   "source": [
    "fig = plot_metric(df,'TX','TX_3','revenue')\n",
    "fig.show()"
   ]
  },
  {
   "cell_type": "code",
   "execution_count": null,
   "metadata": {
    "_kg_hide-input": true
   },
   "outputs": [],
   "source": [
    "fig = calmap(cal_data, 'TX', 'TX_3', 'viridis')\n",
    "fig.show()"
   ]
  },
  {
   "cell_type": "markdown",
   "metadata": {},
   "source": [
    "<a id=\"wis\" class=\"btn btn-primary btn-lg btn-block active\" role=\"button\" aria-pressed=\"true\" style=\"color:white;\">Wisconsin</a>\n",
    "<img src='https://i.ytimg.com/vi/RzETB_wVAKI/maxresdefault.jpg'\n",
    "style=\"width:800px;height:300px;\">\n",
    "<span class=\"label label-info\">Store Navigator</span>\n",
    "<nav aria-label=\"Store Navigator\">\n",
    "  <ul class=\"pagination\">\n",
    "    <li class=\"page-item\"><a class=\"page-link\" href='#W1'>WI_1</a></li>\n",
    "    <li class=\"page-item\"><a class=\"page-link\" href=\"#W2\">WI_2</a></li>\n",
    "    <li class=\"page-item\"><a class=\"page-link\" href=\"#W3\">WI_3</a></li>\n",
    "  </ul>\n",
    "</nav>"
   ]
  },
  {
   "cell_type": "markdown",
   "metadata": {},
   "source": [
    "### <a id='W1'>WI_1</a>"
   ]
  },
  {
   "cell_type": "code",
   "execution_count": null,
   "metadata": {
    "_kg_hide-input": true
   },
   "outputs": [],
   "source": [
    "fig = plot_metric(df,'WI','WI_1','sold')\n",
    "fig.show()"
   ]
  },
  {
   "cell_type": "code",
   "execution_count": null,
   "metadata": {
    "_kg_hide-input": true
   },
   "outputs": [],
   "source": [
    "fig = plot_metric(df,'WI','WI_1','revenue')\n",
    "fig.show()"
   ]
  },
  {
   "cell_type": "code",
   "execution_count": null,
   "metadata": {
    "_kg_hide-input": true
   },
   "outputs": [],
   "source": [
    "fig = calmap(cal_data, 'WI', 'WI_1', 'twilight')\n",
    "fig.show()"
   ]
  },
  {
   "cell_type": "markdown",
   "metadata": {},
   "source": [
    "### <a id='W2'>WI_2</a>\n",
    "<a href='#wsn'><span class=\"label label-info\">Go to the Store Navigator</span></a>"
   ]
  },
  {
   "cell_type": "code",
   "execution_count": null,
   "metadata": {
    "_kg_hide-input": true
   },
   "outputs": [],
   "source": [
    "fig = plot_metric(df,'WI','WI_2','sold')\n",
    "fig.show()"
   ]
  },
  {
   "cell_type": "code",
   "execution_count": null,
   "metadata": {
    "_kg_hide-input": true
   },
   "outputs": [],
   "source": [
    "fig = plot_metric(df,'WI','WI_2','revenue')\n",
    "fig.show()"
   ]
  },
  {
   "cell_type": "code",
   "execution_count": null,
   "metadata": {
    "_kg_hide-input": true
   },
   "outputs": [],
   "source": [
    "fig = calmap(cal_data, 'WI', 'WI_2', 'twilight')\n",
    "fig.show()"
   ]
  },
  {
   "cell_type": "markdown",
   "metadata": {},
   "source": [
    "### <a id='W3'>WI_3</a>\n",
    "<a href='#tsn'><span class=\"label label-info\">Go to the Store Navigator</span></a>"
   ]
  },
  {
   "cell_type": "code",
   "execution_count": null,
   "metadata": {
    "_kg_hide-input": true
   },
   "outputs": [],
   "source": [
    "fig = plot_metric(df,'WI','WI_3','sold')\n",
    "fig.show()"
   ]
  },
  {
   "cell_type": "code",
   "execution_count": null,
   "metadata": {
    "_kg_hide-input": true
   },
   "outputs": [],
   "source": [
    "fig = plot_metric(df,'WI','WI_3','revenue')\n",
    "fig.show()"
   ]
  },
  {
   "cell_type": "code",
   "execution_count": null,
   "metadata": {
    "_kg_hide-input": true
   },
   "outputs": [],
   "source": [
    "fig = calmap(cal_data, 'WI', 'WI_3', 'twilight')\n",
    "fig.show()"
   ]
  },
  {
   "cell_type": "markdown",
   "metadata": {},
   "source": [
    "# <a id='fe'>5. Feature Engineering</a>\n",
    "Time Series data must be re-framed as a supervised learning dataset before we can start using machine learning algorithms.\n",
    "\n",
    "There is no concept of input and output features in time series. Instead, we must choose the variable to be predicted and use feature engineering to construct all of the inputs that will be used to make predictions for future time steps.\n",
    "\n",
    "<img src='https://media.giphy.com/media/yv1ggi3Cbase05a8iS/giphy.gif' style=\"width:500px;height:300px;\">\n",
    "\n",
    "The goal of feature engineering is to provide strong and ideally simple relationships between new input features and the output feature for the supervised learning algorithm to model.\n",
    "\n",
    "<a id='topics'><span class=\"label label-info\">Topics</span></a>\n",
    "<nav aria-label=\"Store Navigator\">\n",
    "  <ul class=\"pagination\">\n",
    "    <li class=\"page-item\"><a class=\"page-link\" href='#F1'>Label Encoding</a></li>\n",
    "    <li class=\"page-item\"><a class=\"page-link\" href=\"#F2\">Introduce Lags</a></li>\n",
    "    <li class=\"page-item\"><a class=\"page-link\" href=\"#F3\">Mean Encoding</a></li>\n",
    "    <li class=\"page-item\"><a class=\"page-link\" href=\"#F4\">Rolling Window Stats</a></li>\n",
    "    <li class=\"page-item\"><a class=\"page-link\" href=\"#F5\">Expanding Window Stats</a></li>\n",
    "    <li class=\"page-item\"><a class=\"page-link\" href=\"#F6\">Trends</a></li>\n",
    "    <li class=\"page-item\"><a class=\"page-link\" href=\"#F7\">Save the data</a></li>\n",
    "  </ul>\n",
    "</nav>"
   ]
  },
  {
   "cell_type": "markdown",
   "metadata": {},
   "source": [
    "<a id = 'F1'><h2>5.1 Label Encoding</h2></a>\n",
    "<ol>\n",
    "  <li>Remove unwanted data to create space in RAM for further processing.</li>\n",
    "  <li>Label Encode categorical features.(I had converted already converted categorical variable to category type. So, I can simply use their codes instead of using LableEncoder)</li>\n",
    "  <li>Remove date as its features are already present.</li>\n",
    "</ol>"
   ]
  },
  {
   "cell_type": "markdown",
   "metadata": {},
   "source": [
    "<div class=\"alert alert-info\" role=\"alert\">\n",
    "<b>Please note:</b><br>\n",
    "I'm storing the categories correponding to their respective category codes so that I'can use them later on while making the submission.\n",
    "</div>"
   ]
  },
  {
   "cell_type": "code",
   "execution_count": null,
   "metadata": {},
   "outputs": [],
   "source": [
    "#Store the categories along with their codes\n",
    "d_id = dict(zip(df.id.cat.codes, df.id))\n",
    "d_item_id = dict(zip(df.item_id.cat.codes, df.item_id))\n",
    "d_dept_id = dict(zip(df.dept_id.cat.codes, df.dept_id))\n",
    "d_cat_id = dict(zip(df.cat_id.cat.codes, df.cat_id))\n",
    "d_store_id = dict(zip(df.store_id.cat.codes, df.store_id))\n",
    "d_state_id = dict(zip(df.state_id.cat.codes, df.state_id))"
   ]
  },
  {
   "cell_type": "code",
   "execution_count": null,
   "metadata": {},
   "outputs": [],
   "source": [
    "#1\n",
    "del group, group_price_cat, group_price_store, group_state, group_state_store, cal_data\n",
    "gc.collect();\n",
    "\n",
    "#2\n",
    "df.d = df['d'].apply(lambda x: x.split('_')[1]).astype(np.int16)\n",
    "cols = df.dtypes.index.tolist()\n",
    "types = df.dtypes.values.tolist()\n",
    "for i,type in enumerate(types):\n",
    "    if type.name == 'category':\n",
    "        df[cols[i]] = df[cols[i]].cat.codes\n",
    "        \n",
    "#3\n",
    "df.drop('date',axis=1,inplace=True)"
   ]
  },
  {
   "cell_type": "markdown",
   "metadata": {},
   "source": [
    "<a id = 'F2'><h2>5.2 Introduce Lags</h2></a>\n",
    "<a href='#topics'><span class=\"label label-info\">Go back to topics</span></a>\n",
    "\n",
    "Lag features are the classical way that time series forecasting problems are transformed into supervised learning problems.\n",
    "\n",
    "Introduce lags to the the target variable `sold`. The maximum lag I have introduced is 36 days. It's purely upto you how many lags you want to introduce."
   ]
  },
  {
   "cell_type": "code",
   "execution_count": null,
   "metadata": {},
   "outputs": [],
   "source": [
    "#Introduce lags\n",
    "lags = [1,2,3,6,12,24,36]\n",
    "for lag in lags:\n",
    "    df['sold_lag_'+str(lag)] = df.groupby(['id', 'item_id', 'dept_id', 'cat_id', 'store_id', 'state_id'],as_index=False)['sold'].shift(lag).astype(np.float16)"
   ]
  },
  {
   "cell_type": "markdown",
   "metadata": {},
   "source": [
    "<a id = 'F3'><h2>5.3 Mean Encoding</h2></a>\n",
    "<a href='#topics'><span class=\"label label-info\">Go back to topics</span></a>\n",
    "\n",
    "From a mathematical point of view, mean encoding represents a probability of your target variable, conditional on each value of the feature. In a way, it embodies the target variable in its encoded value. I have calculated mean encodings on the basis of following logical features I could think of:-\n",
    "- item\n",
    "- state\n",
    "- store\n",
    "- category\n",
    "- department\n",
    "- category & department\n",
    "- store & item\n",
    "- category & item\n",
    "- department & item\n",
    "- state & store\n",
    "- state, store and category\n",
    "- store, category and department\n",
    "\n",
    "<h2>Feel free to add more!</h2>"
   ]
  },
  {
   "cell_type": "code",
   "execution_count": null,
   "metadata": {},
   "outputs": [],
   "source": [
    "df['iteam_sold_avg'] = df.groupby('item_id')['sold'].transform('mean').astype(np.float16)\n",
    "df['state_sold_avg'] = df.groupby('state_id')['sold'].transform('mean').astype(np.float16)\n",
    "df['store_sold_avg'] = df.groupby('store_id')['sold'].transform('mean').astype(np.float16)\n",
    "df['cat_sold_avg'] = df.groupby('cat_id')['sold'].transform('mean').astype(np.float16)\n",
    "df['dept_sold_avg'] = df.groupby('dept_id')['sold'].transform('mean').astype(np.float16)\n",
    "df['cat_dept_sold_avg'] = df.groupby(['cat_id','dept_id'])['sold'].transform('mean').astype(np.float16)\n",
    "df['store_item_sold_avg'] = df.groupby(['store_id','item_id'])['sold'].transform('mean').astype(np.float16)\n",
    "df['cat_item_sold_avg'] = df.groupby(['cat_id','item_id'])['sold'].transform('mean').astype(np.float16)\n",
    "df['dept_item_sold_avg'] = df.groupby(['dept_id','item_id'])['sold'].transform('mean').astype(np.float16)\n",
    "df['state_store_sold_avg'] = df.groupby(['state_id','store_id'])['sold'].transform('mean').astype(np.float16)\n",
    "df['state_store_cat_sold_avg'] = df.groupby(['state_id','store_id','cat_id'])['sold'].transform('mean').astype(np.float16)\n",
    "df['store_cat_dept_sold_avg'] = df.groupby(['store_id','cat_id','dept_id'])['sold'].transform('mean').astype(np.float16)"
   ]
  },
  {
   "cell_type": "markdown",
   "metadata": {},
   "source": [
    "<a id = 'F4'><h2>5.4 Rolling Window Statistics</h2></a>\n",
    "<a href='#topics'><span class=\"label label-info\">Go back to topics</span></a>\n",
    "\n",
    "Here’s an awesome gif that explains this idea in a wonderfully intuitive way:\n",
    "![](https://cdn.analyticsvidhya.com/wp-content/uploads/2019/11/3hotmk.gif)\n",
    "`This method is called the rolling window method because the window would be different for every data point.`\n",
    "\n",
    "I'll be calculating weekly rolling avearge of the items sold. More features like rolling min, max or sum can also be calculated. Also, same features can be calculated for revenue as well."
   ]
  },
  {
   "cell_type": "code",
   "execution_count": null,
   "metadata": {},
   "outputs": [],
   "source": [
    "df['rolling_sold_mean'] = df.groupby(['id', 'item_id', 'dept_id', 'cat_id', 'store_id', 'state_id'])['sold'].transform(lambda x: x.rolling(window=7).mean()).astype(np.float16)"
   ]
  },
  {
   "cell_type": "markdown",
   "metadata": {},
   "source": [
    "<a id = 'F5'><h2>5.5 Expanding Window Statistics</h2></a>\n",
    "<a href='#topics'><span class=\"label label-info\">Go back to topics</span></a>\n",
    "\n",
    "This is simply an advanced version of the rolling window technique. In the case of a rolling window, the size of the window is constant while the window slides as we move forward in time. Hence, we consider only the most recent values and ignore the past values. Here’s a gif that explains how our expanding window function works:\n",
    "![](https://cdn.analyticsvidhya.com/wp-content/uploads/2019/12/output_B4KHcT.gif)\n",
    "\n",
    "I'll be calculating expanding avearge of the items sold. More features like expanding min, max or sum can also be calculated. Also, same features can be calculated for revenue as well."
   ]
  },
  {
   "cell_type": "code",
   "execution_count": null,
   "metadata": {},
   "outputs": [],
   "source": [
    "df['expanding_sold_mean'] = df.groupby(['id', 'item_id', 'dept_id', 'cat_id', 'store_id', 'state_id'])['sold'].transform(lambda x: x.expanding(2).mean()).astype(np.float16)"
   ]
  },
  {
   "cell_type": "markdown",
   "metadata": {},
   "source": [
    "<a id = 'F6'><h2>5.6 Trends</h2></a>\n",
    "<a href='#topics'><span class=\"label label-info\">Go back to topics</span></a>\n",
    "\n",
    "I will be creating a selling trend feature, which will be some positive value if the daily items sold are greater than the entire duration average **( d_1 - d_1969 )** else negative. More trend features can be added but I'll only add this one to keep it simple."
   ]
  },
  {
   "cell_type": "code",
   "execution_count": 55,
   "metadata": {},
   "outputs": [],
   "source": [
    "df['daily_avg_sold'] = df.groupby(['id', 'item_id', 'dept_id', 'cat_id', 'store_id', 'state_id','d'])['sold'].transform('mean').astype(np.float16)\n",
    "df['avg_sold'] = df.groupby(['id', 'item_id', 'dept_id', 'cat_id', 'store_id', 'state_id'])['sold'].transform('mean').astype(np.float16)\n",
    "df['selling_trend'] = (df['daily_avg_sold'] - df['avg_sold']).astype(np.float16)\n",
    "df.drop(['daily_avg_sold','avg_sold'],axis=1,inplace=True)"
   ]
  },
  {
   "cell_type": "markdown",
   "metadata": {},
   "source": [
    "<a id = 'F6'><h2>5.7 Save the data</h2></a>\n",
    "<a href='#topics'><span class=\"label label-info\">Go back to topics</span></a>\n",
    "\n",
    "Now since all the new features are created, let's save the data so that it can be trained separately.Also, lags introduce a lot of Null values, so I'll remove data for first 35 days as I have introduced lags till 36 days."
   ]
  },
  {
   "cell_type": "code",
   "execution_count": 56,
   "metadata": {},
   "outputs": [],
   "source": [
    "df = df[df['d']>=36]"
   ]
  },
  {
   "cell_type": "markdown",
   "metadata": {},
   "source": [
    "Let's look at our new dataframe."
   ]
  },
  {
   "cell_type": "code",
   "execution_count": 57,
   "metadata": {},
   "outputs": [
    {
     "name": "stdout",
     "output_type": "stream",
     "text": [
      "<class 'pandas.core.frame.DataFrame'>\n",
      "Int64Index: 58967660 entries, 1067150 to 60034809\n",
      "Data columns (total 44 columns):\n",
      " #   Column                    Dtype  \n",
      "---  ------                    -----  \n",
      " 0   id                        int16  \n",
      " 1   item_id                   int16  \n",
      " 2   dept_id                   int8   \n",
      " 3   cat_id                    int8   \n",
      " 4   store_id                  int8   \n",
      " 5   state_id                  int8   \n",
      " 6   d                         int16  \n",
      " 7   sold                      int16  \n",
      " 8   wm_yr_wk                  int16  \n",
      " 9   weekday                   int8   \n",
      " 10  wday                      int8   \n",
      " 11  month                     int8   \n",
      " 12  year                      int16  \n",
      " 13  event_name_1              int8   \n",
      " 14  event_type_1              int8   \n",
      " 15  event_name_2              int8   \n",
      " 16  event_type_2              int8   \n",
      " 17  snap_CA                   int8   \n",
      " 18  snap_TX                   int8   \n",
      " 19  snap_WI                   int8   \n",
      " 20  sell_price                float16\n",
      " 21  revenue                   float32\n",
      " 22  sold_lag_1                float16\n",
      " 23  sold_lag_2                float16\n",
      " 24  sold_lag_3                float16\n",
      " 25  sold_lag_6                float16\n",
      " 26  sold_lag_12               float16\n",
      " 27  sold_lag_24               float16\n",
      " 28  sold_lag_36               float16\n",
      " 29  iteam_sold_avg            float16\n",
      " 30  state_sold_avg            float16\n",
      " 31  store_sold_avg            float16\n",
      " 32  cat_sold_avg              float16\n",
      " 33  dept_sold_avg             float16\n",
      " 34  cat_dept_sold_avg         float16\n",
      " 35  store_item_sold_avg       float16\n",
      " 36  cat_item_sold_avg         float16\n",
      " 37  dept_item_sold_avg        float16\n",
      " 38  state_store_sold_avg      float16\n",
      " 39  state_store_cat_sold_avg  float16\n",
      " 40  store_cat_dept_sold_avg   float16\n",
      " 41  rolling_sold_mean         float16\n",
      " 42  expanding_sold_mean       float16\n",
      " 43  selling_trend             float16\n",
      "dtypes: float16(23), float32(1), int16(6), int8(14)\n",
      "memory usage: 4.6 GB\n"
     ]
    }
   ],
   "source": [
    "df.info()"
   ]
  },
  {
   "cell_type": "markdown",
   "metadata": {},
   "source": [
    "Save the data for training."
   ]
  },
  {
   "cell_type": "code",
   "execution_count": 58,
   "metadata": {},
   "outputs": [],
   "source": [
    "df.to_pickle('data.pkl')\n",
    "del df\n",
    "gc.collect();"
   ]
  },
  {
   "cell_type": "markdown",
   "metadata": {},
   "source": [
    "# <a id='pred'>6. Modelling and Prediction</a>"
   ]
  },
  {
   "cell_type": "code",
   "execution_count": 59,
   "metadata": {},
   "outputs": [],
   "source": [
    "data = pd.read_pickle('data.pkl')\n",
    "valid = data[(data['d']>=1914) & (data['d']<1942)][['id','d','sold']]\n",
    "test = data[data['d']>=1942][['id','d','sold']]\n",
    "eval_preds = test['sold']\n",
    "valid_preds = valid['sold']"
   ]
  },
  {
   "cell_type": "code",
   "execution_count": 60,
   "metadata": {},
   "outputs": [
    {
     "name": "stdout",
     "output_type": "stream",
     "text": [
      "*****Prediction for Store: CA_1*****\n",
      "Training until validation scores don't improve for 20 rounds\n",
      "[20]\ttraining's rmse: 0.664648\ttraining's l2: 0.441757\tvalid_1's rmse: 0.409088\tvalid_1's l2: 0.167353\n",
      "[40]\ttraining's rmse: 0.620605\ttraining's l2: 0.385151\tvalid_1's rmse: 0.382771\tvalid_1's l2: 0.146514\n",
      "[60]\ttraining's rmse: 0.592515\ttraining's l2: 0.351074\tvalid_1's rmse: 0.363248\tvalid_1's l2: 0.131949\n",
      "[80]\ttraining's rmse: 0.576537\ttraining's l2: 0.332395\tvalid_1's rmse: 0.355633\tvalid_1's l2: 0.126475\n",
      "[100]\ttraining's rmse: 0.567014\ttraining's l2: 0.321505\tvalid_1's rmse: 0.349251\tvalid_1's l2: 0.121976\n",
      "[120]\ttraining's rmse: 0.557461\ttraining's l2: 0.310763\tvalid_1's rmse: 0.346747\tvalid_1's l2: 0.120233\n",
      "[140]\ttraining's rmse: 0.551658\ttraining's l2: 0.304326\tvalid_1's rmse: 0.34541\tvalid_1's l2: 0.119308\n",
      "[160]\ttraining's rmse: 0.540417\ttraining's l2: 0.29205\tvalid_1's rmse: 0.341793\tvalid_1's l2: 0.116822\n",
      "[180]\ttraining's rmse: 0.532797\ttraining's l2: 0.283873\tvalid_1's rmse: 0.337947\tvalid_1's l2: 0.114208\n",
      "[200]\ttraining's rmse: 0.525337\ttraining's l2: 0.275979\tvalid_1's rmse: 0.335427\tvalid_1's l2: 0.112511\n",
      "Early stopping, best iteration is:\n",
      "[198]\ttraining's rmse: 0.526029\ttraining's l2: 0.276706\tvalid_1's rmse: 0.334758\tvalid_1's l2: 0.112063\n",
      "*****Prediction for Store: CA_2*****\n",
      "Training until validation scores don't improve for 20 rounds\n",
      "[20]\ttraining's rmse: 0.31429\ttraining's l2: 0.0987785\tvalid_1's rmse: 0.358216\tvalid_1's l2: 0.128319\n",
      "[40]\ttraining's rmse: 0.275546\ttraining's l2: 0.0759255\tvalid_1's rmse: 0.343557\tvalid_1's l2: 0.118032\n",
      "[60]\ttraining's rmse: 0.262574\ttraining's l2: 0.0689451\tvalid_1's rmse: 0.342797\tvalid_1's l2: 0.11751\n",
      "[80]\ttraining's rmse: 0.254083\ttraining's l2: 0.0645582\tvalid_1's rmse: 0.342544\tvalid_1's l2: 0.117336\n",
      "Early stopping, best iteration is:\n",
      "[71]\ttraining's rmse: 0.257411\ttraining's l2: 0.0662602\tvalid_1's rmse: 0.339382\tvalid_1's l2: 0.11518\n",
      "*****Prediction for Store: CA_3*****\n",
      "Training until validation scores don't improve for 20 rounds\n",
      "[20]\ttraining's rmse: 1.06135\ttraining's l2: 1.12647\tvalid_1's rmse: 0.568045\tvalid_1's l2: 0.322676\n",
      "[40]\ttraining's rmse: 0.982975\ttraining's l2: 0.966239\tvalid_1's rmse: 0.520163\tvalid_1's l2: 0.27057\n",
      "[60]\ttraining's rmse: 0.950056\ttraining's l2: 0.902606\tvalid_1's rmse: 0.519165\tvalid_1's l2: 0.269532\n",
      "[80]\ttraining's rmse: 0.917122\ttraining's l2: 0.841113\tvalid_1's rmse: 0.502671\tvalid_1's l2: 0.252678\n",
      "[100]\ttraining's rmse: 0.900565\ttraining's l2: 0.811018\tvalid_1's rmse: 0.500432\tvalid_1's l2: 0.250432\n",
      "[120]\ttraining's rmse: 0.885471\ttraining's l2: 0.784058\tvalid_1's rmse: 0.492804\tvalid_1's l2: 0.242856\n",
      "[140]\ttraining's rmse: 0.874462\ttraining's l2: 0.764685\tvalid_1's rmse: 0.496238\tvalid_1's l2: 0.246252\n",
      "Early stopping, best iteration is:\n",
      "[126]\ttraining's rmse: 0.882723\ttraining's l2: 0.7792\tvalid_1's rmse: 0.490976\tvalid_1's l2: 0.241057\n",
      "*****Prediction for Store: CA_4*****\n",
      "Training until validation scores don't improve for 20 rounds\n",
      "[20]\ttraining's rmse: 0.235297\ttraining's l2: 0.0553647\tvalid_1's rmse: 0.165184\tvalid_1's l2: 0.0272858\n",
      "[40]\ttraining's rmse: 0.210242\ttraining's l2: 0.0442016\tvalid_1's rmse: 0.139034\tvalid_1's l2: 0.0193303\n",
      "[60]\ttraining's rmse: 0.200526\ttraining's l2: 0.0402108\tvalid_1's rmse: 0.132808\tvalid_1's l2: 0.0176379\n",
      "[80]\ttraining's rmse: 0.19387\ttraining's l2: 0.0375856\tvalid_1's rmse: 0.129834\tvalid_1's l2: 0.016857\n",
      "[100]\ttraining's rmse: 0.189691\ttraining's l2: 0.0359827\tvalid_1's rmse: 0.129169\tvalid_1's l2: 0.0166847\n",
      "[120]\ttraining's rmse: 0.184794\ttraining's l2: 0.0341489\tvalid_1's rmse: 0.128384\tvalid_1's l2: 0.0164825\n",
      "[140]\ttraining's rmse: 0.181663\ttraining's l2: 0.0330014\tvalid_1's rmse: 0.127596\tvalid_1's l2: 0.0162807\n",
      "Early stopping, best iteration is:\n",
      "[126]\ttraining's rmse: 0.18387\ttraining's l2: 0.033808\tvalid_1's rmse: 0.127456\tvalid_1's l2: 0.0162449\n",
      "*****Prediction for Store: TX_1*****\n",
      "Training until validation scores don't improve for 20 rounds\n",
      "[20]\ttraining's rmse: 0.601323\ttraining's l2: 0.361589\tvalid_1's rmse: 0.297437\tvalid_1's l2: 0.0884687\n",
      "[40]\ttraining's rmse: 0.561386\ttraining's l2: 0.315155\tvalid_1's rmse: 0.282753\tvalid_1's l2: 0.079949\n",
      "[60]\ttraining's rmse: 0.538921\ttraining's l2: 0.290436\tvalid_1's rmse: 0.271684\tvalid_1's l2: 0.0738124\n",
      "[80]\ttraining's rmse: 0.524468\ttraining's l2: 0.275067\tvalid_1's rmse: 0.264086\tvalid_1's l2: 0.0697412\n",
      "[100]\ttraining's rmse: 0.512202\ttraining's l2: 0.262351\tvalid_1's rmse: 0.262717\tvalid_1's l2: 0.0690204\n",
      "[120]\ttraining's rmse: 0.502767\ttraining's l2: 0.252774\tvalid_1's rmse: 0.262961\tvalid_1's l2: 0.0691482\n",
      "[140]\ttraining's rmse: 0.495027\ttraining's l2: 0.245051\tvalid_1's rmse: 0.259311\tvalid_1's l2: 0.0672422\n",
      "[160]\ttraining's rmse: 0.485903\ttraining's l2: 0.236101\tvalid_1's rmse: 0.257083\tvalid_1's l2: 0.0660919\n",
      "Early stopping, best iteration is:\n",
      "[158]\ttraining's rmse: 0.486364\ttraining's l2: 0.23655\tvalid_1's rmse: 0.256657\tvalid_1's l2: 0.0658729\n",
      "*****Prediction for Store: TX_2*****\n",
      "Training until validation scores don't improve for 20 rounds\n",
      "[20]\ttraining's rmse: 0.71929\ttraining's l2: 0.517379\tvalid_1's rmse: 0.35192\tvalid_1's l2: 0.123848\n",
      "[40]\ttraining's rmse: 0.660686\ttraining's l2: 0.436506\tvalid_1's rmse: 0.334189\tvalid_1's l2: 0.111683\n",
      "[60]\ttraining's rmse: 0.633443\ttraining's l2: 0.40125\tvalid_1's rmse: 0.333437\tvalid_1's l2: 0.11118\n",
      "[80]\ttraining's rmse: 0.609572\ttraining's l2: 0.371578\tvalid_1's rmse: 0.331654\tvalid_1's l2: 0.109994\n",
      "Early stopping, best iteration is:\n",
      "[78]\ttraining's rmse: 0.611939\ttraining's l2: 0.37447\tvalid_1's rmse: 0.32928\tvalid_1's l2: 0.108426\n",
      "*****Prediction for Store: TX_3*****\n",
      "Training until validation scores don't improve for 20 rounds\n",
      "[20]\ttraining's rmse: 0.544439\ttraining's l2: 0.296414\tvalid_1's rmse: 0.425981\tvalid_1's l2: 0.18146\n",
      "[40]\ttraining's rmse: 0.499414\ttraining's l2: 0.249414\tvalid_1's rmse: 0.401999\tvalid_1's l2: 0.161603\n",
      "[60]\ttraining's rmse: 0.479679\ttraining's l2: 0.230092\tvalid_1's rmse: 0.395512\tvalid_1's l2: 0.15643\n",
      "[80]\ttraining's rmse: 0.464369\ttraining's l2: 0.215638\tvalid_1's rmse: 0.389872\tvalid_1's l2: 0.152\n",
      "[100]\ttraining's rmse: 0.455832\ttraining's l2: 0.207783\tvalid_1's rmse: 0.383941\tvalid_1's l2: 0.147411\n",
      "[120]\ttraining's rmse: 0.447389\ttraining's l2: 0.200157\tvalid_1's rmse: 0.380642\tvalid_1's l2: 0.144888\n",
      "[140]\ttraining's rmse: 0.441158\ttraining's l2: 0.19462\tvalid_1's rmse: 0.380964\tvalid_1's l2: 0.145134\n",
      "Early stopping, best iteration is:\n",
      "[130]\ttraining's rmse: 0.445336\ttraining's l2: 0.198324\tvalid_1's rmse: 0.380464\tvalid_1's l2: 0.144753\n",
      "*****Prediction for Store: WI_1*****\n",
      "Training until validation scores don't improve for 20 rounds\n",
      "[20]\ttraining's rmse: 0.239221\ttraining's l2: 0.0572269\tvalid_1's rmse: 0.225012\tvalid_1's l2: 0.0506305\n",
      "[40]\ttraining's rmse: 0.209776\ttraining's l2: 0.0440058\tvalid_1's rmse: 0.197635\tvalid_1's l2: 0.0390596\n",
      "[60]\ttraining's rmse: 0.199257\ttraining's l2: 0.0397035\tvalid_1's rmse: 0.191938\tvalid_1's l2: 0.0368404\n",
      "[80]\ttraining's rmse: 0.192595\ttraining's l2: 0.0370929\tvalid_1's rmse: 0.189759\tvalid_1's l2: 0.0360083\n",
      "[100]\ttraining's rmse: 0.186837\ttraining's l2: 0.0349081\tvalid_1's rmse: 0.188279\tvalid_1's l2: 0.0354491\n",
      "[120]\ttraining's rmse: 0.181527\ttraining's l2: 0.0329521\tvalid_1's rmse: 0.187561\tvalid_1's l2: 0.0351792\n",
      "[140]\ttraining's rmse: 0.179595\ttraining's l2: 0.0322543\tvalid_1's rmse: 0.1857\tvalid_1's l2: 0.0344844\n",
      "[160]\ttraining's rmse: 0.176631\ttraining's l2: 0.0311984\tvalid_1's rmse: 0.184707\tvalid_1's l2: 0.0341167\n",
      "Early stopping, best iteration is:\n",
      "[156]\ttraining's rmse: 0.177156\ttraining's l2: 0.0313842\tvalid_1's rmse: 0.18392\tvalid_1's l2: 0.0338264\n",
      "*****Prediction for Store: WI_2*****\n",
      "Training until validation scores don't improve for 20 rounds\n",
      "[20]\ttraining's rmse: 0.435134\ttraining's l2: 0.189341\tvalid_1's rmse: 0.608425\tvalid_1's l2: 0.37018\n",
      "[40]\ttraining's rmse: 0.379915\ttraining's l2: 0.144335\tvalid_1's rmse: 0.55434\tvalid_1's l2: 0.307293\n",
      "[60]\ttraining's rmse: 0.350021\ttraining's l2: 0.122515\tvalid_1's rmse: 0.52481\tvalid_1's l2: 0.275425\n",
      "[80]\ttraining's rmse: 0.337735\ttraining's l2: 0.114065\tvalid_1's rmse: 0.521764\tvalid_1's l2: 0.272238\n",
      "[100]\ttraining's rmse: 0.324044\ttraining's l2: 0.105005\tvalid_1's rmse: 0.513926\tvalid_1's l2: 0.26412\n",
      "[120]\ttraining's rmse: 0.314508\ttraining's l2: 0.0989155\tvalid_1's rmse: 0.510157\tvalid_1's l2: 0.26026\n",
      "[140]\ttraining's rmse: 0.305116\ttraining's l2: 0.093096\tvalid_1's rmse: 0.508827\tvalid_1's l2: 0.258904\n",
      "[160]\ttraining's rmse: 0.295211\ttraining's l2: 0.0871496\tvalid_1's rmse: 0.510156\tvalid_1's l2: 0.26026\n",
      "Early stopping, best iteration is:\n",
      "[147]\ttraining's rmse: 0.300666\ttraining's l2: 0.0903999\tvalid_1's rmse: 0.507146\tvalid_1's l2: 0.257197\n",
      "*****Prediction for Store: WI_3*****\n",
      "Training until validation scores don't improve for 20 rounds\n",
      "[20]\ttraining's rmse: 0.524491\ttraining's l2: 0.275091\tvalid_1's rmse: 0.385795\tvalid_1's l2: 0.148838\n",
      "[40]\ttraining's rmse: 0.488267\ttraining's l2: 0.238405\tvalid_1's rmse: 0.35815\tvalid_1's l2: 0.128271\n",
      "[60]\ttraining's rmse: 0.471003\ttraining's l2: 0.221844\tvalid_1's rmse: 0.342874\tvalid_1's l2: 0.117563\n",
      "[80]\ttraining's rmse: 0.45638\ttraining's l2: 0.208283\tvalid_1's rmse: 0.33731\tvalid_1's l2: 0.113778\n",
      "[100]\ttraining's rmse: 0.44437\ttraining's l2: 0.197464\tvalid_1's rmse: 0.332597\tvalid_1's l2: 0.110621\n",
      "[120]\ttraining's rmse: 0.436402\ttraining's l2: 0.190447\tvalid_1's rmse: 0.328273\tvalid_1's l2: 0.107763\n",
      "[140]\ttraining's rmse: 0.429087\ttraining's l2: 0.184116\tvalid_1's rmse: 0.324267\tvalid_1's l2: 0.105149\n",
      "[160]\ttraining's rmse: 0.423402\ttraining's l2: 0.17927\tvalid_1's rmse: 0.321451\tvalid_1's l2: 0.103331\n",
      "[180]\ttraining's rmse: 0.41786\ttraining's l2: 0.174607\tvalid_1's rmse: 0.320079\tvalid_1's l2: 0.10245\n",
      "Early stopping, best iteration is:\n",
      "[177]\ttraining's rmse: 0.418145\ttraining's l2: 0.174845\tvalid_1's rmse: 0.319488\tvalid_1's l2: 0.102073\n"
     ]
    }
   ],
   "source": [
    "#Get the store ids\n",
    "stores = sales.store_id.cat.codes.unique().tolist()\n",
    "for store in stores:\n",
    "    df = data[data['store_id']==store]\n",
    "    \n",
    "    #Split the data\n",
    "    X_train, y_train = df[df['d']<1914].drop('sold',axis=1), df[df['d']<1914]['sold']\n",
    "    X_valid, y_valid = df[(df['d']>=1914) & (df['d']<1942)].drop('sold',axis=1), df[(df['d']>=1914) & (df['d']<1942)]['sold']\n",
    "    X_test = df[df['d']>=1942].drop('sold',axis=1)\n",
    "    \n",
    "    #Train and validate\n",
    "    model = LGBMRegressor(\n",
    "        n_estimators=1000,\n",
    "        learning_rate=0.3,\n",
    "        subsample=0.8,\n",
    "        colsample_bytree=0.8,\n",
    "        max_depth=8,\n",
    "        num_leaves=50,\n",
    "        min_child_weight=300\n",
    "    )\n",
    "    print('*****Prediction for Store: {}*****'.format(d_store_id[store]))\n",
    "    model.fit(X_train, y_train, eval_set=[(X_train,y_train),(X_valid,y_valid)],\n",
    "             eval_metric='rmse', verbose=20, early_stopping_rounds=20)\n",
    "    valid_preds[X_valid.index] = model.predict(X_valid)\n",
    "    eval_preds[X_test.index] = model.predict(X_test)\n",
    "    filename = 'model'+str(d_store_id[store])+'.pkl'\n",
    "    # save model\n",
    "    joblib.dump(model, filename)\n",
    "    del model, X_train, y_train, X_valid, y_valid\n",
    "    gc.collect()"
   ]
  },
  {
   "cell_type": "markdown",
   "metadata": {},
   "source": [
    "**Plotting feature importances**"
   ]
  },
  {
   "cell_type": "code",
   "execution_count": 61,
   "metadata": {},
   "outputs": [
    {
     "data": {
      "image/png": "[encoded data removed]",
      "text/plain": [
       "<Figure size 576x720 with 1 Axes>"
      ]
     },
     "metadata": {
      "needs_background": "light"
     },
     "output_type": "display_data"
    }
   ],
   "source": [
    "feature_importance_df = pd.DataFrame()\n",
    "features = [f for f in data.columns if f != 'sold']\n",
    "for filename in os.listdir('/kaggle/working/'):\n",
    "    if 'model' in filename:\n",
    "        # load model\n",
    "        model = joblib.load(filename)\n",
    "        store_importance_df = pd.DataFrame()\n",
    "        store_importance_df[\"feature\"] = features\n",
    "        store_importance_df[\"importance\"] = model.feature_importances_\n",
    "        store_importance_df[\"store\"] = filename[5:9]\n",
    "        feature_importance_df = pd.concat([feature_importance_df, store_importance_df], axis=0)\n",
    "    \n",
    "def display_importances(feature_importance_df_):\n",
    "    cols = feature_importance_df_[[\"feature\", \"importance\"]].groupby(\"feature\").mean().sort_values(by=\"importance\", ascending=False)[:20].index\n",
    "    best_features = feature_importance_df_.loc[feature_importance_df_.feature.isin(cols)]\n",
    "    plt.figure(figsize=(8, 10))\n",
    "    sns.barplot(x=\"importance\", y=\"feature\", data=best_features.sort_values(by=\"importance\", ascending=False))\n",
    "    plt.title('LightGBM Features (averaged over store predictions)')\n",
    "    plt.tight_layout()\n",
    "    \n",
    "display_importances(feature_importance_df)"
   ]
  },
  {
   "cell_type": "markdown",
   "metadata": {},
   "source": [
    "**Make the submission**\n",
    "\n",
    "If you remember for EDA, feature engineering and training I had melted the provided data from wide format to long format. Now, I have the predictions in long format but the format to be evaluated for the competition is in long format. Therefore, I'll convert it into wide format using `pivot` function in pandas. Below is an image explaining the pivot function.\n",
    "<img src='https://pandas.pydata.org/pandas-docs/version/0.25.3/_images/reshaping_pivot.png' style=\"width:500px;height:300px;\">"
   ]
  },
  {
   "cell_type": "code",
   "execution_count": 62,
   "metadata": {},
   "outputs": [],
   "source": [
    "#Set actual equal to false if you want to top in the public leaderboard :P\n",
    "actual = False\n",
    "if actual == False:\n",
    "    #Get the validation results(We already have them as less than one month left for competition to end)\n",
    "    validation = sales[['id']+['d_' + str(i) for i in range(1914,1942)]]\n",
    "    validation['id']=pd.read_csv('/kaggle/input/m5-forecasting-accuracy/sales_train_validation.csv').id\n",
    "    validation.columns=['id'] + ['F' + str(i + 1) for i in range(28)]\n",
    "else:\n",
    "    #Get the actual validation results\n",
    "    valid['sold'] = valid_preds\n",
    "    validation = valid[['id','d','sold']]\n",
    "    validation = pd.pivot(validation, index='id', columns='d', values='sold').reset_index()\n",
    "    validation.columns=['id'] + ['F' + str(i + 1) for i in range(28)]\n",
    "    validation.id = validation.id.map(d_id).str.replace('evaluation','validation')\n",
    "\n",
    "#Get the evaluation results\n",
    "test['sold'] = eval_preds\n",
    "evaluation = test[['id','d','sold']]\n",
    "evaluation = pd.pivot(evaluation, index='id', columns='d', values='sold').reset_index()\n",
    "evaluation.columns=['id'] + ['F' + str(i + 1) for i in range(28)]\n",
    "#Remap the category id to their respective categories\n",
    "evaluation.id = evaluation.id.map(d_id)\n",
    "\n",
    "#Prepare the submission\n",
    "submit = pd.concat([validation,evaluation]).reset_index(drop=True)\n",
    "submit.to_csv('submission.csv',index=False)"
   ]
  },
  {
   "cell_type": "markdown",
   "metadata": {},
   "source": [
    "![](https://media.giphy.com/media/APHFMUIaTnLIA/giphy.gif)\n",
    "## Do leave an upvote if you liked it. It will encourage me to produce more quality content :)\n",
    "<a href=\"#top\" class=\"btn btn-success btn-lg active\" role=\"button\" aria-pressed=\"true\" style=\"color:white\" data-toggle=\"popover\" title=\"go to Colors\">Go to TOP</a>"
   ]
  }
 ],
 "metadata": {
  "kernelspec": {
   "display_name": "Python 3",
   "language": "python",
   "name": "python3"
  },
  "language_info": {
   "codemirror_mode": {
    "name": "ipython",
    "version": 3
   },
   "file_extension": ".py",
   "mimetype": "text/x-python",
   "name": "python",
   "nbconvert_exporter": "python",
   "pygments_lexer": "ipython3",
   "version": "3.8.3"
  }
 },
 "nbformat": 4,
 "nbformat_minor": 4
}
