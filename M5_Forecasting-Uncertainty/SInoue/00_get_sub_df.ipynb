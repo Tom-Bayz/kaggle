{
 "cells": [
  {
   "cell_type": "code",
   "execution_count": null,
   "metadata": {},
   "outputs": [],
   "source": [
    "'''\n",
    "Allowed pattern:\n",
    "    Total, state_id, store_id, cat_id, dept_id, item_id,\n",
    "    state_cat, store_cat, store_dept, state_item, item_store\n",
    "\n",
    "caution >>> You must do after get_agg_df (created by Yonezu)\n",
    "'''\n",
    "def get_sub_df(agg_df, pattern):\n",
    "    d_list = list(agg_df.columns)[:-1]\n",
    "    ind_list = st_valid[pattern].unique()\n",
    "    if pattern in ['Total', 'state_id', 'store_id', 'cat_id', 'dept_id', 'item_id']:\n",
    "        ind_list = [ ind + \"_X\" for ind in ind_list ]\n",
    "    return agg_df.loc[ind_list][d_list].copy()'''\n",
    "pattern:\n",
    "    Total, \n",
    "    state_id, store_id, cat_id, dept_id, item_id,\n",
    "    state_cat, store_cat, store_dept, state_item, item_store\n",
    "'''\n",
    "def get_sub_df(agg_df, sales_train_valid, pattern):\n",
    "    d_list = list(agg_df.columns)[:-1]\n",
    "    ind_list = sales_train_valid[pattern].unique()\n",
    "    if pattern in ['Total', 'state_id', 'store_id', 'cat_id', 'dept_id', 'item_id']:\n",
    "        ind_list = [ ind + \"_X\" for ind in ind_list ]\n",
    "    return agg_df.loc[ind_list][d_list].copy()"
   ]
  }
 ],
 "metadata": {
  "language_info": {
   "codemirror_mode": {
    "name": "ipython",
    "version": 3
   },
   "file_extension": ".py",
   "mimetype": "text/x-python",
   "name": "python",
   "nbconvert_exporter": "python",
   "pygments_lexer": "ipython3",
   "version": 3
  },
  "orig_nbformat": 2
 },
 "nbformat": 4,
 "nbformat_minor": 2
}