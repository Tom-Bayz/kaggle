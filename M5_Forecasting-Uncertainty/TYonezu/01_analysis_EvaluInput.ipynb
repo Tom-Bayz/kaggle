{
 "cells": [
  {
   "cell_type": "markdown",
   "metadata": {},
   "source": [
    "## **Analysis Input distribution of evaluation**\n"
   ]
  },
  {
   "cell_type": "code",
   "execution_count": 1,
   "metadata": {},
   "outputs": [],
   "source": [
    "%load_ext autoreload\n",
    "%autoreload 2\n",
    "\n",
    "import pandas as pd\n",
    "import numpy as np\n",
    "import os\n",
    "import glob\n",
    "import pickle\n",
    "import matplotlib.pyplot as plt\n",
    "import matplotlib as mpl\n",
    "mpl.rcParams['agg.path.chunksize'] = 100000\n",
    "import gc\n",
    "from myUtils import *\n",
    "from feature_generator import feature_v1, feature_v2, feature_v3\n",
    "import xgboost as xgb"
   ]
  },
  {
   "cell_type": "code",
   "execution_count": 2,
   "metadata": {},
   "outputs": [
    {
     "name": "stdout",
     "output_type": "stream",
     "text": [
      "-- column check completed --\n",
      "  columns are satisfied\n",
      "--  features_ver3  --\n",
      "dim: 27\n",
      "N: 11982570\n",
      "-----------------\n"
     ]
    }
   ],
   "source": [
    "###################################################################\n",
    "# make features\n",
    "##################################################################\n",
    "#feature_maker = feature_v1.FeaturesMaker_v1(target_col=\"item_cnt\")\n",
    "feature_maker = feature_v3.FeaturesMaker_v3(target_col=\"item_cnt\")\n",
    "\n",
    "base_data = \"sales_train_eval_365\"\n",
    "data = pd.read_pickle(os.path.join(\"mydata\",base_data+\".pickle\"))\n",
    "#data = pd.read_pickle(os.path.join(\"mydata\",\"sales_train_eval.pickle\"))\n",
    "data = feature_maker.make_feature(data)\n",
    "\n",
    "data_path = os.path.join(\"mydata\",base_data+\"_\"+feature_maker.name+\".pickle\")\n",
    "with open(data_path,\"wb\") as f:\n",
    "    pickle.dump(data,f)"
   ]
  },
  {
   "cell_type": "code",
   "execution_count": 5,
   "metadata": {},
   "outputs": [
    {
     "name": "stdout",
     "output_type": "stream",
     "text": [
      "features\n",
      "Index(['item_id', 'dept_id', 'cat_id', 'store_id', 'state_id', 'sold_lag_1',\n",
      "       'sold_lag_2', 'sold_lag_3', 'sold_lag_6', 'sold_lag_12', 'sold_lag_24',\n",
      "       'sold_lag_36', 'item_sold_avg', 'state_sold_avg', 'store_sold_avg',\n",
      "       'cat_sold_avg', 'dept_sold_avg', 'cat_dept_sold_avg',\n",
      "       'store_item_sold_avg', 'cat_item_sold_avg', 'dept_item_sold_avg',\n",
      "       'state_store_sold_avg', 'state_store_cat_sold_avg',\n",
      "       'store_cat_dept_sold_avg', 'rolling_sold_mean', 'expanding_sold_mean',\n",
      "       'selling_trend'],\n",
      "      dtype='object')\n"
     ]
    }
   ],
   "source": [
    "print(\"features\")\n",
    "print(data[\"validation\"][0].columns)"
   ]
  },
  {
   "cell_type": "code",
   "execution_count": 14,
   "metadata": {},
   "outputs": [
    {
     "name": "stdout",
     "output_type": "stream",
     "text": [
      "number of NaN\n"
     ]
    },
    {
     "data": {
      "text/plain": [
       "item_id                       0.000000\n",
       "dept_id                       0.000000\n",
       "cat_id                        0.000000\n",
       "store_id                      0.000000\n",
       "state_id                      0.000000\n",
       "sold_lag_1                    3.571429\n",
       "sold_lag_2                    7.142857\n",
       "sold_lag_3                   10.714286\n",
       "sold_lag_6                   21.428571\n",
       "sold_lag_12                  42.857143\n",
       "sold_lag_24                  85.714286\n",
       "sold_lag_36                 100.000000\n",
       "item_sold_avg                 0.000000\n",
       "state_sold_avg                0.000000\n",
       "store_sold_avg                0.000000\n",
       "cat_sold_avg                  0.000000\n",
       "dept_sold_avg                 0.000000\n",
       "cat_dept_sold_avg             0.000000\n",
       "store_item_sold_avg           0.000000\n",
       "cat_item_sold_avg             0.000000\n",
       "dept_item_sold_avg            0.000000\n",
       "state_store_sold_avg          0.000000\n",
       "state_store_cat_sold_avg      0.000000\n",
       "store_cat_dept_sold_avg       0.000000\n",
       "rolling_sold_mean            21.428571\n",
       "expanding_sold_mean           3.571429\n",
       "selling_trend                 0.000000\n",
       "dtype: float64"
      ]
     },
     "execution_count": 14,
     "metadata": {},
     "output_type": "execute_result"
    }
   ],
   "source": [
    "print(\"number of NaN\")\n",
    "df = data[\"validation\"][0]\n",
    "df.isna().sum()/len(df)*100"
   ]
  },
  {
   "cell_type": "code",
   "execution_count": null,
   "metadata": {},
   "outputs": [],
   "source": [
    "df = data[\"evaluation\"][0]"
   ]
  }
 ],
 "metadata": {
  "kernelspec": {
   "display_name": "Python 3",
   "language": "python",
   "name": "python3"
  },
  "language_info": {
   "codemirror_mode": {
    "name": "ipython",
    "version": 3
   },
   "file_extension": ".py",
   "mimetype": "text/x-python",
   "name": "python",
   "nbconvert_exporter": "python",
   "pygments_lexer": "ipython3",
   "version": "3.7.4"
  }
 },
 "nbformat": 4,
 "nbformat_minor": 4
}
