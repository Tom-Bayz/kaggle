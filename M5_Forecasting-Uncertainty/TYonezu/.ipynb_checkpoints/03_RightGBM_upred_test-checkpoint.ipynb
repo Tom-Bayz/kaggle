{
 "cells": [
  {
   "cell_type": "markdown",
   "metadata": {},
   "source": [
    "## **LightGBM quantile Regression**"
   ]
  },
  {
   "cell_type": "code",
   "execution_count": 2,
   "metadata": {},
   "outputs": [
    {
     "name": "stdout",
     "output_type": "stream",
     "text": [
      "The autoreload extension is already loaded. To reload it, use:\n",
      "  %reload_ext autoreload\n"
     ]
    }
   ],
   "source": [
    "%load_ext autoreload\n",
    "%autoreload 2\n",
    "\n",
    "import pandas as pd\n",
    "import numpy as np\n",
    "import os\n",
    "import glob\n",
    "import pickle\n",
    "import matplotlib.pyplot as plt\n",
    "import matplotlib as mpl\n",
    "mpl.rcParams['agg.path.chunksize'] = 100000\n",
    "import gc\n",
    "\n",
    "from tqdm import tqdm\n",
    "from myUtils import *\n",
    "from feature_generator import feature_v1, feature_v2, feature_v3, feature_v4\n",
    "import xgboost as xgb"
   ]
  },
  {
   "cell_type": "markdown",
   "metadata": {},
   "source": [
    "#### [make features]"
   ]
  },
  {
   "cell_type": "code",
   "execution_count": 3,
   "metadata": {},
   "outputs": [
    {
     "name": "stdout",
     "output_type": "stream",
     "text": [
      "-- column check completed --\n",
      "  columns are satisfied\n",
      "--  features_ver4  --\n",
      "dim: 36\n",
      "N: 11982570\n",
      "-----------------\n"
     ]
    }
   ],
   "source": [
    "###################################################################\n",
    "# make features\n",
    "##################################################################\n",
    "#feature_maker = feature_v1.FeaturesMaker_v1(target_col=\"item_cnt\")\n",
    "feature_maker = feature_v4.FeaturesMaker_v4(target_col=\"item_cnt\")\n",
    "\n",
    "base_data = \"sales_train_eval_365\"\n",
    "data_path = os.path.join(\"mydata\",base_data+\"_\"+feature_maker.name+\".pickle\")\n",
    "\n",
    "if os.path.exists(data_path):\n",
    "    with open(data_path,\"rb\") as f:\n",
    "        data = pickle.load(f)\n",
    "    print(\"data loaded\")\n",
    "else:\n",
    "    data = pd.read_pickle(os.path.join(\"mydata\",base_data+\".pickle\"))\n",
    "    data = feature_maker.make_feature(data)\n",
    "    \n",
    "    with open(data_path,\"wb\") as f:\n",
    "        pickle.dump(data,f)"
   ]
  },
  {
   "cell_type": "markdown",
   "metadata": {},
   "source": [
    "#### [training]\n",
    "make regression model for each quantile"
   ]
  },
  {
   "cell_type": "code",
   "execution_count": 4,
   "metadata": {},
   "outputs": [
    {
     "ename": "TypeError",
     "evalue": "stat: path should be string, bytes, os.PathLike or integer, not builtin_function_or_method",
     "output_type": "error",
     "traceback": [
      "\u001b[1;31m---------------------------------------------------------------------------\u001b[0m",
      "\u001b[1;31mTypeError\u001b[0m                                 Traceback (most recent call last)",
      "\u001b[1;32m<ipython-input-4-98360d18e723>\u001b[0m in \u001b[0;36m<module>\u001b[1;34m\u001b[0m\n\u001b[0;32m      1\u001b[0m \u001b[0mmodel_dir\u001b[0m \u001b[1;33m=\u001b[0m \u001b[0mos\u001b[0m\u001b[1;33m.\u001b[0m\u001b[0mpath\u001b[0m\u001b[1;33m.\u001b[0m\u001b[0mjoin\u001b[0m\u001b[1;33m(\u001b[0m\u001b[1;34m\"models\"\u001b[0m\u001b[1;33m,\u001b[0m\u001b[1;34m\"RightGBM_quantileReg\"\u001b[0m\u001b[1;33m)\u001b[0m\u001b[1;33m\u001b[0m\u001b[1;33m\u001b[0m\u001b[0m\n\u001b[1;32m----> 2\u001b[1;33m \u001b[1;32mif\u001b[0m \u001b[1;32mnot\u001b[0m\u001b[1;33m(\u001b[0m\u001b[0mos\u001b[0m\u001b[1;33m.\u001b[0m\u001b[0mpath\u001b[0m\u001b[1;33m.\u001b[0m\u001b[0mexists\u001b[0m\u001b[1;33m(\u001b[0m\u001b[0mdir\u001b[0m\u001b[1;33m)\u001b[0m\u001b[1;33m)\u001b[0m\u001b[1;33m:\u001b[0m\u001b[1;33m\u001b[0m\u001b[1;33m\u001b[0m\u001b[0m\n\u001b[0m\u001b[0;32m      3\u001b[0m     \u001b[0mos\u001b[0m\u001b[1;33m.\u001b[0m\u001b[0mmakedirs\u001b[0m\u001b[1;33m(\u001b[0m\u001b[0mdir\u001b[0m\u001b[1;33m)\u001b[0m\u001b[1;33m\u001b[0m\u001b[1;33m\u001b[0m\u001b[0m\n\u001b[0;32m      4\u001b[0m \u001b[1;33m\u001b[0m\u001b[0m\n\u001b[0;32m      5\u001b[0m \u001b[1;33m\u001b[0m\u001b[0m\n",
      "\u001b[1;32m~\\Anaconda3\\lib\\genericpath.py\u001b[0m in \u001b[0;36mexists\u001b[1;34m(path)\u001b[0m\n\u001b[0;32m     17\u001b[0m     \u001b[1;34m\"\"\"Test whether a path exists.  Returns False for broken symbolic links\"\"\"\u001b[0m\u001b[1;33m\u001b[0m\u001b[1;33m\u001b[0m\u001b[0m\n\u001b[0;32m     18\u001b[0m     \u001b[1;32mtry\u001b[0m\u001b[1;33m:\u001b[0m\u001b[1;33m\u001b[0m\u001b[1;33m\u001b[0m\u001b[0m\n\u001b[1;32m---> 19\u001b[1;33m         \u001b[0mos\u001b[0m\u001b[1;33m.\u001b[0m\u001b[0mstat\u001b[0m\u001b[1;33m(\u001b[0m\u001b[0mpath\u001b[0m\u001b[1;33m)\u001b[0m\u001b[1;33m\u001b[0m\u001b[1;33m\u001b[0m\u001b[0m\n\u001b[0m\u001b[0;32m     20\u001b[0m     \u001b[1;32mexcept\u001b[0m \u001b[0mOSError\u001b[0m\u001b[1;33m:\u001b[0m\u001b[1;33m\u001b[0m\u001b[1;33m\u001b[0m\u001b[0m\n\u001b[0;32m     21\u001b[0m         \u001b[1;32mreturn\u001b[0m \u001b[1;32mFalse\u001b[0m\u001b[1;33m\u001b[0m\u001b[1;33m\u001b[0m\u001b[0m\n",
      "\u001b[1;31mTypeError\u001b[0m: stat: path should be string, bytes, os.PathLike or integer, not builtin_function_or_method"
     ]
    }
   ],
   "source": [
    "model_dir = os.path.join(\"models\",\"RightGBM_quantileReg\")\n",
    "if not(os.path.exists(model_dir)):\n",
    "    os.makedirs(model_dir)\n",
    "    \n",
    "\n",
    "import lightgbm as lgb\n",
    "qlist = np.array([0.005,0.025,0.165,0.25, 0.5, 0.75, 0.835, 0.975, 0.995])\n",
    "for q in tqdm(qlist):\n",
    "    model_path = os.path.join(model_dir,\"RightGBM_\"+f\"{q:.3f}\"+\"_\"+feature_maker.name+\".mdl\")\n",
    "\n",
    "    if os.path.exists(model_path):\n",
    "        print(\"model already exists...\")\n",
    "\n",
    "    else:\n",
    "        print(\"start training RightGBM\")\n",
    "        model = lgb.LGBMRegressor(objective='quantile', \n",
    "                                  alpha=q,\n",
    "                                  n_estimators=1000,\n",
    "                                  learning_rate=.1,\n",
    "                                  min_samples_leaf=9,\n",
    "                                  min_samples_split=9)\n",
    "        \n",
    "\n",
    "        model.fit(X=data[\"train\"][0], y=data[\"train\"][1], \n",
    "                  #sample_weight=None, \n",
    "                  #base_margin=None, \n",
    "                  eval_set=[data[\"train\"],data[\"validation\"]], \n",
    "                  #eval_metric=None, \n",
    "                  early_stopping_rounds=100, \n",
    "                  verbose=True, \n",
    "                  #xgb_model=None, \n",
    "                  #sample_weight_eval_set=None\n",
    "                  )\n",
    "        model.booster_.save_model(model_path)\n",
    "        \n",
    "print(\"  -- completed\\n\")"
   ]
  },
  {
   "cell_type": "markdown",
   "metadata": {},
   "source": [
    "#### [prediction]"
   ]
  },
  {
   "cell_type": "code",
   "execution_count": null,
   "metadata": {},
   "outputs": [],
   "source": [
    "dir = os.path.join(\"submission_uncertainty\",\"RightGBM_quantileReg\")\n",
    "if not(os.path.exists(dir)):\n",
    "    os.makedirs(dir)\n",
    "\n",
    "import lightgbm as lgb\n",
    "\n",
    "print(\"start prediction\")\n",
    "qlist = np.array([0.005,0.025,0.165,0.25, 0.5, 0.75, 0.835, 0.975, 0.995])\n",
    "for q in tqdm(qlist):\n",
    "    \n",
    "    model_path = os.path.join(model_dir,\"RightGBM_\"+f\"{q:.3f}\"+\"_\"+feature_maker.name+\".mdl\")\n",
    "    model = lgb.Booster(model_file=model_path)\n",
    "    \n",
    "    \n",
    "    # validation quantile predict\n",
    "    data[\"validation\"][1].loc[:] = model.predict(data[\"validation\"][0])\n",
    "    valid = data[\"validation\"][1]\n",
    "    valid = pd.DataFrame(valid.values,\n",
    "                         index=valid.index,\n",
    "                         columns=[feature_maker.target_col])\n",
    "    valid = valid.reset_index()\n",
    "    valid = pd.pivot(valid,\n",
    "                     index=\"id\", \n",
    "                     columns=\"d\",\n",
    "                     values=feature_maker.target_col)\n",
    "    valid = valid.reset_index()\n",
    "    valid.columns = [\"id\"] + [f\"F{i}\" for i in range(1, 29)]\n",
    "    valid[\"id\"] = valid[\"id\"].str.replace(\"_evaluation\",\"_validation\")\n",
    "    valid.to_csv(os.path.join(dir,\"RightGBM_\"+f\"{q:.3f}\"+\"_\"+feature_maker.name+\"_valid.csv\"))\n",
    "    \n",
    "    # evaluation quantile predict\n",
    "    data[\"evaluation\"][1].loc[:] = model.predict(data[\"evaluation\"][0])\n",
    "    evalu = data[\"evaluation\"][1]\n",
    "    evalu = pd.DataFrame(evalu.values,\n",
    "                         index=evalu.index,\n",
    "                         columns=[feature_maker.target_col])\n",
    "    evalu = evalu.reset_index()\n",
    "    evalu = pd.pivot(evalu,\n",
    "                     index=\"id\", \n",
    "                     columns=\"d\", \n",
    "                     values=feature_maker.target_col)\n",
    "    evalu = evalu.reset_index()\n",
    "    evalu.columns = [\"id\"] + [f\"F{i}\" for i in range(1, 29)]\n",
    "    evalu.to_csv(os.path.join(dir,\"RightGBM_\"+f\"{q:.3f}\"+\"_\"+feature_maker.name+\"_evalu.csv\"))\n",
    "\n",
    "    \n",
    "print(\"  -- completed\")"
   ]
  },
  {
   "cell_type": "markdown",
   "metadata": {},
   "source": [
    "#### [submission]"
   ]
  },
  {
   "cell_type": "code",
   "execution_count": null,
   "metadata": {},
   "outputs": [],
   "source": [
    "sales_train_val = pd.read_csv(os.path.join(\"rawdata\",\"sales_train_evaluation.csv\"))\n",
    "sales_train_val = sales_train_val[[\"id\",\"item_id\",\"dept_id\",\"cat_id\",\"store_id\",\"state_id\"]]\n",
    "\n",
    "dir = os.path.join(\"submission_uncertainty\",\"RightGBM_quantileReg\")\n",
    "if not(os.path.exists(dir)):\n",
    "    os.makedirs(dir)\n",
    "\n",
    "cols = [\"id\"] + [f\"F{i}\" for i in range(1, 29)]\n",
    "\n",
    "sub = pd.DataFrame()\n",
    "\n",
    "import lightgbm as lgb\n",
    "qlist = np.array([0.005,0.025,0.165,0.25, 0.5, 0.75, 0.835, 0.975, 0.995])\n",
    "for q in tqdm(qlist):\n",
    "    \n",
    "    valid = pd.read_csv(os.path.join(dir,\"RightGBM_\"+f\"{q:.3f}\"+\"_\"+feature_maker.name+\"_valid.csv\"))\n",
    "    valid[\"id\"] = valid[\"id\"].str.replace(\"_validation\",\"_evaluation\")\n",
    "    valid = pd.merge(valid,sales_train_val,on=\"id\",how=\"left\")\n",
    "    valid = get_agg_df(valid)\n",
    "    valid[\"quantile\"] = \"_\"+f\"{q:.3f}\"+\"_validation\"\n",
    "    valid[\"id\"] = valid[\"id\"].str.cat(valid[\"quantile\"])\n",
    "    \n",
    "    evalu = pd.read_csv(os.path.join(dir,\"RightGBM_\"+f\"{q:.3f}\"+\"_\"+feature_maker.name+\"_evalu.csv\"))\n",
    "    evalu = pd.merge(evalu,sales_train_val,on=\"id\",how=\"left\")\n",
    "    evalu = get_agg_df(evalu)\n",
    "    evalu[\"quantile\"] = \"_\"+f\"{q:.3f}\"+\"_evaluation\"\n",
    "    evalu[\"id\"] = evalu[\"id\"].str.cat(evalu[\"quantile\"])\n",
    "    \n",
    "    sub = pd.concat([sub,valid,evalu])\n",
    "    \n",
    "sub = sub[cols]\n",
    "sub = sub.set_index(\"id\",drop=True)"
   ]
  },
  {
   "cell_type": "code",
   "execution_count": null,
   "metadata": {},
   "outputs": [],
   "source": [
    "upred_sample = pd.read_csv(os.path.join(\"submission_uncertainty\",\"sample_submission.csv\"),index_col=0)\n",
    "sub.loc[upred_sample.index].to_csv(os.path.join(\"submission_uncertainty\",\"RightGBM_quantileReg_\"+feature_maker.name+\".csv\"))\n",
    "sub"
   ]
  }
 ],
 "metadata": {
  "kernelspec": {
   "display_name": "Python 3",
   "language": "python",
   "name": "python3"
  },
  "language_info": {
   "codemirror_mode": {
    "name": "ipython",
    "version": 3
   },
   "file_extension": ".py",
   "mimetype": "text/x-python",
   "name": "python",
   "nbconvert_exporter": "python",
   "pygments_lexer": "ipython3",
   "version": "3.7.4"
  }
 },
 "nbformat": 4,
 "nbformat_minor": 4
}
