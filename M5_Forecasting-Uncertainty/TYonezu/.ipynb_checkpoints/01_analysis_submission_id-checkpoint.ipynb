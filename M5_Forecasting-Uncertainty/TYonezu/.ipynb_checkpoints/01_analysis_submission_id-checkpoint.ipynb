{
 "cells": [
  {
   "cell_type": "markdown",
   "metadata": {},
   "source": [
    "## **submissionファイルの id 解析**"
   ]
  },
  {
   "cell_type": "code",
   "execution_count": 2,
   "metadata": {},
   "outputs": [],
   "source": [
    "import pandas as pd\n",
    "import numpy as np\n",
    "import matplotlib.pyplot as plt\n",
    "import glob\n",
    "import os\n",
    "from tqdm import tqdm\n",
    "\n",
    "from myUtils import reduce_mem_usage\n",
    "\n",
    "import gc"
   ]
  },
  {
   "cell_type": "code",
   "execution_count": 8,
   "metadata": {},
   "outputs": [
    {
     "data": {
      "text/plain": [
       "0                  Total_X_0.005_validation\n",
       "1                     CA_X_0.005_validation\n",
       "2                     TX_X_0.005_validation\n",
       "3                     WI_X_0.005_validation\n",
       "4                   CA_1_X_0.005_validation\n",
       "                        ...                \n",
       "771115    FOODS_3_823_WI_3_0.995_evaluation\n",
       "771116    FOODS_3_824_WI_3_0.995_evaluation\n",
       "771117    FOODS_3_825_WI_3_0.995_evaluation\n",
       "771118    FOODS_3_826_WI_3_0.995_evaluation\n",
       "771119    FOODS_3_827_WI_3_0.995_evaluation\n",
       "Name: id, Length: 771120, dtype: object"
      ]
     },
     "execution_count": 8,
     "metadata": {},
     "output_type": "execute_result"
    }
   ],
   "source": [
    "sub = pd.read_csv(os.path.join(\"rawdata\",\"sample_submission.csv\"))\n",
    "sub[\"id\"]"
   ]
  },
  {
   "cell_type": "markdown",
   "metadata": {},
   "source": [
    "- validationとevaluationがある. evaluation ⇒ validationに変えて重複を除くと..."
   ]
  },
  {
   "cell_type": "code",
   "execution_count": 9,
   "metadata": {},
   "outputs": [
    {
     "data": {
      "text/plain": [
       "0                  Total_X_0.005_validation\n",
       "1                     CA_X_0.005_validation\n",
       "2                     TX_X_0.005_validation\n",
       "3                     WI_X_0.005_validation\n",
       "4                   CA_1_X_0.005_validation\n",
       "                        ...                \n",
       "385555    FOODS_3_823_WI_3_0.995_validation\n",
       "385556    FOODS_3_824_WI_3_0.995_validation\n",
       "385557    FOODS_3_825_WI_3_0.995_validation\n",
       "385558    FOODS_3_826_WI_3_0.995_validation\n",
       "385559    FOODS_3_827_WI_3_0.995_validation\n",
       "Name: id, Length: 385560, dtype: object"
      ]
     },
     "execution_count": 9,
     "metadata": {},
     "output_type": "execute_result"
    }
   ],
   "source": [
    "sub[\"id\"] = sub[\"id\"].str.replace(\"_evaluation\",\"_validation\")\n",
    "sub[\"id\"].drop_duplicates()"
   ]
  },
  {
   "cell_type": "markdown",
   "metadata": {},
   "source": [
    "- ちょうどサイズが半分になった. validation28日分, evaluation28日分ある. \n",
    "- さらに言えば, evaluationはvalidationの次の28日に相当するらしい(大会要項参照. )"
   ]
  },
  {
   "cell_type": "markdown",
   "metadata": {},
   "source": [
    "数字がついているので, これを消してみると..."
   ]
  },
  {
   "cell_type": "code",
   "execution_count": 10,
   "metadata": {},
   "outputs": [
    {
     "data": {
      "text/plain": [
       "0                 Total_X\n",
       "1                    CA_X\n",
       "2                    TX_X\n",
       "3                    WI_X\n",
       "4                  CA_1_X\n",
       "               ...       \n",
       "42835    FOODS_3_823_WI_3\n",
       "42836    FOODS_3_824_WI_3\n",
       "42837    FOODS_3_825_WI_3\n",
       "42838    FOODS_3_826_WI_3\n",
       "42839    FOODS_3_827_WI_3\n",
       "Name: id, Length: 42840, dtype: object"
      ]
     },
     "execution_count": 10,
     "metadata": {},
     "output_type": "execute_result"
    }
   ],
   "source": [
    "sub[\"id\"] = sub[\"id\"].str.replace(\"_validation\",\"\")\n",
    "\n",
    "sub[\"id\"] = sub[\"id\"].str.replace(\"_0.005\",\"\")\n",
    "sub[\"id\"] = sub[\"id\"].str.replace(\"_0.025\",\"\")\n",
    "sub[\"id\"] = sub[\"id\"].str.replace(\"_0.165\",\"\")\n",
    "sub[\"id\"] = sub[\"id\"].str.replace(\"_0.250\",\"\")\n",
    "sub[\"id\"] = sub[\"id\"].str.replace(\"_0.500\",\"\")\n",
    "sub[\"id\"] = sub[\"id\"].str.replace(\"_0.750\",\"\")\n",
    "sub[\"id\"] = sub[\"id\"].str.replace(\"_0.835\",\"\")\n",
    "sub[\"id\"] = sub[\"id\"].str.replace(\"_0.975\",\"\")\n",
    "sub[\"id\"] = sub[\"id\"].str.replace(\"_0.995\",\"\")\n",
    "\n",
    "tmp = sub[\"id\"].drop_duplicates()\n",
    "tmp"
   ]
  },
  {
   "cell_type": "markdown",
   "metadata": {},
   "source": [
    "- サイズがちょうど9分の1になった. "
   ]
  },
  {
   "cell_type": "markdown",
   "metadata": {},
   "source": [
    "- ここで, このDFの後半30490行はsales_train_val.csvのidと完全に一致. \n",
    "- 30490行を除いた最初の42840-30490=12350行分は, 州ごと, カテゴリごと, 店ごと... など様々なレベルでの売り上げ合計値を指している."
   ]
  }
 ],
 "metadata": {
  "kernelspec": {
   "display_name": "Python 3",
   "language": "python",
   "name": "python3"
  },
  "language_info": {
   "codemirror_mode": {
    "name": "ipython",
    "version": 3
   },
   "file_extension": ".py",
   "mimetype": "text/x-python",
   "name": "python",
   "nbconvert_exporter": "python",
   "pygments_lexer": "ipython3",
   "version": "3.7.4"
  }
 },
 "nbformat": 4,
 "nbformat_minor": 4
}
