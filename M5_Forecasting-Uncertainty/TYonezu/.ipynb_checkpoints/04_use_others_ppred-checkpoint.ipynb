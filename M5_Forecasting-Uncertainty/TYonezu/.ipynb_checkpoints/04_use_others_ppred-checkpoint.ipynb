{
 "cells": [
  {
   "cell_type": "markdown",
   "metadata": {},
   "source": [
    "### **Make Uncertainty Prediction from Point Prediction made by others**"
   ]
  },
  {
   "cell_type": "code",
   "execution_count": 3,
   "metadata": {},
   "outputs": [
    {
     "name": "stdout",
     "output_type": "stream",
     "text": [
      "The autoreload extension is already loaded. To reload it, use:\n",
      "  %reload_ext autoreload\n"
     ]
    }
   ],
   "source": [
    "%load_ext autoreload\n",
    "%autoreload 2\n",
    "\n",
    "import pandas as pd\n",
    "import numpy as np\n",
    "import os\n",
    "import glob\n",
    "import pickle\n",
    "import matplotlib.pyplot as plt\n",
    "import matplotlib as mpl\n",
    "mpl.rcParams['agg.path.chunksize'] = 100000\n",
    "\n",
    "from myConfig import *\n",
    "import gc\n",
    "from myUtils import *\n",
    "from myTransform import *"
   ]
  },
  {
   "cell_type": "code",
   "execution_count": null,
   "metadata": {},
   "outputs": [
    {
     "name": "stderr",
     "output_type": "stream",
     "text": [
      "100%|██████████████████████████████████████████████████████████████████████████████████| 28/28 [01:38<00:00,  3.51s/it]\n",
      "100%|██████████████████████████████████████████████████████████████████████████████████| 28/28 [00:37<00:00,  1.35s/it]\n",
      " 71%|██████████████████████████████████████████████████████████▌                       | 20/28 [00:22<00:09,  1.13s/it]"
     ]
    }
   ],
   "source": [
    "ppred_path = os.path.join(\"submission_point\",\"M5 - Dark Witch Time by Store -  submission.csv\")\n",
    "sub = pd.read_csv(ppred_path)\n",
    "\n",
    "sales = pd.read_csv(os.path.join(\"rawdata\",\"sales_train_validation.csv\"))\n",
    "sub = pd.merge(sub,sales[[\"id\", \"item_id\", \"dept_id\", \"cat_id\", \"store_id\", \"state_id\"]], on = \"id\")\n",
    "sub[\"_all_\"] = \"Total\"\n",
    "\n",
    "del sales\n",
    "gc.collect()\n",
    "\n",
    "trans = TRANSFORM_v3()\n",
    "sub = trans.point2unc(sub)\n",
    "sub"
   ]
  },
  {
   "cell_type": "code",
   "execution_count": 5,
   "metadata": {},
   "outputs": [
    {
     "data": {
      "text/plain": [
       "b'Successfully submitted to M5 Forecasting - Uncertainty'"
      ]
     },
     "execution_count": 5,
     "metadata": {},
     "output_type": "execute_result"
    }
   ],
   "source": [
    "model_name = \"None_model_with_others_ppred_v3\"\n",
    "sub_path = os.path.join(\"submission_uncertainty\",model_name+\".csv\")\n",
    "sub.to_csv(sub_path,index=False)\n",
    "\n",
    "# submit csv-file\n",
    "import subprocess\n",
    "\n",
    "command = [\"kaggle\",\"competitions\",\"submit\",\"-c\",\"m5-forecasting-uncertainty\",\"-f\",sub_path,\"-m\",model_name]\n",
    "subprocess.check_output(command)"
   ]
  }
 ],
 "metadata": {
  "kernelspec": {
   "display_name": "Python 3",
   "language": "python",
   "name": "python3"
  },
  "language_info": {
   "codemirror_mode": {
    "name": "ipython",
    "version": 3
   },
   "file_extension": ".py",
   "mimetype": "text/x-python",
   "name": "python",
   "nbconvert_exporter": "python",
   "pygments_lexer": "ipython3",
   "version": "3.7.4"
  }
 },
 "nbformat": 4,
 "nbformat_minor": 4
}
