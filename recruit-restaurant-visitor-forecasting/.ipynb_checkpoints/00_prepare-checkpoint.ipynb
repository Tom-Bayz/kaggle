{
 "cells": [
  {
   "cell_type": "markdown",
   "metadata": {},
   "source": [
    "# Recruit Restaurant Visitor Forecasting\n",
    "written by T.Bayz @5 Oct 2019"
   ]
  },
  {
   "cell_type": "code",
   "execution_count": 7,
   "metadata": {},
   "outputs": [],
   "source": [
    "import pandas as pd\n",
    "from matplotlib import pyplot as plt\n",
    "import numpy as np"
   ]
  },
  {
   "cell_type": "code",
   "execution_count": 26,
   "metadata": {},
   "outputs": [],
   "source": [
    "# load data\n",
    "data = {\n",
    "    \"ar\": pd.read_csv(\"data/air_reserve.csv\",engine=\"python\"),\n",
    "    \"hr\": pd.read_csv(\"data/hpg_reserve.csv\",engine=\"python\"),\n",
    "    \"as\": pd.read_csv(\"data/air_store_info.csv\",engine=\"python\"),\n",
    "    \"hs\": pd.read_csv(\"data/hpg_store_info.csv\",engine=\"python\"),\n",
    "    \"id\": pd.read_csv(\"data/store_id_relation.csv\",engine=\"python\"),\n",
    "    \"date_info\": pd.read_csv(\"data/date_info.csv\",engine=\"python\").rename(columns={'calendar_date':'visit_date'}),\n",
    "    \"av\": pd.read_csv(\"data/air_visit_data.csv\",engine=\"python\"),\n",
    "    \"test\": pd.read_csv(\"data/sample_submission.csv\",engine=\"python\")\n",
    "}"
   ]
  },
  {
   "cell_type": "markdown",
   "metadata": {},
   "source": [
    "##### 店舗情報処理(air,hpgそれぞれ)"
   ]
  },
  {
   "cell_type": "code",
   "execution_count": 33,
   "metadata": {},
   "outputs": [],
   "source": [
    "import copy\n",
    "\n",
    "train = {}\n",
    "\n",
    "# データを持ってくる\n",
    "train[\"hpg\"] = copy.copy(data['hr'])\n",
    "train[\"air\"] = copy.copy(data['ar'])\n",
    "\n",
    "# 店舗IDを揃える hpg => airに変換する\n",
    "train[\"hpg\"] = pd.merge(train[\"hpg\"], data['id'], how='inner', on=['hpg_store_id'])\n",
    "train[\"hpg\"] = train[\"hpg\"].drop(\"hpg_store_id\",axis=1)\n",
    "\n",
    "# 店舗IDのカラム名を揃える\n",
    "for df in [\"hpg\",\"air\"]:\n",
    "    train[df] = train[df].rename(columns={\"air_store_id\":\"id\"})\n",
    "\n",
    "for df in [\"hpg\",\"air\"]:\n",
    "    train[df] = pd.merge(train[df], data[\"as\"], how='inner', left_on=\"id\", right_on=\"air_store_id\")\n",
    "    train[df][\"id\"] = train[df][\"id\"].str.split(\"_\",expand=True)[1]\n",
    "    train[df] = train[df].drop([\"air_area_name\",\"air_store_id\"],axis=1)"
   ]
  },
  {
   "cell_type": "markdown",
   "metadata": {},
   "source": [
    "##### 時間情報処理(air,hpgそれぞれ)"
   ]
  },
  {
   "cell_type": "code",
   "execution_count": 34,
   "metadata": {},
   "outputs": [],
   "source": [
    "# タイムスタンプ形式にする\n",
    "for df in [\"hpg\",\"air\"]:\n",
    "    train[df][\"visit_datetime\"] = pd.to_datetime(train[df][\"visit_datetime\"])\n",
    "    train[df][\"reserve_datetime\"] = pd.to_datetime(train[df][\"reserve_datetime\"])\n",
    "\n",
    "for df in [\"hpg\",\"air\"]:\n",
    "    train[df][\"dow\"] = train[df][\"visit_datetime\"].dt.dayofweek\n",
    "    train[df][\"year\"] = train[df][\"visit_datetime\"].dt.year\n",
    "    train[df][\"month\"] = train[df][\"visit_datetime\"].dt.month\n",
    "    train[df][\"day\"] = train[df][\"visit_datetime\"].dt.day"
   ]
  },
  {
   "cell_type": "code",
   "execution_count": 35,
   "metadata": {},
   "outputs": [],
   "source": [
    "for df in [\"hpg\",\"air\"]:\n",
    "    train[df].to_csv(df+\".csv\")"
   ]
  },
  {
   "cell_type": "code",
   "execution_count": null,
   "metadata": {},
   "outputs": [],
   "source": []
  }
 ],
 "metadata": {
  "kernelspec": {
   "display_name": "Python 3",
   "language": "python",
   "name": "python3"
  },
  "language_info": {
   "codemirror_mode": {
    "name": "ipython",
    "version": 3
   },
   "file_extension": ".py",
   "mimetype": "text/x-python",
   "name": "python",
   "nbconvert_exporter": "python",
   "pygments_lexer": "ipython3",
   "version": "3.7.4"
  }
 },
 "nbformat": 4,
 "nbformat_minor": 4
}
