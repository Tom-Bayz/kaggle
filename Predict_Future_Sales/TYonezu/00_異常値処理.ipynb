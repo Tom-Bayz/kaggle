{
 "cells": [
  {
   "cell_type": "markdown",
   "metadata": {},
   "source": [
    "## **Predict Future Sales**\n",
    "Final project for \"How to win a data science competition\" Coursera course<br>\n",
    "https://www.kaggle.com/c/competitive-data-science-predict-future-sales/overview"
   ]
  },
  {
   "cell_type": "markdown",
   "metadata": {},
   "source": [
    "#### **Data Preparation**"
   ]
  },
  {
   "cell_type": "code",
   "execution_count": null,
   "metadata": {},
   "outputs": [],
   "source": [
    "import pandas as pd \n",
    "import numpy as np\n",
    "import glob \n",
    "import os \n",
    "import matplotlib.pyplot as plt"
   ]
  },
  {
   "cell_type": "code",
   "execution_count": 17,
   "metadata": {},
   "outputs": [],
   "source": [
    "rawdata = {}\n",
    "rawdata[\"item_cat\"] = pd.read_csv(os.path.join(\"rawdata\",\"item_categories.csv\"),encoding=\"utf-8\",index_col=1)\n",
    "rawdata[\"items\"] = pd.read_csv(os.path.join(\"rawdata\",\"items.csv\"),encoding=\"utf-8\",index_col=1)\n",
    "rawdata[\"sales_train\"] = pd.read_csv(os.path.join(\"rawdata\",\"sales_train.csv\"),encoding=\"utf-8\",parse_dates=[0],index_col=0)\n",
    "rawdata[\"shops\"] = pd.read_csv(os.path.join(\"rawdata\",\"shops.csv\"),encoding=\"utf-8\")\n",
    "rawdata[\"test\"] = pd.read_csv(os.path.join(\"rawdata\",\"test.csv\"),encoding=\"utf-8\")"
   ]
  },
  {
   "cell_type": "code",
   "execution_count": 18,
   "metadata": {},
   "outputs": [
    {
     "name": "stdout",
     "output_type": "stream",
     "text": [
      "                       item_category_name\n",
      "item_category_id                         \n",
      "0                 PC - Гарнитуры/Наушники\n",
      "1                        Аксессуары - PS2\n",
      "2                        Аксессуары - PS3\n",
      "[Nan Values]\n",
      "item_category_name    0\n",
      "dtype: int64\n",
      "\n",
      "                                                 item_name  item_category_id\n",
      "item_id                                                                     \n",
      "0                ! ВО ВЛАСТИ НАВАЖДЕНИЯ (ПЛАСТ.)         D                40\n",
      "1        !ABBYY FineReader 12 Professional Edition Full...                76\n",
      "2            ***В ЛУЧАХ СЛАВЫ   (UNV)                    D                40\n",
      "[Nan Values]\n",
      "item_name           0\n",
      "item_category_id    0\n",
      "dtype: int64\n",
      "\n",
      "            date_block_num  shop_id  item_id  item_price  item_cnt_day\n",
      "date                                                                  \n",
      "2013-02-01               0       59    22154       999.0           1.0\n",
      "2013-03-01               0       25     2552       899.0           1.0\n",
      "2013-05-01               0       25     2552       899.0          -1.0\n",
      "[Nan Values]\n",
      "date_block_num    0\n",
      "shop_id           0\n",
      "item_id           0\n",
      "item_price        0\n",
      "item_cnt_day      0\n",
      "dtype: int64\n",
      "\n",
      "                       shop_name  shop_id\n",
      "0  !Якутск Орджоникидзе, 56 фран        0\n",
      "1  !Якутск ТЦ \"Центральный\" фран        1\n",
      "2               Адыгея ТЦ \"Мега\"        2\n",
      "[Nan Values]\n",
      "shop_name    0\n",
      "shop_id      0\n",
      "dtype: int64\n",
      "\n",
      "   ID  shop_id  item_id\n",
      "0   0        5     5037\n",
      "1   1        5     5320\n",
      "2   2        5     5233\n",
      "[Nan Values]\n",
      "ID         0\n",
      "shop_id    0\n",
      "item_id    0\n",
      "dtype: int64\n",
      "\n"
     ]
    }
   ],
   "source": [
    "for key in rawdata.keys():\n",
    "    df = rawdata[key]\n",
    "    print(df.head(3))\n",
    "    print(\"[Nan Values]\")\n",
    "    print(df.isna().sum())\n",
    "    print()"
   ]
  },
  {
   "cell_type": "markdown",
   "metadata": {},
   "source": [
    "#### **異常値処理**"
   ]
  },
  {
   "cell_type": "code",
   "execution_count": 19,
   "metadata": {},
   "outputs": [
    {
     "data": {
      "image/png": "[encoded data removed]",
      "text/plain": [
       "<Figure size 360x360 with 1 Axes>"
      ]
     },
     "metadata": {
      "needs_background": "light"
     },
     "output_type": "display_data"
    }
   ],
   "source": [
    "df = rawdata[\"sales_train\"]\n",
    "\n",
    "x = df[\"item_cnt_day\"].values/30\n",
    "y = df[\"item_price\"].values\n",
    "\n",
    "fig = plt.figure(figsize=(5,5))\n",
    "plt.scatter(x=x,y=y,marker=\"+\")\n",
    "plt.ylabel(\"item_price\",fontsize=15)\n",
    "plt.xlabel(\"item_cnt_day\",fontsize=15)\n",
    "plt.grid(True)\n",
    "plt.show()"
   ]
  },
  {
   "cell_type": "markdown",
   "metadata": {},
   "source": [
    "item_cnt_dayに関しては, データの説明部分で「1か月の売り上げは[0,2]の範囲だ」とあったので, だいたい30日くらいの平均で見てみて, 30個超えてたら外れ値かな...<br>\n",
    "item_priceに関しては, さすがに300000万はないでしょ... 100000万いじょうを異常とする."
   ]
  },
  {
   "cell_type": "code",
   "execution_count": 20,
   "metadata": {},
   "outputs": [],
   "source": [
    "df = rawdata[\"sales_train\"]\n",
    "x = df[\"item_cnt_day\"].values/30\n",
    "y = df[\"item_price\"].values\n",
    "\n",
    "rawdata[\"sales_train\"].loc[x>30,\"item_cnt_day\"] = np.nan\n",
    "rawdata[\"sales_train\"].loc[y>100000,\"item_cnt_day\"] = np.nan"
   ]
  },
  {
   "cell_type": "code",
   "execution_count": 22,
   "metadata": {},
   "outputs": [
    {
     "data": {
      "image/png": "[encoded data removed]",
      "text/plain": [
       "<Figure size 360x360 with 1 Axes>"
      ]
     },
     "metadata": {
      "needs_background": "light"
     },
     "output_type": "display_data"
    }
   ],
   "source": [
    "df = rawdata[\"sales_train\"]\n",
    "\n",
    "x = df[\"item_cnt_day\"].values/30\n",
    "y = df[\"item_price\"].values\n",
    "\n",
    "fig = plt.figure(figsize=(5,5))\n",
    "plt.scatter(x=x,y=y,marker=\"+\")\n",
    "plt.ylabel(\"item_price\",fontsize=15)\n",
    "plt.xlabel(\"item_cnt_day\",fontsize=15)\n",
    "plt.grid(True)\n",
    "plt.show()"
   ]
  },
  {
   "cell_type": "markdown",
   "metadata": {},
   "source": [
    "ん? item_priceが0以下のやつがいるな? こいつも消してしまおう"
   ]
  },
  {
   "cell_type": "code",
   "execution_count": 23,
   "metadata": {},
   "outputs": [
    {
     "name": "stderr",
     "output_type": "stream",
     "text": [
      "C:\\Users\\organ\\Anaconda3\\lib\\site-packages\\ipykernel_launcher.py:5: RuntimeWarning: invalid value encountered in less_equal\n",
      "  \"\"\"\n"
     ]
    }
   ],
   "source": [
    "df = rawdata[\"sales_train\"]\n",
    "x = df[\"item_cnt_day\"].values/30\n",
    "y = df[\"item_price\"].values\n",
    "\n",
    "rawdata[\"sales_train\"].loc[x<=0,\"item_cnt_day\"] = np.nan"
   ]
  },
  {
   "cell_type": "code",
   "execution_count": 24,
   "metadata": {},
   "outputs": [
    {
     "data": {
      "image/png": "[encoded data removed]",
      "text/plain": [
       "<Figure size 360x360 with 1 Axes>"
      ]
     },
     "metadata": {
      "needs_background": "light"
     },
     "output_type": "display_data"
    }
   ],
   "source": [
    "df = rawdata[\"sales_train\"]\n",
    "\n",
    "x = df[\"item_cnt_day\"].values/30\n",
    "y = df[\"item_price\"].values\n",
    "\n",
    "fig = plt.figure(figsize=(5,5))\n",
    "plt.scatter(x=x,y=y,marker=\"+\")\n",
    "plt.ylabel(\"item_price\",fontsize=15)\n",
    "plt.xlabel(\"item_cnt_day\",fontsize=15)\n",
    "plt.grid(True)\n",
    "plt.show()"
   ]
  },
  {
   "cell_type": "markdown",
   "metadata": {},
   "source": [
    "いい感じじゃないですかね. ということで, 出力."
   ]
  },
  {
   "cell_type": "code",
   "execution_count": 26,
   "metadata": {},
   "outputs": [],
   "source": [
    "rawdata[\"sales_train\"].to_csv(os.path.join(\"data\",\"sales_train.csv\"),encoding=\"shift-jis\")"
   ]
  }
 ],
 "metadata": {
  "kernelspec": {
   "display_name": "Python 3",
   "language": "python",
   "name": "python3"
  },
  "language_info": {
   "codemirror_mode": {
    "name": "ipython",
    "version": 3
   },
   "file_extension": ".py",
   "mimetype": "text/x-python",
   "name": "python",
   "nbconvert_exporter": "python",
   "pygments_lexer": "ipython3",
   "version": "3.7.4"
  }
 },
 "nbformat": 4,
 "nbformat_minor": 4
}
