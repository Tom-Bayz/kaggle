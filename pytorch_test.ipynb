{
 "cells": [
  {
   "cell_type": "code",
   "execution_count": 1,
   "metadata": {},
   "outputs": [],
   "source": [
    "import torch\n",
    "import torch.nn as nn\n",
    "import torch.optim as optim\n",
    "from torch.autograd import Variable"
   ]
  },
  {
   "cell_type": "code",
   "execution_count": 2,
   "metadata": {},
   "outputs": [],
   "source": [
    "def Forrester(x):\n",
    "       return ((6*x-2)**2*(np.sin(12*x-4)))"
   ]
  },
  {
   "cell_type": "code",
   "execution_count": 3,
   "metadata": {},
   "outputs": [],
   "source": [
    "# Nural Networkの定義\n",
    "class Model(nn.Module):\n",
    "    def __init__(self):\n",
    "        super(Model, self).__init__()\n",
    "        layer = [nn.Linear(10,10) for _ in range(10)]\n",
    "        self.layer = nn.ModuleList(layer)\n",
    "    \n",
    "    def forward(self, x):\n",
    "        for i in range(len(self.layer)):\n",
    "            x = self.layer[i](x)\n",
    "            return x"
   ]
  },
  {
   "cell_type": "code",
   "execution_count": 4,
   "metadata": {},
   "outputs": [
    {
     "data": {
      "text/plain": [
       "<Figure size 640x480 with 1 Axes>"
      ]
     },
     "metadata": {},
     "output_type": "display_data"
    }
   ],
   "source": [
    "import numpy as np\n",
    "from matplotlib import pyplot as plt\n",
    "\n",
    "N = 100\n",
    "\n",
    "x = np.linspace(0,1,N)\n",
    "y = np.array(Forrester(x)+np.random.random(N))\n",
    "\n",
    "plt.plot(x,y,\"o\",marker=\".\")\n",
    "plt.grid(\"--\")\n",
    "plt.show()"
   ]
  },
  {
   "cell_type": "code",
   "execution_count": 22,
   "metadata": {},
   "outputs": [],
   "source": [
    "# modelの定義\n",
    "import torchvision.models as models\n",
    "\n",
    "if torch.cuda.is_available(): # GPUが利用可能か確認\n",
    "    device = 'cuda'\n",
    "else:\n",
    "    device = 'cpu'\n",
    "\n",
    "model = models.resnet18()\n",
    "model = model.to(device)\n",
    "\n",
    "# 最適化手法のパラメータ設定\n",
    "optimizer = optim.SGD(model.parameters(), lr=0.1, momentum=0.9)\n",
    "# loss関数の定義\n",
    "criterion = nn.MSELoss()\n",
    "\n",
    "# 入力と正解を乱数で生成\n",
    "input = torch.randn(1,3,224,224) # バッチ x チャネル x 高さ x 幅\n",
    "input = input.to(device)\n",
    "target = torch.randn(1,1000)\n",
    "target = target.to(device)"
   ]
  },
  {
   "cell_type": "code",
   "execution_count": 24,
   "metadata": {},
   "outputs": [
    {
     "name": "stdout",
     "output_type": "stream",
     "text": [
      "17.852856636047363\n"
     ]
    }
   ],
   "source": [
    "# 学習モード\n",
    "import time\n",
    "model.train()\n",
    "\n",
    "start = time.time()\n",
    "# 学習開始\n",
    "for i in range(1000): \n",
    "    out = model(input) # 順伝播\n",
    "    loss = criterion(out, target) # ロスの計算\n",
    "    optimizer.zero_grad() # 勾配の初期化\n",
    "    loss.backward() # 勾配の計算\n",
    "    optimizer.step() # パラメータの更新\n",
    "\n",
    "print(time.time()-start)"
   ]
  },
  {
   "cell_type": "code",
   "execution_count": null,
   "metadata": {},
   "outputs": [],
   "source": []
  }
 ],
 "metadata": {
  "kernelspec": {
   "display_name": "Python 3",
   "language": "python",
   "name": "python3"
  },
  "language_info": {
   "codemirror_mode": {
    "name": "ipython",
    "version": 3
   },
   "file_extension": ".py",
   "mimetype": "text/x-python",
   "name": "python",
   "nbconvert_exporter": "python",
   "pygments_lexer": "ipython3",
   "version": "3.7.4"
  }
 },
 "nbformat": 4,
 "nbformat_minor": 4
}
