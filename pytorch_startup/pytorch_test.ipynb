{
 "cells": [
  {
   "cell_type": "markdown",
   "metadata": {},
   "source": [
    "### **PyTorchの使い方のメモ**\n",
    "触りながら学ぶ<br>\n",
    "[参考] https://qiita.com/north_redwing/items/30f9619f0ee727875250"
   ]
  },
  {
   "cell_type": "markdown",
   "metadata": {},
   "source": [
    "### > tensorの定義方法"
   ]
  },
  {
   "cell_type": "code",
   "execution_count": 3,
   "metadata": {},
   "outputs": [],
   "source": [
    "import torch\n",
    "\n",
    "# 様々なmatrix\n",
    "x = torch.empty((50000,3)) # 5x3のmatrix < 初期化されてないので注意!\n",
    "#x = torch.rand((5,3)) # 5x3のrandom matrix\n",
    "#x = torch.zeros((5,3), dtype=torch.long) # 0(long type)で初期化したmatrix"
   ]
  },
  {
   "cell_type": "markdown",
   "metadata": {},
   "source": [
    "### > numpyとtensorのリンク"
   ]
  },
  {
   "cell_type": "code",
   "execution_count": 2,
   "metadata": {},
   "outputs": [
    {
     "name": "stdout",
     "output_type": "stream",
     "text": [
      "tensor([1., 1., 1., 1., 1.])\n",
      "[1. 1. 1. 1. 1.]\n",
      "tensor([1., 1., 1., 1., 1.])\n"
     ]
    }
   ],
   "source": [
    "import numpy as np\n",
    "\n",
    "a = torch.ones(5)\n",
    "print(a)\n",
    "\n",
    "# torch > numpy\n",
    "b = a.numpy()\n",
    "print(b)\n",
    "\n",
    "# numpy > torch\n",
    "c = torch.from_numpy(b)\n",
    "print(c)"
   ]
  },
  {
   "cell_type": "markdown",
   "metadata": {},
   "source": [
    "### > GPU(CUDA)を使うには"
   ]
  },
  {
   "cell_type": "code",
   "execution_count": 4,
   "metadata": {},
   "outputs": [],
   "source": [
    "device = torch.device(\"cuda\")\n",
    "\n",
    "# tensorを作成するときに device=で指定する\n",
    "x_on_GPU = torch.rand((50000,3),device=device)\n",
    "\n",
    "# toを使ってGPUに乗せる\n",
    "x = torch.rand((50000,3))\n",
    "x_on_GPU = x.to(device)"
   ]
  },
  {
   "cell_type": "markdown",
   "metadata": {},
   "source": [
    "### > Tensorが持つ要素\n",
    "- torch.Tensorには, .require_grad, .gradというattributeが, .backward()というメソッドを持っています.\n",
    "- この.require_gradをTrueに設定すれば, このtensorに与えられる演算を全て記憶し, .backward()により, 勾配を計算してくれます. その勾配の計算結果は, .gradが保持しています.\n",
    "- .grad_fnは, 勾配計算のために, 演算に用いた関数を示してくれます."
   ]
  },
  {
   "cell_type": "code",
   "execution_count": 4,
   "metadata": {},
   "outputs": [
    {
     "name": "stdout",
     "output_type": "stream",
     "text": [
      "tensor([[1., 1.],\n",
      "        [1., 1.]], requires_grad=True)\n",
      "tensor([[3., 3.],\n",
      "        [3., 3.]], grad_fn=<AddBackward0>)\n",
      "True\n",
      "<AddBackward0 object at 0x0000025C024EB6C8>\n",
      "tensor([[27., 27.],\n",
      "        [27., 27.]], grad_fn=<MulBackward0>)\n",
      "tensor(27., grad_fn=<MeanBackward0>)\n"
     ]
    }
   ],
   "source": [
    "import torch\n",
    "x = torch.ones(2, 2, requires_grad=True)\n",
    "print(x)\n",
    "\n",
    "y = x + 2\n",
    "print(y)\n",
    "\n",
    "# 入力xのrequires_gradをTrueにしたので, yもTrueになっている\n",
    "print(y.requires_grad)\n",
    "print(y.grad_fn)\n",
    "\n",
    "\n",
    "z = y * y * 3\n",
    "print(z)\n",
    "\n",
    "out = z.mean()\n",
    "print(out)"
   ]
  },
  {
   "cell_type": "code",
   "execution_count": 5,
   "metadata": {},
   "outputs": [
    {
     "name": "stdout",
     "output_type": "stream",
     "text": [
      "tensor([[4.5000, 4.5000],\n",
      "        [4.5000, 4.5000]])\n"
     ]
    }
   ],
   "source": [
    "out.backward()\n",
    "print(x.grad)"
   ]
  },
  {
   "cell_type": "markdown",
   "metadata": {},
   "source": [
    "### > NNを実装する\n",
    "[CNN参考] https://ml4a.github.io/ml4a/jp/convnets/"
   ]
  },
  {
   "cell_type": "code",
   "execution_count": 33,
   "metadata": {},
   "outputs": [
    {
     "name": "stdout",
     "output_type": "stream",
     "text": [
      "tensor([[-0.0217, -0.0225,  0.0179,  0.1118, -0.0884,  0.1217, -0.0210,  0.0145,\n",
      "          0.0017, -0.0876]], grad_fn=<AddmmBackward>)\n"
     ]
    }
   ],
   "source": [
    "import torch\n",
    "import torch.nn as nn\n",
    "import torch.nn.functional as F\n",
    "\n",
    "\n",
    "class Net(nn.Module):\n",
    "\n",
    "    def __init__(self):\n",
    "        super(Net, self).__init__()\n",
    "        # 1 input image channel, 6 output channels, 3x3 square convolution\n",
    "        # kernel\n",
    "        self.conv1 = nn.Conv2d(1, 6, 3)\n",
    "        self.conv2 = nn.Conv2d(6, 16, 3)\n",
    "        # an affine operation: y = Wx + b\n",
    "        self.fc1 = nn.Linear(16 * 6 * 6, 120)  # 6*6 from image dimension\n",
    "        self.fc2 = nn.Linear(120, 84)\n",
    "        self.fc3 = nn.Linear(84, 10)\n",
    "\n",
    "    def forward(self, x):\n",
    "        # Max pooling over a (2, 2) window\n",
    "        x = F.max_pool2d(F.relu(self.conv1(x)), (2, 2))\n",
    "        # If the size is a square you can only specify a single number\n",
    "        x = F.max_pool2d(F.relu(self.conv2(x)), 2)\n",
    "        x = x.view(-1, self.num_flat_features(x))\n",
    "        x = F.relu(self.fc1(x))\n",
    "        x = F.relu(self.fc2(x))\n",
    "        x = self.fc3(x)\n",
    "        return x\n",
    "\n",
    "    def num_flat_features(self, x):\n",
    "        size = x.size()[1:]  # all dimensions except the batch dimension\n",
    "        num_features = 1\n",
    "        for s in size:\n",
    "            num_features *= s\n",
    "        return num_features\n",
    "\n",
    "    \n",
    "\n",
    "# NNを定義して一つだけサンプルを入力してみる\n",
    "net = Net() #モデル定義 \n",
    "x = torch.randn(1,1,32,32) # サブサンプル1個の32X32の画像1個だけ生成\n",
    "pred = net(x) #入力して10次元の出力を得る\n",
    "\n",
    "print(pred)"
   ]
  },
  {
   "cell_type": "markdown",
   "metadata": {},
   "source": [
    "### LossとGradientを計算する"
   ]
  },
  {
   "cell_type": "code",
   "execution_count": 36,
   "metadata": {},
   "outputs": [],
   "source": [
    "torch.manual_seed(0)\n",
    "pred = net(x)\n",
    "y = torch.randn(10)  # a dummy target, for example\n",
    "#print(y)\n",
    "y = y.view(1, -1)  # make it the same shape as output\n",
    "#print(y)\n",
    "criterion = nn.MSELoss()\n",
    "\n",
    "loss = criterion(pred, y) #ロスを計算する\n",
    "net.zero_grad() #Gradientの値を初期化する.\n",
    "loss.backward() #ロスのGradientを計算する"
   ]
  },
  {
   "cell_type": "markdown",
   "metadata": {},
   "source": [
    "え, lossの購買計算するだけなら, zero_gradなんていらないのでは? と思ったが, どうやらbackward()では勾配が累積するそう.<br>\n",
    "[参考]https://teratail.com/questions/235205<br>\n",
    "RNNのように時間方向にロスを累積させたりするネットワークの場合は, この仕様の方が便利なのかも."
   ]
  },
  {
   "cell_type": "code",
   "execution_count": null,
   "metadata": {},
   "outputs": [],
   "source": []
  }
 ],
 "metadata": {
  "kernelspec": {
   "display_name": "Python 3",
   "language": "python",
   "name": "python3"
  },
  "language_info": {
   "codemirror_mode": {
    "name": "ipython",
    "version": 3
   },
   "file_extension": ".py",
   "mimetype": "text/x-python",
   "name": "python",
   "nbconvert_exporter": "python",
   "pygments_lexer": "ipython3",
   "version": "3.7.4"
  }
 },
 "nbformat": 4,
 "nbformat_minor": 4
}
